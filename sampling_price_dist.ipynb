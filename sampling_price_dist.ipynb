{
 "cells": [
  {
   "cell_type": "code",
   "execution_count": 237,
   "metadata": {},
   "outputs": [],
   "source": [
    "import pandas as pd\n",
    "import numpy as np\n",
    "import plotly.express as px\n"
   ]
  },
  {
   "cell_type": "markdown",
   "metadata": {},
   "source": [
    "# Sampling Price Distribution"
   ]
  },
  {
   "cell_type": "markdown",
   "metadata": {},
   "source": [
    "**Objective**: How to learn and simulate stock price\n",
    "\n",
    "**Data**: LoB from Lobster Dataset"
   ]
  },
  {
   "cell_type": "code",
   "execution_count": 238,
   "metadata": {},
   "outputs": [
    {
     "name": "stdout",
     "output_type": "stream",
     "text": [
      "(400391, 40)\n"
     ]
    },
    {
     "data": {
      "text/html": [
       "<div>\n",
       "<style scoped>\n",
       "    .dataframe tbody tr th:only-of-type {\n",
       "        vertical-align: middle;\n",
       "    }\n",
       "\n",
       "    .dataframe tbody tr th {\n",
       "        vertical-align: top;\n",
       "    }\n",
       "\n",
       "    .dataframe thead th {\n",
       "        text-align: right;\n",
       "    }\n",
       "</style>\n",
       "<table border=\"1\" class=\"dataframe\">\n",
       "  <thead>\n",
       "    <tr style=\"text-align: right;\">\n",
       "      <th></th>\n",
       "      <th>0</th>\n",
       "      <th>1</th>\n",
       "      <th>2</th>\n",
       "      <th>3</th>\n",
       "      <th>4</th>\n",
       "      <th>5</th>\n",
       "      <th>6</th>\n",
       "      <th>7</th>\n",
       "      <th>8</th>\n",
       "      <th>9</th>\n",
       "      <th>...</th>\n",
       "      <th>30</th>\n",
       "      <th>31</th>\n",
       "      <th>32</th>\n",
       "      <th>33</th>\n",
       "      <th>34</th>\n",
       "      <th>35</th>\n",
       "      <th>36</th>\n",
       "      <th>37</th>\n",
       "      <th>38</th>\n",
       "      <th>39</th>\n",
       "    </tr>\n",
       "  </thead>\n",
       "  <tbody>\n",
       "    <tr>\n",
       "      <th>0</th>\n",
       "      <td>5859400</td>\n",
       "      <td>200</td>\n",
       "      <td>5853300</td>\n",
       "      <td>18</td>\n",
       "      <td>5859800</td>\n",
       "      <td>200</td>\n",
       "      <td>5853000</td>\n",
       "      <td>150</td>\n",
       "      <td>5861000</td>\n",
       "      <td>200</td>\n",
       "      <td>...</td>\n",
       "      <td>5845300</td>\n",
       "      <td>300</td>\n",
       "      <td>5876500</td>\n",
       "      <td>1160</td>\n",
       "      <td>5843800</td>\n",
       "      <td>200</td>\n",
       "      <td>5879000</td>\n",
       "      <td>500</td>\n",
       "      <td>5842700</td>\n",
       "      <td>300</td>\n",
       "    </tr>\n",
       "    <tr>\n",
       "      <th>1</th>\n",
       "      <td>5859400</td>\n",
       "      <td>200</td>\n",
       "      <td>5853300</td>\n",
       "      <td>18</td>\n",
       "      <td>5859800</td>\n",
       "      <td>200</td>\n",
       "      <td>5853200</td>\n",
       "      <td>18</td>\n",
       "      <td>5861000</td>\n",
       "      <td>200</td>\n",
       "      <td>...</td>\n",
       "      <td>5846500</td>\n",
       "      <td>300</td>\n",
       "      <td>5876500</td>\n",
       "      <td>1160</td>\n",
       "      <td>5845300</td>\n",
       "      <td>300</td>\n",
       "      <td>5879000</td>\n",
       "      <td>500</td>\n",
       "      <td>5843800</td>\n",
       "      <td>200</td>\n",
       "    </tr>\n",
       "    <tr>\n",
       "      <th>2</th>\n",
       "      <td>5859400</td>\n",
       "      <td>200</td>\n",
       "      <td>5853300</td>\n",
       "      <td>18</td>\n",
       "      <td>5859800</td>\n",
       "      <td>200</td>\n",
       "      <td>5853200</td>\n",
       "      <td>18</td>\n",
       "      <td>5861000</td>\n",
       "      <td>200</td>\n",
       "      <td>...</td>\n",
       "      <td>5849300</td>\n",
       "      <td>300</td>\n",
       "      <td>5876500</td>\n",
       "      <td>1160</td>\n",
       "      <td>5846500</td>\n",
       "      <td>300</td>\n",
       "      <td>5879000</td>\n",
       "      <td>500</td>\n",
       "      <td>5845300</td>\n",
       "      <td>300</td>\n",
       "    </tr>\n",
       "    <tr>\n",
       "      <th>3</th>\n",
       "      <td>5859100</td>\n",
       "      <td>18</td>\n",
       "      <td>5853300</td>\n",
       "      <td>18</td>\n",
       "      <td>5859400</td>\n",
       "      <td>200</td>\n",
       "      <td>5853200</td>\n",
       "      <td>18</td>\n",
       "      <td>5859800</td>\n",
       "      <td>200</td>\n",
       "      <td>...</td>\n",
       "      <td>5849300</td>\n",
       "      <td>300</td>\n",
       "      <td>5873900</td>\n",
       "      <td>100</td>\n",
       "      <td>5846500</td>\n",
       "      <td>300</td>\n",
       "      <td>5876500</td>\n",
       "      <td>1160</td>\n",
       "      <td>5845300</td>\n",
       "      <td>300</td>\n",
       "    </tr>\n",
       "    <tr>\n",
       "      <th>4</th>\n",
       "      <td>5859100</td>\n",
       "      <td>18</td>\n",
       "      <td>5853300</td>\n",
       "      <td>18</td>\n",
       "      <td>5859200</td>\n",
       "      <td>18</td>\n",
       "      <td>5853200</td>\n",
       "      <td>18</td>\n",
       "      <td>5859400</td>\n",
       "      <td>200</td>\n",
       "      <td>...</td>\n",
       "      <td>5849300</td>\n",
       "      <td>300</td>\n",
       "      <td>5871000</td>\n",
       "      <td>10</td>\n",
       "      <td>5846500</td>\n",
       "      <td>300</td>\n",
       "      <td>5873900</td>\n",
       "      <td>100</td>\n",
       "      <td>5845300</td>\n",
       "      <td>300</td>\n",
       "    </tr>\n",
       "  </tbody>\n",
       "</table>\n",
       "<p>5 rows × 40 columns</p>\n",
       "</div>"
      ],
      "text/plain": [
       "        0    1        2   3        4    5        6    7        8    9   ...  \\\n",
       "0  5859400  200  5853300  18  5859800  200  5853000  150  5861000  200  ...   \n",
       "1  5859400  200  5853300  18  5859800  200  5853200   18  5861000  200  ...   \n",
       "2  5859400  200  5853300  18  5859800  200  5853200   18  5861000  200  ...   \n",
       "3  5859100   18  5853300  18  5859400  200  5853200   18  5859800  200  ...   \n",
       "4  5859100   18  5853300  18  5859200   18  5853200   18  5859400  200  ...   \n",
       "\n",
       "        30   31       32    33       34   35       36    37       38   39  \n",
       "0  5845300  300  5876500  1160  5843800  200  5879000   500  5842700  300  \n",
       "1  5846500  300  5876500  1160  5845300  300  5879000   500  5843800  200  \n",
       "2  5849300  300  5876500  1160  5846500  300  5879000   500  5845300  300  \n",
       "3  5849300  300  5873900   100  5846500  300  5876500  1160  5845300  300  \n",
       "4  5849300  300  5871000    10  5846500  300  5873900   100  5845300  300  \n",
       "\n",
       "[5 rows x 40 columns]"
      ]
     },
     "execution_count": 238,
     "metadata": {},
     "output_type": "execute_result"
    }
   ],
   "source": [
    "url_path = \"LOBSTER/AAPL_2012-06-21_34200000_57600000_orderbook_10.csv\"\n",
    "lob_data = pd.read_csv(url_path, header=None)\n",
    "print(lob_data.shape)\n",
    "lob_data.head()\n"
   ]
  },
  {
   "cell_type": "code",
   "execution_count": 239,
   "metadata": {},
   "outputs": [
    {
     "data": {
      "text/html": [
       "<div>\n",
       "<style scoped>\n",
       "    .dataframe tbody tr th:only-of-type {\n",
       "        vertical-align: middle;\n",
       "    }\n",
       "\n",
       "    .dataframe tbody tr th {\n",
       "        vertical-align: top;\n",
       "    }\n",
       "\n",
       "    .dataframe thead th {\n",
       "        text-align: right;\n",
       "    }\n",
       "</style>\n",
       "<table border=\"1\" class=\"dataframe\">\n",
       "  <thead>\n",
       "    <tr style=\"text-align: right;\">\n",
       "      <th></th>\n",
       "      <th>ask_price_1</th>\n",
       "      <th>ask_size_1</th>\n",
       "      <th>bid_price_1</th>\n",
       "      <th>bid_size_1</th>\n",
       "      <th>ask_price_2</th>\n",
       "      <th>ask_size_2</th>\n",
       "      <th>bid_price_2</th>\n",
       "      <th>bid_size_2</th>\n",
       "      <th>ask_price_3</th>\n",
       "      <th>ask_size_3</th>\n",
       "      <th>...</th>\n",
       "      <th>bid_price_8</th>\n",
       "      <th>bid_size_8</th>\n",
       "      <th>ask_price_9</th>\n",
       "      <th>ask_size_9</th>\n",
       "      <th>bid_price_9</th>\n",
       "      <th>bid_size_9</th>\n",
       "      <th>ask_price_10</th>\n",
       "      <th>ask_size_10</th>\n",
       "      <th>bid_price_10</th>\n",
       "      <th>bid_size_10</th>\n",
       "    </tr>\n",
       "  </thead>\n",
       "  <tbody>\n",
       "    <tr>\n",
       "      <th>0</th>\n",
       "      <td>5859400</td>\n",
       "      <td>200</td>\n",
       "      <td>5853300</td>\n",
       "      <td>18</td>\n",
       "      <td>5859800</td>\n",
       "      <td>200</td>\n",
       "      <td>5853000</td>\n",
       "      <td>150</td>\n",
       "      <td>5861000</td>\n",
       "      <td>200</td>\n",
       "      <td>...</td>\n",
       "      <td>5845300</td>\n",
       "      <td>300</td>\n",
       "      <td>5876500</td>\n",
       "      <td>1160</td>\n",
       "      <td>5843800</td>\n",
       "      <td>200</td>\n",
       "      <td>5879000</td>\n",
       "      <td>500</td>\n",
       "      <td>5842700</td>\n",
       "      <td>300</td>\n",
       "    </tr>\n",
       "    <tr>\n",
       "      <th>1</th>\n",
       "      <td>5859400</td>\n",
       "      <td>200</td>\n",
       "      <td>5853300</td>\n",
       "      <td>18</td>\n",
       "      <td>5859800</td>\n",
       "      <td>200</td>\n",
       "      <td>5853200</td>\n",
       "      <td>18</td>\n",
       "      <td>5861000</td>\n",
       "      <td>200</td>\n",
       "      <td>...</td>\n",
       "      <td>5846500</td>\n",
       "      <td>300</td>\n",
       "      <td>5876500</td>\n",
       "      <td>1160</td>\n",
       "      <td>5845300</td>\n",
       "      <td>300</td>\n",
       "      <td>5879000</td>\n",
       "      <td>500</td>\n",
       "      <td>5843800</td>\n",
       "      <td>200</td>\n",
       "    </tr>\n",
       "    <tr>\n",
       "      <th>2</th>\n",
       "      <td>5859400</td>\n",
       "      <td>200</td>\n",
       "      <td>5853300</td>\n",
       "      <td>18</td>\n",
       "      <td>5859800</td>\n",
       "      <td>200</td>\n",
       "      <td>5853200</td>\n",
       "      <td>18</td>\n",
       "      <td>5861000</td>\n",
       "      <td>200</td>\n",
       "      <td>...</td>\n",
       "      <td>5849300</td>\n",
       "      <td>300</td>\n",
       "      <td>5876500</td>\n",
       "      <td>1160</td>\n",
       "      <td>5846500</td>\n",
       "      <td>300</td>\n",
       "      <td>5879000</td>\n",
       "      <td>500</td>\n",
       "      <td>5845300</td>\n",
       "      <td>300</td>\n",
       "    </tr>\n",
       "    <tr>\n",
       "      <th>3</th>\n",
       "      <td>5859100</td>\n",
       "      <td>18</td>\n",
       "      <td>5853300</td>\n",
       "      <td>18</td>\n",
       "      <td>5859400</td>\n",
       "      <td>200</td>\n",
       "      <td>5853200</td>\n",
       "      <td>18</td>\n",
       "      <td>5859800</td>\n",
       "      <td>200</td>\n",
       "      <td>...</td>\n",
       "      <td>5849300</td>\n",
       "      <td>300</td>\n",
       "      <td>5873900</td>\n",
       "      <td>100</td>\n",
       "      <td>5846500</td>\n",
       "      <td>300</td>\n",
       "      <td>5876500</td>\n",
       "      <td>1160</td>\n",
       "      <td>5845300</td>\n",
       "      <td>300</td>\n",
       "    </tr>\n",
       "    <tr>\n",
       "      <th>4</th>\n",
       "      <td>5859100</td>\n",
       "      <td>18</td>\n",
       "      <td>5853300</td>\n",
       "      <td>18</td>\n",
       "      <td>5859200</td>\n",
       "      <td>18</td>\n",
       "      <td>5853200</td>\n",
       "      <td>18</td>\n",
       "      <td>5859400</td>\n",
       "      <td>200</td>\n",
       "      <td>...</td>\n",
       "      <td>5849300</td>\n",
       "      <td>300</td>\n",
       "      <td>5871000</td>\n",
       "      <td>10</td>\n",
       "      <td>5846500</td>\n",
       "      <td>300</td>\n",
       "      <td>5873900</td>\n",
       "      <td>100</td>\n",
       "      <td>5845300</td>\n",
       "      <td>300</td>\n",
       "    </tr>\n",
       "  </tbody>\n",
       "</table>\n",
       "<p>5 rows × 40 columns</p>\n",
       "</div>"
      ],
      "text/plain": [
       "   ask_price_1  ask_size_1  bid_price_1  bid_size_1  ask_price_2  ask_size_2  \\\n",
       "0      5859400         200      5853300          18      5859800         200   \n",
       "1      5859400         200      5853300          18      5859800         200   \n",
       "2      5859400         200      5853300          18      5859800         200   \n",
       "3      5859100          18      5853300          18      5859400         200   \n",
       "4      5859100          18      5853300          18      5859200          18   \n",
       "\n",
       "   bid_price_2  bid_size_2  ask_price_3  ask_size_3  ...  bid_price_8  \\\n",
       "0      5853000         150      5861000         200  ...      5845300   \n",
       "1      5853200          18      5861000         200  ...      5846500   \n",
       "2      5853200          18      5861000         200  ...      5849300   \n",
       "3      5853200          18      5859800         200  ...      5849300   \n",
       "4      5853200          18      5859400         200  ...      5849300   \n",
       "\n",
       "   bid_size_8  ask_price_9  ask_size_9  bid_price_9  bid_size_9  ask_price_10  \\\n",
       "0         300      5876500        1160      5843800         200       5879000   \n",
       "1         300      5876500        1160      5845300         300       5879000   \n",
       "2         300      5876500        1160      5846500         300       5879000   \n",
       "3         300      5873900         100      5846500         300       5876500   \n",
       "4         300      5871000          10      5846500         300       5873900   \n",
       "\n",
       "   ask_size_10  bid_price_10  bid_size_10  \n",
       "0          500       5842700          300  \n",
       "1          500       5843800          200  \n",
       "2          500       5845300          300  \n",
       "3         1160       5845300          300  \n",
       "4          100       5845300          300  \n",
       "\n",
       "[5 rows x 40 columns]"
      ]
     },
     "execution_count": 239,
     "metadata": {},
     "output_type": "execute_result"
    }
   ],
   "source": [
    "# Preprocessing Steps\n",
    "#puting label\n",
    "def rename_lob_columns(data):\n",
    "    cols = ['ask_price', 'ask_size', 'bid_price', 'bid_size']\n",
    "    new_column_names = []\n",
    "    num_levels = len(data.columns) // len(cols) # how many group of 4\n",
    "    for i in range(num_levels):\n",
    "        new_column_names.extend(f\"{name}_{i+1}\" for name in cols)\n",
    "\n",
    "    # Rename the columns\n",
    "    data.columns = new_column_names\n",
    "    return data\n",
    "\n",
    "lob_data = rename_lob_columns(lob_data)\n",
    "lob_data.head()"
   ]
  },
  {
   "cell_type": "code",
   "execution_count": 240,
   "metadata": {},
   "outputs": [],
   "source": [
    "# Create a time column based on message table\n",
    "messages_path = \"LOBSTER/AAPL_2012-06-21_34200000_57600000_message_10.csv\"\n",
    "messages = pd.read_csv(messages_path, header=None)\n",
    "messages.columns = ['Time', 'Type', 'OrderID', 'Size', 'Price', 'Direction']\n",
    "messages['Direction'] = messages['Direction'].replace({-1: 'Sell limit order', 1: 'Buy limit order'})\n",
    "# implement time column corresponding to the lob data\n",
    "lob_data['time'] = messages['Time'] #time is in seconds"
   ]
  },
  {
   "cell_type": "code",
   "execution_count": 241,
   "metadata": {},
   "outputs": [
    {
     "data": {
      "text/html": [
       "<div>\n",
       "<style scoped>\n",
       "    .dataframe tbody tr th:only-of-type {\n",
       "        vertical-align: middle;\n",
       "    }\n",
       "\n",
       "    .dataframe tbody tr th {\n",
       "        vertical-align: top;\n",
       "    }\n",
       "\n",
       "    .dataframe thead th {\n",
       "        text-align: right;\n",
       "    }\n",
       "</style>\n",
       "<table border=\"1\" class=\"dataframe\">\n",
       "  <thead>\n",
       "    <tr style=\"text-align: right;\">\n",
       "      <th></th>\n",
       "      <th>ask_price_1</th>\n",
       "      <th>ask_size_1</th>\n",
       "      <th>bid_price_1</th>\n",
       "      <th>bid_size_1</th>\n",
       "      <th>ask_price_2</th>\n",
       "      <th>ask_size_2</th>\n",
       "      <th>bid_price_2</th>\n",
       "      <th>bid_size_2</th>\n",
       "      <th>ask_price_3</th>\n",
       "      <th>ask_size_3</th>\n",
       "      <th>...</th>\n",
       "      <th>bid_size_8</th>\n",
       "      <th>ask_price_9</th>\n",
       "      <th>ask_size_9</th>\n",
       "      <th>bid_price_9</th>\n",
       "      <th>bid_size_9</th>\n",
       "      <th>ask_price_10</th>\n",
       "      <th>ask_size_10</th>\n",
       "      <th>bid_price_10</th>\n",
       "      <th>bid_size_10</th>\n",
       "      <th>time</th>\n",
       "    </tr>\n",
       "  </thead>\n",
       "  <tbody>\n",
       "    <tr>\n",
       "      <th>0</th>\n",
       "      <td>5859400</td>\n",
       "      <td>200</td>\n",
       "      <td>5853300</td>\n",
       "      <td>18</td>\n",
       "      <td>5859800</td>\n",
       "      <td>200</td>\n",
       "      <td>5853000</td>\n",
       "      <td>150</td>\n",
       "      <td>5861000</td>\n",
       "      <td>200</td>\n",
       "      <td>...</td>\n",
       "      <td>300</td>\n",
       "      <td>5876500</td>\n",
       "      <td>1160</td>\n",
       "      <td>5843800</td>\n",
       "      <td>200</td>\n",
       "      <td>5879000</td>\n",
       "      <td>500</td>\n",
       "      <td>5842700</td>\n",
       "      <td>300</td>\n",
       "      <td>34200.004241</td>\n",
       "    </tr>\n",
       "    <tr>\n",
       "      <th>1</th>\n",
       "      <td>5859400</td>\n",
       "      <td>200</td>\n",
       "      <td>5853300</td>\n",
       "      <td>18</td>\n",
       "      <td>5859800</td>\n",
       "      <td>200</td>\n",
       "      <td>5853200</td>\n",
       "      <td>18</td>\n",
       "      <td>5861000</td>\n",
       "      <td>200</td>\n",
       "      <td>...</td>\n",
       "      <td>300</td>\n",
       "      <td>5876500</td>\n",
       "      <td>1160</td>\n",
       "      <td>5845300</td>\n",
       "      <td>300</td>\n",
       "      <td>5879000</td>\n",
       "      <td>500</td>\n",
       "      <td>5843800</td>\n",
       "      <td>200</td>\n",
       "      <td>34200.004261</td>\n",
       "    </tr>\n",
       "    <tr>\n",
       "      <th>2</th>\n",
       "      <td>5859400</td>\n",
       "      <td>200</td>\n",
       "      <td>5853300</td>\n",
       "      <td>18</td>\n",
       "      <td>5859800</td>\n",
       "      <td>200</td>\n",
       "      <td>5853200</td>\n",
       "      <td>18</td>\n",
       "      <td>5861000</td>\n",
       "      <td>200</td>\n",
       "      <td>...</td>\n",
       "      <td>300</td>\n",
       "      <td>5876500</td>\n",
       "      <td>1160</td>\n",
       "      <td>5846500</td>\n",
       "      <td>300</td>\n",
       "      <td>5879000</td>\n",
       "      <td>500</td>\n",
       "      <td>5845300</td>\n",
       "      <td>300</td>\n",
       "      <td>34200.004447</td>\n",
       "    </tr>\n",
       "    <tr>\n",
       "      <th>3</th>\n",
       "      <td>5859100</td>\n",
       "      <td>18</td>\n",
       "      <td>5853300</td>\n",
       "      <td>18</td>\n",
       "      <td>5859400</td>\n",
       "      <td>200</td>\n",
       "      <td>5853200</td>\n",
       "      <td>18</td>\n",
       "      <td>5859800</td>\n",
       "      <td>200</td>\n",
       "      <td>...</td>\n",
       "      <td>300</td>\n",
       "      <td>5873900</td>\n",
       "      <td>100</td>\n",
       "      <td>5846500</td>\n",
       "      <td>300</td>\n",
       "      <td>5876500</td>\n",
       "      <td>1160</td>\n",
       "      <td>5845300</td>\n",
       "      <td>300</td>\n",
       "      <td>34200.025552</td>\n",
       "    </tr>\n",
       "    <tr>\n",
       "      <th>4</th>\n",
       "      <td>5859100</td>\n",
       "      <td>18</td>\n",
       "      <td>5853300</td>\n",
       "      <td>18</td>\n",
       "      <td>5859200</td>\n",
       "      <td>18</td>\n",
       "      <td>5853200</td>\n",
       "      <td>18</td>\n",
       "      <td>5859400</td>\n",
       "      <td>200</td>\n",
       "      <td>...</td>\n",
       "      <td>300</td>\n",
       "      <td>5871000</td>\n",
       "      <td>10</td>\n",
       "      <td>5846500</td>\n",
       "      <td>300</td>\n",
       "      <td>5873900</td>\n",
       "      <td>100</td>\n",
       "      <td>5845300</td>\n",
       "      <td>300</td>\n",
       "      <td>34200.025580</td>\n",
       "    </tr>\n",
       "  </tbody>\n",
       "</table>\n",
       "<p>5 rows × 41 columns</p>\n",
       "</div>"
      ],
      "text/plain": [
       "   ask_price_1  ask_size_1  bid_price_1  bid_size_1  ask_price_2  ask_size_2  \\\n",
       "0      5859400         200      5853300          18      5859800         200   \n",
       "1      5859400         200      5853300          18      5859800         200   \n",
       "2      5859400         200      5853300          18      5859800         200   \n",
       "3      5859100          18      5853300          18      5859400         200   \n",
       "4      5859100          18      5853300          18      5859200          18   \n",
       "\n",
       "   bid_price_2  bid_size_2  ask_price_3  ask_size_3  ...  bid_size_8  \\\n",
       "0      5853000         150      5861000         200  ...         300   \n",
       "1      5853200          18      5861000         200  ...         300   \n",
       "2      5853200          18      5861000         200  ...         300   \n",
       "3      5853200          18      5859800         200  ...         300   \n",
       "4      5853200          18      5859400         200  ...         300   \n",
       "\n",
       "   ask_price_9  ask_size_9  bid_price_9  bid_size_9  ask_price_10  \\\n",
       "0      5876500        1160      5843800         200       5879000   \n",
       "1      5876500        1160      5845300         300       5879000   \n",
       "2      5876500        1160      5846500         300       5879000   \n",
       "3      5873900         100      5846500         300       5876500   \n",
       "4      5871000          10      5846500         300       5873900   \n",
       "\n",
       "   ask_size_10  bid_price_10  bid_size_10          time  \n",
       "0          500       5842700          300  34200.004241  \n",
       "1          500       5843800          200  34200.004261  \n",
       "2          500       5845300          300  34200.004447  \n",
       "3         1160       5845300          300  34200.025552  \n",
       "4          100       5845300          300  34200.025580  \n",
       "\n",
       "[5 rows x 41 columns]"
      ]
     },
     "execution_count": 241,
     "metadata": {},
     "output_type": "execute_result"
    }
   ],
   "source": [
    "lob_data.head()"
   ]
  },
  {
   "cell_type": "code",
   "execution_count": 242,
   "metadata": {},
   "outputs": [],
   "source": [
    "price_data = lob_data.copy()"
   ]
  },
  {
   "cell_type": "markdown",
   "metadata": {},
   "source": [
    "# __Step 1__: Calculate the mid price from the average best bid and ask price"
   ]
  },
  {
   "cell_type": "code",
   "execution_count": 243,
   "metadata": {},
   "outputs": [
    {
     "data": {
      "text/html": [
       "<div>\n",
       "<style scoped>\n",
       "    .dataframe tbody tr th:only-of-type {\n",
       "        vertical-align: middle;\n",
       "    }\n",
       "\n",
       "    .dataframe tbody tr th {\n",
       "        vertical-align: top;\n",
       "    }\n",
       "\n",
       "    .dataframe thead th {\n",
       "        text-align: right;\n",
       "    }\n",
       "</style>\n",
       "<table border=\"1\" class=\"dataframe\">\n",
       "  <thead>\n",
       "    <tr style=\"text-align: right;\">\n",
       "      <th></th>\n",
       "      <th>ask_price_1</th>\n",
       "      <th>ask_size_1</th>\n",
       "      <th>bid_price_1</th>\n",
       "      <th>bid_size_1</th>\n",
       "      <th>ask_price_2</th>\n",
       "      <th>ask_size_2</th>\n",
       "      <th>bid_price_2</th>\n",
       "      <th>bid_size_2</th>\n",
       "      <th>ask_price_3</th>\n",
       "      <th>ask_size_3</th>\n",
       "      <th>...</th>\n",
       "      <th>ask_price_9</th>\n",
       "      <th>ask_size_9</th>\n",
       "      <th>bid_price_9</th>\n",
       "      <th>bid_size_9</th>\n",
       "      <th>ask_price_10</th>\n",
       "      <th>ask_size_10</th>\n",
       "      <th>bid_price_10</th>\n",
       "      <th>bid_size_10</th>\n",
       "      <th>time</th>\n",
       "      <th>mid_price</th>\n",
       "    </tr>\n",
       "  </thead>\n",
       "  <tbody>\n",
       "    <tr>\n",
       "      <th>0</th>\n",
       "      <td>5859400</td>\n",
       "      <td>200</td>\n",
       "      <td>5853300</td>\n",
       "      <td>18</td>\n",
       "      <td>5859800</td>\n",
       "      <td>200</td>\n",
       "      <td>5853000</td>\n",
       "      <td>150</td>\n",
       "      <td>5861000</td>\n",
       "      <td>200</td>\n",
       "      <td>...</td>\n",
       "      <td>5876500</td>\n",
       "      <td>1160</td>\n",
       "      <td>5843800</td>\n",
       "      <td>200</td>\n",
       "      <td>5879000</td>\n",
       "      <td>500</td>\n",
       "      <td>5842700</td>\n",
       "      <td>300</td>\n",
       "      <td>34200.004241</td>\n",
       "      <td>585.635</td>\n",
       "    </tr>\n",
       "    <tr>\n",
       "      <th>1</th>\n",
       "      <td>5859400</td>\n",
       "      <td>200</td>\n",
       "      <td>5853300</td>\n",
       "      <td>18</td>\n",
       "      <td>5859800</td>\n",
       "      <td>200</td>\n",
       "      <td>5853200</td>\n",
       "      <td>18</td>\n",
       "      <td>5861000</td>\n",
       "      <td>200</td>\n",
       "      <td>...</td>\n",
       "      <td>5876500</td>\n",
       "      <td>1160</td>\n",
       "      <td>5845300</td>\n",
       "      <td>300</td>\n",
       "      <td>5879000</td>\n",
       "      <td>500</td>\n",
       "      <td>5843800</td>\n",
       "      <td>200</td>\n",
       "      <td>34200.004261</td>\n",
       "      <td>585.635</td>\n",
       "    </tr>\n",
       "    <tr>\n",
       "      <th>2</th>\n",
       "      <td>5859400</td>\n",
       "      <td>200</td>\n",
       "      <td>5853300</td>\n",
       "      <td>18</td>\n",
       "      <td>5859800</td>\n",
       "      <td>200</td>\n",
       "      <td>5853200</td>\n",
       "      <td>18</td>\n",
       "      <td>5861000</td>\n",
       "      <td>200</td>\n",
       "      <td>...</td>\n",
       "      <td>5876500</td>\n",
       "      <td>1160</td>\n",
       "      <td>5846500</td>\n",
       "      <td>300</td>\n",
       "      <td>5879000</td>\n",
       "      <td>500</td>\n",
       "      <td>5845300</td>\n",
       "      <td>300</td>\n",
       "      <td>34200.004447</td>\n",
       "      <td>585.635</td>\n",
       "    </tr>\n",
       "    <tr>\n",
       "      <th>3</th>\n",
       "      <td>5859100</td>\n",
       "      <td>18</td>\n",
       "      <td>5853300</td>\n",
       "      <td>18</td>\n",
       "      <td>5859400</td>\n",
       "      <td>200</td>\n",
       "      <td>5853200</td>\n",
       "      <td>18</td>\n",
       "      <td>5859800</td>\n",
       "      <td>200</td>\n",
       "      <td>...</td>\n",
       "      <td>5873900</td>\n",
       "      <td>100</td>\n",
       "      <td>5846500</td>\n",
       "      <td>300</td>\n",
       "      <td>5876500</td>\n",
       "      <td>1160</td>\n",
       "      <td>5845300</td>\n",
       "      <td>300</td>\n",
       "      <td>34200.025552</td>\n",
       "      <td>585.620</td>\n",
       "    </tr>\n",
       "    <tr>\n",
       "      <th>4</th>\n",
       "      <td>5859100</td>\n",
       "      <td>18</td>\n",
       "      <td>5853300</td>\n",
       "      <td>18</td>\n",
       "      <td>5859200</td>\n",
       "      <td>18</td>\n",
       "      <td>5853200</td>\n",
       "      <td>18</td>\n",
       "      <td>5859400</td>\n",
       "      <td>200</td>\n",
       "      <td>...</td>\n",
       "      <td>5871000</td>\n",
       "      <td>10</td>\n",
       "      <td>5846500</td>\n",
       "      <td>300</td>\n",
       "      <td>5873900</td>\n",
       "      <td>100</td>\n",
       "      <td>5845300</td>\n",
       "      <td>300</td>\n",
       "      <td>34200.025580</td>\n",
       "      <td>585.620</td>\n",
       "    </tr>\n",
       "  </tbody>\n",
       "</table>\n",
       "<p>5 rows × 42 columns</p>\n",
       "</div>"
      ],
      "text/plain": [
       "   ask_price_1  ask_size_1  bid_price_1  bid_size_1  ask_price_2  ask_size_2  \\\n",
       "0      5859400         200      5853300          18      5859800         200   \n",
       "1      5859400         200      5853300          18      5859800         200   \n",
       "2      5859400         200      5853300          18      5859800         200   \n",
       "3      5859100          18      5853300          18      5859400         200   \n",
       "4      5859100          18      5853300          18      5859200          18   \n",
       "\n",
       "   bid_price_2  bid_size_2  ask_price_3  ask_size_3  ...  ask_price_9  \\\n",
       "0      5853000         150      5861000         200  ...      5876500   \n",
       "1      5853200          18      5861000         200  ...      5876500   \n",
       "2      5853200          18      5861000         200  ...      5876500   \n",
       "3      5853200          18      5859800         200  ...      5873900   \n",
       "4      5853200          18      5859400         200  ...      5871000   \n",
       "\n",
       "   ask_size_9  bid_price_9  bid_size_9  ask_price_10  ask_size_10  \\\n",
       "0        1160      5843800         200       5879000          500   \n",
       "1        1160      5845300         300       5879000          500   \n",
       "2        1160      5846500         300       5879000          500   \n",
       "3         100      5846500         300       5876500         1160   \n",
       "4          10      5846500         300       5873900          100   \n",
       "\n",
       "   bid_price_10  bid_size_10          time  mid_price  \n",
       "0       5842700          300  34200.004241    585.635  \n",
       "1       5843800          200  34200.004261    585.635  \n",
       "2       5845300          300  34200.004447    585.635  \n",
       "3       5845300          300  34200.025552    585.620  \n",
       "4       5845300          300  34200.025580    585.620  \n",
       "\n",
       "[5 rows x 42 columns]"
      ]
     },
     "execution_count": 243,
     "metadata": {},
     "output_type": "execute_result"
    }
   ],
   "source": [
    "# Caclulate mid price from the best ask and bid price\n",
    "# Note: The mid price is a snapshot of the current price of the stock (here APPLE stock)\n",
    "price_data['mid_price'] = (price_data['ask_price_1'] + price_data['bid_price_1']) / 2\n",
    "price_data['mid_price'] = price_data['mid_price']/10000 # to get the price in dollars\n",
    "price_data.head()"
   ]
  },
  {
   "cell_type": "markdown",
   "metadata": {},
   "source": [
    "# __Step 2__: Resample the prices in OHLC (open, high, low, and close price and volume for a given period) *here in minutes\n",
    "\n",
    "_pandas docs_\n",
    "\n",
    "ohlc method: https://pandas.pydata.org/pandas-docs/stable/reference/api/pandas.core.resample.Resampler.ohlc.html\n",
    "\n"
   ]
  },
  {
   "cell_type": "code",
   "execution_count": 244,
   "metadata": {},
   "outputs": [
    {
     "data": {
      "text/html": [
       "<div>\n",
       "<style scoped>\n",
       "    .dataframe tbody tr th:only-of-type {\n",
       "        vertical-align: middle;\n",
       "    }\n",
       "\n",
       "    .dataframe tbody tr th {\n",
       "        vertical-align: top;\n",
       "    }\n",
       "\n",
       "    .dataframe thead th {\n",
       "        text-align: right;\n",
       "    }\n",
       "</style>\n",
       "<table border=\"1\" class=\"dataframe\">\n",
       "  <thead>\n",
       "    <tr style=\"text-align: right;\">\n",
       "      <th></th>\n",
       "      <th>open_mid_price</th>\n",
       "      <th>high_mid_price</th>\n",
       "      <th>low_mid_price</th>\n",
       "      <th>close_mid_price</th>\n",
       "    </tr>\n",
       "    <tr>\n",
       "      <th>time</th>\n",
       "      <th></th>\n",
       "      <th></th>\n",
       "      <th></th>\n",
       "      <th></th>\n",
       "    </tr>\n",
       "  </thead>\n",
       "  <tbody>\n",
       "    <tr>\n",
       "      <th>1970-01-01 09:30:00</th>\n",
       "      <td>585.635</td>\n",
       "      <td>585.850</td>\n",
       "      <td>585.310</td>\n",
       "      <td>585.510</td>\n",
       "    </tr>\n",
       "    <tr>\n",
       "      <th>1970-01-01 09:31:00</th>\n",
       "      <td>585.510</td>\n",
       "      <td>585.625</td>\n",
       "      <td>584.735</td>\n",
       "      <td>585.075</td>\n",
       "    </tr>\n",
       "    <tr>\n",
       "      <th>1970-01-01 09:32:00</th>\n",
       "      <td>585.035</td>\n",
       "      <td>585.480</td>\n",
       "      <td>584.925</td>\n",
       "      <td>585.480</td>\n",
       "    </tr>\n",
       "    <tr>\n",
       "      <th>1970-01-01 09:33:00</th>\n",
       "      <td>585.480</td>\n",
       "      <td>587.065</td>\n",
       "      <td>585.295</td>\n",
       "      <td>586.865</td>\n",
       "    </tr>\n",
       "    <tr>\n",
       "      <th>1970-01-01 09:34:00</th>\n",
       "      <td>586.865</td>\n",
       "      <td>587.720</td>\n",
       "      <td>586.850</td>\n",
       "      <td>587.300</td>\n",
       "    </tr>\n",
       "  </tbody>\n",
       "</table>\n",
       "</div>"
      ],
      "text/plain": [
       "                     open_mid_price  high_mid_price  low_mid_price  \\\n",
       "time                                                                 \n",
       "1970-01-01 09:30:00         585.635         585.850        585.310   \n",
       "1970-01-01 09:31:00         585.510         585.625        584.735   \n",
       "1970-01-01 09:32:00         585.035         585.480        584.925   \n",
       "1970-01-01 09:33:00         585.480         587.065        585.295   \n",
       "1970-01-01 09:34:00         586.865         587.720        586.850   \n",
       "\n",
       "                     close_mid_price  \n",
       "time                                  \n",
       "1970-01-01 09:30:00          585.510  \n",
       "1970-01-01 09:31:00          585.075  \n",
       "1970-01-01 09:32:00          585.480  \n",
       "1970-01-01 09:33:00          586.865  \n",
       "1970-01-01 09:34:00          587.300  "
      ]
     },
     "execution_count": 244,
     "metadata": {},
     "output_type": "execute_result"
    }
   ],
   "source": [
    "# Resample the prices in OHLCV in minutes\n",
    "price_data['time'] = pd.to_datetime(price_data['time'], unit='s')\n",
    "price_data.set_index('time', inplace=True)\n",
    "price_data = price_data.resample('1min').ohlc() # resample the data in 1 minute bins\n",
    "# only take the mid price\n",
    "price_data = price_data['mid_price']\n",
    "price_data = price_data.add_suffix('_mid_price')\n",
    "price_data.head()\n"
   ]
  },
  {
   "cell_type": "markdown",
   "metadata": {},
   "source": [
    "# __Step 3__: Work with closing_mid_price and calculate the returns (percentage of change of mid_price for each minute)\n",
    "\n",
    "Formula: (current_close_price - previous_close_price)/previous_close_price ...\n",
    "\n",
    "pandas function: pct_change() --> Docs:https://pandas.pydata.org/docs/reference/api/pandas.DataFrame.pct_change.html\n",
    "\n",
    "\n"
   ]
  },
  {
   "cell_type": "code",
   "execution_count": 245,
   "metadata": {},
   "outputs": [
    {
     "data": {
      "text/html": [
       "<div>\n",
       "<style scoped>\n",
       "    .dataframe tbody tr th:only-of-type {\n",
       "        vertical-align: middle;\n",
       "    }\n",
       "\n",
       "    .dataframe tbody tr th {\n",
       "        vertical-align: top;\n",
       "    }\n",
       "\n",
       "    .dataframe thead th {\n",
       "        text-align: right;\n",
       "    }\n",
       "</style>\n",
       "<table border=\"1\" class=\"dataframe\">\n",
       "  <thead>\n",
       "    <tr style=\"text-align: right;\">\n",
       "      <th></th>\n",
       "      <th>open_mid_price</th>\n",
       "      <th>high_mid_price</th>\n",
       "      <th>low_mid_price</th>\n",
       "      <th>close_mid_price</th>\n",
       "      <th>returns</th>\n",
       "    </tr>\n",
       "    <tr>\n",
       "      <th>time</th>\n",
       "      <th></th>\n",
       "      <th></th>\n",
       "      <th></th>\n",
       "      <th></th>\n",
       "      <th></th>\n",
       "    </tr>\n",
       "  </thead>\n",
       "  <tbody>\n",
       "    <tr>\n",
       "      <th>1970-01-01 09:30:00</th>\n",
       "      <td>585.635</td>\n",
       "      <td>585.850</td>\n",
       "      <td>585.310</td>\n",
       "      <td>585.510</td>\n",
       "      <td>NaN</td>\n",
       "    </tr>\n",
       "    <tr>\n",
       "      <th>1970-01-01 09:31:00</th>\n",
       "      <td>585.510</td>\n",
       "      <td>585.625</td>\n",
       "      <td>584.735</td>\n",
       "      <td>585.075</td>\n",
       "      <td>-0.000743</td>\n",
       "    </tr>\n",
       "    <tr>\n",
       "      <th>1970-01-01 09:32:00</th>\n",
       "      <td>585.035</td>\n",
       "      <td>585.480</td>\n",
       "      <td>584.925</td>\n",
       "      <td>585.480</td>\n",
       "      <td>0.000692</td>\n",
       "    </tr>\n",
       "    <tr>\n",
       "      <th>1970-01-01 09:33:00</th>\n",
       "      <td>585.480</td>\n",
       "      <td>587.065</td>\n",
       "      <td>585.295</td>\n",
       "      <td>586.865</td>\n",
       "      <td>0.002366</td>\n",
       "    </tr>\n",
       "    <tr>\n",
       "      <th>1970-01-01 09:34:00</th>\n",
       "      <td>586.865</td>\n",
       "      <td>587.720</td>\n",
       "      <td>586.850</td>\n",
       "      <td>587.300</td>\n",
       "      <td>0.000741</td>\n",
       "    </tr>\n",
       "    <tr>\n",
       "      <th>1970-01-01 09:35:00</th>\n",
       "      <td>587.300</td>\n",
       "      <td>587.300</td>\n",
       "      <td>586.515</td>\n",
       "      <td>586.625</td>\n",
       "      <td>-0.001149</td>\n",
       "    </tr>\n",
       "    <tr>\n",
       "      <th>1970-01-01 09:36:00</th>\n",
       "      <td>586.630</td>\n",
       "      <td>587.485</td>\n",
       "      <td>586.580</td>\n",
       "      <td>587.475</td>\n",
       "      <td>0.001449</td>\n",
       "    </tr>\n",
       "    <tr>\n",
       "      <th>1970-01-01 09:37:00</th>\n",
       "      <td>587.475</td>\n",
       "      <td>587.600</td>\n",
       "      <td>587.015</td>\n",
       "      <td>587.015</td>\n",
       "      <td>-0.000783</td>\n",
       "    </tr>\n",
       "    <tr>\n",
       "      <th>1970-01-01 09:38:00</th>\n",
       "      <td>587.015</td>\n",
       "      <td>587.075</td>\n",
       "      <td>585.590</td>\n",
       "      <td>585.920</td>\n",
       "      <td>-0.001865</td>\n",
       "    </tr>\n",
       "    <tr>\n",
       "      <th>1970-01-01 09:39:00</th>\n",
       "      <td>585.920</td>\n",
       "      <td>586.380</td>\n",
       "      <td>585.805</td>\n",
       "      <td>586.215</td>\n",
       "      <td>0.000503</td>\n",
       "    </tr>\n",
       "  </tbody>\n",
       "</table>\n",
       "</div>"
      ],
      "text/plain": [
       "                     open_mid_price  high_mid_price  low_mid_price  \\\n",
       "time                                                                 \n",
       "1970-01-01 09:30:00         585.635         585.850        585.310   \n",
       "1970-01-01 09:31:00         585.510         585.625        584.735   \n",
       "1970-01-01 09:32:00         585.035         585.480        584.925   \n",
       "1970-01-01 09:33:00         585.480         587.065        585.295   \n",
       "1970-01-01 09:34:00         586.865         587.720        586.850   \n",
       "1970-01-01 09:35:00         587.300         587.300        586.515   \n",
       "1970-01-01 09:36:00         586.630         587.485        586.580   \n",
       "1970-01-01 09:37:00         587.475         587.600        587.015   \n",
       "1970-01-01 09:38:00         587.015         587.075        585.590   \n",
       "1970-01-01 09:39:00         585.920         586.380        585.805   \n",
       "\n",
       "                     close_mid_price   returns  \n",
       "time                                            \n",
       "1970-01-01 09:30:00          585.510       NaN  \n",
       "1970-01-01 09:31:00          585.075 -0.000743  \n",
       "1970-01-01 09:32:00          585.480  0.000692  \n",
       "1970-01-01 09:33:00          586.865  0.002366  \n",
       "1970-01-01 09:34:00          587.300  0.000741  \n",
       "1970-01-01 09:35:00          586.625 -0.001149  \n",
       "1970-01-01 09:36:00          587.475  0.001449  \n",
       "1970-01-01 09:37:00          587.015 -0.000783  \n",
       "1970-01-01 09:38:00          585.920 -0.001865  \n",
       "1970-01-01 09:39:00          586.215  0.000503  "
      ]
     },
     "execution_count": 245,
     "metadata": {},
     "output_type": "execute_result"
    }
   ],
   "source": [
    "#price_data['returns_auto'] = price_data['close_mid_price'].pct_change()\n",
    "price_data['returns'] = (price_data['close_mid_price'] - price_data['close_mid_price'].shift(1)) / price_data['close_mid_price'].shift(1)\n",
    "\n",
    "price_data.head(10)"
   ]
  },
  {
   "cell_type": "markdown",
   "metadata": {},
   "source": [
    "# __Step 4__: Fit a Gaussian Distribution to this return data, estimate the mean and standard deviation (using closed form estimators or numerically with maximum likelihood)\n",
    "\n",
    "*Reminder of Gaussian Distribution*\n",
    "\n",
    "<p align=\"center\" >\n",
    "<img src=\"/Users/lucazosso/Desktop/IE_Course/Term_3/Algorithmic_Trading/sampling_price_dist/normal_distribution.png\" alt=\"Gaussiance Image\" width=\"400\"/>\n",
    "</p>\n",
    "\n",
    "\n",
    "→ Symmetric around the mean\n",
    "→ Mean = Median = Mode\n",
    "→ Asymptotic tails (no intersecation)\n",
    "Closed Form method:\n",
    "\n",
    "__Methods used to estimate the parameters of a distribution__\n",
    "\n",
    "1. Closed Form: \n",
    "Algebric Formulas (mean, standard deviation, ect)\n",
    "\n",
    "Maximum Likelihood method: → The goal is to find the optimal way to fit a distribution to the data.\n",
    "\n",
    "_For Gaussian Distribution we are trying to maximize this:_\n",
    "$$\n",
    "f(x) = \\frac{1}{\\sqrt{2\\pi\\sigma^2}} e^{-\\frac{(x-\\mu)^2}{2\\sigma^2}}\n",
    "$$\n",
    "\n",
    "Note: If we were to take the derivative of the formula to find the maximum we would fine x = μ, which is the mean of the distribution.\n",
    "\n",
    "\n"
   ]
  },
  {
   "cell_type": "code",
   "execution_count": 246,
   "metadata": {},
   "outputs": [
    {
     "name": "stdout",
     "output_type": "stream",
     "text": [
      "Estimated Mean (MLE): -3.482843252455602e-05\n",
      "Estimated Standard Deviation (MLE): 0.00047842605605002953\n",
      "Mean (Closed Form): -3.482843252455602e-05\n",
      "Standard Deviation (Closed Form): 0.0004790421877361734\n"
     ]
    }
   ],
   "source": [
    "from scipy.stats import norm\n",
    "\n",
    "# Use Maximum Likelihood Estimation (MLE) to estimate the mean and standard deviation\n",
    "mean_returns_mle, std_returns_mle = norm.fit(price_data['returns'].dropna())\n",
    "print(\"Estimated Mean (MLE):\", mean_returns_mle)\n",
    "print(\"Estimated Standard Deviation (MLE):\", std_returns_mle)\n",
    "\n",
    "# Use closed form method to estimate the mean and standard deviation\n",
    "mean_returns_closed_form = price_data['returns'].mean()\n",
    "std_returns_closed_form = price_data['returns'].std()\n",
    "print(\"Mean (Closed Form):\", mean_returns_closed_form)\n",
    "print(\"Standard Deviation (Closed Form):\", std_returns_closed_form)\n"
   ]
  },
  {
   "cell_type": "code",
   "execution_count": 247,
   "metadata": {},
   "outputs": [
    {
     "data": {
      "application/vnd.plotly.v1+json": {
       "config": {
        "plotlyServerURL": "https://plot.ly"
       },
       "data": [
        {
         "histnorm": "probability density",
         "name": "Distribution of returns",
         "type": "histogram",
         "x": [
          -0.0007429420505199663,
          0.0006922189462888906,
          0.002365580378492845,
          0.0007412266875685983,
          -0.0011493274306146,
          0.0014489665459194933,
          -0.0007830120430657243,
          -0.001865369709462326,
          0.0005034817039870166,
          -0.00043499398684782107,
          0.0005631783739503161,
          0.00011939483873177101,
          0.00011085340064114346,
          0.000520100609626233,
          -0.0004857430163788594,
          -0.000434823384972155,
          0.00014500417953210168,
          0.0005458189416230439,
          -0.0013552791960382764,
          0.0008962103106863964,
          0.0004860785400587868,
          0.0010398731695675384,
          -0.00060454344198089,
          -0.0012779770475322262,
          -0.0004009452069986498,
          0.00011094422065961386,
          -0.00006826579286464994,
          0.000017067613350271642,
          0.00017067322051837337,
          -0.0004863356740014644,
          0.00048657231147451583,
          -0.0009897357576171958,
          -0.0005722240726979472,
          -0.0009485558024270443,
          0.0003678074399747356,
          -0.0003249196251452577,
          0.00029936534546753083,
          0.000632754448520303,
          -0.00006836262956848417,
          -0.00014528051959156754,
          0.0010769414861792432,
          0.0008708718964516084,
          -0.0005374234384862418,
          0.0004950368290329944,
          -0.00009383984098423263,
          0.0005460284958622132,
          0.00034960860889888797,
          -0.0003068661296510483,
          -0.0003325403524926651,
          0.00008529512111899441,
          -0.00027292110874195,
          -0.0004436178743878771,
          0.00012802348804248978,
          -0.00011093948677676567,
          -0.0010241704219582527,
          0.000247761602077749,
          0.0003160313298086885,
          -0.00020492853117476056,
          0.0006319924844137066,
          -0.0004950326038716283,
          0.0005379741430841368,
          -0.0004352687144210422,
          -0.00000853839717207509,
          0.00040984656369273307,
          0.0009729868134680771,
          -0.0007929808405597453,
          0.00020480262147356263,
          0.00017916560020479175,
          0.00023884467419025063,
          -0.00029848455129236057,
          0.000929843718009894,
          -0.00046022858019479913,
          0.00005968672993454611,
          0.00039220367307269105,
          0.0010483073671291876,
          -0.00034906985654067896,
          0.00004258435961636135,
          0.00029807782386147817,
          -0.0006385478570333918,
          0.0001959464640182811,
          0.000638830684315429,
          0.0007661074082587153,
          0.0004678183503873999,
          -0.00013602897417156813,
          -0.000629219597639584,
          0,
          -0.00029779123983247885,
          0.0003234125126597971,
          0.0002382269111330243,
          -0.0007825591385045232,
          -0.00017876752560209446,
          -0.0007492550021286582,
          0.0002556193657233022,
          -0.00035777565762579454,
          0.00003408606731995195,
          -0.0008606438638648797,
          0.0005714139510290336,
          -0.0006563245823388867,
          -0.0005458748070248117,
          0.0005803087583953299,
          -0.00044350814946223085,
          -0.00003413114893977014,
          -0.001023969417446771,
          0.000358756651946317,
          0.00029885665980711705,
          0.00038412947724250136,
          0.0001877245227957534,
          0.0005204112101692616,
          -0.00015348408881618036,
          -0.0004264101383274489,
          -0.0001535731349394549,
          -0.000025599453878488,
          -0.00014506728562028673,
          -0.00023043441153877426,
          -0.000187804649018744,
          -0.00041837074478531523,
          0.000170835041683789,
          0.00019642674136577918,
          -0.00014515647013625305,
          -0.00012809783258475033,
          -0.00021352373956936533,
          0.00008542773667766102,
          -0.0007687839546247402,
          0.000042743079895326067,
          -0.00058982929143536,
          0.00016251261611083975,
          0.0003506281374805075,
          0.00035050524048086057,
          0.00009400504208853561,
          -0.0006067027839967498,
          0.00010260356547400132,
          0.00005984593945295368,
          -0.00046164104843808334,
          0.000051317139924688186,
          0.0007868224347023525,
          -0.000051274162949437523,
          0.00009400745222723082,
          -0.00021363321740170736,
          -0.00025641463956644944,
          0.00000854934682989442,
          -0.00017953474852314407,
          0.0007524711837738839,
          0.00003417751802880396,
          -0.0009654818865346113,
          -0.00007697110162744118,
          0.0006072632101131018,
          -0.00012821718281213698,
          0.000017097816608803502,
          -0.00009403638353157909,
          0.0002992348138331202,
          -0.0002991452991452214,
          -0.00013679305775238904,
          -0.0015647846497190462,
          0.0005395406197008391,
          -0.00023110700254216148,
          0.000008561497234628607,
          0.00035101838137726075,
          -0.0001283762966006735,
          -0.000051357111675992635,
          0.00034239832909623187,
          0.0001454694813583815,
          -0.0001882272416153553,
          -0.00028239401666974213,
          -0.00041087096083887713,
          -0.00005137998064682723,
          0.00014558409194069825,
          0.0003082508476897455,
          -0.00021399712387865506,
          0.0003167835341055068,
          -0.00011126707521644165,
          -0.00011127945695634348,
          -0.0002996318808320427,
          -0.0004881181759793931,
          -0.0006939803629261749,
          -0.00007716247845873792,
          -0.00006001989230711007,
          -0.0005659358091596555,
          0.0002230706533396173,
          -0.0004889304432111033,
          0.00023171192200746783,
          0.0008065138866247862,
          -0.00017146041407693898,
          -0.000008574490889595631,
          -0.00001714912882424013,
          -0.00006002298022666078,
          -0.00009432748788760222,
          0.000008576035127432083,
          -0.00003430384631873729,
          -0.00013722009245210748,
          -0.00006861946219490265,
          -0.00033454283434971964,
          0.0004891108479636996,
          -0.0005489086152923367,
          -0.0005492100814374481,
          0.000858612310783312,
          0.00014583887378061147,
          -0.00003431002538938759,
          0.00007720020586734047,
          -0.00003430855398038493,
          -0.00007719689496926547,
          -0.00001715618995331956,
          0.0005404292552369154,
          0.0010459802635527555,
          -0.00023124555708766076,
          -0.0002227324127060197,
          -0.00008568539749448105,
          -0.00042846370055528893,
          -0.0000943024192858112,
          0.00012003258027187384,
          0.00011144544745337016,
          0.00032572731480697155,
          0.00008568980291337537,
          0.00005140947648031258,
          0.00025703416840874816,
          0.00031692734654711153,
          0.00019694647337370867,
          0.00047086622262551114,
          -0.0002909439419480564,
          -0.00025678995437694585,
          0.0001883610024230308,
          -0.00066769960366034,
          -0.00019701732895899314,
          -0.0001456501996265124,
          0.00004284453432271748,
          -0.00003427415899779242,
          0.00005998183407305474,
          0.000008568319495489555,
          -0.00002570473824005888,
          -0.0011481744882482782,
          0.0003345543136059574,
          0.0002915651905465523,
          0.00017145894415586087,
          -0.00007714329796182736,
          -0.0003514576922086583,
          -0.0000686012211018682,
          -0.00013721185510415622,
          -0.0003773843831481187,
          -0.00018018327212825306,
          -0.00006865361675828542,
          0.0007209124692109597,
          -0.0002744354776463181,
          -0.000034313851644031204,
          -0.00006005130096868214,
          -0.00024021962937540556,
          -0.00013730134212049436,
          0.0001544852209137254,
          -0.00009439305267123755,
          0.00024887790393309786,
          -0.0003603541766765673,
          -0.00035190112436688225,
          -0.0010646609827507827,
          0.0014611715157506085,
          -0.0002918079217269412,
          -0.0007812432928974292,
          0.0007474868974996913,
          0.00022322003485665917,
          0.00015450245916419635,
          -0.00004291071995602039,
          0.000008582512272984744,
          -0.00016306633366809526,
          0.0006781232295833093,
          0.0001801384492653237,
          0.00017152952880842336,
          -0.0003515752285239687,
          -0.00006004614975504288,
          0.00040319121557864566,
          0.00016292650299684196,
          -0.000282931513426324,
          -0.000060032760735089435,
          0.0003430649421934402,
          -0.0002229157378510845,
          0.00012863390789819994,
          -0.00020578778135049011,
          0.00019725388289981922,
          -0.0003858553985457929,
          -0.00030022559809220276,
          -0.0005405683690281002,
          0.00044642473879858677,
          -0.00016304394463356064,
          0.00007724393635092619,
          -0.00031753387743202477,
          -0.000927150043782023,
          0.0003093368162368552,
          -0.00011167041764745574,
          -0.00047250453174797,
          0.00007735547418898642,
          0.00013751020583565972,
          -0.0002577961863350444,
          -0.0004985344805357995,
          -0.00048158372247013363,
          0.0006366851075911872,
          -0.00016336918857108243,
          -0.0005159869971275942,
          -0.00011185489838422083,
          0.00006023629839355275,
          -0.0011186067322917514,
          0.0002412004892925935,
          0.00033587681072038913,
          0.0005596067256119868,
          0.00018069490096201651,
          0.00043014822907974084,
          -0.000412764749890375,
          -0.00007742534905940719,
          0.00014625920572654069,
          0.00017204449070533552,
          -0.00030962681368217434,
          0.0002753090774566291,
          -0.00024082914032615152,
          0.0004473618555195069,
          0.0005331544686082869,
          0.0006188171996803013,
          -0.0010393135377030625,
          0.00016336778387306716,
          -0.00010316279949460393,
          -0.00009457565622600139,
          -0.000335345405768027,
          -0.000017202969232473884,
          -0.0000516097955391464,
          0.00007741868887142317,
          -0.00011181833820736433,
          0.00047313048938893437,
          0.0007222575708069665,
          -0.0005928548107159171,
          -0.00012036073832724368,
          -0.00020635753162000044,
          0.0006020003612002559,
          0.00021487077671488366,
          0.0004554281884269448,
          -0.00036933013819823895,
          -0.0006014572449819719,
          0.00011176642536571845,
          -0.00016333267427171214,
          -0.00006018502596548504,
          -0.00003439351338334461,
          -0.00023216420028030114,
          -0.0000946073793757008,
          0.0004214727461960013,
          -0.00030952299067983283,
          0.0000602036603824965,
          -0.00043860026316015007,
          -0.00033554737240585117,
          -0.00008606666724056186,
          0.0006713777877240919,
          -0.0004644881598527088,
          -0.00038725334113581014,
          -0.0003013137278533627,
          -0.000301404545180463,
          0.0001722830955825047,
          -0.0015588934440348172,
          -0.0003277924901014274,
          0.00031064207992121767,
          0.00006901013586364221,
          0.00037090388414003236,
          0.0003793888390701995,
          -0.00007757283227042365,
          -0.0002154968063373301,
          0.000008621730208810465,
          -0.00012932483812829333,
          -0.00007760493912316606,
          -0.000396678250821414,
          -0.0008885668193621062,
          -0.0002590360405479319,
          0.0004318385960063567,
          -0.0014244522333683235,
          -0.0000605175111742677,
          0.00013833411146278108,
          0.0005619045972441527,
          0.00009503814485532598,
          -0.0006306477529934328,
          0.00025068939583852457,
          -0.000025926886180946088,
          -0.00029384566188728266,
          -0.00025070673363703167,
          0.00019023900937361842,
          -0.000743520135562851,
          0.000017304031839402848,
          -0.00032011904967892135,
          0.00019905664459735875,
          -0.0002768932576493179,
          0.00038948899044457614,
          -0.00012112717488157455,
          -0.000328813588654295,
          0.00034623341325562497,
          0.0003028493800239762,
          -0.00012975329573359362,
          0.000051908053534458664,
          -0.00020762143691336915,
          -0.0005710775194469909,
          0.00013852214189868998
         ]
        },
        {
         "line": {
          "color": "red",
          "width": 2
         },
         "mode": "lines",
         "name": "Fitted Gaussian PDF",
         "type": "scatter",
         "x": [
          -0.001865369709462326,
          -0.0018611345241890977,
          -0.0018568993389158693,
          -0.0018526641536426409,
          -0.0018484289683694125,
          -0.001844193783096184,
          -0.0018399585978229557,
          -0.0018357234125497273,
          -0.0018314882272764989,
          -0.0018272530420032705,
          -0.001823017856730042,
          -0.0018187826714568137,
          -0.0018145474861835853,
          -0.0018103123009103569,
          -0.0018060771156371285,
          -0.0018018419303639,
          -0.0017976067450906717,
          -0.0017933715598174433,
          -0.0017891363745442149,
          -0.0017849011892709864,
          -0.001780666003997758,
          -0.0017764308187245296,
          -0.0017721956334513012,
          -0.0017679604481780728,
          -0.0017637252629048444,
          -0.001759490077631616,
          -0.0017552548923583876,
          -0.0017510197070851592,
          -0.0017467845218119308,
          -0.0017425493365387024,
          -0.001738314151265474,
          -0.0017340789659922456,
          -0.0017298437807190172,
          -0.0017256085954457888,
          -0.0017213734101725604,
          -0.001717138224899332,
          -0.0017129030396261036,
          -0.0017086678543528752,
          -0.0017044326690796468,
          -0.0017001974838064186,
          -0.00169596229853319,
          -0.0016917271132599618,
          -0.0016874919279867332,
          -0.001683256742713505,
          -0.0016790215574402764,
          -0.0016747863721670482,
          -0.0016705511868938196,
          -0.0016663160016205914,
          -0.0016620808163473628,
          -0.0016578456310741346,
          -0.0016536104458009062,
          -0.0016493752605276778,
          -0.0016451400752544494,
          -0.001640904889981221,
          -0.0016366697047079926,
          -0.0016324345194347642,
          -0.0016281993341615358,
          -0.0016239641488883074,
          -0.001619728963615079,
          -0.0016154937783418506,
          -0.0016112585930686222,
          -0.0016070234077953938,
          -0.0016027882225221654,
          -0.001598553037248937,
          -0.0015943178519757086,
          -0.0015900826667024802,
          -0.0015858474814292518,
          -0.0015816122961560234,
          -0.001577377110882795,
          -0.0015731419256095665,
          -0.0015689067403363381,
          -0.0015646715550631097,
          -0.0015604363697898813,
          -0.001556201184516653,
          -0.0015519659992434245,
          -0.0015477308139701961,
          -0.0015434956286969677,
          -0.0015392604434237393,
          -0.001535025258150511,
          -0.0015307900728772825,
          -0.0015265548876040541,
          -0.0015223197023308257,
          -0.0015180845170575973,
          -0.001513849331784369,
          -0.0015096141465111405,
          -0.001505378961237912,
          -0.0015011437759646837,
          -0.0014969085906914553,
          -0.001492673405418227,
          -0.0014884382201449985,
          -0.00148420303487177,
          -0.0014799678495985417,
          -0.0014757326643253133,
          -0.0014714974790520849,
          -0.0014672622937788565,
          -0.001463027108505628,
          -0.0014587919232323997,
          -0.0014545567379591713,
          -0.0014503215526859429,
          -0.0014460863674127145,
          -0.001441851182139486,
          -0.0014376159968662577,
          -0.0014333808115930293,
          -0.0014291456263198009,
          -0.0014249104410465725,
          -0.001420675255773344,
          -0.0014164400705001157,
          -0.0014122048852268873,
          -0.0014079696999536589,
          -0.0014037345146804305,
          -0.001399499329407202,
          -0.0013952641441339736,
          -0.0013910289588607452,
          -0.0013867937735875168,
          -0.0013825585883142884,
          -0.00137832340304106,
          -0.0013740882177678319,
          -0.0013698530324946032,
          -0.001365617847221375,
          -0.0013613826619481464,
          -0.0013571474766749182,
          -0.0013529122914016896,
          -0.0013486771061284614,
          -0.0013444419208552328,
          -0.0013402067355820046,
          -0.001335971550308776,
          -0.0013317363650355478,
          -0.0013275011797623192,
          -0.001323265994489091,
          -0.0013190308092158624,
          -0.0013147956239426342,
          -0.0013105604386694056,
          -0.0013063252533961774,
          -0.0013020900681229488,
          -0.0012978548828497206,
          -0.001293619697576492,
          -0.0012893845123032638,
          -0.0012851493270300352,
          -0.001280914141756807,
          -0.0012766789564835784,
          -0.0012724437712103502,
          -0.0012682085859371216,
          -0.0012639734006638934,
          -0.0012597382153906648,
          -0.0012555030301174366,
          -0.001251267844844208,
          -0.0012470326595709798,
          -0.0012427974742977512,
          -0.001238562289024523,
          -0.0012343271037512944,
          -0.0012300919184780662,
          -0.0012258567332048378,
          -0.0012216215479316094,
          -0.001217386362658381,
          -0.0012131511773851526,
          -0.0012089159921119242,
          -0.0012046808068386958,
          -0.0012004456215654674,
          -0.001196210436292239,
          -0.0011919752510190105,
          -0.0011877400657457821,
          -0.0011835048804725537,
          -0.0011792696951993253,
          -0.001175034509926097,
          -0.0011707993246528685,
          -0.0011665641393796401,
          -0.0011623289541064117,
          -0.0011580937688331833,
          -0.001153858583559955,
          -0.0011496233982867265,
          -0.0011453882130134981,
          -0.0011411530277402697,
          -0.0011369178424670413,
          -0.001132682657193813,
          -0.0011284474719205845,
          -0.0011242122866473561,
          -0.0011199771013741277,
          -0.0011157419161008993,
          -0.001111506730827671,
          -0.0011072715455544425,
          -0.001103036360281214,
          -0.0010988011750079857,
          -0.0010945659897347573,
          -0.0010903308044615289,
          -0.0010860956191883005,
          -0.001081860433915072,
          -0.0010776252486418437,
          -0.0010733900633686153,
          -0.0010691548780953869,
          -0.0010649196928221585,
          -0.00106068450754893,
          -0.0010564493222757017,
          -0.0010522141370024733,
          -0.001047978951729245,
          -0.0010437437664560165,
          -0.0010395085811827883,
          -0.0010352733959095597,
          -0.0010310382106363315,
          -0.0010268030253631029,
          -0.0010225678400898747,
          -0.001018332654816646,
          -0.0010140974695434179,
          -0.0010098622842701892,
          -0.001005627098996961,
          -0.0010013919137237324,
          -0.0009971567284505043,
          -0.0009929215431772756,
          -0.0009886863579040474,
          -0.0009844511726308188,
          -0.0009802159873575906,
          -0.0009759808020843621,
          -0.0009717456168111337,
          -0.0009675104315379053,
          -0.0009632752462646769,
          -0.0009590400609914485,
          -0.0009548048757182201,
          -0.0009505696904449917,
          -0.0009463345051717633,
          -0.0009420993198985349,
          -0.0009378641346253065,
          -0.0009336289493520781,
          -0.0009293937640788497,
          -0.0009251585788056213,
          -0.0009209233935323929,
          -0.0009166882082591645,
          -0.0009124530229859361,
          -0.0009082178377127077,
          -0.0009039826524394793,
          -0.0008997474671662509,
          -0.0008955122818930225,
          -0.0008912770966197941,
          -0.0008870419113465658,
          -0.0008828067260733374,
          -0.000878571540800109,
          -0.0008743363555268806,
          -0.0008701011702536522,
          -0.0008658659849804238,
          -0.0008616307997071954,
          -0.000857395614433967,
          -0.0008531604291607386,
          -0.0008489252438875102,
          -0.0008446900586142818,
          -0.0008404548733410534,
          -0.000836219688067825,
          -0.0008319845027945966,
          -0.0008277493175213682,
          -0.0008235141322481398,
          -0.0008192789469749114,
          -0.000815043761701683,
          -0.0008108085764284545,
          -0.0008065733911552261,
          -0.0008023382058819977,
          -0.0007981030206087693,
          -0.0007938678353355409,
          -0.0007896326500623125,
          -0.0007853974647890841,
          -0.0007811622795158557,
          -0.0007769270942426273,
          -0.0007726919089693989,
          -0.0007684567236961705,
          -0.0007642215384229421,
          -0.0007599863531497137,
          -0.0007557511678764853,
          -0.0007515159826032569,
          -0.0007472807973300285,
          -0.0007430456120568001,
          -0.0007388104267835717,
          -0.0007345752415103433,
          -0.0007303400562371149,
          -0.0007261048709638865,
          -0.0007218696856906581,
          -0.0007176345004174297,
          -0.0007133993151442013,
          -0.0007091641298709729,
          -0.0007049289445977445,
          -0.0007006937593245161,
          -0.0006964585740512877,
          -0.0006922233887780593,
          -0.0006879882035048309,
          -0.0006837530182316025,
          -0.0006795178329583741,
          -0.0006752826476851457,
          -0.0006710474624119173,
          -0.0006668122771386889,
          -0.0006625770918654605,
          -0.0006583419065922321,
          -0.0006541067213190037,
          -0.0006498715360457753,
          -0.0006456363507725469,
          -0.0006414011654993185,
          -0.00063716598022609,
          -0.0006329307949528616,
          -0.0006286956096796332,
          -0.0006244604244064048,
          -0.0006202252391331764,
          -0.000615990053859948,
          -0.0006117548685867196,
          -0.0006075196833134912,
          -0.0006032844980402628,
          -0.0005990493127670346,
          -0.0005948141274938062,
          -0.0005905789422205778,
          -0.0005863437569473494,
          -0.000582108571674121,
          -0.0005778733864008926,
          -0.0005736382011276642,
          -0.0005694030158544358,
          -0.0005651678305812074,
          -0.000560932645307979,
          -0.0005566974600347506,
          -0.0005524622747615222,
          -0.0005482270894882938,
          -0.0005439919042150654,
          -0.000539756718941837,
          -0.0005355215336686086,
          -0.0005312863483953802,
          -0.0005270511631221518,
          -0.0005228159778489234,
          -0.000518580792575695,
          -0.0005143456073024666,
          -0.0005101104220292382,
          -0.0005058752367560098,
          -0.0005016400514827814,
          -0.000497404866209553,
          -0.0004931696809363246,
          -0.0004889344956630962,
          -0.0004846993103898678,
          -0.0004804641251166394,
          -0.000476228939843411,
          -0.0004719937545701826,
          -0.00046775856929695417,
          -0.00046352338402372577,
          -0.00045928819875049737,
          -0.00045505301347726896,
          -0.00045081782820404056,
          -0.00044658264293081216,
          -0.00044234745765758376,
          -0.00043811227238435536,
          -0.00043387708711112695,
          -0.00042964190183789855,
          -0.00042540671656467015,
          -0.00042117153129144175,
          -0.00041693634601821334,
          -0.00041270116074498494,
          -0.00040846597547175654,
          -0.00040423079019852814,
          -0.00039999560492529973,
          -0.00039576041965207133,
          -0.00039152523437884293,
          -0.0003872900491056145,
          -0.0003830548638323861,
          -0.0003788196785591577,
          -0.0003745844932859293,
          -0.0003703493080127009,
          -0.0003661141227394725,
          -0.0003618789374662441,
          -0.0003576437521930157,
          -0.0003534085669197873,
          -0.0003491733816465589,
          -0.0003449381963733305,
          -0.0003407030111001021,
          -0.0003364678258268737,
          -0.0003322326405536453,
          -0.0003279974552804169,
          -0.0003237622700071885,
          -0.0003195270847339601,
          -0.0003152918994607317,
          -0.0003110567141875033,
          -0.0003068215289142749,
          -0.0003025863436410465,
          -0.0002983511583678181,
          -0.0002941159730945897,
          -0.00028988078782136127,
          -0.00028564560254813287,
          -0.00028141041727490447,
          -0.00027717523200167606,
          -0.00027294004672844766,
          -0.00026870486145521926,
          -0.00026446967618199086,
          -0.00026023449090876245,
          -0.00025599930563553405,
          -0.00025176412036230565,
          -0.00024752893508907725,
          -0.00024329374981584885,
          -0.00023905856454262044,
          -0.00023482337926939226,
          -0.00023058819399616385,
          -0.00022635300872293545,
          -0.00022211782344970705,
          -0.00021788263817647865,
          -0.00021364745290325025,
          -0.00020941226763002184,
          -0.00020517708235679344,
          -0.00020094189708356504,
          -0.00019670671181033664,
          -0.00019247152653710823,
          -0.00018823634126387983,
          -0.00018400115599065143,
          -0.00017976597071742303,
          -0.00017553078544419462,
          -0.00017129560017096622,
          -0.00016706041489773782,
          -0.00016282522962450942,
          -0.00015859004435128101,
          -0.0001543548590780526,
          -0.0001501196738048242,
          -0.0001458844885315958,
          -0.0001416493032583674,
          -0.000137414117985139,
          -0.0001331789327119106,
          -0.0001289437474386822,
          -0.0001247085621654538,
          -0.00012047337689222539,
          -0.00011623819161899699,
          -0.00011200300634576859,
          -0.00010776782107254019,
          -0.00010353263579931178,
          -0.00009929745052608338,
          -0.00009506226525285498,
          -0.00009082707997962658,
          -0.00008659189470639817,
          -0.00008235670943316977,
          -0.00007812152415994137,
          -0.00007388633888671297,
          -0.00006965115361348456,
          -0.00006541596834025616,
          -0.00006118078306702776,
          -0.00005694559779379936,
          -0.000052710412520570954,
          -0.00004847522724734255,
          -0.00004424004197411415,
          -0.00004000485670088575,
          -0.000035769671427657345,
          -0.00003153448615442894,
          -0.00002729930088120054,
          -0.000023064115607972138,
          -0.000018828930334743735,
          -0.000014593745061515333,
          -0.00001035855978828693,
          -0.000006123374515058528,
          -0.0000018881892418301256,
          0.000002346996031398277,
          0.000006582181304626679,
          0.000010817366577855082,
          0.000015052551851083484,
          0.000019287737124311886,
          0.00002352292239754029,
          0.00002775810767076869,
          0.000031993292943997094,
          0.000036228478217225496,
          0.0000404636634904539,
          0.0000446988487636823,
          0.0000489340340369107,
          0.000053169219310139106,
          0.00005740440458336751,
          0.00006163958985659591,
          0.00006587477512982431,
          0.00007010996040305272,
          0.00007434514567628112,
          0.00007858033094950952,
          0.00008281551622273792,
          0.00008705070149596632,
          0.00009128588676919451,
          0.00009552107204242313,
          0.00009975625731565132,
          0.00010399144258887993,
          0.00010822662786210812,
          0.00011246181313533674,
          0.00011669699840856492,
          0.00012093218368179354,
          0.00012516736895502173,
          0.00012940255422825035,
          0.00013363773950147853,
          0.00013787292477470715,
          0.00014210811004793534,
          0.00014634329532116396,
          0.00015057848059439214,
          0.00015481366586762076,
          0.00015904885114084895,
          0.00016328403641407757,
          0.00016751922168730575,
          0.00017175440696053437,
          0.00017598959223376256,
          0.00018022477750699118,
          0.00018445996278021936,
          0.00018869514805344798,
          0.00019293033332667617,
          0.0001971655185999048,
          0.00020140070387313297,
          0.0002056358891463616,
          0.00020987107441958978,
          0.0002141062596928184,
          0.00021834144496604658,
          0.0002225766302392752,
          0.0002268118155125034,
          0.000231047000785732,
          0.0002352821860589602,
          0.0002395173713321888,
          0.000243752556605417,
          0.0002479877418786456,
          0.0002522229271518738,
          0.0002564581124251024,
          0.0002606932976983306,
          0.0002649284829715592,
          0.0002691636682447874,
          0.00027339885351801603,
          0.0002776340387912442,
          0.00028186922406447283,
          0.000286104409337701,
          0.00029033959461092964,
          0.0002945747798841578,
          0.00029880996515738644,
          0.00030304515043061463,
          0.0003072803357038428,
          0.00031151552097707143,
          0.0003157507062502996,
          0.00031998589152352824,
          0.0003242210767967564,
          0.00032845626206998504,
          0.00033269144734321323,
          0.00033692663261644185,
          0.00034116181788967003,
          0.00034539700316289865,
          0.00034963218843612684,
          0.00035386737370935546,
          0.00035810255898258364,
          0.00036233774425581226,
          0.00036657292952904045,
          0.00037080811480226907,
          0.00037504330007549725,
          0.0003792784853487259,
          0.00038351367062195406,
          0.0003877488558951827,
          0.00039198404116841086,
          0.0003962192264416395,
          0.00040045441171486767,
          0.0004046895969880963,
          0.0004089247822613245,
          0.0004131599675345531,
          0.0004173951528077813,
          0.0004216303380810099,
          0.0004258655233542381,
          0.0004301007086274667,
          0.0004343358939006949,
          0.0004385710791739235,
          0.0004428062644471517,
          0.0004470414497203803,
          0.0004512766349936085,
          0.0004555118202668371,
          0.0004597470055400653,
          0.0004639821908132939,
          0.0004682173760865221,
          0.0004724525613597507,
          0.0004766877466329789,
          0.00048092293190620753,
          0.0004851581171794357,
          0.0004893933024526643,
          0.0004936284877258925,
          0.0004978636729991211,
          0.0005020988582723493,
          0.0005063340435455779,
          0.0005105692288188061,
          0.0005148044140920347,
          0.0005190395993652629,
          0.0005232747846384916,
          0.0005275099699117197,
          0.0005317451551849484,
          0.0005359803404581765,
          0.0005402155257314052,
          0.0005444507110046333,
          0.000548685896277862,
          0.0005529210815510902,
          0.0005571562668243188,
          0.000561391452097547,
          0.0005656266373707756,
          0.0005698618226440038,
          0.0005740970079172324,
          0.0005783321931904606,
          0.0005825673784636892,
          0.0005868025637369174,
          0.000591037749010146,
          0.0005952729342833742,
          0.0005995081195566028,
          0.000603743304829831,
          0.0006079784901030596,
          0.0006122136753762878,
          0.0006164488606495164,
          0.0006206840459227446,
          0.0006249192311959732,
          0.0006291544164692014,
          0.00063338960174243,
          0.0006376247870156582,
          0.0006418599722888868,
          0.000646095157562115,
          0.0006503303428353436,
          0.0006545655281085718,
          0.0006588007133818004,
          0.0006630358986550286,
          0.0006672710839282568,
          0.0006715062692014854,
          0.0006757414544747136,
          0.0006799766397479422,
          0.0006842118250211704,
          0.000688447010294399,
          0.0006926821955676272,
          0.0006969173808408558,
          0.000701152566114084,
          0.0007053877513873126,
          0.0007096229366605408,
          0.0007138581219337694,
          0.0007180933072069976,
          0.0007223284924802263,
          0.0007265636777534544,
          0.0007307988630266831,
          0.0007350340482999112,
          0.0007392692335731399,
          0.000743504418846368,
          0.0007477396041195967,
          0.0007519747893928249,
          0.0007562099746660535,
          0.0007604451599392817,
          0.0007646803452125103,
          0.0007689155304857385,
          0.0007731507157589671,
          0.0007773859010321953,
          0.0007816210863054239,
          0.0007858562715786521,
          0.0007900914568518807,
          0.0007943266421251089,
          0.0007985618273983375,
          0.0008027970126715657,
          0.0008070321979447943,
          0.0008112673832180225,
          0.0008155025684912511,
          0.0008197377537644793,
          0.0008239729390377079,
          0.0008282081243109361,
          0.0008324433095841647,
          0.0008366784948573929,
          0.0008409136801306215,
          0.0008451488654038497,
          0.0008493840506770783,
          0.0008536192359503065,
          0.0008578544212235351,
          0.0008620896064967633,
          0.0008663247917699919,
          0.0008705599770432201,
          0.0008747951623164487,
          0.0008790303475896769,
          0.0008832655328629055,
          0.0008875007181361337,
          0.0008917359034093623,
          0.0008959710886825905,
          0.0009002062739558192,
          0.0009044414592290473,
          0.000908676644502276,
          0.0009129118297755041,
          0.0009171470150487328,
          0.000921382200321961,
          0.0009256173855951896,
          0.0009298525708684178,
          0.0009340877561416464,
          0.0009383229414148746,
          0.0009425581266881032,
          0.0009467933119613314,
          0.00095102849723456,
          0.0009552636825077882,
          0.0009594988677810168,
          0.000963734053054245,
          0.0009679692383274736,
          0.0009722044236007018,
          0.0009764396088739304,
          0.0009806747941471586,
          0.0009849099794203872,
          0.0009891451646936154,
          0.000993380349966844,
          0.0009976155352400722,
          0.0010018507205133008,
          0.001006085905786529,
          0.0010103210910597576,
          0.0010145562763329858,
          0.0010187914616062144,
          0.0010230266468794426,
          0.0010272618321526708,
          0.0010314970174258994,
          0.0010357322026991276,
          0.0010399673879723562,
          0.0010442025732455844,
          0.001048437758518813,
          0.0010526729437920412,
          0.0010569081290652698,
          0.001061143314338498,
          0.0010653784996117266,
          0.0010696136848849548,
          0.0010738488701581834,
          0.0010780840554314116,
          0.0010823192407046402,
          0.0010865544259778684,
          0.001090789611251097,
          0.0010950247965243252,
          0.0010992599817975538,
          0.001103495167070782,
          0.0011077303523440107,
          0.0011119655376172388,
          0.0011162007228904675,
          0.0011204359081636956,
          0.0011246710934369243,
          0.0011289062787101524,
          0.001133141463983381,
          0.0011373766492566093,
          0.0011416118345298379,
          0.001145847019803066,
          0.0011500822050762947,
          0.0011543173903495229,
          0.0011585525756227515,
          0.0011627877608959797,
          0.0011670229461692083,
          0.0011712581314424365,
          0.001175493316715665,
          0.0011797285019888933,
          0.001183963687262122,
          0.00118819887253535,
          0.0011924340578085787,
          0.0011966692430818069,
          0.0012009044283550355,
          0.0012051396136282637,
          0.0012093747989014923,
          0.0012136099841747205,
          0.0012178451694479491,
          0.0012220803547211773,
          0.001226315539994406,
          0.001230550725267634,
          0.0012347859105408627,
          0.001239021095814091,
          0.0012432562810873195,
          0.0012474914663605477,
          0.0012517266516337763,
          0.0012559618369070045,
          0.0012601970221802331,
          0.0012644322074534613,
          0.00126866739272669,
          0.0012729025779999181,
          0.0012771377632731467,
          0.001281372948546375,
          0.0012856081338196036,
          0.0012898433190928317,
          0.0012940785043660604,
          0.0012983136896392885,
          0.0013025488749125172,
          0.0013067840601857453,
          0.001311019245458974,
          0.0013152544307322022,
          0.0013194896160054308,
          0.001323724801278659,
          0.0013279599865518876,
          0.0013321951718251158,
          0.0013364303570983444,
          0.0013406655423715726,
          0.0013449007276448012,
          0.0013491359129180294,
          0.001353371098191258,
          0.0013576062834644862,
          0.0013618414687377148,
          0.001366076654010943,
          0.0013703118392841716,
          0.0013745470245573998,
          0.0013787822098306284,
          0.0013830173951038566,
          0.0013872525803770852,
          0.0013914877656503134,
          0.0013957229509235416,
          0.0013999581361967702,
          0.0014041933214699984,
          0.001408428506743227,
          0.0014126636920164552,
          0.0014168988772896838,
          0.001421134062562912,
          0.0014253692478361406,
          0.0014296044331093688,
          0.0014338396183825974,
          0.0014380748036558256,
          0.0014423099889290542,
          0.0014465451742022824,
          0.001450780359475511,
          0.0014550155447487392,
          0.0014592507300219678,
          0.001463485915295196,
          0.0014677211005684246,
          0.0014719562858416528,
          0.0014761914711148814,
          0.0014804266563881096,
          0.0014846618416613382,
          0.0014888970269345664,
          0.001493132212207795,
          0.0014973673974810232,
          0.0015016025827542519,
          0.00150583776802748,
          0.0015100729533007087,
          0.0015143081385739368,
          0.0015185433238471655,
          0.0015227785091203937,
          0.0015270136943936223,
          0.0015312488796668505,
          0.001535484064940079,
          0.0015397192502133073,
          0.0015439544354865359,
          0.001548189620759764,
          0.0015524248060329927,
          0.0015566599913062209,
          0.0015608951765794495,
          0.0015651303618526777,
          0.0015693655471259063,
          0.0015736007323991345,
          0.001577835917672363,
          0.0015820711029455913,
          0.00158630628821882,
          0.001590541473492048,
          0.0015947766587652767,
          0.001599011844038505,
          0.0016032470293117335,
          0.0016074822145849617,
          0.0016117173998581903,
          0.0016159525851314185,
          0.0016201877704046471,
          0.0016244229556778753,
          0.001628658140951104,
          0.0016328933262243321,
          0.0016371285114975607,
          0.001641363696770789,
          0.0016455988820440175,
          0.0016498340673172457,
          0.0016540692525904743,
          0.0016583044378637025,
          0.0016625396231369311,
          0.0016667748084101593,
          0.001671009993683388,
          0.0016752451789566161,
          0.0016794803642298448,
          0.001683715549503073,
          0.0016879507347763016,
          0.0016921859200495297,
          0.0016964211053227584,
          0.0017006562905959866,
          0.0017048914758692152,
          0.0017091266611424434,
          0.001713361846415672,
          0.0017175970316889002,
          0.0017218322169621288,
          0.001726067402235357,
          0.0017303025875085856,
          0.0017345377727818138,
          0.0017387729580550424,
          0.0017430081433282706,
          0.0017472433286014992,
          0.0017514785138747274,
          0.0017557136991479556,
          0.0017599488844211842,
          0.0017641840696944124,
          0.001768419254967641,
          0.0017726544402408692,
          0.0017768896255140978,
          0.001781124810787326,
          0.0017853599960605546,
          0.0017895951813337828,
          0.0017938303666070114,
          0.0017980655518802396,
          0.0018023007371534682,
          0.0018065359224266964,
          0.001810771107699925,
          0.0018150062929731532,
          0.0018192414782463818,
          0.00182347666351961,
          0.0018277118487928386,
          0.0018319470340660668,
          0.0018361822193392954,
          0.0018404174046125236,
          0.0018446525898857522,
          0.0018488877751589804,
          0.001853122960432209,
          0.0018573581457054372,
          0.0018615933309786658,
          0.001865828516251894,
          0.0018700637015251226,
          0.0018742988867983508,
          0.0018785340720715795,
          0.0018827692573448076,
          0.0018870044426180363,
          0.0018912396278912644,
          0.001895474813164493,
          0.0018997099984377212,
          0.0019039451837109499,
          0.001908180368984178,
          0.0019124155542574067,
          0.0019166507395306349,
          0.0019208859248038635,
          0.0019251211100770917,
          0.0019293562953503203,
          0.0019335914806235485,
          0.001937826665896777,
          0.0019420618511700053,
          0.001946297036443234,
          0.001950532221716462,
          0.0019547674069896907,
          0.001959002592262919,
          0.0019632377775361475,
          0.0019674729628093757,
          0.0019717081480826043,
          0.0019759433333558325,
          0.001980178518629061,
          0.0019844137039022893,
          0.001988648889175518,
          0.001992884074448746,
          0.0019971192597219747,
          0.002001354444995203,
          0.0020055896302684315,
          0.0020098248155416597,
          0.0020140600008148883,
          0.0020182951860881165,
          0.002022530371361345,
          0.0020267655566345733,
          0.002031000741907802,
          0.00203523592718103,
          0.0020394711124542587,
          0.002043706297727487,
          0.002047941483000715,
          0.002052176668273944,
          0.0020564118535471724,
          0.0020606470388204005,
          0.0020648822240936287,
          0.0020691174093668578,
          0.002073352594640086,
          0.002077587779913314,
          0.0020818229651865423,
          0.0020860581504597714,
          0.0020902933357329996,
          0.0020945285210062278,
          0.002098763706279456,
          0.002102998891552685,
          0.002107234076825913,
          0.0021114692620991414,
          0.0021157044473723696,
          0.0021199396326455977,
          0.002124174817918827,
          0.002128410003192055,
          0.002132645188465283,
          0.0021368803737385113,
          0.0021411155590117404,
          0.0021453507442849686,
          0.0021495859295581968,
          0.002153821114831425,
          0.002158056300104654,
          0.002162291485377882,
          0.0021665266706511104,
          0.0021707618559243386,
          0.0021749970411975676,
          0.002179232226470796,
          0.002183467411744024,
          0.002187702597017252,
          0.0021919377822904812,
          0.0021961729675637094,
          0.0022004081528369376,
          0.002204643338110166,
          0.002208878523383395,
          0.002213113708656623,
          0.002217348893929851,
          0.0022215840792030794,
          0.0022258192644763084,
          0.0022300544497495366,
          0.002234289635022765,
          0.002238524820295993,
          0.002242760005569222,
          0.0022469951908424502,
          0.0022512303761156784,
          0.0022554655613889066,
          0.0022597007466621357,
          0.002263935931935364,
          0.002268171117208592,
          0.0022724063024818202,
          0.0022766414877550493,
          0.0022808766730282775,
          0.0022851118583015056,
          0.002289347043574734,
          0.002293582228847963,
          0.002297817414121191,
          0.0023020525993944193,
          0.0023062877846676474,
          0.0023105229699408765,
          0.0023147581552141047,
          0.002318993340487333,
          0.002323228525760561,
          0.00232746371103379,
          0.0023316988963070183,
          0.0023359340815802465,
          0.0023401692668534747,
          0.0023444044521267037,
          0.002348639637399932,
          0.00235287482267316,
          0.0023571100079463883,
          0.0023613451932196173,
          0.002365580378492845
         ],
         "y": [
          0.5620283808915187,
          0.581317308510106,
          0.6012212413541652,
          0.6217580721913608,
          0.6429461547681247,
          0.6648043137202005,
          0.6873518546341598,
          0.7106085742602599,
          0.7345947708768902,
          0.7593312548068202,
          0.7848393590853814,
          0.8111409502805993,
          0.8382584394652594,
          0.8662147933407499,
          0.8950335455125057,
          0.9247388079167032,
          0.9553552823978225,
          0.9869082724365943,
          1.0194236950276914,
          1.0529280927064975,
          1.087448645724124,
          1.1230131843697697,
          1.1596502014393824,
          1.1973888648494655,
          1.236259030394814,
          1.2762912546487213,
          1.3175168080042174,
          1.3599676878546445,
          1.40367663191185,
          1.4486771316600657,
          1.4950034459434258,
          1.5426906146849968,
          1.591774472734934,
          1.6422916638453402,
          1.6942796547691918,
          1.7477767494805856,
          1.8028221035133445,
          1.8594557384149382,
          1.9177185563124413,
          1.977652354587158,
          2.0392998406543112,
          2.102704646844016,
          2.167911345379744,
          2.2349654634499796,
          2.3039134983690244,
          2.3748029328222495,
          2.447682250191413,
          2.52260094995494,
          2.599609563158387,
          2.6787596679496857,
          2.760103905173914,
          2.8436959940218274,
          2.929590747726473,
          3.017844089301825,
          3.1085130673171806,
          3.2016558717009467,
          3.2973318495671835,
          3.3956015210579946,
          3.496526595194754,
          3.6001699857308664,
          3.706595826998599,
          3.815869489742198,
          3.9280575969294147,
          4.043228039533222,
          4.161449992275427,
          4.28279392932345,
          4.407331639931483,
          4.535136244017024,
          4.666282207663363,
          4.800845358538613,
          4.938902901221404,
          5.080533432423434,
          5.225816956098459,
          5.374834898427393,
          5.527670122668834,
          5.6844069438640545,
          5.845131143385335,
          6.009929983316266,
          6.1788922206524655,
          6.352108121310799,
          6.5296694739350425,
          6.7116696034858245,
          6.898203384602205,
          7.089367254722171,
          7.285259226949178,
          7.485978902651473,
          7.691627483780881,
          7.9023077848972925,
          8.118124244885315,
          8.339182938348731,
          8.565591586668774,
          8.797459568711588,
          9.034897931170494,
          9.278019398527917,
          9.52693838262217,
          9.781770991803738,
          10.042635039665923,
          10.309650053333872,
          10.582937281296523,
          10.86261970076568,
          11.148822024545701,
          11.441670707398004,
          11.741293951883733,
          12.047821713668286,
          12.361385706270886,
          12.682119405242272,
          13.010158051754173,
          13.34563865558273,
          13.688699997469469,
          14.039482630842022,
          14.39812888287782,
          14.764782854892813,
          15.139590422038097,
          15.522699232286936,
          15.914258704694275,
          16.314420026911403,
          16.723336151937918,
          17.141161794093613,
          17.568053424191877,
          18.00416926389798,
          18.449669279253158,
          18.90471517334849,
          19.369470378129094,
          19.844100045312665,
          20.328771036403616,
          20.82365191178625,
          21.328912918878544,
          21.844725979330473,
          22.371264675248494,
          22.908704234430132,
          23.457221514590575,
          24.01699498656603,
          24.588204716475367,
          25.1710323468255,
          25.76566107654228,
          26.372275639913067,
          26.991062284422664,
          27.62220874746939,
          28.265904231944067,
          28.92233938065829,
          29.59170624960583,
          30.274198280044143,
          30.970010269380236,
          31.67933834084888,
          32.40237991196734,
          33.139333661756346,
          33.890399496711495,
          34.655778515515806,
          35.435672972478194,
          36.230286239690244,
          37.039822767886,
          37.864488045998186,
          38.70448855939738,
          39.56003174680719,
          40.431325955884674,
          41.318580397458014,
          42.22200509841394,
          43.14181085322645,
          44.07820917412105,
          45.03141223986736,
          46.001632843195615,
          46.989084336830786,
          47.993980578141006,
          49.016535872396425,
          50.0569649146353,
          51.11548273013537,
          52.192304613488744,
          53.28764606628012,
          54.401722733367556,
          55.5347503377668,
          56.68694461414152,
          57.858521240900174,
          59.04969577090457,
          60.26068356079223,
          61.49169969891936,
          62.74295893192848,
          64.01467558994813,
          65.30706351043202,
          66.62033596064624,
          67.95470555881327,
          69.31038419392326,
          70.68758294422432,
          72.08651199440318,
          73.50738055146968,
          74.95039675935875,
          76.41576761226645,
          77.90369886673365,
          79.4143949524965,
          80.94805888212119,
          82.50489215944151,
          84.08509468682034,
          85.68886467125496,
          87.31639852935037,
          88.96789079118162,
          90.64353400307132,
          92.34351862930626,
          94.06803295282197,
          95.81726297487862,
          97.59139231376217,
          99.39060210253527,
          101.21507088587379,
          103.0649745160144,
          104.94048604785468,
          106.84177563323009,
          108.7690104144119,
          110.72235441685453,
          112.70196844123637,
          114.70800995482554,
          116.7406329822172,
          118.79998799547539,
          120.88622180372755,
          122.9994774422484,
          125.13989406108202,
          127.30760681324176,
          129.50274674253765,
          131.72544067107444,
          133.97581108647074,
          136.25397602884553,
          138.56004897762259,
          140.89413873820357,
          143.25634932855968,
          145.6467798657959,
          148.06552445273974,
          150.51267206460903,
          152.98830643581366,
          155.49250594694686,
          158.02534351202289,
          160.58688646601766,
          163.17719645277208,
          165.79632931331463,
          168.44433497466574,
          171.12125733918072,
          173.82713417449628,
          176.56199700413808,
          179.32587099885512,
          182.11877486874175,
          184.9407207562109,
          187.79171412988353,
          190.67175367945717,
          193.58083121161954,
          196.51893154707219,
          199.48603241873013,
          202.48210437116205,
          205.50711066134022,
          208.56100716076386,
          211.6437422590246,
          214.75525676888114,
          217.89548383290835,
          221.06434883179202,
          224.2617692943321,
          227.487654809226,
          230.74190693869716,
          234.0244191340367,
          237.33507665312655,
          240.67375648001007,
          244.04032724657867,
          247.43464915643904,
          250.85657391103118,
          254.30594463805969,
          257.78259582230714,
          261.2863532388942,
          264.8170338890508,
          268.37444593846504,
          271.95838865827096,
          275.56865236874296,
          279.2050183857544,
          282.86725897006795,
          286.55513727951546,
          290.26840732412944,
          294.0068139242868,
          297.7700926719214,
          301.55796989486686,
          305.37016262438385,
          309.20637856592975,
          313.06631607322424,
          316.9496641256665,
          320.85610230915586,
          324.7853008003659,
          328.73692035452603,
          332.7106122967552,
          336.70601851699894,
          340.7227714686133,
          344.7604941706425,
          348.81880021383205,
          352.8972937704193,
          356.9955696077435,
          361.1132131057098,
          365.24980027814956,
          369.4048977981059,
          373.5780630270839,
          377.7688440482923,
          381.9767797039092,
          386.2013996363989,
          390.442224333905,
          394.69876517974546,
          398.97052450602956,
          403.2569956514191,
          407.55766302304966,
          411.8720021626287,
          416.19947981672436,
          420.53955401125705,
          424.8916741302007,
          429.25528099850374,
          433.62980696923375,
          438.0146760149474,
          442.4093038232873,
          446.813097896803,
          451.22545765699283,
          455.6457745525576,
          460.07343217186025,
          464.507806359578,
          468.94826533753195,
          473.39416982968174,
          477.84487319126225,
          482.29972154204364,
          486.7580539036896,
          491.2192023411896,
          495.6824921083344,
          500.1472417972037,
          504.612763491635,
          509.07836292463406,
          513.5433396396899,
          518.0069871559541,
          522.4685931372393,
          526.927439564791,
          531.382802913786,
          535.8339543335018,
          540.2801598311107,
          544.7206804590345,
          549.154772505809,
          553.5816876903909,
          558.0006733598494,
          562.410972690373,
          566.811824891526,
          571.2024654136834,
          575.5821261585713,
          579.95003569284,
          584.3054194645896,
          588.6475000227715,
          592.9754972393846,
          597.2886285343773,
          601.5861091031793,
          605.8671521467649,
          610.1309691041655,
          614.3767698873362,
          618.6037631182829,
          622.8111563683551,
          626.9981563996066,
          631.1639694081239,
          635.3078012692223,
          639.4288577844068,
          643.5263449299924,
          647.5994691072783,
          651.6474373941688,
          655.6694577981319,
          659.6647395103828,
          663.6324931611839,
          667.571931076146,
          671.4822675334157,
          675.3627190216351,
          679.212504498557,
          683.0308456501944,
          686.8169671503912,
          690.5700969206897,
          694.2894663903762,
          697.9743107565838,
          701.6238692443293,
          705.2373853663621,
          708.814107182703,
          712.3532875597471,
          715.854184428808,
          719.3160610439796,
          722.7381862391888,
          726.1198346843171,
          729.4602871402631,
          732.7588307128232,
          736.0147591052656,
          739.2273728694713,
          742.3959796555183,
          745.5198944595863,
          748.5984398700557,
          751.6309463116786,
          754.6167522876999,
          757.5552046198034,
          760.4456586857658,
          763.2874786546927,
          766.0800377197218,
          768.822718328068,
          771.5149124083016,
          774.1560215947306,
          776.7454574487844,
          779.2826416772726,
          781.7670063474156,
          784.1979940985264,
          786.5750583502404,
          788.8976635071803,
          791.1652851599506,
          793.3774102823551,
          795.5335374247337,
          797.6331769033189,
          799.6758509855074,
          801.661094070954,
          803.5884528683866,
          805.4574865680539,
          807.2677670097066,
          809.0188788460316,
          810.7104197014437,
          812.3420003261541,
          813.9132447454334,
          815.4237904039859,
          816.8732883053615,
          818.2614031463264,
          819.5878134461236,
          820.8522116705503,
          822.0543043507877,
          823.1938121969179,
          824.2704702060657,
          825.2840277651081,
          826.2342487478949,
          827.1209116069269,
          827.9438094594453,
          828.7027501678792,
          829.3975564146149,
          830.0280657710391,
          830.5941307608248,
          831.09561891742,
          831.5324128357116,
          831.9044102178342,
          832.2115239130994,
          832.4536819520241,
          832.6308275744394,
          832.7429192516623,
          832.789930702723,
          832.7718509046337,
          832.6886840966952,
          832.5404497788419,
          832.3271827040207,
          832.0489328646125,
          831.7057654729008,
          831.2977609356002,
          830.825014822457,
          830.2876378289408,
          829.6857557330457,
          829.0195093462253,
          828.28905445849,
          827.4945617776938,
          826.636216863045,
          825.714220052878,
          824.728786386724,
          823.6801455217235,
          822.5685416434269,
          821.3942333710309,
          820.1574936571017,
          818.8586096818408,
          817.4978827419503,
          816.075628134156,
          814.5921750334552,
          813.0478663661513,
          811.4430586777454,
          809.7781219957562,
          808.0534396875423,
          806.2694083132019,
          804.4264374736308,
          802.5249496538189,
          800.5653800614701,
          798.5481764610302,
          796.4737990032135,
          794.3427200501177,
          792.1554239960208,
          789.9124070839525,
          787.614177218144,
          785.2612537724448,
          782.8541673948205,
          780.3934598080209,
          777.8796836065364,
          775.3134020499375,
          772.6951888527153,
          770.0256279707239,
          767.3053133843441,
          764.5348488784734,
          761.714847819464,
          758.8459329291153,
          755.9287360558465,
          752.9638979431572,
          749.9520679955062,
          746.8939040417139,
          743.7900720960222,
          740.641246116924,
          737.4481077638899,
          734.2113461521079,
          730.9316576053698,
          727.6097454072145,
          724.2463195504673,
          720.8420964852833,
          717.3977988658366,
          713.9141552957636,
          710.3919000725003,
          706.8317729306248,
          703.2345187843418,
          699.6008874692261,
          695.9316334833525,
          692.227515727934,
          688.4892972475985,
          684.7177449704177,
          680.91362944782,
          677.0777245945031,
          673.210807428474,
          669.3136578113301,
          665.3870581889092,
          661.43179333242,
          657.4486500801801,
          653.4384170800665,
          649.4018845328108,
          645.3398439362362,
          641.2530878305665,
          637.1424095449089,
          633.0086029450227,
          628.8524621824935,
          624.6747814454026,
          620.4763547106215,
          616.2579754978145,
          612.0204366252706,
          607.7645299676519,
          603.4910462157746,
          599.2007746385025,
          594.8945028468673,
          590.5730165604965,
          586.2370993764513,
          581.8875325405572,
          577.525094721325,
          573.1505617865377,
          568.7647065826006,
          564.3682987167241,
          559.9621043420315,
          555.5468859456583,
          551.1234021399313,
          546.6924074566863,
          542.254652144813,
          537.8108819710776,
          533.3618380243065,
          528.908256522981,
          524.4508686263192,
          519.9904002488878,
          515.5275718788189,
          511.0630983996697,
          506.5976889159918,
          502.1320465826456,
          497.6668684379225,
          493.2028452405027,
          488.7406613103077,
          484.280994373272,
          479.82451541008453,
          475.37188850892267,
          470.9237707222224,
          466.4808119275023,
          462.04365469228287,
          457.6129341431097,
          453.1892778387201,
          448.7733056473553,
          444.3656296282543,
          439.9668539173245,
          435.57757461702175,
          431.19837969043147,
          426.8298488595739,
          422.472553507927,
          418.1270565871798,
          413.7939125282074,
          409.47366715627584,
          405.16685761046324,
          400.87401226730077,
          396.5956506686141,
          392.3322834535677,
          388.08441229488494,
          383.8525298392438,
          379.6371196518167,
          375.43865616494924,
          371.25760463094275,
          367.0944210789333,
          362.94955227582443,
          358.82343569126357,
          354.71649946661887,
          350.6291623879382,
          346.5618338628454,
          342.51491390135175,
          338.4887931005347,
          334.48385263305755,
          330.50046423947896,
          326.53899022432387,
          322.5997834558594,
          318.68318736954615,
          314.7895359751051,
          310.91915386716676,
          307.0723562394404,
          303.24944890236816,
          299.4507283041987,
          295.67648155544066,
          291.92698645663296,
          288.2025115293846,
          284.5033160506226,
          280.82965008999446,
          277.18175455037044,
          273.55986121137664,
          269.9641927759143,
          266.3949629195893,
          262.85237634300574,
          259.3366288268478,
          255.84790728969887,
          252.38638984852588,
          248.95224588177194,
          245.5456360949862,
          242.16671258893362,
          238.81561893010976,
          235.492490223606,
          232.19745318824704,
          228.93062623394633,
          225.69211954119984,
          222.48203514266453,
          219.30046700674123,
          216.1475011231069,
          213.02321559011673,
          209.92768070402056,
          206.86095904991467,
          203.8231055943719,
          200.8141677796732,
          197.83418561958183,
          194.88319179658518,
          191.96121176054476,
          189.0682638286798,
          186.20435928682662,
          183.36950249189812,
          180.56369097548742,
          177.78691554854,
          175.03916040704,
          172.32040323863464,
          169.6306153301446,
          166.96976167588488,
          164.3378010867439,
          161.73468629994903,
          159.16036408946468,
          156.6147753769543,
          154.09785534325263,
          151.60953354028192,
          149.1497340033589,
          146.71837536382753,
          144.31537096196755,
          141.94062896011297,
          139.5940524559341,
          137.27553959581795,
          134.98498368830204,
          132.72227331749906,
          130.4872924564687,
          128.27992058047593,
          126.10003278009309,
          123.94749987408893,
          121.82218852206168,
          119.72396133676268,
          117.65267699606876,
          115.60819035455232,
          113.59035255460955,
          111.5990111370964,
          109.63401015143698,
          107.69519026515444,
          105.78238887279069,
          103.8954402041696,
          102.03417543196893,
          100.19842277856003,
          98.38800762208201,
          96.602752601711,
          94.84247772209488,
          93.10700045691394,
          91.39613585154191,
          89.70969662476966,
          88.04749326956768,
          86.40933415285123,
          84.79502561422787,
          83.20437206369321,
          81.63717607825483,
          80.09323849745469,
          78.57235851777108,
          77.07433378587243,
          75.59896049070603,
          74.14603345439689,
          72.71534622194129,
          71.30669114967185,
          69.91985949248098,
          68.55464148978389,
          67.21082645020509,
          65.88820283497633,
          64.58655834002909,
          63.30567997677296,
          62.04535415154442,
          60.805366743718515,
          59.58550318247089,
          58.3855485221852,
          57.20528751649264,
          56.044504690942524,
          54.90298441429263,
          53.78051096841842,
          52.67686861683239,
          51.5918416718146,
          50.52521456014767,
          49.47677188745716,
          48.44629850115403,
          47.43357955198128,
          46.43840055416243,
          45.46054744415562,
          44.49980663801299,
          43.555965087350295,
          42.6288103339272,
          41.71813056284552,
          40.823714654366995,
          39.9453522343587,
          39.08283372336909,
          38.23595038434443,
          37.40449436898974,
          36.58825876278481,
          35.78703762866053,
          35.0006260493476,
          34.228820168404184,
          33.47141722993444,
          32.72821561700667,
          31.99901488878353,
          31.28361581637397,
          30.581820417420097,
          29.893431989429804,
          29.21825514186934,
          28.556095827026603,
          27.906761369660998,
          27.27006049545105,
          26.64580335825638,
          26.033801566205526,
          25.43386820662711,
          24.84581786983715,
          24.269466671798977,
          23.704632275670455,
          23.151133912255215,
          22.608792399372515,
          22.077430160163317,
          21.55687124034765,
          21.046941324451193,
          20.547467751016107,
          20.05827952681491,
          19.57920734008251,
          19.110083572785463,
          18.650742311943617,
          18.20101936002364,
          17.760752244420015,
          17.329780226042633,
          16.907944307026906,
          16.495087237585818,
          16.091053522019926,
          15.695689423904321,
          15.308842970469186,
          14.93036395619271,
          14.560103945623009,
          14.197916275447644,
          13.843656055827584,
          13.497180171014216,
          13.158347279265607,
          12.827017812081063,
          12.503053972770036,
          12.18631973437389,
          11.876680836956636,
          11.574004784283092,
          11.278160839900359,
          10.989020022640464,
          10.706455101560257,
          10.430340590336165,
          10.160552741129377,
          9.896969537938833,
          9.639470689457516,
          9.387937621448886,
          9.142253468659053,
          8.902303066280307,
          8.667972940982356,
          8.43915130152594,
          8.215728028974771,
          7.997594666520372,
          7.784644408935282,
          7.5767720916687535,
          7.373874179600092,
          7.1758487554633135,
          6.98259550795797,
          6.794015719559256,
          6.610012254041925,
          6.4304895437306895,
          6.255353576491204,
          6.084511882473818,
          5.917873520623783,
          5.75534906496984,
          5.596850590704013,
          5.442291660064482,
          5.291587308033749,
          5.144654027863488,
          5.001409756437865,
          4.861773859486239,
          4.725667116656715,
          4.593011706460709,
          4.463731191099782,
          4.337750501184416,
          4.214995920355357,
          4.095395069816916,
          3.978876892792306,
          3.865371638909966,
          3.754810848530515,
          3.6471273370227566,
          3.542255178997956,
          3.4401296925104687,
          3.3406874232332875,
          3.2438661286162644,
          3.1496047620351346,
          3.057843456938626,
          2.9685235110013135,
          2.8815873702890964,
          2.7969786134445713,
          2.714641935898654,
          2.6345231341153608,
          2.556569089875691,
          2.4807277546070674,
          2.406948133763879,
          2.3351802712651764,
          2.2653752339947113,
          2.1974850963688577,
          2.131462924977326,
          2.0672627633017946,
          2.004839616516964,
          1.9441494363787635,
          1.8851491062039125,
          1.827796425945174,
          1.7720500973661222,
          1.7178697093194017,
          1.665215723132002,
          1.6140494581011797,
          1.5643330771041468,
          1.5160295723248942,
          1.4691027511009516,
          1.423517221893095,
          1.3792383803805048,
          1.3362323956840911,
          1.2944661967202218,
          1.2539074586871897,
          1.2145245896864538,
          1.1762867174806948,
          1.1391636763904054,
          1.103125994330825,
          1.0681448799906739,
          1.0341922101542487,
          1.001240517168051,
          0.9692629765533006,
          0.9382333947652838,
          0.9081261971006075,
          0.8789164157531237,
          0.8505796780193693,
          0.8230921946540694,
          0.7964307483763549,
          0.7705726825270192,
          0.7454958898772726,
          0.7211788015892028,
          0.6976003763280743,
          0.6747400895266317,
          0.6525779228013124,
          0.6310943535203634,
          0.6102703445236114,
          0.590087333993742,
          0.5705272254786772,
          0.551572378064745,
          0.5332055967001225,
          0.5154101226680936,
          0.49816962420947825,
          0.48146818729363755,
          0.46529030653731573,
          0.44962087627060066,
          0.43444518174913227,
          0.4197488905117649,
          0.40551804388270607,
          0.39173904861722675,
          0.378398668689884,
          0.36548401722426554,
          0.3529825485631181,
          0.34088205047777076,
          0.32917063651566025,
          0.3178367384847934,
          0.30686909907387977,
          0.2962567646069097,
          0.285989077930856,
          0.27605567143521414,
          0.26644646020200474,
          0.2571516352849101,
          0.24816165711611646,
          0.2394672490394909,
          0.2310593909686396,
          0.22292931316842204,
          0.215068490158436,
          0.207468634737038,
          0.2001216921243621,
          0.19301983422289065,
          0.18615545399401603,
          0.1795211599491246,
          0.17310977075363398,
          0.16691430994248077,
          0.16092800074550692,
          0.1551442610212081,
          0.14955669829729434,
          0.14415910491652495,
          0.13894545328625307,
          0.13390989123015626,
          0.1290467374405785,
          0.12435047702996133,
          0.11981575717980748,
          0.11543738288564541,
          0.11121031279645172,
          0.10712965514701674,
          0.10319066378171061,
          0.09938873426815098,
          0.09571940009924916,
          0.0921783289821421,
          0.08876131921251232,
          0.08546429613281488,
          0.08228330867293247,
          0.07921452597180494,
          0.07625423407856761,
          0.07339883273176798,
          0.07064483221522336,
          0.06798885028910968,
          0.06542760919486496,
          0.06295793273253082,
          0.06057674340914195,
          0.058281059656799555,
          0.05606799311908816,
          0.05393474600448602,
          0.05187860850546073,
          0.04989695628192931,
          0.047987248007804115,
          0.04614702297934089,
          0.04437389878403171,
          0.04266556902879153,
          0.04101980112622009,
          0.03943443413771571,
          0.03790737667225006,
          0.036436604839620336,
          0.03502016025701586,
          0.03365614810775168,
          0.03234273525103595,
          0.031078148381658295,
          0.02986067223849893,
          0.02868864786077887,
          0.02756047089098477,
          0.02647458992342274,
          0.025429504897364102,
          0.024423765533774008,
          0.02345596981462168,
          0.02252476250379026,
          0.021628833708619816,
          0.02076691748113848,
          0.01993779045804391,
          0.019140270538523636,
          0.018373215599009382,
          0.017635522243984986,
          0.016926124591978748,
          0.0162439930958876,
          0.015588133396795767,
          0.014957585210470402,
          0.014351421245725401,
          0.013768746153866186,
          0.013208695508438882,
          0.012670434814526238,
          0.012153158546844834,
          0.011656089215914515,
          0.011178476461583603,
          0.010719596173211948,
          0.010278749635823313,
          0.009855262701556686,
          0.009448484985757342,
          0.00905778908706469,
          0.008682569830865402,
          0.008322243535496106,
          0.007976247300590074,
          0.0076440383169791536,
          0.007325093197572551,
          0.0070189073286474205,
          0.00672499424099915,
          0.006442885000411658,
          0.0061721276169194135,
          0.005912286472346485,
          0.005662941765617252,
          0.00542368897534794,
          0.00519413833923754,
          0.004973914349788706,
          0.004762655265899767,
          0.004560012639881235,
          0.0043656508594589185,
          0.004179246704338159,
          0.004000488916912307,
          0.0038290777867102787,
          0.003664724748187024,
          0.003507151991470735,
          0.0033560920856899766,
          0.003211287614514313,
          0.003072490823549771,
          0.002939463279240829
         ]
        }
       ],
       "layout": {
        "bargap": 0.2,
        "template": {
         "data": {
          "bar": [
           {
            "error_x": {
             "color": "#2a3f5f"
            },
            "error_y": {
             "color": "#2a3f5f"
            },
            "marker": {
             "line": {
              "color": "white",
              "width": 0.5
             },
             "pattern": {
              "fillmode": "overlay",
              "size": 10,
              "solidity": 0.2
             }
            },
            "type": "bar"
           }
          ],
          "barpolar": [
           {
            "marker": {
             "line": {
              "color": "white",
              "width": 0.5
             },
             "pattern": {
              "fillmode": "overlay",
              "size": 10,
              "solidity": 0.2
             }
            },
            "type": "barpolar"
           }
          ],
          "carpet": [
           {
            "aaxis": {
             "endlinecolor": "#2a3f5f",
             "gridcolor": "#C8D4E3",
             "linecolor": "#C8D4E3",
             "minorgridcolor": "#C8D4E3",
             "startlinecolor": "#2a3f5f"
            },
            "baxis": {
             "endlinecolor": "#2a3f5f",
             "gridcolor": "#C8D4E3",
             "linecolor": "#C8D4E3",
             "minorgridcolor": "#C8D4E3",
             "startlinecolor": "#2a3f5f"
            },
            "type": "carpet"
           }
          ],
          "choropleth": [
           {
            "colorbar": {
             "outlinewidth": 0,
             "ticks": ""
            },
            "type": "choropleth"
           }
          ],
          "contour": [
           {
            "colorbar": {
             "outlinewidth": 0,
             "ticks": ""
            },
            "colorscale": [
             [
              0,
              "#0d0887"
             ],
             [
              0.1111111111111111,
              "#46039f"
             ],
             [
              0.2222222222222222,
              "#7201a8"
             ],
             [
              0.3333333333333333,
              "#9c179e"
             ],
             [
              0.4444444444444444,
              "#bd3786"
             ],
             [
              0.5555555555555556,
              "#d8576b"
             ],
             [
              0.6666666666666666,
              "#ed7953"
             ],
             [
              0.7777777777777778,
              "#fb9f3a"
             ],
             [
              0.8888888888888888,
              "#fdca26"
             ],
             [
              1,
              "#f0f921"
             ]
            ],
            "type": "contour"
           }
          ],
          "contourcarpet": [
           {
            "colorbar": {
             "outlinewidth": 0,
             "ticks": ""
            },
            "type": "contourcarpet"
           }
          ],
          "heatmap": [
           {
            "colorbar": {
             "outlinewidth": 0,
             "ticks": ""
            },
            "colorscale": [
             [
              0,
              "#0d0887"
             ],
             [
              0.1111111111111111,
              "#46039f"
             ],
             [
              0.2222222222222222,
              "#7201a8"
             ],
             [
              0.3333333333333333,
              "#9c179e"
             ],
             [
              0.4444444444444444,
              "#bd3786"
             ],
             [
              0.5555555555555556,
              "#d8576b"
             ],
             [
              0.6666666666666666,
              "#ed7953"
             ],
             [
              0.7777777777777778,
              "#fb9f3a"
             ],
             [
              0.8888888888888888,
              "#fdca26"
             ],
             [
              1,
              "#f0f921"
             ]
            ],
            "type": "heatmap"
           }
          ],
          "heatmapgl": [
           {
            "colorbar": {
             "outlinewidth": 0,
             "ticks": ""
            },
            "colorscale": [
             [
              0,
              "#0d0887"
             ],
             [
              0.1111111111111111,
              "#46039f"
             ],
             [
              0.2222222222222222,
              "#7201a8"
             ],
             [
              0.3333333333333333,
              "#9c179e"
             ],
             [
              0.4444444444444444,
              "#bd3786"
             ],
             [
              0.5555555555555556,
              "#d8576b"
             ],
             [
              0.6666666666666666,
              "#ed7953"
             ],
             [
              0.7777777777777778,
              "#fb9f3a"
             ],
             [
              0.8888888888888888,
              "#fdca26"
             ],
             [
              1,
              "#f0f921"
             ]
            ],
            "type": "heatmapgl"
           }
          ],
          "histogram": [
           {
            "marker": {
             "pattern": {
              "fillmode": "overlay",
              "size": 10,
              "solidity": 0.2
             }
            },
            "type": "histogram"
           }
          ],
          "histogram2d": [
           {
            "colorbar": {
             "outlinewidth": 0,
             "ticks": ""
            },
            "colorscale": [
             [
              0,
              "#0d0887"
             ],
             [
              0.1111111111111111,
              "#46039f"
             ],
             [
              0.2222222222222222,
              "#7201a8"
             ],
             [
              0.3333333333333333,
              "#9c179e"
             ],
             [
              0.4444444444444444,
              "#bd3786"
             ],
             [
              0.5555555555555556,
              "#d8576b"
             ],
             [
              0.6666666666666666,
              "#ed7953"
             ],
             [
              0.7777777777777778,
              "#fb9f3a"
             ],
             [
              0.8888888888888888,
              "#fdca26"
             ],
             [
              1,
              "#f0f921"
             ]
            ],
            "type": "histogram2d"
           }
          ],
          "histogram2dcontour": [
           {
            "colorbar": {
             "outlinewidth": 0,
             "ticks": ""
            },
            "colorscale": [
             [
              0,
              "#0d0887"
             ],
             [
              0.1111111111111111,
              "#46039f"
             ],
             [
              0.2222222222222222,
              "#7201a8"
             ],
             [
              0.3333333333333333,
              "#9c179e"
             ],
             [
              0.4444444444444444,
              "#bd3786"
             ],
             [
              0.5555555555555556,
              "#d8576b"
             ],
             [
              0.6666666666666666,
              "#ed7953"
             ],
             [
              0.7777777777777778,
              "#fb9f3a"
             ],
             [
              0.8888888888888888,
              "#fdca26"
             ],
             [
              1,
              "#f0f921"
             ]
            ],
            "type": "histogram2dcontour"
           }
          ],
          "mesh3d": [
           {
            "colorbar": {
             "outlinewidth": 0,
             "ticks": ""
            },
            "type": "mesh3d"
           }
          ],
          "parcoords": [
           {
            "line": {
             "colorbar": {
              "outlinewidth": 0,
              "ticks": ""
             }
            },
            "type": "parcoords"
           }
          ],
          "pie": [
           {
            "automargin": true,
            "type": "pie"
           }
          ],
          "scatter": [
           {
            "fillpattern": {
             "fillmode": "overlay",
             "size": 10,
             "solidity": 0.2
            },
            "type": "scatter"
           }
          ],
          "scatter3d": [
           {
            "line": {
             "colorbar": {
              "outlinewidth": 0,
              "ticks": ""
             }
            },
            "marker": {
             "colorbar": {
              "outlinewidth": 0,
              "ticks": ""
             }
            },
            "type": "scatter3d"
           }
          ],
          "scattercarpet": [
           {
            "marker": {
             "colorbar": {
              "outlinewidth": 0,
              "ticks": ""
             }
            },
            "type": "scattercarpet"
           }
          ],
          "scattergeo": [
           {
            "marker": {
             "colorbar": {
              "outlinewidth": 0,
              "ticks": ""
             }
            },
            "type": "scattergeo"
           }
          ],
          "scattergl": [
           {
            "marker": {
             "colorbar": {
              "outlinewidth": 0,
              "ticks": ""
             }
            },
            "type": "scattergl"
           }
          ],
          "scattermapbox": [
           {
            "marker": {
             "colorbar": {
              "outlinewidth": 0,
              "ticks": ""
             }
            },
            "type": "scattermapbox"
           }
          ],
          "scatterpolar": [
           {
            "marker": {
             "colorbar": {
              "outlinewidth": 0,
              "ticks": ""
             }
            },
            "type": "scatterpolar"
           }
          ],
          "scatterpolargl": [
           {
            "marker": {
             "colorbar": {
              "outlinewidth": 0,
              "ticks": ""
             }
            },
            "type": "scatterpolargl"
           }
          ],
          "scatterternary": [
           {
            "marker": {
             "colorbar": {
              "outlinewidth": 0,
              "ticks": ""
             }
            },
            "type": "scatterternary"
           }
          ],
          "surface": [
           {
            "colorbar": {
             "outlinewidth": 0,
             "ticks": ""
            },
            "colorscale": [
             [
              0,
              "#0d0887"
             ],
             [
              0.1111111111111111,
              "#46039f"
             ],
             [
              0.2222222222222222,
              "#7201a8"
             ],
             [
              0.3333333333333333,
              "#9c179e"
             ],
             [
              0.4444444444444444,
              "#bd3786"
             ],
             [
              0.5555555555555556,
              "#d8576b"
             ],
             [
              0.6666666666666666,
              "#ed7953"
             ],
             [
              0.7777777777777778,
              "#fb9f3a"
             ],
             [
              0.8888888888888888,
              "#fdca26"
             ],
             [
              1,
              "#f0f921"
             ]
            ],
            "type": "surface"
           }
          ],
          "table": [
           {
            "cells": {
             "fill": {
              "color": "#EBF0F8"
             },
             "line": {
              "color": "white"
             }
            },
            "header": {
             "fill": {
              "color": "#C8D4E3"
             },
             "line": {
              "color": "white"
             }
            },
            "type": "table"
           }
          ]
         },
         "layout": {
          "annotationdefaults": {
           "arrowcolor": "#2a3f5f",
           "arrowhead": 0,
           "arrowwidth": 1
          },
          "autotypenumbers": "strict",
          "coloraxis": {
           "colorbar": {
            "outlinewidth": 0,
            "ticks": ""
           }
          },
          "colorscale": {
           "diverging": [
            [
             0,
             "#8e0152"
            ],
            [
             0.1,
             "#c51b7d"
            ],
            [
             0.2,
             "#de77ae"
            ],
            [
             0.3,
             "#f1b6da"
            ],
            [
             0.4,
             "#fde0ef"
            ],
            [
             0.5,
             "#f7f7f7"
            ],
            [
             0.6,
             "#e6f5d0"
            ],
            [
             0.7,
             "#b8e186"
            ],
            [
             0.8,
             "#7fbc41"
            ],
            [
             0.9,
             "#4d9221"
            ],
            [
             1,
             "#276419"
            ]
           ],
           "sequential": [
            [
             0,
             "#0d0887"
            ],
            [
             0.1111111111111111,
             "#46039f"
            ],
            [
             0.2222222222222222,
             "#7201a8"
            ],
            [
             0.3333333333333333,
             "#9c179e"
            ],
            [
             0.4444444444444444,
             "#bd3786"
            ],
            [
             0.5555555555555556,
             "#d8576b"
            ],
            [
             0.6666666666666666,
             "#ed7953"
            ],
            [
             0.7777777777777778,
             "#fb9f3a"
            ],
            [
             0.8888888888888888,
             "#fdca26"
            ],
            [
             1,
             "#f0f921"
            ]
           ],
           "sequentialminus": [
            [
             0,
             "#0d0887"
            ],
            [
             0.1111111111111111,
             "#46039f"
            ],
            [
             0.2222222222222222,
             "#7201a8"
            ],
            [
             0.3333333333333333,
             "#9c179e"
            ],
            [
             0.4444444444444444,
             "#bd3786"
            ],
            [
             0.5555555555555556,
             "#d8576b"
            ],
            [
             0.6666666666666666,
             "#ed7953"
            ],
            [
             0.7777777777777778,
             "#fb9f3a"
            ],
            [
             0.8888888888888888,
             "#fdca26"
            ],
            [
             1,
             "#f0f921"
            ]
           ]
          },
          "colorway": [
           "#636efa",
           "#EF553B",
           "#00cc96",
           "#ab63fa",
           "#FFA15A",
           "#19d3f3",
           "#FF6692",
           "#B6E880",
           "#FF97FF",
           "#FECB52"
          ],
          "font": {
           "color": "#2a3f5f"
          },
          "geo": {
           "bgcolor": "white",
           "lakecolor": "white",
           "landcolor": "white",
           "showlakes": true,
           "showland": true,
           "subunitcolor": "#C8D4E3"
          },
          "hoverlabel": {
           "align": "left"
          },
          "hovermode": "closest",
          "mapbox": {
           "style": "light"
          },
          "paper_bgcolor": "white",
          "plot_bgcolor": "white",
          "polar": {
           "angularaxis": {
            "gridcolor": "#EBF0F8",
            "linecolor": "#EBF0F8",
            "ticks": ""
           },
           "bgcolor": "white",
           "radialaxis": {
            "gridcolor": "#EBF0F8",
            "linecolor": "#EBF0F8",
            "ticks": ""
           }
          },
          "scene": {
           "xaxis": {
            "backgroundcolor": "white",
            "gridcolor": "#DFE8F3",
            "gridwidth": 2,
            "linecolor": "#EBF0F8",
            "showbackground": true,
            "ticks": "",
            "zerolinecolor": "#EBF0F8"
           },
           "yaxis": {
            "backgroundcolor": "white",
            "gridcolor": "#DFE8F3",
            "gridwidth": 2,
            "linecolor": "#EBF0F8",
            "showbackground": true,
            "ticks": "",
            "zerolinecolor": "#EBF0F8"
           },
           "zaxis": {
            "backgroundcolor": "white",
            "gridcolor": "#DFE8F3",
            "gridwidth": 2,
            "linecolor": "#EBF0F8",
            "showbackground": true,
            "ticks": "",
            "zerolinecolor": "#EBF0F8"
           }
          },
          "shapedefaults": {
           "line": {
            "color": "#2a3f5f"
           }
          },
          "ternary": {
           "aaxis": {
            "gridcolor": "#DFE8F3",
            "linecolor": "#A2B1C6",
            "ticks": ""
           },
           "baxis": {
            "gridcolor": "#DFE8F3",
            "linecolor": "#A2B1C6",
            "ticks": ""
           },
           "bgcolor": "white",
           "caxis": {
            "gridcolor": "#DFE8F3",
            "linecolor": "#A2B1C6",
            "ticks": ""
           }
          },
          "title": {
           "x": 0.05
          },
          "xaxis": {
           "automargin": true,
           "gridcolor": "#EBF0F8",
           "linecolor": "#EBF0F8",
           "ticks": "",
           "title": {
            "standoff": 15
           },
           "zerolinecolor": "#EBF0F8",
           "zerolinewidth": 2
          },
          "yaxis": {
           "automargin": true,
           "gridcolor": "#EBF0F8",
           "linecolor": "#EBF0F8",
           "ticks": "",
           "title": {
            "standoff": 15
           },
           "zerolinecolor": "#EBF0F8",
           "zerolinewidth": 2
          }
         }
        },
        "title": {
         "text": "Returns Data and Fitted Gaussian Distribution - AKA Empirical Distribution"
        },
        "xaxis": {
         "title": {
          "text": "Returns"
         }
        },
        "yaxis": {
         "title": {
          "text": "Probability Density"
         }
        }
       }
      }
     },
     "metadata": {},
     "output_type": "display_data"
    },
    {
     "name": "stdout",
     "output_type": "stream",
     "text": [
      "Excess Kurtosis: 2.45132378581814\n",
      "Skewness: 0.03204291838811766\n"
     ]
    }
   ],
   "source": [
    "import plotly.graph_objects as go\n",
    "returns = price_data['returns'].dropna()\n",
    "# Create the histogram of returns\n",
    "hist_data = go.Histogram(x=returns, histnorm='probability density', name='Distribution of returns')\n",
    "\n",
    "# Generate points for the Gaussian fit\n",
    "x = np.linspace(min(returns), max(returns), 1000)\n",
    "pdf = norm.pdf(x, mean_returns_closed_form, std_returns_closed_form)\n",
    "\n",
    "# Create the line trace for the Gaussian fit\n",
    "gaussian_fit = go.Scatter(x=x, y=pdf, mode='lines', name='Fitted Gaussian PDF', line=dict(color='red', width=2))\n",
    "\n",
    "# Combine traces in one plot\n",
    "fig_gauss = go.Figure(data=[hist_data, gaussian_fit])\n",
    "\n",
    "# Update layout for a cleaner look\n",
    "fig_gauss.update_layout(\n",
    "    title='Returns Data and Fitted Gaussian Distribution - AKA Empirical Distribution',\n",
    "    xaxis_title='Returns',\n",
    "    yaxis_title='Probability Density',\n",
    "    bargap=0.2,  # Space between bars\n",
    "    template='plotly_white'  # Cleaner template\n",
    ")\n",
    "\n",
    "# Show plot\n",
    "fig_gauss.show()\n",
    "\n",
    "# Compute the excess kurtosis (normal distribution has excess kurtosis of 3)\n",
    "excess_kurtosis = returns.kurtosis()\n",
    "print(\"Excess Kurtosis:\", excess_kurtosis)\n",
    "\n",
    "# Compute the skewness (normal distribution has skewness of 0)\n",
    "skewness = returns.skew()\n",
    "print(\"Skewness:\", skewness)"
   ]
  },
  {
   "cell_type": "code",
   "execution_count": 248,
   "metadata": {},
   "outputs": [
    {
     "name": "stdout",
     "output_type": "stream",
     "text": [
      "Shapiro Test Statistic: 1.7292255733991624e-06\n",
      "Shapiro Test: The data is not normally distributed\n"
     ]
    }
   ],
   "source": [
    "# Compute the Saphiro Test\n",
    "# H0: The data is normally distributed\n",
    "# H1: The data is not normally distributed\n",
    "from scipy.stats import shapiro\n",
    "shapiro_test = shapiro(returns)\n",
    "print(\"Shapiro Test Statistic:\", shapiro_test.pvalue)\n",
    "if shapiro_test.pvalue < 0.05:\n",
    "    print(\"Shapiro Test: The data is not normally distributed\")"
   ]
  },
  {
   "cell_type": "code",
   "execution_count": 249,
   "metadata": {},
   "outputs": [
    {
     "data": {
      "application/vnd.plotly.v1+json": {
       "config": {
        "plotlyServerURL": "https://plot.ly"
       },
       "data": [
        {
         "hovertemplate": "time=%{x}<br>returns=%{y}<extra></extra>",
         "legendgroup": "",
         "line": {
          "color": "#636efa",
          "dash": "solid"
         },
         "marker": {
          "symbol": "circle"
         },
         "mode": "lines",
         "name": "",
         "orientation": "v",
         "showlegend": false,
         "type": "scatter",
         "x": [
          "1970-01-01T09:30:00",
          "1970-01-01T09:31:00",
          "1970-01-01T09:32:00",
          "1970-01-01T09:33:00",
          "1970-01-01T09:34:00",
          "1970-01-01T09:35:00",
          "1970-01-01T09:36:00",
          "1970-01-01T09:37:00",
          "1970-01-01T09:38:00",
          "1970-01-01T09:39:00",
          "1970-01-01T09:40:00",
          "1970-01-01T09:41:00",
          "1970-01-01T09:42:00",
          "1970-01-01T09:43:00",
          "1970-01-01T09:44:00",
          "1970-01-01T09:45:00",
          "1970-01-01T09:46:00",
          "1970-01-01T09:47:00",
          "1970-01-01T09:48:00",
          "1970-01-01T09:49:00",
          "1970-01-01T09:50:00",
          "1970-01-01T09:51:00",
          "1970-01-01T09:52:00",
          "1970-01-01T09:53:00",
          "1970-01-01T09:54:00",
          "1970-01-01T09:55:00",
          "1970-01-01T09:56:00",
          "1970-01-01T09:57:00",
          "1970-01-01T09:58:00",
          "1970-01-01T09:59:00",
          "1970-01-01T10:00:00",
          "1970-01-01T10:01:00",
          "1970-01-01T10:02:00",
          "1970-01-01T10:03:00",
          "1970-01-01T10:04:00",
          "1970-01-01T10:05:00",
          "1970-01-01T10:06:00",
          "1970-01-01T10:07:00",
          "1970-01-01T10:08:00",
          "1970-01-01T10:09:00",
          "1970-01-01T10:10:00",
          "1970-01-01T10:11:00",
          "1970-01-01T10:12:00",
          "1970-01-01T10:13:00",
          "1970-01-01T10:14:00",
          "1970-01-01T10:15:00",
          "1970-01-01T10:16:00",
          "1970-01-01T10:17:00",
          "1970-01-01T10:18:00",
          "1970-01-01T10:19:00",
          "1970-01-01T10:20:00",
          "1970-01-01T10:21:00",
          "1970-01-01T10:22:00",
          "1970-01-01T10:23:00",
          "1970-01-01T10:24:00",
          "1970-01-01T10:25:00",
          "1970-01-01T10:26:00",
          "1970-01-01T10:27:00",
          "1970-01-01T10:28:00",
          "1970-01-01T10:29:00",
          "1970-01-01T10:30:00",
          "1970-01-01T10:31:00",
          "1970-01-01T10:32:00",
          "1970-01-01T10:33:00",
          "1970-01-01T10:34:00",
          "1970-01-01T10:35:00",
          "1970-01-01T10:36:00",
          "1970-01-01T10:37:00",
          "1970-01-01T10:38:00",
          "1970-01-01T10:39:00",
          "1970-01-01T10:40:00",
          "1970-01-01T10:41:00",
          "1970-01-01T10:42:00",
          "1970-01-01T10:43:00",
          "1970-01-01T10:44:00",
          "1970-01-01T10:45:00",
          "1970-01-01T10:46:00",
          "1970-01-01T10:47:00",
          "1970-01-01T10:48:00",
          "1970-01-01T10:49:00",
          "1970-01-01T10:50:00",
          "1970-01-01T10:51:00",
          "1970-01-01T10:52:00",
          "1970-01-01T10:53:00",
          "1970-01-01T10:54:00",
          "1970-01-01T10:55:00",
          "1970-01-01T10:56:00",
          "1970-01-01T10:57:00",
          "1970-01-01T10:58:00",
          "1970-01-01T10:59:00",
          "1970-01-01T11:00:00",
          "1970-01-01T11:01:00",
          "1970-01-01T11:02:00",
          "1970-01-01T11:03:00",
          "1970-01-01T11:04:00",
          "1970-01-01T11:05:00",
          "1970-01-01T11:06:00",
          "1970-01-01T11:07:00",
          "1970-01-01T11:08:00",
          "1970-01-01T11:09:00",
          "1970-01-01T11:10:00",
          "1970-01-01T11:11:00",
          "1970-01-01T11:12:00",
          "1970-01-01T11:13:00",
          "1970-01-01T11:14:00",
          "1970-01-01T11:15:00",
          "1970-01-01T11:16:00",
          "1970-01-01T11:17:00",
          "1970-01-01T11:18:00",
          "1970-01-01T11:19:00",
          "1970-01-01T11:20:00",
          "1970-01-01T11:21:00",
          "1970-01-01T11:22:00",
          "1970-01-01T11:23:00",
          "1970-01-01T11:24:00",
          "1970-01-01T11:25:00",
          "1970-01-01T11:26:00",
          "1970-01-01T11:27:00",
          "1970-01-01T11:28:00",
          "1970-01-01T11:29:00",
          "1970-01-01T11:30:00",
          "1970-01-01T11:31:00",
          "1970-01-01T11:32:00",
          "1970-01-01T11:33:00",
          "1970-01-01T11:34:00",
          "1970-01-01T11:35:00",
          "1970-01-01T11:36:00",
          "1970-01-01T11:37:00",
          "1970-01-01T11:38:00",
          "1970-01-01T11:39:00",
          "1970-01-01T11:40:00",
          "1970-01-01T11:41:00",
          "1970-01-01T11:42:00",
          "1970-01-01T11:43:00",
          "1970-01-01T11:44:00",
          "1970-01-01T11:45:00",
          "1970-01-01T11:46:00",
          "1970-01-01T11:47:00",
          "1970-01-01T11:48:00",
          "1970-01-01T11:49:00",
          "1970-01-01T11:50:00",
          "1970-01-01T11:51:00",
          "1970-01-01T11:52:00",
          "1970-01-01T11:53:00",
          "1970-01-01T11:54:00",
          "1970-01-01T11:55:00",
          "1970-01-01T11:56:00",
          "1970-01-01T11:57:00",
          "1970-01-01T11:58:00",
          "1970-01-01T11:59:00",
          "1970-01-01T12:00:00",
          "1970-01-01T12:01:00",
          "1970-01-01T12:02:00",
          "1970-01-01T12:03:00",
          "1970-01-01T12:04:00",
          "1970-01-01T12:05:00",
          "1970-01-01T12:06:00",
          "1970-01-01T12:07:00",
          "1970-01-01T12:08:00",
          "1970-01-01T12:09:00",
          "1970-01-01T12:10:00",
          "1970-01-01T12:11:00",
          "1970-01-01T12:12:00",
          "1970-01-01T12:13:00",
          "1970-01-01T12:14:00",
          "1970-01-01T12:15:00",
          "1970-01-01T12:16:00",
          "1970-01-01T12:17:00",
          "1970-01-01T12:18:00",
          "1970-01-01T12:19:00",
          "1970-01-01T12:20:00",
          "1970-01-01T12:21:00",
          "1970-01-01T12:22:00",
          "1970-01-01T12:23:00",
          "1970-01-01T12:24:00",
          "1970-01-01T12:25:00",
          "1970-01-01T12:26:00",
          "1970-01-01T12:27:00",
          "1970-01-01T12:28:00",
          "1970-01-01T12:29:00",
          "1970-01-01T12:30:00",
          "1970-01-01T12:31:00",
          "1970-01-01T12:32:00",
          "1970-01-01T12:33:00",
          "1970-01-01T12:34:00",
          "1970-01-01T12:35:00",
          "1970-01-01T12:36:00",
          "1970-01-01T12:37:00",
          "1970-01-01T12:38:00",
          "1970-01-01T12:39:00",
          "1970-01-01T12:40:00",
          "1970-01-01T12:41:00",
          "1970-01-01T12:42:00",
          "1970-01-01T12:43:00",
          "1970-01-01T12:44:00",
          "1970-01-01T12:45:00",
          "1970-01-01T12:46:00",
          "1970-01-01T12:47:00",
          "1970-01-01T12:48:00",
          "1970-01-01T12:49:00",
          "1970-01-01T12:50:00",
          "1970-01-01T12:51:00",
          "1970-01-01T12:52:00",
          "1970-01-01T12:53:00",
          "1970-01-01T12:54:00",
          "1970-01-01T12:55:00",
          "1970-01-01T12:56:00",
          "1970-01-01T12:57:00",
          "1970-01-01T12:58:00",
          "1970-01-01T12:59:00",
          "1970-01-01T13:00:00",
          "1970-01-01T13:01:00",
          "1970-01-01T13:02:00",
          "1970-01-01T13:03:00",
          "1970-01-01T13:04:00",
          "1970-01-01T13:05:00",
          "1970-01-01T13:06:00",
          "1970-01-01T13:07:00",
          "1970-01-01T13:08:00",
          "1970-01-01T13:09:00",
          "1970-01-01T13:10:00",
          "1970-01-01T13:11:00",
          "1970-01-01T13:12:00",
          "1970-01-01T13:13:00",
          "1970-01-01T13:14:00",
          "1970-01-01T13:15:00",
          "1970-01-01T13:16:00",
          "1970-01-01T13:17:00",
          "1970-01-01T13:18:00",
          "1970-01-01T13:19:00",
          "1970-01-01T13:20:00",
          "1970-01-01T13:21:00",
          "1970-01-01T13:22:00",
          "1970-01-01T13:23:00",
          "1970-01-01T13:24:00",
          "1970-01-01T13:25:00",
          "1970-01-01T13:26:00",
          "1970-01-01T13:27:00",
          "1970-01-01T13:28:00",
          "1970-01-01T13:29:00",
          "1970-01-01T13:30:00",
          "1970-01-01T13:31:00",
          "1970-01-01T13:32:00",
          "1970-01-01T13:33:00",
          "1970-01-01T13:34:00",
          "1970-01-01T13:35:00",
          "1970-01-01T13:36:00",
          "1970-01-01T13:37:00",
          "1970-01-01T13:38:00",
          "1970-01-01T13:39:00",
          "1970-01-01T13:40:00",
          "1970-01-01T13:41:00",
          "1970-01-01T13:42:00",
          "1970-01-01T13:43:00",
          "1970-01-01T13:44:00",
          "1970-01-01T13:45:00",
          "1970-01-01T13:46:00",
          "1970-01-01T13:47:00",
          "1970-01-01T13:48:00",
          "1970-01-01T13:49:00",
          "1970-01-01T13:50:00",
          "1970-01-01T13:51:00",
          "1970-01-01T13:52:00",
          "1970-01-01T13:53:00",
          "1970-01-01T13:54:00",
          "1970-01-01T13:55:00",
          "1970-01-01T13:56:00",
          "1970-01-01T13:57:00",
          "1970-01-01T13:58:00",
          "1970-01-01T13:59:00",
          "1970-01-01T14:00:00",
          "1970-01-01T14:01:00",
          "1970-01-01T14:02:00",
          "1970-01-01T14:03:00",
          "1970-01-01T14:04:00",
          "1970-01-01T14:05:00",
          "1970-01-01T14:06:00",
          "1970-01-01T14:07:00",
          "1970-01-01T14:08:00",
          "1970-01-01T14:09:00",
          "1970-01-01T14:10:00",
          "1970-01-01T14:11:00",
          "1970-01-01T14:12:00",
          "1970-01-01T14:13:00",
          "1970-01-01T14:14:00",
          "1970-01-01T14:15:00",
          "1970-01-01T14:16:00",
          "1970-01-01T14:17:00",
          "1970-01-01T14:18:00",
          "1970-01-01T14:19:00",
          "1970-01-01T14:20:00",
          "1970-01-01T14:21:00",
          "1970-01-01T14:22:00",
          "1970-01-01T14:23:00",
          "1970-01-01T14:24:00",
          "1970-01-01T14:25:00",
          "1970-01-01T14:26:00",
          "1970-01-01T14:27:00",
          "1970-01-01T14:28:00",
          "1970-01-01T14:29:00",
          "1970-01-01T14:30:00",
          "1970-01-01T14:31:00",
          "1970-01-01T14:32:00",
          "1970-01-01T14:33:00",
          "1970-01-01T14:34:00",
          "1970-01-01T14:35:00",
          "1970-01-01T14:36:00",
          "1970-01-01T14:37:00",
          "1970-01-01T14:38:00",
          "1970-01-01T14:39:00",
          "1970-01-01T14:40:00",
          "1970-01-01T14:41:00",
          "1970-01-01T14:42:00",
          "1970-01-01T14:43:00",
          "1970-01-01T14:44:00",
          "1970-01-01T14:45:00",
          "1970-01-01T14:46:00",
          "1970-01-01T14:47:00",
          "1970-01-01T14:48:00",
          "1970-01-01T14:49:00",
          "1970-01-01T14:50:00",
          "1970-01-01T14:51:00",
          "1970-01-01T14:52:00",
          "1970-01-01T14:53:00",
          "1970-01-01T14:54:00",
          "1970-01-01T14:55:00",
          "1970-01-01T14:56:00",
          "1970-01-01T14:57:00",
          "1970-01-01T14:58:00",
          "1970-01-01T14:59:00",
          "1970-01-01T15:00:00",
          "1970-01-01T15:01:00",
          "1970-01-01T15:02:00",
          "1970-01-01T15:03:00",
          "1970-01-01T15:04:00",
          "1970-01-01T15:05:00",
          "1970-01-01T15:06:00",
          "1970-01-01T15:07:00",
          "1970-01-01T15:08:00",
          "1970-01-01T15:09:00",
          "1970-01-01T15:10:00",
          "1970-01-01T15:11:00",
          "1970-01-01T15:12:00",
          "1970-01-01T15:13:00",
          "1970-01-01T15:14:00",
          "1970-01-01T15:15:00",
          "1970-01-01T15:16:00",
          "1970-01-01T15:17:00",
          "1970-01-01T15:18:00",
          "1970-01-01T15:19:00",
          "1970-01-01T15:20:00",
          "1970-01-01T15:21:00",
          "1970-01-01T15:22:00",
          "1970-01-01T15:23:00",
          "1970-01-01T15:24:00",
          "1970-01-01T15:25:00",
          "1970-01-01T15:26:00",
          "1970-01-01T15:27:00",
          "1970-01-01T15:28:00",
          "1970-01-01T15:29:00",
          "1970-01-01T15:30:00",
          "1970-01-01T15:31:00",
          "1970-01-01T15:32:00",
          "1970-01-01T15:33:00",
          "1970-01-01T15:34:00",
          "1970-01-01T15:35:00",
          "1970-01-01T15:36:00",
          "1970-01-01T15:37:00",
          "1970-01-01T15:38:00",
          "1970-01-01T15:39:00",
          "1970-01-01T15:40:00",
          "1970-01-01T15:41:00",
          "1970-01-01T15:42:00",
          "1970-01-01T15:43:00",
          "1970-01-01T15:44:00",
          "1970-01-01T15:45:00",
          "1970-01-01T15:46:00",
          "1970-01-01T15:47:00",
          "1970-01-01T15:48:00",
          "1970-01-01T15:49:00",
          "1970-01-01T15:50:00",
          "1970-01-01T15:51:00",
          "1970-01-01T15:52:00",
          "1970-01-01T15:53:00",
          "1970-01-01T15:54:00",
          "1970-01-01T15:55:00",
          "1970-01-01T15:56:00",
          "1970-01-01T15:57:00",
          "1970-01-01T15:58:00",
          "1970-01-01T15:59:00"
         ],
         "xaxis": "x",
         "y": [
          null,
          -0.0007429420505199663,
          0.0006922189462888906,
          0.002365580378492845,
          0.0007412266875685983,
          -0.0011493274306146,
          0.0014489665459194933,
          -0.0007830120430657243,
          -0.001865369709462326,
          0.0005034817039870166,
          -0.00043499398684782107,
          0.0005631783739503161,
          0.00011939483873177101,
          0.00011085340064114346,
          0.000520100609626233,
          -0.0004857430163788594,
          -0.000434823384972155,
          0.00014500417953210168,
          0.0005458189416230439,
          -0.0013552791960382764,
          0.0008962103106863964,
          0.0004860785400587868,
          0.0010398731695675384,
          -0.00060454344198089,
          -0.0012779770475322262,
          -0.0004009452069986498,
          0.00011094422065961386,
          -0.00006826579286464994,
          0.000017067613350271642,
          0.00017067322051837337,
          -0.0004863356740014644,
          0.00048657231147451583,
          -0.0009897357576171958,
          -0.0005722240726979472,
          -0.0009485558024270443,
          0.0003678074399747356,
          -0.0003249196251452577,
          0.00029936534546753083,
          0.000632754448520303,
          -0.00006836262956848417,
          -0.00014528051959156754,
          0.0010769414861792432,
          0.0008708718964516084,
          -0.0005374234384862418,
          0.0004950368290329944,
          -0.00009383984098423263,
          0.0005460284958622132,
          0.00034960860889888797,
          -0.0003068661296510483,
          -0.0003325403524926651,
          0.00008529512111899441,
          -0.00027292110874195,
          -0.0004436178743878771,
          0.00012802348804248978,
          -0.00011093948677676567,
          -0.0010241704219582527,
          0.000247761602077749,
          0.0003160313298086885,
          -0.00020492853117476056,
          0.0006319924844137066,
          -0.0004950326038716283,
          0.0005379741430841368,
          -0.0004352687144210422,
          -0.00000853839717207509,
          0.00040984656369273307,
          0.0009729868134680771,
          -0.0007929808405597453,
          0.00020480262147356263,
          0.00017916560020479175,
          0.00023884467419025063,
          -0.00029848455129236057,
          0.000929843718009894,
          -0.00046022858019479913,
          0.00005968672993454611,
          0.00039220367307269105,
          0.0010483073671291876,
          -0.00034906985654067896,
          0.00004258435961636135,
          0.00029807782386147817,
          -0.0006385478570333918,
          0.0001959464640182811,
          0.000638830684315429,
          0.0007661074082587153,
          0.0004678183503873999,
          -0.00013602897417156813,
          -0.000629219597639584,
          0,
          -0.00029779123983247885,
          0.0003234125126597971,
          0.0002382269111330243,
          -0.0007825591385045232,
          -0.00017876752560209446,
          -0.0007492550021286582,
          0.0002556193657233022,
          -0.00035777565762579454,
          0.00003408606731995195,
          -0.0008606438638648797,
          0.0005714139510290336,
          -0.0006563245823388867,
          -0.0005458748070248117,
          0.0005803087583953299,
          -0.00044350814946223085,
          -0.00003413114893977014,
          -0.001023969417446771,
          0.000358756651946317,
          0.00029885665980711705,
          0.00038412947724250136,
          0.0001877245227957534,
          0.0005204112101692616,
          -0.00015348408881618036,
          -0.0004264101383274489,
          -0.0001535731349394549,
          -0.000025599453878488,
          -0.00014506728562028673,
          -0.00023043441153877426,
          -0.000187804649018744,
          -0.00041837074478531523,
          0.000170835041683789,
          0.00019642674136577918,
          -0.00014515647013625305,
          -0.00012809783258475033,
          -0.00021352373956936533,
          0.00008542773667766102,
          -0.0007687839546247402,
          0.000042743079895326067,
          -0.00058982929143536,
          0.00016251261611083975,
          0.0003506281374805075,
          0.00035050524048086057,
          0.00009400504208853561,
          -0.0006067027839967498,
          0.00010260356547400132,
          0.00005984593945295368,
          -0.00046164104843808334,
          0.000051317139924688186,
          0.0007868224347023525,
          -0.000051274162949437523,
          0.00009400745222723082,
          -0.00021363321740170736,
          -0.00025641463956644944,
          0.00000854934682989442,
          -0.00017953474852314407,
          0.0007524711837738839,
          0.00003417751802880396,
          -0.0009654818865346113,
          -0.00007697110162744118,
          0.0006072632101131018,
          -0.00012821718281213698,
          0.000017097816608803502,
          -0.00009403638353157909,
          0.0002992348138331202,
          -0.0002991452991452214,
          -0.00013679305775238904,
          -0.0015647846497190462,
          0.0005395406197008391,
          -0.00023110700254216148,
          0.000008561497234628607,
          0.00035101838137726075,
          -0.0001283762966006735,
          -0.000051357111675992635,
          0.00034239832909623187,
          0.0001454694813583815,
          -0.0001882272416153553,
          -0.00028239401666974213,
          -0.00041087096083887713,
          -0.00005137998064682723,
          0.00014558409194069825,
          0.0003082508476897455,
          -0.00021399712387865506,
          0.0003167835341055068,
          -0.00011126707521644165,
          -0.00011127945695634348,
          -0.0002996318808320427,
          -0.0004881181759793931,
          -0.0006939803629261749,
          -0.00007716247845873792,
          -0.00006001989230711007,
          -0.0005659358091596555,
          0.0002230706533396173,
          -0.0004889304432111033,
          0.00023171192200746783,
          0.0008065138866247862,
          -0.00017146041407693898,
          -0.000008574490889595631,
          -0.00001714912882424013,
          -0.00006002298022666078,
          -0.00009432748788760222,
          0.000008576035127432083,
          -0.00003430384631873729,
          -0.00013722009245210748,
          -0.00006861946219490265,
          -0.00033454283434971964,
          0.0004891108479636996,
          -0.0005489086152923367,
          -0.0005492100814374481,
          0.000858612310783312,
          0.00014583887378061147,
          -0.00003431002538938759,
          0.00007720020586734047,
          -0.00003430855398038493,
          -0.00007719689496926547,
          -0.00001715618995331956,
          0.0005404292552369154,
          0.0010459802635527555,
          -0.00023124555708766076,
          -0.0002227324127060197,
          -0.00008568539749448105,
          -0.00042846370055528893,
          -0.0000943024192858112,
          0.00012003258027187384,
          0.00011144544745337016,
          0.00032572731480697155,
          0.00008568980291337537,
          0.00005140947648031258,
          0.00025703416840874816,
          0.00031692734654711153,
          0.00019694647337370867,
          0.00047086622262551114,
          -0.0002909439419480564,
          -0.00025678995437694585,
          0.0001883610024230308,
          -0.00066769960366034,
          -0.00019701732895899314,
          -0.0001456501996265124,
          0.00004284453432271748,
          -0.00003427415899779242,
          0.00005998183407305474,
          0.000008568319495489555,
          -0.00002570473824005888,
          -0.0011481744882482782,
          0.0003345543136059574,
          0.0002915651905465523,
          0.00017145894415586087,
          -0.00007714329796182736,
          -0.0003514576922086583,
          -0.0000686012211018682,
          -0.00013721185510415622,
          -0.0003773843831481187,
          -0.00018018327212825306,
          -0.00006865361675828542,
          0.0007209124692109597,
          -0.0002744354776463181,
          -0.000034313851644031204,
          -0.00006005130096868214,
          -0.00024021962937540556,
          -0.00013730134212049436,
          0.0001544852209137254,
          -0.00009439305267123755,
          0.00024887790393309786,
          -0.0003603541766765673,
          -0.00035190112436688225,
          -0.0010646609827507827,
          0.0014611715157506085,
          -0.0002918079217269412,
          -0.0007812432928974292,
          0.0007474868974996913,
          0.00022322003485665917,
          0.00015450245916419635,
          -0.00004291071995602039,
          0.000008582512272984744,
          -0.00016306633366809526,
          0.0006781232295833093,
          0.0001801384492653237,
          0.00017152952880842336,
          -0.0003515752285239687,
          -0.00006004614975504288,
          0.00040319121557864566,
          0.00016292650299684196,
          -0.000282931513426324,
          -0.000060032760735089435,
          0.0003430649421934402,
          -0.0002229157378510845,
          0.00012863390789819994,
          -0.00020578778135049011,
          0.00019725388289981922,
          -0.0003858553985457929,
          -0.00030022559809220276,
          -0.0005405683690281002,
          0.00044642473879858677,
          -0.00016304394463356064,
          0.00007724393635092619,
          -0.00031753387743202477,
          -0.000927150043782023,
          0.0003093368162368552,
          -0.00011167041764745574,
          -0.00047250453174797,
          0.00007735547418898642,
          0.00013751020583565972,
          -0.0002577961863350444,
          -0.0004985344805357995,
          -0.00048158372247013363,
          0.0006366851075911872,
          -0.00016336918857108243,
          -0.0005159869971275942,
          -0.00011185489838422083,
          0.00006023629839355275,
          -0.0011186067322917514,
          0.0002412004892925935,
          0.00033587681072038913,
          0.0005596067256119868,
          0.00018069490096201651,
          0.00043014822907974084,
          -0.000412764749890375,
          -0.00007742534905940719,
          0.00014625920572654069,
          0.00017204449070533552,
          -0.00030962681368217434,
          0.0002753090774566291,
          -0.00024082914032615152,
          0.0004473618555195069,
          0.0005331544686082869,
          0.0006188171996803013,
          -0.0010393135377030625,
          0.00016336778387306716,
          -0.00010316279949460393,
          -0.00009457565622600139,
          -0.000335345405768027,
          -0.000017202969232473884,
          -0.0000516097955391464,
          0.00007741868887142317,
          -0.00011181833820736433,
          0.00047313048938893437,
          0.0007222575708069665,
          -0.0005928548107159171,
          -0.00012036073832724368,
          -0.00020635753162000044,
          0.0006020003612002559,
          0.00021487077671488366,
          0.0004554281884269448,
          -0.00036933013819823895,
          -0.0006014572449819719,
          0.00011176642536571845,
          -0.00016333267427171214,
          -0.00006018502596548504,
          -0.00003439351338334461,
          -0.00023216420028030114,
          -0.0000946073793757008,
          0.0004214727461960013,
          -0.00030952299067983283,
          0.0000602036603824965,
          -0.00043860026316015007,
          -0.00033554737240585117,
          -0.00008606666724056186,
          0.0006713777877240919,
          -0.0004644881598527088,
          -0.00038725334113581014,
          -0.0003013137278533627,
          -0.000301404545180463,
          0.0001722830955825047,
          -0.0015588934440348172,
          -0.0003277924901014274,
          0.00031064207992121767,
          0.00006901013586364221,
          0.00037090388414003236,
          0.0003793888390701995,
          -0.00007757283227042365,
          -0.0002154968063373301,
          0.000008621730208810465,
          -0.00012932483812829333,
          -0.00007760493912316606,
          -0.000396678250821414,
          -0.0008885668193621062,
          -0.0002590360405479319,
          0.0004318385960063567,
          -0.0014244522333683235,
          -0.0000605175111742677,
          0.00013833411146278108,
          0.0005619045972441527,
          0.00009503814485532598,
          -0.0006306477529934328,
          0.00025068939583852457,
          -0.000025926886180946088,
          -0.00029384566188728266,
          -0.00025070673363703167,
          0.00019023900937361842,
          -0.000743520135562851,
          0.000017304031839402848,
          -0.00032011904967892135,
          0.00019905664459735875,
          -0.0002768932576493179,
          0.00038948899044457614,
          -0.00012112717488157455,
          -0.000328813588654295,
          0.00034623341325562497,
          0.0003028493800239762,
          -0.00012975329573359362,
          0.000051908053534458664,
          -0.00020762143691336915,
          -0.0005710775194469909,
          0.00013852214189868998
         ],
         "yaxis": "y"
        }
       ],
       "layout": {
        "legend": {
         "tracegroupgap": 0
        },
        "template": {
         "data": {
          "bar": [
           {
            "error_x": {
             "color": "#2a3f5f"
            },
            "error_y": {
             "color": "#2a3f5f"
            },
            "marker": {
             "line": {
              "color": "#E5ECF6",
              "width": 0.5
             },
             "pattern": {
              "fillmode": "overlay",
              "size": 10,
              "solidity": 0.2
             }
            },
            "type": "bar"
           }
          ],
          "barpolar": [
           {
            "marker": {
             "line": {
              "color": "#E5ECF6",
              "width": 0.5
             },
             "pattern": {
              "fillmode": "overlay",
              "size": 10,
              "solidity": 0.2
             }
            },
            "type": "barpolar"
           }
          ],
          "carpet": [
           {
            "aaxis": {
             "endlinecolor": "#2a3f5f",
             "gridcolor": "white",
             "linecolor": "white",
             "minorgridcolor": "white",
             "startlinecolor": "#2a3f5f"
            },
            "baxis": {
             "endlinecolor": "#2a3f5f",
             "gridcolor": "white",
             "linecolor": "white",
             "minorgridcolor": "white",
             "startlinecolor": "#2a3f5f"
            },
            "type": "carpet"
           }
          ],
          "choropleth": [
           {
            "colorbar": {
             "outlinewidth": 0,
             "ticks": ""
            },
            "type": "choropleth"
           }
          ],
          "contour": [
           {
            "colorbar": {
             "outlinewidth": 0,
             "ticks": ""
            },
            "colorscale": [
             [
              0,
              "#0d0887"
             ],
             [
              0.1111111111111111,
              "#46039f"
             ],
             [
              0.2222222222222222,
              "#7201a8"
             ],
             [
              0.3333333333333333,
              "#9c179e"
             ],
             [
              0.4444444444444444,
              "#bd3786"
             ],
             [
              0.5555555555555556,
              "#d8576b"
             ],
             [
              0.6666666666666666,
              "#ed7953"
             ],
             [
              0.7777777777777778,
              "#fb9f3a"
             ],
             [
              0.8888888888888888,
              "#fdca26"
             ],
             [
              1,
              "#f0f921"
             ]
            ],
            "type": "contour"
           }
          ],
          "contourcarpet": [
           {
            "colorbar": {
             "outlinewidth": 0,
             "ticks": ""
            },
            "type": "contourcarpet"
           }
          ],
          "heatmap": [
           {
            "colorbar": {
             "outlinewidth": 0,
             "ticks": ""
            },
            "colorscale": [
             [
              0,
              "#0d0887"
             ],
             [
              0.1111111111111111,
              "#46039f"
             ],
             [
              0.2222222222222222,
              "#7201a8"
             ],
             [
              0.3333333333333333,
              "#9c179e"
             ],
             [
              0.4444444444444444,
              "#bd3786"
             ],
             [
              0.5555555555555556,
              "#d8576b"
             ],
             [
              0.6666666666666666,
              "#ed7953"
             ],
             [
              0.7777777777777778,
              "#fb9f3a"
             ],
             [
              0.8888888888888888,
              "#fdca26"
             ],
             [
              1,
              "#f0f921"
             ]
            ],
            "type": "heatmap"
           }
          ],
          "heatmapgl": [
           {
            "colorbar": {
             "outlinewidth": 0,
             "ticks": ""
            },
            "colorscale": [
             [
              0,
              "#0d0887"
             ],
             [
              0.1111111111111111,
              "#46039f"
             ],
             [
              0.2222222222222222,
              "#7201a8"
             ],
             [
              0.3333333333333333,
              "#9c179e"
             ],
             [
              0.4444444444444444,
              "#bd3786"
             ],
             [
              0.5555555555555556,
              "#d8576b"
             ],
             [
              0.6666666666666666,
              "#ed7953"
             ],
             [
              0.7777777777777778,
              "#fb9f3a"
             ],
             [
              0.8888888888888888,
              "#fdca26"
             ],
             [
              1,
              "#f0f921"
             ]
            ],
            "type": "heatmapgl"
           }
          ],
          "histogram": [
           {
            "marker": {
             "pattern": {
              "fillmode": "overlay",
              "size": 10,
              "solidity": 0.2
             }
            },
            "type": "histogram"
           }
          ],
          "histogram2d": [
           {
            "colorbar": {
             "outlinewidth": 0,
             "ticks": ""
            },
            "colorscale": [
             [
              0,
              "#0d0887"
             ],
             [
              0.1111111111111111,
              "#46039f"
             ],
             [
              0.2222222222222222,
              "#7201a8"
             ],
             [
              0.3333333333333333,
              "#9c179e"
             ],
             [
              0.4444444444444444,
              "#bd3786"
             ],
             [
              0.5555555555555556,
              "#d8576b"
             ],
             [
              0.6666666666666666,
              "#ed7953"
             ],
             [
              0.7777777777777778,
              "#fb9f3a"
             ],
             [
              0.8888888888888888,
              "#fdca26"
             ],
             [
              1,
              "#f0f921"
             ]
            ],
            "type": "histogram2d"
           }
          ],
          "histogram2dcontour": [
           {
            "colorbar": {
             "outlinewidth": 0,
             "ticks": ""
            },
            "colorscale": [
             [
              0,
              "#0d0887"
             ],
             [
              0.1111111111111111,
              "#46039f"
             ],
             [
              0.2222222222222222,
              "#7201a8"
             ],
             [
              0.3333333333333333,
              "#9c179e"
             ],
             [
              0.4444444444444444,
              "#bd3786"
             ],
             [
              0.5555555555555556,
              "#d8576b"
             ],
             [
              0.6666666666666666,
              "#ed7953"
             ],
             [
              0.7777777777777778,
              "#fb9f3a"
             ],
             [
              0.8888888888888888,
              "#fdca26"
             ],
             [
              1,
              "#f0f921"
             ]
            ],
            "type": "histogram2dcontour"
           }
          ],
          "mesh3d": [
           {
            "colorbar": {
             "outlinewidth": 0,
             "ticks": ""
            },
            "type": "mesh3d"
           }
          ],
          "parcoords": [
           {
            "line": {
             "colorbar": {
              "outlinewidth": 0,
              "ticks": ""
             }
            },
            "type": "parcoords"
           }
          ],
          "pie": [
           {
            "automargin": true,
            "type": "pie"
           }
          ],
          "scatter": [
           {
            "fillpattern": {
             "fillmode": "overlay",
             "size": 10,
             "solidity": 0.2
            },
            "type": "scatter"
           }
          ],
          "scatter3d": [
           {
            "line": {
             "colorbar": {
              "outlinewidth": 0,
              "ticks": ""
             }
            },
            "marker": {
             "colorbar": {
              "outlinewidth": 0,
              "ticks": ""
             }
            },
            "type": "scatter3d"
           }
          ],
          "scattercarpet": [
           {
            "marker": {
             "colorbar": {
              "outlinewidth": 0,
              "ticks": ""
             }
            },
            "type": "scattercarpet"
           }
          ],
          "scattergeo": [
           {
            "marker": {
             "colorbar": {
              "outlinewidth": 0,
              "ticks": ""
             }
            },
            "type": "scattergeo"
           }
          ],
          "scattergl": [
           {
            "marker": {
             "colorbar": {
              "outlinewidth": 0,
              "ticks": ""
             }
            },
            "type": "scattergl"
           }
          ],
          "scattermapbox": [
           {
            "marker": {
             "colorbar": {
              "outlinewidth": 0,
              "ticks": ""
             }
            },
            "type": "scattermapbox"
           }
          ],
          "scatterpolar": [
           {
            "marker": {
             "colorbar": {
              "outlinewidth": 0,
              "ticks": ""
             }
            },
            "type": "scatterpolar"
           }
          ],
          "scatterpolargl": [
           {
            "marker": {
             "colorbar": {
              "outlinewidth": 0,
              "ticks": ""
             }
            },
            "type": "scatterpolargl"
           }
          ],
          "scatterternary": [
           {
            "marker": {
             "colorbar": {
              "outlinewidth": 0,
              "ticks": ""
             }
            },
            "type": "scatterternary"
           }
          ],
          "surface": [
           {
            "colorbar": {
             "outlinewidth": 0,
             "ticks": ""
            },
            "colorscale": [
             [
              0,
              "#0d0887"
             ],
             [
              0.1111111111111111,
              "#46039f"
             ],
             [
              0.2222222222222222,
              "#7201a8"
             ],
             [
              0.3333333333333333,
              "#9c179e"
             ],
             [
              0.4444444444444444,
              "#bd3786"
             ],
             [
              0.5555555555555556,
              "#d8576b"
             ],
             [
              0.6666666666666666,
              "#ed7953"
             ],
             [
              0.7777777777777778,
              "#fb9f3a"
             ],
             [
              0.8888888888888888,
              "#fdca26"
             ],
             [
              1,
              "#f0f921"
             ]
            ],
            "type": "surface"
           }
          ],
          "table": [
           {
            "cells": {
             "fill": {
              "color": "#EBF0F8"
             },
             "line": {
              "color": "white"
             }
            },
            "header": {
             "fill": {
              "color": "#C8D4E3"
             },
             "line": {
              "color": "white"
             }
            },
            "type": "table"
           }
          ]
         },
         "layout": {
          "annotationdefaults": {
           "arrowcolor": "#2a3f5f",
           "arrowhead": 0,
           "arrowwidth": 1
          },
          "autotypenumbers": "strict",
          "coloraxis": {
           "colorbar": {
            "outlinewidth": 0,
            "ticks": ""
           }
          },
          "colorscale": {
           "diverging": [
            [
             0,
             "#8e0152"
            ],
            [
             0.1,
             "#c51b7d"
            ],
            [
             0.2,
             "#de77ae"
            ],
            [
             0.3,
             "#f1b6da"
            ],
            [
             0.4,
             "#fde0ef"
            ],
            [
             0.5,
             "#f7f7f7"
            ],
            [
             0.6,
             "#e6f5d0"
            ],
            [
             0.7,
             "#b8e186"
            ],
            [
             0.8,
             "#7fbc41"
            ],
            [
             0.9,
             "#4d9221"
            ],
            [
             1,
             "#276419"
            ]
           ],
           "sequential": [
            [
             0,
             "#0d0887"
            ],
            [
             0.1111111111111111,
             "#46039f"
            ],
            [
             0.2222222222222222,
             "#7201a8"
            ],
            [
             0.3333333333333333,
             "#9c179e"
            ],
            [
             0.4444444444444444,
             "#bd3786"
            ],
            [
             0.5555555555555556,
             "#d8576b"
            ],
            [
             0.6666666666666666,
             "#ed7953"
            ],
            [
             0.7777777777777778,
             "#fb9f3a"
            ],
            [
             0.8888888888888888,
             "#fdca26"
            ],
            [
             1,
             "#f0f921"
            ]
           ],
           "sequentialminus": [
            [
             0,
             "#0d0887"
            ],
            [
             0.1111111111111111,
             "#46039f"
            ],
            [
             0.2222222222222222,
             "#7201a8"
            ],
            [
             0.3333333333333333,
             "#9c179e"
            ],
            [
             0.4444444444444444,
             "#bd3786"
            ],
            [
             0.5555555555555556,
             "#d8576b"
            ],
            [
             0.6666666666666666,
             "#ed7953"
            ],
            [
             0.7777777777777778,
             "#fb9f3a"
            ],
            [
             0.8888888888888888,
             "#fdca26"
            ],
            [
             1,
             "#f0f921"
            ]
           ]
          },
          "colorway": [
           "#636efa",
           "#EF553B",
           "#00cc96",
           "#ab63fa",
           "#FFA15A",
           "#19d3f3",
           "#FF6692",
           "#B6E880",
           "#FF97FF",
           "#FECB52"
          ],
          "font": {
           "color": "#2a3f5f"
          },
          "geo": {
           "bgcolor": "white",
           "lakecolor": "white",
           "landcolor": "#E5ECF6",
           "showlakes": true,
           "showland": true,
           "subunitcolor": "white"
          },
          "hoverlabel": {
           "align": "left"
          },
          "hovermode": "closest",
          "mapbox": {
           "style": "light"
          },
          "paper_bgcolor": "white",
          "plot_bgcolor": "#E5ECF6",
          "polar": {
           "angularaxis": {
            "gridcolor": "white",
            "linecolor": "white",
            "ticks": ""
           },
           "bgcolor": "#E5ECF6",
           "radialaxis": {
            "gridcolor": "white",
            "linecolor": "white",
            "ticks": ""
           }
          },
          "scene": {
           "xaxis": {
            "backgroundcolor": "#E5ECF6",
            "gridcolor": "white",
            "gridwidth": 2,
            "linecolor": "white",
            "showbackground": true,
            "ticks": "",
            "zerolinecolor": "white"
           },
           "yaxis": {
            "backgroundcolor": "#E5ECF6",
            "gridcolor": "white",
            "gridwidth": 2,
            "linecolor": "white",
            "showbackground": true,
            "ticks": "",
            "zerolinecolor": "white"
           },
           "zaxis": {
            "backgroundcolor": "#E5ECF6",
            "gridcolor": "white",
            "gridwidth": 2,
            "linecolor": "white",
            "showbackground": true,
            "ticks": "",
            "zerolinecolor": "white"
           }
          },
          "shapedefaults": {
           "line": {
            "color": "#2a3f5f"
           }
          },
          "ternary": {
           "aaxis": {
            "gridcolor": "white",
            "linecolor": "white",
            "ticks": ""
           },
           "baxis": {
            "gridcolor": "white",
            "linecolor": "white",
            "ticks": ""
           },
           "bgcolor": "#E5ECF6",
           "caxis": {
            "gridcolor": "white",
            "linecolor": "white",
            "ticks": ""
           }
          },
          "title": {
           "x": 0.05
          },
          "xaxis": {
           "automargin": true,
           "gridcolor": "white",
           "linecolor": "white",
           "ticks": "",
           "title": {
            "standoff": 15
           },
           "zerolinecolor": "white",
           "zerolinewidth": 2
          },
          "yaxis": {
           "automargin": true,
           "gridcolor": "white",
           "linecolor": "white",
           "ticks": "",
           "title": {
            "standoff": 15
           },
           "zerolinecolor": "white",
           "zerolinewidth": 2
          }
         }
        },
        "title": {
         "text": "Returns Trend"
        },
        "xaxis": {
         "anchor": "y",
         "domain": [
          0,
          1
         ],
         "title": {
          "text": "Time"
         }
        },
        "yaxis": {
         "anchor": "x",
         "domain": [
          0,
          1
         ],
         "title": {
          "text": "Returns"
         }
        }
       }
      }
     },
     "metadata": {},
     "output_type": "display_data"
    }
   ],
   "source": [
    "# Plotting the returns timeseries\n",
    "returns_time = px.line(price_data, x=price_data.index, y='returns', title='Returns Trend')\n",
    "returns_time.update_xaxes(title_text='Time')\n",
    "returns_time.update_yaxes(title_text='Returns')\n",
    "returns_time.show()"
   ]
  },
  {
   "cell_type": "markdown",
   "metadata": {},
   "source": [
    "__Comments__:\n",
    "\n",
    "After fitting the normal distribution to our return data and computed some statistics we can deduce the following. Visually speaking the distribution looks symmetric around the mean and also by plotting the retruns trend it looks like we have some stationarity around the mean as well that confirms normallity. \n",
    "\n",
    "However, some outliers in the distribution (left + right tail) shows us that our returns distribution are fat tailed. This is confirm by the excess kurtosis (measure of the tail and how sharp the peak is) of around +2 compared to Normal. Furthermore, when computing the Saphiro-Wilk Test for normallity, the test told us to reject normality assumption."
   ]
  },
  {
   "cell_type": "markdown",
   "metadata": {},
   "source": [
    "# __Step 4__: Let's Sample\n",
    "\n",
    " In order to generate simulations we start with the same initial mid-price from the lobster dataset (resampled in minutes)\n",
    "\n",
    "1. Direct Sampling from the Gaussian Distribution\n",
    "2. Inverse Transform Sampling"
   ]
  },
  {
   "cell_type": "markdown",
   "metadata": {},
   "source": [
    "### 1. **Direct Sampling**\n",
    "\n",
    "We are going to use the normal distribution build around the mean and std of the returns that we computed previously.\n",
    "\n",
    "* Fix the sample size\n",
    "\n",
    "* Generate the sample from the Gaussian Distribution\n",
    "\n",
    "* Start from the last price of the dataset\n",
    "\n",
    "* Simulate the price by iterating through the gaussian_distribution and find the new price with respect to the returns\n",
    "\n",
    "* Visualize in a graph the close price sample and our orginial\n",
    "\n",
    "_Notes_\n",
    "\n",
    "To find the new_price we are using the returns formula as follows:\n",
    "$$\n",
    "r = (P1 - P0)/P0\n",
    "$$\n",
    "$$\n",
    "P1 = P0+P0×r=P0×(1+r)\n",
    "$$\n",
    "r = return\n",
    "P1 = NewPrice$\n",
    "P0 = PrevPrice"
   ]
  },
  {
   "cell_type": "code",
   "execution_count": 250,
   "metadata": {},
   "outputs": [
    {
     "data": {
      "text/html": [
       "<div>\n",
       "<style scoped>\n",
       "    .dataframe tbody tr th:only-of-type {\n",
       "        vertical-align: middle;\n",
       "    }\n",
       "\n",
       "    .dataframe tbody tr th {\n",
       "        vertical-align: top;\n",
       "    }\n",
       "\n",
       "    .dataframe thead th {\n",
       "        text-align: right;\n",
       "    }\n",
       "</style>\n",
       "<table border=\"1\" class=\"dataframe\">\n",
       "  <thead>\n",
       "    <tr style=\"text-align: right;\">\n",
       "      <th></th>\n",
       "      <th>open_mid_price</th>\n",
       "      <th>high_mid_price</th>\n",
       "      <th>low_mid_price</th>\n",
       "      <th>close_mid_price</th>\n",
       "      <th>returns</th>\n",
       "    </tr>\n",
       "    <tr>\n",
       "      <th>time</th>\n",
       "      <th></th>\n",
       "      <th></th>\n",
       "      <th></th>\n",
       "      <th></th>\n",
       "      <th></th>\n",
       "    </tr>\n",
       "  </thead>\n",
       "  <tbody>\n",
       "    <tr>\n",
       "      <th>1970-01-01 09:30:00</th>\n",
       "      <td>585.635</td>\n",
       "      <td>585.850</td>\n",
       "      <td>585.310</td>\n",
       "      <td>585.510</td>\n",
       "      <td>NaN</td>\n",
       "    </tr>\n",
       "    <tr>\n",
       "      <th>1970-01-01 09:31:00</th>\n",
       "      <td>585.510</td>\n",
       "      <td>585.625</td>\n",
       "      <td>584.735</td>\n",
       "      <td>585.075</td>\n",
       "      <td>-0.000743</td>\n",
       "    </tr>\n",
       "    <tr>\n",
       "      <th>1970-01-01 09:32:00</th>\n",
       "      <td>585.035</td>\n",
       "      <td>585.480</td>\n",
       "      <td>584.925</td>\n",
       "      <td>585.480</td>\n",
       "      <td>0.000692</td>\n",
       "    </tr>\n",
       "    <tr>\n",
       "      <th>1970-01-01 09:33:00</th>\n",
       "      <td>585.480</td>\n",
       "      <td>587.065</td>\n",
       "      <td>585.295</td>\n",
       "      <td>586.865</td>\n",
       "      <td>0.002366</td>\n",
       "    </tr>\n",
       "    <tr>\n",
       "      <th>1970-01-01 09:34:00</th>\n",
       "      <td>586.865</td>\n",
       "      <td>587.720</td>\n",
       "      <td>586.850</td>\n",
       "      <td>587.300</td>\n",
       "      <td>0.000741</td>\n",
       "    </tr>\n",
       "  </tbody>\n",
       "</table>\n",
       "</div>"
      ],
      "text/plain": [
       "                     open_mid_price  high_mid_price  low_mid_price  \\\n",
       "time                                                                 \n",
       "1970-01-01 09:30:00         585.635         585.850        585.310   \n",
       "1970-01-01 09:31:00         585.510         585.625        584.735   \n",
       "1970-01-01 09:32:00         585.035         585.480        584.925   \n",
       "1970-01-01 09:33:00         585.480         587.065        585.295   \n",
       "1970-01-01 09:34:00         586.865         587.720        586.850   \n",
       "\n",
       "                     close_mid_price   returns  \n",
       "time                                            \n",
       "1970-01-01 09:30:00          585.510       NaN  \n",
       "1970-01-01 09:31:00          585.075 -0.000743  \n",
       "1970-01-01 09:32:00          585.480  0.000692  \n",
       "1970-01-01 09:33:00          586.865  0.002366  \n",
       "1970-01-01 09:34:00          587.300  0.000741  "
      ]
     },
     "execution_count": 250,
     "metadata": {},
     "output_type": "execute_result"
    }
   ],
   "source": [
    "price_data.head()"
   ]
  },
  {
   "cell_type": "code",
   "execution_count": 251,
   "metadata": {},
   "outputs": [
    {
     "data": {
      "text/plain": [
       "count    389.000000\n",
       "mean      -0.000035\n",
       "std        0.000479\n",
       "min       -0.001865\n",
       "25%       -0.000299\n",
       "50%       -0.000051\n",
       "75%        0.000238\n",
       "max        0.002366\n",
       "Name: returns, dtype: float64"
      ]
     },
     "execution_count": 251,
     "metadata": {},
     "output_type": "execute_result"
    }
   ],
   "source": [
    "price_data['returns'].describe()    "
   ]
  },
  {
   "cell_type": "code",
   "execution_count": 252,
   "metadata": {},
   "outputs": [
    {
     "name": "stdout",
     "output_type": "stream",
     "text": [
      "First sample return 0.00020311860201346524\n"
     ]
    }
   ],
   "source": [
    "num_samples = 390 # CLT --> 390 minutes in a trading day\n",
    "seed = 42\n",
    "np.random.seed(seed)\n",
    "\n",
    "#Generate sample directly from the gaussian distribution\n",
    "sample_gaussian_returns = np.random.normal(loc=mean_returns_closed_form, scale=std_returns_closed_form, size=num_samples)\n",
    "print(f\"First sample return {sample_gaussian_returns[0]}\")\n",
    "# Simulate Stock Price trajectory\n",
    "# Start from the last price in the lob dataset\n",
    "start_price = price_data['close_mid_price'].iloc[0] #-1\n",
    "\n",
    "# Initialize the simulated price list\n",
    "sim_prices = [start_price]\n",
    "\n",
    "for r in sample_gaussian_returns:\n",
    "    #calculate the new price based on the previous price\n",
    "    new_price = sim_prices[-1] * (1 + r)\n",
    "    #append to the list\n",
    "    sim_prices.append(new_price)"
   ]
  },
  {
   "cell_type": "code",
   "execution_count": 253,
   "metadata": {},
   "outputs": [
    {
     "data": {
      "application/vnd.plotly.v1+json": {
       "config": {
        "plotlyServerURL": "https://plot.ly"
       },
       "data": [
        {
         "mode": "lines",
         "name": "Historical Closing Prices",
         "type": "scatter",
         "x": [
          0,
          1,
          2,
          3,
          4,
          5,
          6,
          7,
          8,
          9,
          10,
          11,
          12,
          13,
          14,
          15,
          16,
          17,
          18,
          19,
          20,
          21,
          22,
          23,
          24,
          25,
          26,
          27,
          28,
          29,
          30,
          31,
          32,
          33,
          34,
          35,
          36,
          37,
          38,
          39,
          40,
          41,
          42,
          43,
          44,
          45,
          46,
          47,
          48,
          49,
          50,
          51,
          52,
          53,
          54,
          55,
          56,
          57,
          58,
          59,
          60,
          61,
          62,
          63,
          64,
          65,
          66,
          67,
          68,
          69,
          70,
          71,
          72,
          73,
          74,
          75,
          76,
          77,
          78,
          79,
          80,
          81,
          82,
          83,
          84,
          85,
          86,
          87,
          88,
          89,
          90,
          91,
          92,
          93,
          94,
          95,
          96,
          97,
          98,
          99,
          100,
          101,
          102,
          103,
          104,
          105,
          106,
          107,
          108,
          109,
          110,
          111,
          112,
          113,
          114,
          115,
          116,
          117,
          118,
          119,
          120,
          121,
          122,
          123,
          124,
          125,
          126,
          127,
          128,
          129,
          130,
          131,
          132,
          133,
          134,
          135,
          136,
          137,
          138,
          139,
          140,
          141,
          142,
          143,
          144,
          145,
          146,
          147,
          148,
          149,
          150,
          151,
          152,
          153,
          154,
          155,
          156,
          157,
          158,
          159,
          160,
          161,
          162,
          163,
          164,
          165,
          166,
          167,
          168,
          169,
          170,
          171,
          172,
          173,
          174,
          175,
          176,
          177,
          178,
          179,
          180,
          181,
          182,
          183,
          184,
          185,
          186,
          187,
          188,
          189,
          190,
          191,
          192,
          193,
          194,
          195,
          196,
          197,
          198,
          199,
          200,
          201,
          202,
          203,
          204,
          205,
          206,
          207,
          208,
          209,
          210,
          211,
          212,
          213,
          214,
          215,
          216,
          217,
          218,
          219,
          220,
          221,
          222,
          223,
          224,
          225,
          226,
          227,
          228,
          229,
          230,
          231,
          232,
          233,
          234,
          235,
          236,
          237,
          238,
          239,
          240,
          241,
          242,
          243,
          244,
          245,
          246,
          247,
          248,
          249,
          250,
          251,
          252,
          253,
          254,
          255,
          256,
          257,
          258,
          259,
          260,
          261,
          262,
          263,
          264,
          265,
          266,
          267,
          268,
          269,
          270,
          271,
          272,
          273,
          274,
          275,
          276,
          277,
          278,
          279,
          280,
          281,
          282,
          283,
          284,
          285,
          286,
          287,
          288,
          289,
          290,
          291,
          292,
          293,
          294,
          295,
          296,
          297,
          298,
          299,
          300,
          301,
          302,
          303,
          304,
          305,
          306,
          307,
          308,
          309,
          310,
          311,
          312,
          313,
          314,
          315,
          316,
          317,
          318,
          319,
          320,
          321,
          322,
          323,
          324,
          325,
          326,
          327,
          328,
          329,
          330,
          331,
          332,
          333,
          334,
          335,
          336,
          337,
          338,
          339,
          340,
          341,
          342,
          343,
          344,
          345,
          346,
          347,
          348,
          349,
          350,
          351,
          352,
          353,
          354,
          355,
          356,
          357,
          358,
          359,
          360,
          361,
          362,
          363,
          364,
          365,
          366,
          367,
          368,
          369,
          370,
          371,
          372,
          373,
          374,
          375,
          376,
          377,
          378,
          379,
          380,
          381,
          382,
          383,
          384,
          385,
          386,
          387,
          388,
          389
         ],
         "y": [
          585.51,
          585.075,
          585.48,
          586.865,
          587.3,
          586.625,
          587.475,
          587.015,
          585.92,
          586.215,
          585.96,
          586.29,
          586.36,
          586.425,
          586.73,
          586.445,
          586.19,
          586.275,
          586.595,
          585.8,
          586.325,
          586.61,
          587.22,
          586.865,
          586.115,
          585.88,
          585.945,
          585.905,
          585.915,
          586.015,
          585.73,
          586.015,
          585.435,
          585.1,
          584.545,
          584.76,
          584.57,
          584.745,
          585.115,
          585.075,
          584.99,
          585.62,
          586.13,
          585.815,
          586.105,
          586.05,
          586.37,
          586.575,
          586.395,
          586.2,
          586.25,
          586.09,
          585.83,
          585.905,
          585.84,
          585.24,
          585.385,
          585.57,
          585.45,
          585.82,
          585.53,
          585.845,
          585.59,
          585.585,
          585.825,
          586.395,
          585.93,
          586.05,
          586.155,
          586.295,
          586.12,
          586.665,
          586.395,
          586.43,
          586.66,
          587.275,
          587.07,
          587.095,
          587.27,
          586.895,
          587.01,
          587.385,
          587.835,
          588.11,
          588.03,
          587.66,
          587.66,
          587.485,
          587.675,
          587.815,
          587.355,
          587.25,
          586.81,
          586.96,
          586.75,
          586.77,
          586.265,
          586.6,
          586.215,
          585.895,
          586.235,
          585.975,
          585.955,
          585.355,
          585.565,
          585.74,
          585.965,
          586.075,
          586.38,
          586.29,
          586.04,
          585.95,
          585.935,
          585.85,
          585.715,
          585.605,
          585.36,
          585.46,
          585.575,
          585.49,
          585.415,
          585.29,
          585.34,
          584.89,
          584.915,
          584.57,
          584.665,
          584.87,
          585.075,
          585.13,
          584.775,
          584.835,
          584.87,
          584.6,
          584.63,
          585.09,
          585.06,
          585.115,
          584.99,
          584.84,
          584.845,
          584.74,
          585.18,
          585.2,
          584.635,
          584.59,
          584.945,
          584.87,
          584.88,
          584.825,
          585,
          584.825,
          584.745,
          583.83,
          584.145,
          584.01,
          584.015,
          584.22,
          584.145,
          584.115,
          584.315,
          584.4,
          584.29,
          584.125,
          583.885,
          583.855,
          583.94,
          584.12,
          583.995,
          584.18,
          584.115,
          584.05,
          583.875,
          583.59,
          583.185,
          583.14,
          583.105,
          582.775,
          582.905,
          582.62,
          582.755,
          583.225,
          583.125,
          583.12,
          583.11,
          583.075,
          583.02,
          583.025,
          583.005,
          582.925,
          582.885,
          582.69,
          582.975,
          582.655,
          582.335,
          582.835,
          582.92,
          582.9,
          582.945,
          582.925,
          582.88,
          582.87,
          583.185,
          583.795,
          583.66,
          583.53,
          583.48,
          583.23,
          583.175,
          583.245,
          583.31,
          583.5,
          583.55,
          583.58,
          583.73,
          583.915,
          584.03,
          584.305,
          584.135,
          583.985,
          584.095,
          583.705,
          583.59,
          583.505,
          583.53,
          583.51,
          583.545,
          583.55,
          583.535,
          582.865,
          583.06,
          583.23,
          583.33,
          583.285,
          583.08,
          583.04,
          582.96,
          582.74,
          582.635,
          582.595,
          583.015,
          582.855,
          582.835,
          582.8,
          582.66,
          582.58,
          582.67,
          582.615,
          582.76,
          582.55,
          582.345,
          581.725,
          582.575,
          582.405,
          581.95,
          582.385,
          582.515,
          582.605,
          582.58,
          582.585,
          582.49,
          582.885,
          582.99,
          583.09,
          582.885,
          582.85,
          583.085,
          583.18,
          583.015,
          582.98,
          583.18,
          583.05,
          583.125,
          583.005,
          583.12,
          582.895,
          582.72,
          582.405,
          582.665,
          582.57,
          582.615,
          582.43,
          581.89,
          582.07,
          582.005,
          581.73,
          581.775,
          581.855,
          581.705,
          581.415,
          581.135,
          581.505,
          581.41,
          581.11,
          581.045,
          581.08,
          580.43,
          580.57,
          580.765,
          581.09,
          581.195,
          581.445,
          581.205,
          581.16,
          581.245,
          581.345,
          581.165,
          581.325,
          581.185,
          581.445,
          581.755,
          582.115,
          581.51,
          581.605,
          581.545,
          581.49,
          581.295,
          581.285,
          581.255,
          581.3,
          581.235,
          581.51,
          581.93,
          581.585,
          581.515,
          581.395,
          581.745,
          581.87,
          582.135,
          581.92,
          581.57,
          581.635,
          581.54,
          581.505,
          581.485,
          581.35,
          581.295,
          581.54,
          581.36,
          581.395,
          581.14,
          580.945,
          580.895,
          581.285,
          581.015,
          580.79,
          580.615,
          580.44,
          580.54,
          579.635,
          579.445,
          579.625,
          579.665,
          579.88,
          580.1,
          580.055,
          579.93,
          579.935,
          579.86,
          579.815,
          579.585,
          579.07,
          578.92,
          579.17,
          578.345,
          578.31,
          578.39,
          578.715,
          578.77,
          578.405,
          578.55,
          578.535,
          578.365,
          578.22,
          578.33,
          577.9,
          577.91,
          577.725,
          577.84,
          577.68,
          577.905,
          577.835,
          577.645,
          577.845,
          578.02,
          577.945,
          577.975,
          577.855,
          577.525,
          577.605
         ]
        },
        {
         "mode": "lines",
         "name": "Simulated Stock Prices",
         "type": "scatter",
         "x": [
          0,
          1,
          2,
          3,
          4,
          5,
          6,
          7,
          8,
          9,
          10,
          11,
          12,
          13,
          14,
          15,
          16,
          17,
          18,
          19,
          20,
          21,
          22,
          23,
          24,
          25,
          26,
          27,
          28,
          29,
          30,
          31,
          32,
          33,
          34,
          35,
          36,
          37,
          38,
          39,
          40,
          41,
          42,
          43,
          44,
          45,
          46,
          47,
          48,
          49,
          50,
          51,
          52,
          53,
          54,
          55,
          56,
          57,
          58,
          59,
          60,
          61,
          62,
          63,
          64,
          65,
          66,
          67,
          68,
          69,
          70,
          71,
          72,
          73,
          74,
          75,
          76,
          77,
          78,
          79,
          80,
          81,
          82,
          83,
          84,
          85,
          86,
          87,
          88,
          89,
          90,
          91,
          92,
          93,
          94,
          95,
          96,
          97,
          98,
          99,
          100,
          101,
          102,
          103,
          104,
          105,
          106,
          107,
          108,
          109,
          110,
          111,
          112,
          113,
          114,
          115,
          116,
          117,
          118,
          119,
          120,
          121,
          122,
          123,
          124,
          125,
          126,
          127,
          128,
          129,
          130,
          131,
          132,
          133,
          134,
          135,
          136,
          137,
          138,
          139,
          140,
          141,
          142,
          143,
          144,
          145,
          146,
          147,
          148,
          149,
          150,
          151,
          152,
          153,
          154,
          155,
          156,
          157,
          158,
          159,
          160,
          161,
          162,
          163,
          164,
          165,
          166,
          167,
          168,
          169,
          170,
          171,
          172,
          173,
          174,
          175,
          176,
          177,
          178,
          179,
          180,
          181,
          182,
          183,
          184,
          185,
          186,
          187,
          188,
          189,
          190,
          191,
          192,
          193,
          194,
          195,
          196,
          197,
          198,
          199,
          200,
          201,
          202,
          203,
          204,
          205,
          206,
          207,
          208,
          209,
          210,
          211,
          212,
          213,
          214,
          215,
          216,
          217,
          218,
          219,
          220,
          221,
          222,
          223,
          224,
          225,
          226,
          227,
          228,
          229,
          230,
          231,
          232,
          233,
          234,
          235,
          236,
          237,
          238,
          239,
          240,
          241,
          242,
          243,
          244,
          245,
          246,
          247,
          248,
          249,
          250,
          251,
          252,
          253,
          254,
          255,
          256,
          257,
          258,
          259,
          260,
          261,
          262,
          263,
          264,
          265,
          266,
          267,
          268,
          269,
          270,
          271,
          272,
          273,
          274,
          275,
          276,
          277,
          278,
          279,
          280,
          281,
          282,
          283,
          284,
          285,
          286,
          287,
          288,
          289,
          290,
          291,
          292,
          293,
          294,
          295,
          296,
          297,
          298,
          299,
          300,
          301,
          302,
          303,
          304,
          305,
          306,
          307,
          308,
          309,
          310,
          311,
          312,
          313,
          314,
          315,
          316,
          317,
          318,
          319,
          320,
          321,
          322,
          323,
          324,
          325,
          326,
          327,
          328,
          329,
          330,
          331,
          332,
          333,
          334,
          335,
          336,
          337,
          338,
          339,
          340,
          341,
          342,
          343,
          344,
          345,
          346,
          347,
          348,
          349,
          350,
          351,
          352,
          353,
          354,
          355,
          356,
          357,
          358,
          359,
          360,
          361,
          362,
          363,
          364,
          365,
          366,
          367,
          368,
          369,
          370,
          371,
          372,
          373,
          374,
          375,
          376,
          377,
          378,
          379,
          380,
          381,
          382,
          383,
          384,
          385,
          386,
          387,
          388,
          389,
          390
         ],
         "y": [
          585.51,
          585.6289279726649,
          585.5697426348831,
          585.7310329612812,
          586.1379796252456,
          586.0518186449806,
          585.9656749393722,
          586.3885553095207,
          586.5837084576772,
          586.4313571420432,
          586.56335153281,
          586.4127073660758,
          586.2614523926932,
          586.3089874698886,
          585.7511904617667,
          585.2467785298468,
          585.0687535526175,
          584.7645076976761,
          584.832170387873,
          584.5574102267238,
          584.1415669067893,
          584.5313524009883,
          584.4477732992867,
          584.4463241180075,
          584.0270756849183,
          583.8544310183289,
          583.8651203230589,
          583.5228568881874,
          583.6075533449842,
          583.4193050649853,
          583.317462198249,
          583.1290090765107,
          583.6261212860078,
          583.6020209282266,
          583.2859907519808,
          583.4955101605891,
          583.1339389722374,
          583.1719744904289,
          582.6042022823373,
          582.2132250015266,
          582.2478529508525,
          582.4335482184238,
          582.4610764763497,
          582.4085216898151,
          582.3042299090591,
          581.8715179812508,
          581.6506022102898,
          581.5019940660673,
          581.7762174456197,
          581.8517199120433,
          581.3400400648625,
          581.4100458819322,
          581.2825431876083,
          581.0738030984613,
          581.2238307267611,
          581.4906495670734,
          581.7298132015625,
          581.4756850964571,
          581.3693016744568,
          581.4413104984526,
          581.6927831904268,
          581.5389992615914,
          581.4670239737712,
          581.1386058404797,
          580.7853538403925,
          580.9911874889978,
          581.348420237784,
          581.3081186546204,
          581.5673275269509,
          581.6478225399519,
          581.4478124600414,
          581.5282239649192,
          581.9364311729278,
          581.9061759390039,
          582.322065381228,
          581.5709882106647,
          581.7797126084116,
          581.7837098920138,
          581.6801142453513,
          581.6854243162202,
          581.1113253532378,
          581.0299345905453,
          581.1090961743956,
          581.5002669521899,
          581.3356432196173,
          581.0902434366817,
          580.9303325011061,
          581.164846989334,
          581.2361310528206,
          581.0683828647642,
          581.1910163716607,
          581.1978022470156,
          581.4472484978844,
          581.2314493040683,
          581.1199735154611,
          580.9905785643871,
          580.5630195595807,
          580.6251547073713,
          580.67754338645,
          580.6587417031408,
          580.5732655043508,
          580.1594034286505,
          580.0222912888374,
          579.9068650291124,
          579.663795274292,
          579.598820126086,
          579.690819252067,
          580.1944164852606,
          580.2227309619379,
          580.2741091452152,
          580.2332049461506,
          579.6796620083524,
          579.6521100094136,
          579.6486462281001,
          580.3124415744622,
          580.2387549804694,
          580.302363924406,
          580.2725034016335,
          579.9274301312784,
          580.2247194367147,
          580.4135124989893,
          580.6132381527964,
          580.340080881443,
          580.7098557199295,
          580.2996572412757,
          580.4425855537912,
          581.0314400425028,
          580.735499161768,
          580.5577308361246,
          580.5652251254892,
          580.4049806985727,
          579.9536220123292,
          579.9524714567934,
          579.6371415968563,
          579.7484564591806,
          579.472918581732,
          579.8829858003561,
          579.6452106949581,
          579.5355942871978,
          579.7412602469298,
          579.3792324875502,
          579.4221844611374,
          579.7648246644796,
          579.2981831361569,
          579.3292445109543,
          579.3811908728077,
          579.5780053344749,
          579.2143896813237,
          578.827831926968,
          578.9523977584071,
          579.0146002622166,
          579.0639138995843,
          579.1398493739501,
          578.931017936311,
          578.9752661473345,
          579.0363860454679,
          578.8180702784259,
          579.3152496897271,
          579.4265694751889,
          579.0757191165364,
          579.2376799036764,
          578.9470519898788,
          579.1451782646346,
          579.4464424792978,
          579.1984568515152,
          579.4455830957043,
          579.5399811816136,
          579.748020424931,
          580.2546131892808,
          580.166194169775,
          579.9365064583965,
          579.6691885701927,
          579.4224605092355,
          579.3808791810687,
          579.4553862619092,
          579.5120095605929,
          579.7214609871912,
          579.7048809662799,
          580.0883416650197,
          579.9945934599712,
          580.7301700696506,
          580.8840012073907,
          580.6252504583055,
          580.307165878425,
          580.421077975024,
          580.3387298441712,
          580.517014501866,
          580.6283996682486,
          580.587920256968,
          580.3321838491069,
          579.8908388084553,
          579.7466037593214,
          579.9642538059156,
          580.0035356565378,
          579.6372113032456,
          579.6651107128055,
          579.7519183733706,
          579.4862566618685,
          579.5087479018194,
          579.5047237926714,
          579.1672437552198,
          579.2463387766044,
          579.3817729503343,
          579.6621930357545,
          579.9346268513979,
          579.5316939673135,
          579.2511506768088,
          579.3738912086516,
          579.4963110077102,
          579.6191069354286,
          580.6686768610489,
          580.8072547221293,
          581.1029758815613,
          581.3483051568711,
          581.5094638932945,
          581.4013870441265,
          581.592522659003,
          581.356951914615,
          581.270751482323,
          581.1153556940739,
          581.1179083794442,
          581.7420235918628,
          581.201394885323,
          581.3722211055357,
          580.9028285159834,
          580.7512688152124,
          581.0339929609303,
          581.0316481450584,
          580.7114336734012,
          580.4922214448974,
          580.6609865319823,
          580.4376034275035,
          580.4775748937794,
          580.4700300792427,
          580.2686229483651,
          580.84437199503,
          581.0005294038695,
          580.416648757399,
          580.448276270222,
          580.2440443436047,
          580.4607788961075,
          580.2201899182768,
          580.1680907704717,
          580.2882330104662,
          580.508687312825,
          580.1546808960046,
          580.0415109135347,
          579.8893386046656,
          579.687652688279,
          580.157720611143,
          580.2500671538309,
          579.8793772761853,
          580.1141508144527,
          580.6836917553347,
          580.9506703646457,
          580.5075962840729,
          580.3527186092593,
          580.6847241554271,
          580.4676456459664,
          580.5708410663453,
          580.7660603102065,
          580.48795047359,
          580.451180283251,
          579.5296953265233,
          579.2251215657051,
          579.134867151922,
          578.7685242619876,
          579.2009601067457,
          578.783977994272,
          578.6418122661403,
          578.6578995614436,
          579.0372689979976,
          578.6188178842484,
          578.9210745118363,
          578.9037495086936,
          578.6113958881547,
          578.7193292633638,
          578.7543588894573,
          578.5677930010687,
          578.5669886246175,
          578.4400452989621,
          578.4513544756671,
          578.6146860547026,
          579.0341472935363,
          578.670632969622,
          579.2417719391481,
          578.6799301019336,
          578.6176989221344,
          578.7606176842218,
          578.8183655658686,
          578.6255450928909,
          578.547703888267,
          578.3909193819748,
          578.2074774876606,
          578.4226671228147,
          578.5014465819529,
          578.2892746040978,
          578.5183453139514,
          578.5833597854157,
          578.7885062446294,
          578.942921430108,
          578.6928458679437,
          578.517398474885,
          578.7043502661767,
          578.8534040639339,
          578.827447595508,
          578.8398208042735,
          579.1739427510914,
          578.989640286591,
          579.1212181684442,
          579.0449552918083,
          578.9644061359672,
          579.2489856884098,
          579.4578517632835,
          579.6634880292268,
          580.0058088767015,
          579.9914440431936,
          580.1607179163391,
          580.0542820380797,
          580.1241559141182,
          580.0677838309,
          580.0745339211952,
          580.2197131720859,
          579.9720808185269,
          580.5332115468007,
          580.2332191521095,
          579.8755192969862,
          580.1770287822515,
          580.3768483628592,
          580.5301556560669,
          580.6846786039882,
          580.6610475519259,
          580.3912427402679,
          580.392104707668,
          580.1836177298608,
          580.4344282404663,
          580.3733229350565,
          580.1236019819274,
          580.0140828782811,
          580.1086154032887,
          579.9317540491925,
          579.6831334267097,
          579.7306141257826,
          579.7784540118012,
          579.6174636815354,
          579.4664874442185,
          579.5107200201928,
          579.0885337557537,
          578.6779235269715,
          578.45860834145,
          578.3793140319291,
          578.4453125529851,
          578.8339869863769,
          579.05164402597,
          578.9871111894228,
          578.9616716546805,
          578.6634587494995,
          578.6381728890486,
          578.5380059352655,
          578.6072959122105,
          578.3578542836044,
          578.4815999949084,
          578.8862005367174,
          578.8358784617897,
          578.9271078756301,
          579.0983427359358,
          578.9668700593711,
          579.0088575011498,
          578.9921842802722,
          578.9991104970969,
          578.7645390064902,
          578.7511770550941,
          578.8690882075754,
          579.2513331660623,
          579.4973428075177,
          580.0748911863204,
          579.8414572816611,
          580.0635655250246,
          580.0943089653501,
          580.6826287536575,
          580.4375589601243,
          580.1838551470889,
          579.9970575304792,
          579.3867474563777,
          579.2206446524465,
          578.9898339118365,
          579.0113819078172,
          579.0860090044149,
          579.5863025736857,
          579.8299981442029,
          579.6495610663454
         ]
        }
       ],
       "layout": {
        "template": {
         "data": {
          "bar": [
           {
            "error_x": {
             "color": "#f2f5fa"
            },
            "error_y": {
             "color": "#f2f5fa"
            },
            "marker": {
             "line": {
              "color": "rgb(17,17,17)",
              "width": 0.5
             },
             "pattern": {
              "fillmode": "overlay",
              "size": 10,
              "solidity": 0.2
             }
            },
            "type": "bar"
           }
          ],
          "barpolar": [
           {
            "marker": {
             "line": {
              "color": "rgb(17,17,17)",
              "width": 0.5
             },
             "pattern": {
              "fillmode": "overlay",
              "size": 10,
              "solidity": 0.2
             }
            },
            "type": "barpolar"
           }
          ],
          "carpet": [
           {
            "aaxis": {
             "endlinecolor": "#A2B1C6",
             "gridcolor": "#506784",
             "linecolor": "#506784",
             "minorgridcolor": "#506784",
             "startlinecolor": "#A2B1C6"
            },
            "baxis": {
             "endlinecolor": "#A2B1C6",
             "gridcolor": "#506784",
             "linecolor": "#506784",
             "minorgridcolor": "#506784",
             "startlinecolor": "#A2B1C6"
            },
            "type": "carpet"
           }
          ],
          "choropleth": [
           {
            "colorbar": {
             "outlinewidth": 0,
             "ticks": ""
            },
            "type": "choropleth"
           }
          ],
          "contour": [
           {
            "colorbar": {
             "outlinewidth": 0,
             "ticks": ""
            },
            "colorscale": [
             [
              0,
              "#0d0887"
             ],
             [
              0.1111111111111111,
              "#46039f"
             ],
             [
              0.2222222222222222,
              "#7201a8"
             ],
             [
              0.3333333333333333,
              "#9c179e"
             ],
             [
              0.4444444444444444,
              "#bd3786"
             ],
             [
              0.5555555555555556,
              "#d8576b"
             ],
             [
              0.6666666666666666,
              "#ed7953"
             ],
             [
              0.7777777777777778,
              "#fb9f3a"
             ],
             [
              0.8888888888888888,
              "#fdca26"
             ],
             [
              1,
              "#f0f921"
             ]
            ],
            "type": "contour"
           }
          ],
          "contourcarpet": [
           {
            "colorbar": {
             "outlinewidth": 0,
             "ticks": ""
            },
            "type": "contourcarpet"
           }
          ],
          "heatmap": [
           {
            "colorbar": {
             "outlinewidth": 0,
             "ticks": ""
            },
            "colorscale": [
             [
              0,
              "#0d0887"
             ],
             [
              0.1111111111111111,
              "#46039f"
             ],
             [
              0.2222222222222222,
              "#7201a8"
             ],
             [
              0.3333333333333333,
              "#9c179e"
             ],
             [
              0.4444444444444444,
              "#bd3786"
             ],
             [
              0.5555555555555556,
              "#d8576b"
             ],
             [
              0.6666666666666666,
              "#ed7953"
             ],
             [
              0.7777777777777778,
              "#fb9f3a"
             ],
             [
              0.8888888888888888,
              "#fdca26"
             ],
             [
              1,
              "#f0f921"
             ]
            ],
            "type": "heatmap"
           }
          ],
          "heatmapgl": [
           {
            "colorbar": {
             "outlinewidth": 0,
             "ticks": ""
            },
            "colorscale": [
             [
              0,
              "#0d0887"
             ],
             [
              0.1111111111111111,
              "#46039f"
             ],
             [
              0.2222222222222222,
              "#7201a8"
             ],
             [
              0.3333333333333333,
              "#9c179e"
             ],
             [
              0.4444444444444444,
              "#bd3786"
             ],
             [
              0.5555555555555556,
              "#d8576b"
             ],
             [
              0.6666666666666666,
              "#ed7953"
             ],
             [
              0.7777777777777778,
              "#fb9f3a"
             ],
             [
              0.8888888888888888,
              "#fdca26"
             ],
             [
              1,
              "#f0f921"
             ]
            ],
            "type": "heatmapgl"
           }
          ],
          "histogram": [
           {
            "marker": {
             "pattern": {
              "fillmode": "overlay",
              "size": 10,
              "solidity": 0.2
             }
            },
            "type": "histogram"
           }
          ],
          "histogram2d": [
           {
            "colorbar": {
             "outlinewidth": 0,
             "ticks": ""
            },
            "colorscale": [
             [
              0,
              "#0d0887"
             ],
             [
              0.1111111111111111,
              "#46039f"
             ],
             [
              0.2222222222222222,
              "#7201a8"
             ],
             [
              0.3333333333333333,
              "#9c179e"
             ],
             [
              0.4444444444444444,
              "#bd3786"
             ],
             [
              0.5555555555555556,
              "#d8576b"
             ],
             [
              0.6666666666666666,
              "#ed7953"
             ],
             [
              0.7777777777777778,
              "#fb9f3a"
             ],
             [
              0.8888888888888888,
              "#fdca26"
             ],
             [
              1,
              "#f0f921"
             ]
            ],
            "type": "histogram2d"
           }
          ],
          "histogram2dcontour": [
           {
            "colorbar": {
             "outlinewidth": 0,
             "ticks": ""
            },
            "colorscale": [
             [
              0,
              "#0d0887"
             ],
             [
              0.1111111111111111,
              "#46039f"
             ],
             [
              0.2222222222222222,
              "#7201a8"
             ],
             [
              0.3333333333333333,
              "#9c179e"
             ],
             [
              0.4444444444444444,
              "#bd3786"
             ],
             [
              0.5555555555555556,
              "#d8576b"
             ],
             [
              0.6666666666666666,
              "#ed7953"
             ],
             [
              0.7777777777777778,
              "#fb9f3a"
             ],
             [
              0.8888888888888888,
              "#fdca26"
             ],
             [
              1,
              "#f0f921"
             ]
            ],
            "type": "histogram2dcontour"
           }
          ],
          "mesh3d": [
           {
            "colorbar": {
             "outlinewidth": 0,
             "ticks": ""
            },
            "type": "mesh3d"
           }
          ],
          "parcoords": [
           {
            "line": {
             "colorbar": {
              "outlinewidth": 0,
              "ticks": ""
             }
            },
            "type": "parcoords"
           }
          ],
          "pie": [
           {
            "automargin": true,
            "type": "pie"
           }
          ],
          "scatter": [
           {
            "marker": {
             "line": {
              "color": "#283442"
             }
            },
            "type": "scatter"
           }
          ],
          "scatter3d": [
           {
            "line": {
             "colorbar": {
              "outlinewidth": 0,
              "ticks": ""
             }
            },
            "marker": {
             "colorbar": {
              "outlinewidth": 0,
              "ticks": ""
             }
            },
            "type": "scatter3d"
           }
          ],
          "scattercarpet": [
           {
            "marker": {
             "colorbar": {
              "outlinewidth": 0,
              "ticks": ""
             }
            },
            "type": "scattercarpet"
           }
          ],
          "scattergeo": [
           {
            "marker": {
             "colorbar": {
              "outlinewidth": 0,
              "ticks": ""
             }
            },
            "type": "scattergeo"
           }
          ],
          "scattergl": [
           {
            "marker": {
             "line": {
              "color": "#283442"
             }
            },
            "type": "scattergl"
           }
          ],
          "scattermapbox": [
           {
            "marker": {
             "colorbar": {
              "outlinewidth": 0,
              "ticks": ""
             }
            },
            "type": "scattermapbox"
           }
          ],
          "scatterpolar": [
           {
            "marker": {
             "colorbar": {
              "outlinewidth": 0,
              "ticks": ""
             }
            },
            "type": "scatterpolar"
           }
          ],
          "scatterpolargl": [
           {
            "marker": {
             "colorbar": {
              "outlinewidth": 0,
              "ticks": ""
             }
            },
            "type": "scatterpolargl"
           }
          ],
          "scatterternary": [
           {
            "marker": {
             "colorbar": {
              "outlinewidth": 0,
              "ticks": ""
             }
            },
            "type": "scatterternary"
           }
          ],
          "surface": [
           {
            "colorbar": {
             "outlinewidth": 0,
             "ticks": ""
            },
            "colorscale": [
             [
              0,
              "#0d0887"
             ],
             [
              0.1111111111111111,
              "#46039f"
             ],
             [
              0.2222222222222222,
              "#7201a8"
             ],
             [
              0.3333333333333333,
              "#9c179e"
             ],
             [
              0.4444444444444444,
              "#bd3786"
             ],
             [
              0.5555555555555556,
              "#d8576b"
             ],
             [
              0.6666666666666666,
              "#ed7953"
             ],
             [
              0.7777777777777778,
              "#fb9f3a"
             ],
             [
              0.8888888888888888,
              "#fdca26"
             ],
             [
              1,
              "#f0f921"
             ]
            ],
            "type": "surface"
           }
          ],
          "table": [
           {
            "cells": {
             "fill": {
              "color": "#506784"
             },
             "line": {
              "color": "rgb(17,17,17)"
             }
            },
            "header": {
             "fill": {
              "color": "#2a3f5f"
             },
             "line": {
              "color": "rgb(17,17,17)"
             }
            },
            "type": "table"
           }
          ]
         },
         "layout": {
          "annotationdefaults": {
           "arrowcolor": "#f2f5fa",
           "arrowhead": 0,
           "arrowwidth": 1
          },
          "autotypenumbers": "strict",
          "coloraxis": {
           "colorbar": {
            "outlinewidth": 0,
            "ticks": ""
           }
          },
          "colorscale": {
           "diverging": [
            [
             0,
             "#8e0152"
            ],
            [
             0.1,
             "#c51b7d"
            ],
            [
             0.2,
             "#de77ae"
            ],
            [
             0.3,
             "#f1b6da"
            ],
            [
             0.4,
             "#fde0ef"
            ],
            [
             0.5,
             "#f7f7f7"
            ],
            [
             0.6,
             "#e6f5d0"
            ],
            [
             0.7,
             "#b8e186"
            ],
            [
             0.8,
             "#7fbc41"
            ],
            [
             0.9,
             "#4d9221"
            ],
            [
             1,
             "#276419"
            ]
           ],
           "sequential": [
            [
             0,
             "#0d0887"
            ],
            [
             0.1111111111111111,
             "#46039f"
            ],
            [
             0.2222222222222222,
             "#7201a8"
            ],
            [
             0.3333333333333333,
             "#9c179e"
            ],
            [
             0.4444444444444444,
             "#bd3786"
            ],
            [
             0.5555555555555556,
             "#d8576b"
            ],
            [
             0.6666666666666666,
             "#ed7953"
            ],
            [
             0.7777777777777778,
             "#fb9f3a"
            ],
            [
             0.8888888888888888,
             "#fdca26"
            ],
            [
             1,
             "#f0f921"
            ]
           ],
           "sequentialminus": [
            [
             0,
             "#0d0887"
            ],
            [
             0.1111111111111111,
             "#46039f"
            ],
            [
             0.2222222222222222,
             "#7201a8"
            ],
            [
             0.3333333333333333,
             "#9c179e"
            ],
            [
             0.4444444444444444,
             "#bd3786"
            ],
            [
             0.5555555555555556,
             "#d8576b"
            ],
            [
             0.6666666666666666,
             "#ed7953"
            ],
            [
             0.7777777777777778,
             "#fb9f3a"
            ],
            [
             0.8888888888888888,
             "#fdca26"
            ],
            [
             1,
             "#f0f921"
            ]
           ]
          },
          "colorway": [
           "#636efa",
           "#EF553B",
           "#00cc96",
           "#ab63fa",
           "#FFA15A",
           "#19d3f3",
           "#FF6692",
           "#B6E880",
           "#FF97FF",
           "#FECB52"
          ],
          "font": {
           "color": "#f2f5fa"
          },
          "geo": {
           "bgcolor": "rgb(17,17,17)",
           "lakecolor": "rgb(17,17,17)",
           "landcolor": "rgb(17,17,17)",
           "showlakes": true,
           "showland": true,
           "subunitcolor": "#506784"
          },
          "hoverlabel": {
           "align": "left"
          },
          "hovermode": "closest",
          "mapbox": {
           "style": "dark"
          },
          "paper_bgcolor": "rgb(17,17,17)",
          "plot_bgcolor": "rgb(17,17,17)",
          "polar": {
           "angularaxis": {
            "gridcolor": "#506784",
            "linecolor": "#506784",
            "ticks": ""
           },
           "bgcolor": "rgb(17,17,17)",
           "radialaxis": {
            "gridcolor": "#506784",
            "linecolor": "#506784",
            "ticks": ""
           }
          },
          "scene": {
           "xaxis": {
            "backgroundcolor": "rgb(17,17,17)",
            "gridcolor": "#506784",
            "gridwidth": 2,
            "linecolor": "#506784",
            "showbackground": true,
            "ticks": "",
            "zerolinecolor": "#C8D4E3"
           },
           "yaxis": {
            "backgroundcolor": "rgb(17,17,17)",
            "gridcolor": "#506784",
            "gridwidth": 2,
            "linecolor": "#506784",
            "showbackground": true,
            "ticks": "",
            "zerolinecolor": "#C8D4E3"
           },
           "zaxis": {
            "backgroundcolor": "rgb(17,17,17)",
            "gridcolor": "#506784",
            "gridwidth": 2,
            "linecolor": "#506784",
            "showbackground": true,
            "ticks": "",
            "zerolinecolor": "#C8D4E3"
           }
          },
          "shapedefaults": {
           "line": {
            "color": "#f2f5fa"
           }
          },
          "sliderdefaults": {
           "bgcolor": "#C8D4E3",
           "bordercolor": "rgb(17,17,17)",
           "borderwidth": 1,
           "tickwidth": 0
          },
          "ternary": {
           "aaxis": {
            "gridcolor": "#506784",
            "linecolor": "#506784",
            "ticks": ""
           },
           "baxis": {
            "gridcolor": "#506784",
            "linecolor": "#506784",
            "ticks": ""
           },
           "bgcolor": "rgb(17,17,17)",
           "caxis": {
            "gridcolor": "#506784",
            "linecolor": "#506784",
            "ticks": ""
           }
          },
          "title": {
           "x": 0.05
          },
          "updatemenudefaults": {
           "bgcolor": "#506784",
           "borderwidth": 0
          },
          "xaxis": {
           "automargin": true,
           "gridcolor": "#283442",
           "linecolor": "#506784",
           "ticks": "",
           "title": {
            "standoff": 15
           },
           "zerolinecolor": "#283442",
           "zerolinewidth": 2
          },
          "yaxis": {
           "automargin": true,
           "gridcolor": "#283442",
           "linecolor": "#506784",
           "ticks": "",
           "title": {
            "standoff": 15
           },
           "zerolinecolor": "#283442",
           "zerolinewidth": 2
          }
         }
        },
        "title": {
         "text": "Simulated Stock Price Trajectory Using Direct Sampling"
        },
        "xaxis": {
         "title": {
          "text": "Time Steps"
         }
        },
        "yaxis": {
         "title": {
          "text": "Price"
         }
        }
       }
      }
     },
     "metadata": {},
     "output_type": "display_data"
    }
   ],
   "source": [
    "fig_sim_direct_method = go.Figure()\n",
    "\n",
    "# Add the historical price trace\n",
    "fig_sim_direct_method.add_trace(go.Scatter(\n",
    "    x=list(range(len(price_data['close_mid_price']))), \n",
    "    y=price_data['close_mid_price'], \n",
    "    mode='lines', \n",
    "    name='Historical Closing Prices'\n",
    "))\n",
    "\n",
    "# Add the simulated price trace\n",
    "fig_sim_direct_method.add_trace(go.Scatter(\n",
    "    x=list(range(len(sim_prices))), \n",
    "    y=sim_prices, \n",
    "    mode='lines', \n",
    "    name='Simulated Stock Prices'))\n",
    "\n",
    "\n",
    "\n",
    "# Update the layout to add titles and labels\n",
    "fig_sim_direct_method.update_layout(\n",
    "    title='Simulated Stock Price Trajectory Using Direct Sampling',\n",
    "    xaxis_title='Time Steps',\n",
    "    yaxis_title='Price',\n",
    "    template='plotly_dark'  # Using a dark theme for better visibility\n",
    ")\n",
    "\n",
    "# Show the interactive plot\n",
    "fig_sim_direct_method.show()\n"
   ]
  },
  {
   "cell_type": "code",
   "execution_count": 254,
   "metadata": {},
   "outputs": [
    {
     "data": {
      "application/vnd.plotly.v1+json": {
       "config": {
        "plotlyServerURL": "https://plot.ly"
       },
       "data": [
        {
         "histnorm": "probability density",
         "name": "Historical Returns",
         "type": "histogram",
         "x": [
          -0.0007429420505199663,
          0.0006922189462888906,
          0.002365580378492845,
          0.0007412266875685983,
          -0.0011493274306146,
          0.0014489665459194933,
          -0.0007830120430657243,
          -0.001865369709462326,
          0.0005034817039870166,
          -0.00043499398684782107,
          0.0005631783739503161,
          0.00011939483873177101,
          0.00011085340064114346,
          0.000520100609626233,
          -0.0004857430163788594,
          -0.000434823384972155,
          0.00014500417953210168,
          0.0005458189416230439,
          -0.0013552791960382764,
          0.0008962103106863964,
          0.0004860785400587868,
          0.0010398731695675384,
          -0.00060454344198089,
          -0.0012779770475322262,
          -0.0004009452069986498,
          0.00011094422065961386,
          -0.00006826579286464994,
          0.000017067613350271642,
          0.00017067322051837337,
          -0.0004863356740014644,
          0.00048657231147451583,
          -0.0009897357576171958,
          -0.0005722240726979472,
          -0.0009485558024270443,
          0.0003678074399747356,
          -0.0003249196251452577,
          0.00029936534546753083,
          0.000632754448520303,
          -0.00006836262956848417,
          -0.00014528051959156754,
          0.0010769414861792432,
          0.0008708718964516084,
          -0.0005374234384862418,
          0.0004950368290329944,
          -0.00009383984098423263,
          0.0005460284958622132,
          0.00034960860889888797,
          -0.0003068661296510483,
          -0.0003325403524926651,
          0.00008529512111899441,
          -0.00027292110874195,
          -0.0004436178743878771,
          0.00012802348804248978,
          -0.00011093948677676567,
          -0.0010241704219582527,
          0.000247761602077749,
          0.0003160313298086885,
          -0.00020492853117476056,
          0.0006319924844137066,
          -0.0004950326038716283,
          0.0005379741430841368,
          -0.0004352687144210422,
          -0.00000853839717207509,
          0.00040984656369273307,
          0.0009729868134680771,
          -0.0007929808405597453,
          0.00020480262147356263,
          0.00017916560020479175,
          0.00023884467419025063,
          -0.00029848455129236057,
          0.000929843718009894,
          -0.00046022858019479913,
          0.00005968672993454611,
          0.00039220367307269105,
          0.0010483073671291876,
          -0.00034906985654067896,
          0.00004258435961636135,
          0.00029807782386147817,
          -0.0006385478570333918,
          0.0001959464640182811,
          0.000638830684315429,
          0.0007661074082587153,
          0.0004678183503873999,
          -0.00013602897417156813,
          -0.000629219597639584,
          0,
          -0.00029779123983247885,
          0.0003234125126597971,
          0.0002382269111330243,
          -0.0007825591385045232,
          -0.00017876752560209446,
          -0.0007492550021286582,
          0.0002556193657233022,
          -0.00035777565762579454,
          0.00003408606731995195,
          -0.0008606438638648797,
          0.0005714139510290336,
          -0.0006563245823388867,
          -0.0005458748070248117,
          0.0005803087583953299,
          -0.00044350814946223085,
          -0.00003413114893977014,
          -0.001023969417446771,
          0.000358756651946317,
          0.00029885665980711705,
          0.00038412947724250136,
          0.0001877245227957534,
          0.0005204112101692616,
          -0.00015348408881618036,
          -0.0004264101383274489,
          -0.0001535731349394549,
          -0.000025599453878488,
          -0.00014506728562028673,
          -0.00023043441153877426,
          -0.000187804649018744,
          -0.00041837074478531523,
          0.000170835041683789,
          0.00019642674136577918,
          -0.00014515647013625305,
          -0.00012809783258475033,
          -0.00021352373956936533,
          0.00008542773667766102,
          -0.0007687839546247402,
          0.000042743079895326067,
          -0.00058982929143536,
          0.00016251261611083975,
          0.0003506281374805075,
          0.00035050524048086057,
          0.00009400504208853561,
          -0.0006067027839967498,
          0.00010260356547400132,
          0.00005984593945295368,
          -0.00046164104843808334,
          0.000051317139924688186,
          0.0007868224347023525,
          -0.000051274162949437523,
          0.00009400745222723082,
          -0.00021363321740170736,
          -0.00025641463956644944,
          0.00000854934682989442,
          -0.00017953474852314407,
          0.0007524711837738839,
          0.00003417751802880396,
          -0.0009654818865346113,
          -0.00007697110162744118,
          0.0006072632101131018,
          -0.00012821718281213698,
          0.000017097816608803502,
          -0.00009403638353157909,
          0.0002992348138331202,
          -0.0002991452991452214,
          -0.00013679305775238904,
          -0.0015647846497190462,
          0.0005395406197008391,
          -0.00023110700254216148,
          0.000008561497234628607,
          0.00035101838137726075,
          -0.0001283762966006735,
          -0.000051357111675992635,
          0.00034239832909623187,
          0.0001454694813583815,
          -0.0001882272416153553,
          -0.00028239401666974213,
          -0.00041087096083887713,
          -0.00005137998064682723,
          0.00014558409194069825,
          0.0003082508476897455,
          -0.00021399712387865506,
          0.0003167835341055068,
          -0.00011126707521644165,
          -0.00011127945695634348,
          -0.0002996318808320427,
          -0.0004881181759793931,
          -0.0006939803629261749,
          -0.00007716247845873792,
          -0.00006001989230711007,
          -0.0005659358091596555,
          0.0002230706533396173,
          -0.0004889304432111033,
          0.00023171192200746783,
          0.0008065138866247862,
          -0.00017146041407693898,
          -0.000008574490889595631,
          -0.00001714912882424013,
          -0.00006002298022666078,
          -0.00009432748788760222,
          0.000008576035127432083,
          -0.00003430384631873729,
          -0.00013722009245210748,
          -0.00006861946219490265,
          -0.00033454283434971964,
          0.0004891108479636996,
          -0.0005489086152923367,
          -0.0005492100814374481,
          0.000858612310783312,
          0.00014583887378061147,
          -0.00003431002538938759,
          0.00007720020586734047,
          -0.00003430855398038493,
          -0.00007719689496926547,
          -0.00001715618995331956,
          0.0005404292552369154,
          0.0010459802635527555,
          -0.00023124555708766076,
          -0.0002227324127060197,
          -0.00008568539749448105,
          -0.00042846370055528893,
          -0.0000943024192858112,
          0.00012003258027187384,
          0.00011144544745337016,
          0.00032572731480697155,
          0.00008568980291337537,
          0.00005140947648031258,
          0.00025703416840874816,
          0.00031692734654711153,
          0.00019694647337370867,
          0.00047086622262551114,
          -0.0002909439419480564,
          -0.00025678995437694585,
          0.0001883610024230308,
          -0.00066769960366034,
          -0.00019701732895899314,
          -0.0001456501996265124,
          0.00004284453432271748,
          -0.00003427415899779242,
          0.00005998183407305474,
          0.000008568319495489555,
          -0.00002570473824005888,
          -0.0011481744882482782,
          0.0003345543136059574,
          0.0002915651905465523,
          0.00017145894415586087,
          -0.00007714329796182736,
          -0.0003514576922086583,
          -0.0000686012211018682,
          -0.00013721185510415622,
          -0.0003773843831481187,
          -0.00018018327212825306,
          -0.00006865361675828542,
          0.0007209124692109597,
          -0.0002744354776463181,
          -0.000034313851644031204,
          -0.00006005130096868214,
          -0.00024021962937540556,
          -0.00013730134212049436,
          0.0001544852209137254,
          -0.00009439305267123755,
          0.00024887790393309786,
          -0.0003603541766765673,
          -0.00035190112436688225,
          -0.0010646609827507827,
          0.0014611715157506085,
          -0.0002918079217269412,
          -0.0007812432928974292,
          0.0007474868974996913,
          0.00022322003485665917,
          0.00015450245916419635,
          -0.00004291071995602039,
          0.000008582512272984744,
          -0.00016306633366809526,
          0.0006781232295833093,
          0.0001801384492653237,
          0.00017152952880842336,
          -0.0003515752285239687,
          -0.00006004614975504288,
          0.00040319121557864566,
          0.00016292650299684196,
          -0.000282931513426324,
          -0.000060032760735089435,
          0.0003430649421934402,
          -0.0002229157378510845,
          0.00012863390789819994,
          -0.00020578778135049011,
          0.00019725388289981922,
          -0.0003858553985457929,
          -0.00030022559809220276,
          -0.0005405683690281002,
          0.00044642473879858677,
          -0.00016304394463356064,
          0.00007724393635092619,
          -0.00031753387743202477,
          -0.000927150043782023,
          0.0003093368162368552,
          -0.00011167041764745574,
          -0.00047250453174797,
          0.00007735547418898642,
          0.00013751020583565972,
          -0.0002577961863350444,
          -0.0004985344805357995,
          -0.00048158372247013363,
          0.0006366851075911872,
          -0.00016336918857108243,
          -0.0005159869971275942,
          -0.00011185489838422083,
          0.00006023629839355275,
          -0.0011186067322917514,
          0.0002412004892925935,
          0.00033587681072038913,
          0.0005596067256119868,
          0.00018069490096201651,
          0.00043014822907974084,
          -0.000412764749890375,
          -0.00007742534905940719,
          0.00014625920572654069,
          0.00017204449070533552,
          -0.00030962681368217434,
          0.0002753090774566291,
          -0.00024082914032615152,
          0.0004473618555195069,
          0.0005331544686082869,
          0.0006188171996803013,
          -0.0010393135377030625,
          0.00016336778387306716,
          -0.00010316279949460393,
          -0.00009457565622600139,
          -0.000335345405768027,
          -0.000017202969232473884,
          -0.0000516097955391464,
          0.00007741868887142317,
          -0.00011181833820736433,
          0.00047313048938893437,
          0.0007222575708069665,
          -0.0005928548107159171,
          -0.00012036073832724368,
          -0.00020635753162000044,
          0.0006020003612002559,
          0.00021487077671488366,
          0.0004554281884269448,
          -0.00036933013819823895,
          -0.0006014572449819719,
          0.00011176642536571845,
          -0.00016333267427171214,
          -0.00006018502596548504,
          -0.00003439351338334461,
          -0.00023216420028030114,
          -0.0000946073793757008,
          0.0004214727461960013,
          -0.00030952299067983283,
          0.0000602036603824965,
          -0.00043860026316015007,
          -0.00033554737240585117,
          -0.00008606666724056186,
          0.0006713777877240919,
          -0.0004644881598527088,
          -0.00038725334113581014,
          -0.0003013137278533627,
          -0.000301404545180463,
          0.0001722830955825047,
          -0.0015588934440348172,
          -0.0003277924901014274,
          0.00031064207992121767,
          0.00006901013586364221,
          0.00037090388414003236,
          0.0003793888390701995,
          -0.00007757283227042365,
          -0.0002154968063373301,
          0.000008621730208810465,
          -0.00012932483812829333,
          -0.00007760493912316606,
          -0.000396678250821414,
          -0.0008885668193621062,
          -0.0002590360405479319,
          0.0004318385960063567,
          -0.0014244522333683235,
          -0.0000605175111742677,
          0.00013833411146278108,
          0.0005619045972441527,
          0.00009503814485532598,
          -0.0006306477529934328,
          0.00025068939583852457,
          -0.000025926886180946088,
          -0.00029384566188728266,
          -0.00025070673363703167,
          0.00019023900937361842,
          -0.000743520135562851,
          0.000017304031839402848,
          -0.00032011904967892135,
          0.00019905664459735875,
          -0.0002768932576493179,
          0.00038948899044457614,
          -0.00012112717488157455,
          -0.000328813588654295,
          0.00034623341325562497,
          0.0003028493800239762,
          -0.00012975329573359362,
          0.000051908053534458664,
          -0.00020762143691336915,
          -0.0005710775194469909,
          0.00013852214189868998
         ]
        },
        {
         "histnorm": "probability density",
         "name": "Simulated Returns",
         "type": "histogram",
         "x": [
          0.00020311860201346524,
          -0.00010106286584341348,
          0.0002754417017388436,
          0.0006947671218766545,
          -0.0001469977774178309,
          -0.0001469899126113817,
          0.0007216811295171068,
          0.00033280517907357106,
          -0.0002597264694489321,
          0.00022508071773309806,
          -0.00025682505792508787,
          -0.00025793263256868076,
          0.00008108170339605106,
          -0.0009513703866778285,
          -0.0008611368446767375,
          -0.00030418788066891917,
          -0.0005200172682168379,
          0.00011570929717214089,
          -0.00046981027217935325,
          -0.0007113814873601093,
          0.0006672791601924546,
          -0.00014298480544860573,
          -0.000002479573616956866,
          -0.0007173429206213952,
          -0.00029561072384687813,
          0.000018308167519420185,
          -0.0005862029139232206,
          0.00014514676811189968,
          -0.00032255970458224946,
          -0.0001745620445744953,
          -0.00032307128442224766,
          0.000852490961278593,
          -0.00004129417259138269,
          -0.0005415165899240507,
          0.0003592052816806141,
          -0.0006196640454904895,
          0.0000652260409649641,
          -0.0009735930959091416,
          -0.0006710855831095243,
          0.00005947640458663576,
          0.00031892821352649527,
          0.000047264203805275174,
          -0.00009022883872774953,
          -0.0001790698055950957,
          -0.0007431028414062098,
          -0.00037966417694317115,
          -0.0002554938371212347,
          0.0004715777114278874,
          0.00012977922465648168,
          -0.0008793990456162431,
          0.00012042146118454963,
          -0.00021929909059362288,
          -0.0003591026284778691,
          0.0002581903150681168,
          0.0004590638342868544,
          0.0004112940331320719,
          -0.0004368490308356617,
          -0.00018295420552742178,
          0.00012386072637199906,
          0.0004324988394075023,
          -0.0002643731077287772,
          -0.00012376691487845013,
          -0.0005648095588414462,
          -0.0006078618707086628,
          0.00035440571502729407,
          0.0006148677578573813,
          -0.00006932431870554698,
          0.00044590616234686114,
          0.00013841048007847627,
          -0.0003438680111224181,
          0.00013829530897643366,
          0.0007019559690935344,
          -0.00005199061667770891,
          0.0007147018873841099,
          -0.0012897968584988364,
          0.00035889754127719104,
          0.000006870785480277487,
          -0.0001780655678409219,
          0.000009128850615381128,
          -0.0009869577936513793,
          -0.00014006053425837304,
          0.00013624355500052164,
          0.000673145163910682,
          -0.0002831017317248682,
          -0.00042213097682520964,
          -0.0002751912243953269,
          0.0004036878005977717,
          0.00012265721826751385,
          -0.0002886059195126793,
          0.00021104832152779612,
          0.000011675809095195579,
          0.0004291933828800042,
          -0.00037114148252251203,
          -0.00019179242406908164,
          -0.0002226647800301753,
          -0.0007359138350623584,
          0.00010702567283350031,
          0.00009022805618056036,
          -0.000032378871067657485,
          -0.0001472055661113439,
          -0.0007128507292541576,
          -0.0002363352882030624,
          -0.00019900314429048462,
          -0.00041915309074348333,
          -0.0001120910926916267,
          0.0001587289738805558,
          0.0008687341880684622,
          0.000048801704864604315,
          0.00008854907009958327,
          -0.00007049116688120365,
          -0.000954000793266605,
          -0.00004752969742511329,
          -0.0000059756209865976975,
          0.0011451684579642687,
          -0.00012697744992834595,
          0.00010962546605296652,
          -0.00005145683462435,
          -0.0005946745164250346,
          0.0005126319087355306,
          0.00032537921248481185,
          0.00034410924195615004,
          -0.00047046338836925826,
          0.0006371692231301308,
          -0.00070637423252485,
          0.00024630087357801816,
          0.0010144922226024648,
          -0.0005093371207473105,
          -0.0003061089358234959,
          0.000012908775417923758,
          -0.00027601451134428104,
          -0.0007776616349849571,
          -0.000001983875075776548,
          -0.0005437167275881709,
          0.00019204232154221334,
          -0.000475271429149573,
          0.0007076555357026104,
          -0.0004100398032368676,
          -0.00018910948583335192,
          0.0003548806350452547,
          -0.0006244643674754675,
          0.00007413447217053307,
          0.0005913480921703857,
          -0.0008048807179579868,
          0.00005361897499693013,
          0.00008966638978719862,
          0.0003396977063938245,
          -0.0006273800071854073,
          -0.0006673828572671455,
          0.0002152035969390061,
          0.000107439755065182,
          0.00008516821051740255,
          0.00013113487569015535,
          -0.0003605889628641985,
          0.0000764308866732658,
          0.00010556564624969552,
          -0.000377032898628345,
          0.0008589562711166177,
          0.00019215752653044791,
          -0.0006055130660822671,
          0.0002796884445214731,
          -0.0005017420721765996,
          0.0003422182979856873,
          0.0005201877283446094,
          -0.0004279698857441541,
          0.00042666937604145044,
          0.0001629110457708697,
          0.0003589730649699532,
          0.0008738154275686126,
          -0.00015237969245902899,
          -0.0003958998536742398,
          -0.0004609433709152612,
          -0.00042563597621207065,
          -0.00007176340408048722,
          0.000128597755842125,
          0.00009771813331296686,
          0.00036142724075237674,
          -0.000028599977794654257,
          0.0006614757117459649,
          -0.00016161022091819413,
          0.0012682473560510184,
          0.00026489262254388176,
          -0.0004454430635848045,
          -0.0005478311176260071,
          0.00019629620879589495,
          -0.0001418765340846705,
          0.0003072079262100285,
          0.00019187235447022481,
          -0.00006971655417415103,
          -0.0004404783477892932,
          -0.0007605041611241432,
          -0.0002487279320196544,
          0.00037542271948278133,
          0.00006773150304420542,
          -0.0006315898624265355,
          0.00004813253706937024,
          0.00014975484803351585,
          -0.00045823343240923207,
          0.000038812378537564704,
          -0.000006944000694865277,
          -0.0005823594245148034,
          0.00013656680732103621,
          0.00023381101383547677,
          0.00048399880443651097,
          0.00046998720792311275,
          -0.0006947901805278321,
          -0.0004840861913592606,
          0.00021189518864036497,
          0.00021129671342853866,
          0.0002119011379119475,
          0.0018107924895187301,
          0.00023865220667571995,
          0.0005091554160655865,
          0.0004221786593633951,
          0.000277215457573177,
          -0.00018585570120299802,
          0.000328749843284957,
          -0.000405044314034312,
          -0.00014827453599392237,
          -0.00026733804832400056,
          0.000004392734326084336,
          0.001073990671116997,
          -0.0009293272354673141,
          0.0002939191504286937,
          -0.0008073873716560956,
          -0.0002609037059747404,
          0.000486824843783303,
          -0.000004035591549342535,
          -0.0005511136487650471,
          -0.0003774890863042509,
          0.0002907275599056898,
          -0.00038470486163183325,
          0.00006886436378307969,
          -0.00001299759863787042,
          -0.0003469724885712977,
          0.0009922112344098858,
          0.0002688455227742402,
          -0.0010049571677147092,
          0.000054491050335439705,
          -0.0003518520684213927,
          0.00037352309707546904,
          -0.00041447930088964457,
          -0.00008979202845792273,
          0.00020708177837717952,
          0.00037990482973465455,
          -0.0006098210492924235,
          -0.0001950686363422576,
          -0.0002623472734381381,
          -0.00034780069740866223,
          0.0008108986290878046,
          0.00015917489228731873,
          -0.0006388450404906533,
          0.0004048661626323477,
          0.0009817739148102536,
          0.0004597659846514636,
          -0.0007626707449958018,
          -0.00026679698216680267,
          0.0005720754560491533,
          -0.0003738319615286655,
          0.00017777979729443065,
          0.0003362539591251733,
          -0.0004788672335086438,
          -0.00006334358931817542,
          -0.0015875322301490522,
          -0.0005255533293192327,
          -0.00015581923232041656,
          -0.0006325692178334012,
          0.000747165449796114,
          -0.0007199264869948431,
          -0.00024562830613312055,
          0.00002780181964446344,
          0.0006556022769953862,
          -0.0007226669787131228,
          0.000522376076003172,
          -0.000029926364586495283,
          -0.0005050124840045468,
          0.00018653862674700768,
          0.00006052955953305573,
          -0.0003223576384748791,
          -0.0000013902890223910474,
          -0.00021940990092970757,
          0.000019551164890604354,
          0.0002823600943652343,
          0.0007249405328680738,
          -0.0006277942770963126,
          0.0009869845417850547,
          -0.0009699608426609079,
          -0.00010753989651614485,
          0.00024700032915264957,
          0.00009977852653130749,
          -0.00033312777280167797,
          -0.00013452777065228074,
          -0.00027099667881950155,
          -0.0003171590150657092,
          0.00037216681473763624,
          0.00013619704692783337,
          -0.00036676136094160626,
          0.00039611785989017743,
          0.00011238100224645281,
          0.00035456681521192076,
          0.0002667903453723245,
          -0.0004319520161790385,
          -0.0003031787835488376,
          0.0003231567309549434,
          0.0002575646747577998,
          -0.000044841177824314735,
          0.0000213763338570435,
          0.0005772269543476411,
          -0.0003182160848345985,
          0.00022725429385587011,
          -0.00013168724309066835,
          -0.0001391069123475662,
          0.0004915320344852531,
          0.00036058082108787455,
          0.0003548770032496479,
          0.0005905509912978638,
          -0.000024766706277935004,
          0.00029185581077776734,
          -0.000183459298384892,
          0.00012046092616196283,
          -0.0000971724460075194,
          0.000011636726747136993,
          0.0002502768909872965,
          -0.00042679065867170526,
          0.0009675133456111387,
          -0.0005167531998587898,
          -0.0006164760019187407,
          0.0005199555339579673,
          0.0003444113963405615,
          0.00026415129004560864,
          0.0002661755748876046,
          -0.00004069515338184996,
          -0.000464651129596974,
          0.000001485148872940712,
          -0.0003592174602584895,
          0.0004322950578765977,
          -0.0001052751222820936,
          -0.00043027641564611925,
          -0.00018878580921743738,
          0.00016298315471671872,
          -0.0003048762755803681,
          -0.0004287066896180012,
          0.00008190802239185722,
          0.00008252088962159543,
          -0.00027767560031226465,
          -0.0002604756529554976,
          0.00007633327713128807,
          -0.0007285219235019302,
          -0.000709062958161313,
          -0.0003789935240397344,
          -0.00013707862304665423,
          0.00011410940788323993,
          0.0006719294373331219,
          0.0003760267097071215,
          -0.00011144573582154366,
          -0.000043937998360705985,
          -0.0005150822926304079,
          -0.000043697005692207785,
          -0.0001731080984218052,
          0.00011976737264287066,
          -0.0004311069534869198,
          0.00021396045785069086,
          0.0006994181695885632,
          -0.00008692913197984008,
          0.0001576084296689866,
          0.0002957796551177108,
          -0.0002270299651412869,
          0.00007252132021713467,
          -0.00002879614130519431,
          0.000011962539413810397,
          -0.00040513273052414524,
          -0.00002308702502575726,
          0.00020373375840254025,
          0.0006603305760729443,
          0.0004247027626347878,
          0.00099663680251693,
          -0.00040242028780446815,
          0.00038304995369752937,
          0.000053000123008282055,
          0.0010141795553151273,
          -0.00042203741148448553,
          -0.0004370906208926847,
          -0.0003219627967110329,
          -0.0010522640868214305,
          -0.00028668726832378706,
          -0.0003984850034972236,
          0.00003721653597093341,
          0.00012888709778364511,
          0.0008639365508602345,
          0.00042046468219670034,
          -0.00031118962184606966
         ]
        }
       ],
       "layout": {
        "bargap": 0.1,
        "barmode": "overlay",
        "template": {
         "data": {
          "bar": [
           {
            "error_x": {
             "color": "#f2f5fa"
            },
            "error_y": {
             "color": "#f2f5fa"
            },
            "marker": {
             "line": {
              "color": "rgb(17,17,17)",
              "width": 0.5
             },
             "pattern": {
              "fillmode": "overlay",
              "size": 10,
              "solidity": 0.2
             }
            },
            "type": "bar"
           }
          ],
          "barpolar": [
           {
            "marker": {
             "line": {
              "color": "rgb(17,17,17)",
              "width": 0.5
             },
             "pattern": {
              "fillmode": "overlay",
              "size": 10,
              "solidity": 0.2
             }
            },
            "type": "barpolar"
           }
          ],
          "carpet": [
           {
            "aaxis": {
             "endlinecolor": "#A2B1C6",
             "gridcolor": "#506784",
             "linecolor": "#506784",
             "minorgridcolor": "#506784",
             "startlinecolor": "#A2B1C6"
            },
            "baxis": {
             "endlinecolor": "#A2B1C6",
             "gridcolor": "#506784",
             "linecolor": "#506784",
             "minorgridcolor": "#506784",
             "startlinecolor": "#A2B1C6"
            },
            "type": "carpet"
           }
          ],
          "choropleth": [
           {
            "colorbar": {
             "outlinewidth": 0,
             "ticks": ""
            },
            "type": "choropleth"
           }
          ],
          "contour": [
           {
            "colorbar": {
             "outlinewidth": 0,
             "ticks": ""
            },
            "colorscale": [
             [
              0,
              "#0d0887"
             ],
             [
              0.1111111111111111,
              "#46039f"
             ],
             [
              0.2222222222222222,
              "#7201a8"
             ],
             [
              0.3333333333333333,
              "#9c179e"
             ],
             [
              0.4444444444444444,
              "#bd3786"
             ],
             [
              0.5555555555555556,
              "#d8576b"
             ],
             [
              0.6666666666666666,
              "#ed7953"
             ],
             [
              0.7777777777777778,
              "#fb9f3a"
             ],
             [
              0.8888888888888888,
              "#fdca26"
             ],
             [
              1,
              "#f0f921"
             ]
            ],
            "type": "contour"
           }
          ],
          "contourcarpet": [
           {
            "colorbar": {
             "outlinewidth": 0,
             "ticks": ""
            },
            "type": "contourcarpet"
           }
          ],
          "heatmap": [
           {
            "colorbar": {
             "outlinewidth": 0,
             "ticks": ""
            },
            "colorscale": [
             [
              0,
              "#0d0887"
             ],
             [
              0.1111111111111111,
              "#46039f"
             ],
             [
              0.2222222222222222,
              "#7201a8"
             ],
             [
              0.3333333333333333,
              "#9c179e"
             ],
             [
              0.4444444444444444,
              "#bd3786"
             ],
             [
              0.5555555555555556,
              "#d8576b"
             ],
             [
              0.6666666666666666,
              "#ed7953"
             ],
             [
              0.7777777777777778,
              "#fb9f3a"
             ],
             [
              0.8888888888888888,
              "#fdca26"
             ],
             [
              1,
              "#f0f921"
             ]
            ],
            "type": "heatmap"
           }
          ],
          "heatmapgl": [
           {
            "colorbar": {
             "outlinewidth": 0,
             "ticks": ""
            },
            "colorscale": [
             [
              0,
              "#0d0887"
             ],
             [
              0.1111111111111111,
              "#46039f"
             ],
             [
              0.2222222222222222,
              "#7201a8"
             ],
             [
              0.3333333333333333,
              "#9c179e"
             ],
             [
              0.4444444444444444,
              "#bd3786"
             ],
             [
              0.5555555555555556,
              "#d8576b"
             ],
             [
              0.6666666666666666,
              "#ed7953"
             ],
             [
              0.7777777777777778,
              "#fb9f3a"
             ],
             [
              0.8888888888888888,
              "#fdca26"
             ],
             [
              1,
              "#f0f921"
             ]
            ],
            "type": "heatmapgl"
           }
          ],
          "histogram": [
           {
            "marker": {
             "pattern": {
              "fillmode": "overlay",
              "size": 10,
              "solidity": 0.2
             }
            },
            "type": "histogram"
           }
          ],
          "histogram2d": [
           {
            "colorbar": {
             "outlinewidth": 0,
             "ticks": ""
            },
            "colorscale": [
             [
              0,
              "#0d0887"
             ],
             [
              0.1111111111111111,
              "#46039f"
             ],
             [
              0.2222222222222222,
              "#7201a8"
             ],
             [
              0.3333333333333333,
              "#9c179e"
             ],
             [
              0.4444444444444444,
              "#bd3786"
             ],
             [
              0.5555555555555556,
              "#d8576b"
             ],
             [
              0.6666666666666666,
              "#ed7953"
             ],
             [
              0.7777777777777778,
              "#fb9f3a"
             ],
             [
              0.8888888888888888,
              "#fdca26"
             ],
             [
              1,
              "#f0f921"
             ]
            ],
            "type": "histogram2d"
           }
          ],
          "histogram2dcontour": [
           {
            "colorbar": {
             "outlinewidth": 0,
             "ticks": ""
            },
            "colorscale": [
             [
              0,
              "#0d0887"
             ],
             [
              0.1111111111111111,
              "#46039f"
             ],
             [
              0.2222222222222222,
              "#7201a8"
             ],
             [
              0.3333333333333333,
              "#9c179e"
             ],
             [
              0.4444444444444444,
              "#bd3786"
             ],
             [
              0.5555555555555556,
              "#d8576b"
             ],
             [
              0.6666666666666666,
              "#ed7953"
             ],
             [
              0.7777777777777778,
              "#fb9f3a"
             ],
             [
              0.8888888888888888,
              "#fdca26"
             ],
             [
              1,
              "#f0f921"
             ]
            ],
            "type": "histogram2dcontour"
           }
          ],
          "mesh3d": [
           {
            "colorbar": {
             "outlinewidth": 0,
             "ticks": ""
            },
            "type": "mesh3d"
           }
          ],
          "parcoords": [
           {
            "line": {
             "colorbar": {
              "outlinewidth": 0,
              "ticks": ""
             }
            },
            "type": "parcoords"
           }
          ],
          "pie": [
           {
            "automargin": true,
            "type": "pie"
           }
          ],
          "scatter": [
           {
            "marker": {
             "line": {
              "color": "#283442"
             }
            },
            "type": "scatter"
           }
          ],
          "scatter3d": [
           {
            "line": {
             "colorbar": {
              "outlinewidth": 0,
              "ticks": ""
             }
            },
            "marker": {
             "colorbar": {
              "outlinewidth": 0,
              "ticks": ""
             }
            },
            "type": "scatter3d"
           }
          ],
          "scattercarpet": [
           {
            "marker": {
             "colorbar": {
              "outlinewidth": 0,
              "ticks": ""
             }
            },
            "type": "scattercarpet"
           }
          ],
          "scattergeo": [
           {
            "marker": {
             "colorbar": {
              "outlinewidth": 0,
              "ticks": ""
             }
            },
            "type": "scattergeo"
           }
          ],
          "scattergl": [
           {
            "marker": {
             "line": {
              "color": "#283442"
             }
            },
            "type": "scattergl"
           }
          ],
          "scattermapbox": [
           {
            "marker": {
             "colorbar": {
              "outlinewidth": 0,
              "ticks": ""
             }
            },
            "type": "scattermapbox"
           }
          ],
          "scatterpolar": [
           {
            "marker": {
             "colorbar": {
              "outlinewidth": 0,
              "ticks": ""
             }
            },
            "type": "scatterpolar"
           }
          ],
          "scatterpolargl": [
           {
            "marker": {
             "colorbar": {
              "outlinewidth": 0,
              "ticks": ""
             }
            },
            "type": "scatterpolargl"
           }
          ],
          "scatterternary": [
           {
            "marker": {
             "colorbar": {
              "outlinewidth": 0,
              "ticks": ""
             }
            },
            "type": "scatterternary"
           }
          ],
          "surface": [
           {
            "colorbar": {
             "outlinewidth": 0,
             "ticks": ""
            },
            "colorscale": [
             [
              0,
              "#0d0887"
             ],
             [
              0.1111111111111111,
              "#46039f"
             ],
             [
              0.2222222222222222,
              "#7201a8"
             ],
             [
              0.3333333333333333,
              "#9c179e"
             ],
             [
              0.4444444444444444,
              "#bd3786"
             ],
             [
              0.5555555555555556,
              "#d8576b"
             ],
             [
              0.6666666666666666,
              "#ed7953"
             ],
             [
              0.7777777777777778,
              "#fb9f3a"
             ],
             [
              0.8888888888888888,
              "#fdca26"
             ],
             [
              1,
              "#f0f921"
             ]
            ],
            "type": "surface"
           }
          ],
          "table": [
           {
            "cells": {
             "fill": {
              "color": "#506784"
             },
             "line": {
              "color": "rgb(17,17,17)"
             }
            },
            "header": {
             "fill": {
              "color": "#2a3f5f"
             },
             "line": {
              "color": "rgb(17,17,17)"
             }
            },
            "type": "table"
           }
          ]
         },
         "layout": {
          "annotationdefaults": {
           "arrowcolor": "#f2f5fa",
           "arrowhead": 0,
           "arrowwidth": 1
          },
          "autotypenumbers": "strict",
          "coloraxis": {
           "colorbar": {
            "outlinewidth": 0,
            "ticks": ""
           }
          },
          "colorscale": {
           "diverging": [
            [
             0,
             "#8e0152"
            ],
            [
             0.1,
             "#c51b7d"
            ],
            [
             0.2,
             "#de77ae"
            ],
            [
             0.3,
             "#f1b6da"
            ],
            [
             0.4,
             "#fde0ef"
            ],
            [
             0.5,
             "#f7f7f7"
            ],
            [
             0.6,
             "#e6f5d0"
            ],
            [
             0.7,
             "#b8e186"
            ],
            [
             0.8,
             "#7fbc41"
            ],
            [
             0.9,
             "#4d9221"
            ],
            [
             1,
             "#276419"
            ]
           ],
           "sequential": [
            [
             0,
             "#0d0887"
            ],
            [
             0.1111111111111111,
             "#46039f"
            ],
            [
             0.2222222222222222,
             "#7201a8"
            ],
            [
             0.3333333333333333,
             "#9c179e"
            ],
            [
             0.4444444444444444,
             "#bd3786"
            ],
            [
             0.5555555555555556,
             "#d8576b"
            ],
            [
             0.6666666666666666,
             "#ed7953"
            ],
            [
             0.7777777777777778,
             "#fb9f3a"
            ],
            [
             0.8888888888888888,
             "#fdca26"
            ],
            [
             1,
             "#f0f921"
            ]
           ],
           "sequentialminus": [
            [
             0,
             "#0d0887"
            ],
            [
             0.1111111111111111,
             "#46039f"
            ],
            [
             0.2222222222222222,
             "#7201a8"
            ],
            [
             0.3333333333333333,
             "#9c179e"
            ],
            [
             0.4444444444444444,
             "#bd3786"
            ],
            [
             0.5555555555555556,
             "#d8576b"
            ],
            [
             0.6666666666666666,
             "#ed7953"
            ],
            [
             0.7777777777777778,
             "#fb9f3a"
            ],
            [
             0.8888888888888888,
             "#fdca26"
            ],
            [
             1,
             "#f0f921"
            ]
           ]
          },
          "colorway": [
           "#636efa",
           "#EF553B",
           "#00cc96",
           "#ab63fa",
           "#FFA15A",
           "#19d3f3",
           "#FF6692",
           "#B6E880",
           "#FF97FF",
           "#FECB52"
          ],
          "font": {
           "color": "#f2f5fa"
          },
          "geo": {
           "bgcolor": "rgb(17,17,17)",
           "lakecolor": "rgb(17,17,17)",
           "landcolor": "rgb(17,17,17)",
           "showlakes": true,
           "showland": true,
           "subunitcolor": "#506784"
          },
          "hoverlabel": {
           "align": "left"
          },
          "hovermode": "closest",
          "mapbox": {
           "style": "dark"
          },
          "paper_bgcolor": "rgb(17,17,17)",
          "plot_bgcolor": "rgb(17,17,17)",
          "polar": {
           "angularaxis": {
            "gridcolor": "#506784",
            "linecolor": "#506784",
            "ticks": ""
           },
           "bgcolor": "rgb(17,17,17)",
           "radialaxis": {
            "gridcolor": "#506784",
            "linecolor": "#506784",
            "ticks": ""
           }
          },
          "scene": {
           "xaxis": {
            "backgroundcolor": "rgb(17,17,17)",
            "gridcolor": "#506784",
            "gridwidth": 2,
            "linecolor": "#506784",
            "showbackground": true,
            "ticks": "",
            "zerolinecolor": "#C8D4E3"
           },
           "yaxis": {
            "backgroundcolor": "rgb(17,17,17)",
            "gridcolor": "#506784",
            "gridwidth": 2,
            "linecolor": "#506784",
            "showbackground": true,
            "ticks": "",
            "zerolinecolor": "#C8D4E3"
           },
           "zaxis": {
            "backgroundcolor": "rgb(17,17,17)",
            "gridcolor": "#506784",
            "gridwidth": 2,
            "linecolor": "#506784",
            "showbackground": true,
            "ticks": "",
            "zerolinecolor": "#C8D4E3"
           }
          },
          "shapedefaults": {
           "line": {
            "color": "#f2f5fa"
           }
          },
          "sliderdefaults": {
           "bgcolor": "#C8D4E3",
           "bordercolor": "rgb(17,17,17)",
           "borderwidth": 1,
           "tickwidth": 0
          },
          "ternary": {
           "aaxis": {
            "gridcolor": "#506784",
            "linecolor": "#506784",
            "ticks": ""
           },
           "baxis": {
            "gridcolor": "#506784",
            "linecolor": "#506784",
            "ticks": ""
           },
           "bgcolor": "rgb(17,17,17)",
           "caxis": {
            "gridcolor": "#506784",
            "linecolor": "#506784",
            "ticks": ""
           }
          },
          "title": {
           "x": 0.05
          },
          "updatemenudefaults": {
           "bgcolor": "#506784",
           "borderwidth": 0
          },
          "xaxis": {
           "automargin": true,
           "gridcolor": "#283442",
           "linecolor": "#506784",
           "ticks": "",
           "title": {
            "standoff": 15
           },
           "zerolinecolor": "#283442",
           "zerolinewidth": 2
          },
          "yaxis": {
           "automargin": true,
           "gridcolor": "#283442",
           "linecolor": "#506784",
           "ticks": "",
           "title": {
            "standoff": 15
           },
           "zerolinecolor": "#283442",
           "zerolinewidth": 2
          }
         }
        },
        "title": {
         "text": "Comparison of Historical and Simulated Returns"
        },
        "xaxis": {
         "title": {
          "text": "Returns"
         }
        },
        "yaxis": {
         "title": {
          "text": "Probability Density"
         }
        }
       }
      }
     },
     "metadata": {},
     "output_type": "display_data"
    }
   ],
   "source": [
    "# Stacked histogram of returns (origirnal and simulated)\n",
    "fig_dist_direct_method = go.Figure()\n",
    "\n",
    "# historical returns\n",
    "fig_dist_direct_method.add_trace(go.Histogram(x=returns, histnorm='probability density', name='Historical Returns'))\n",
    "#Simulated returns\n",
    "fig_dist_direct_method.add_trace(go.Histogram(x=sample_gaussian_returns, histnorm='probability density', name='Simulated Returns'))\n",
    "\n",
    "fig_dist_direct_method.update_layout(\n",
    "    title='Comparison of Historical and Simulated Returns',\n",
    "    xaxis_title='Returns',\n",
    "    yaxis_title='Probability Density',\n",
    "    barmode='overlay',  # Overlay the histograms\n",
    "    bargap=0.1,  # Space between bars\n",
    "    template='plotly_dark'  # Using a dark theme for better visibility\n",
    ")\n",
    "\n",
    "fig_dist_direct_method.show()"
   ]
  },
  {
   "cell_type": "markdown",
   "metadata": {},
   "source": []
  },
  {
   "cell_type": "markdown",
   "metadata": {},
   "source": [
    "### 2. **Inverse Transform Sampling**\n",
    "\n",
    "What is it?\n",
    "\n",
    "Inverse Transform Sampling is a method that allows us to generate random samples from any probability distribution, given we have its Cumulative Distribution Function (CDF). This method is particularly useful because it does not require prior knowledge of how to directly sample from the distribution. It only requires the ability to compute the inverse of the CDF.\n",
    "\n",
    "Understanding the CDF: \n",
    "\n",
    "The CDF of a distribution maps values from the variable's range (e.g., heights, weights, temperatures) to a probability between 0 and 1. This probability indicates the likelihood of the random variable being less than or equal to a given value. For instance, if the CDF at a certain height is 0.3, it means there is a 30% chance that a randomly selected height from the distribution is less than or equal to that height. \n",
    "$$\n",
    "Fx(x) = P(X <= x)\n",
    "$$\n",
    "\n",
    "The Uniform Distribution: \n",
    "\n",
    "Inverse transform sampling leverages the fact that if you take a uniform random number between 0 and 1, this number can be thought of as a probability itself. 0.4 = 4% probability, ect...\n",
    "\n",
    "Using the Inverse CDF: \n",
    "\n",
    "By applying the inverse of the CDF to a uniform random number, we transform this uniform probability back into a value from the original distribution. \n",
    "\n",
    "_For example, if we generate a random number like 0.5 from the uniform distribution and apply the inverse CDF, it will give us the median of the original distribution._\n",
    "\n",
    "Generating Random Samples: \n",
    "\n",
    "You start by generating random numbers uniformly distributed between 0 and 1. Each of these numbers represents a percentile in the context of the distribution you're sampling from. Applying the inverse CDF to each number translates it back into a corresponding value from the original distribution. This is equivalent to randomly selecting a percentile and then determining which value corresponds to this percentile in the original distribution's context.\n",
    "\n",
    "**_Example_**\n",
    "Assume you have a theoretical CDF for heights where you know how to calculate the percentile for any given height.\n",
    "Generate a uniform random number, say 0.25, which you interpret as the 25th percentile.\n",
    "Applying the inverse CDF to 0.25 might tell us that the height corresponding to the 25th percentile is 150 cm, for example.\n"
   ]
  },
  {
   "cell_type": "markdown",
   "metadata": {},
   "source": [
    "Step to do\n",
    "\n",
    "* Fix the sample size\n",
    "\n",
    "* Generate a uniform random sample (numbers between 0 and 1)\n",
    "\n",
    "* We apply the inverse CDF of the Gaussian Distribution\n",
    "\n",
    "* Start from the last price of the dataset\n",
    "\n",
    "* Simulate the price by iterating through the gaussian_distribution and find the new price with respect to the returns\n",
    "\n",
    "* Visualize in a graph the close price sample and our orginial\n"
   ]
  },
  {
   "cell_type": "code",
   "execution_count": 255,
   "metadata": {},
   "outputs": [],
   "source": [
    "from scipy.interpolate import interp1d\n",
    "\n",
    "#Estimate the CDF of the originral returns\n",
    "data_sorted = np.sort(returns)\n",
    "probs = np.linspace(start=1/len(returns), stop=1, num=len(returns)) #computing cdf\n",
    "\n",
    "#create the inverse cdf\n",
    "inverse_cdf_function = interp1d(probs, data_sorted, bounds_error=False, fill_value=\"extrapolate\") #need to use extrapolate to get values outside the range (gaps)\n",
    "\n",
    "#generate uniform samples (numbers from 0 to 1) using uniform distribution\n",
    "num_samples = 390  # 390 minutes in a trading day\n",
    "uniform_samples = np.random.uniform(0, 1, num_samples)\n",
    "\n",
    "#Sample data from the inverse cdf\n",
    "returns_sampled_inv_trans_dist = inverse_cdf_function(uniform_samples)\n",
    "\n",
    "# Start from the last price in the lob dataset\n",
    "start_price = price_data['close_mid_price'].iloc[0] #-1\n",
    "\n",
    "# Initialize the simulated price list\n",
    "sim_prices = [start_price]\n",
    "\n",
    "for r in returns_sampled_inv_trans_dist:\n",
    "    #calculate the new price based on the previous price\n",
    "    new_price = sim_prices[-1] * (1 + r)\n",
    "    #append to the list\n",
    "    sim_prices.append(new_price)"
   ]
  },
  {
   "cell_type": "code",
   "execution_count": 256,
   "metadata": {},
   "outputs": [
    {
     "data": {
      "application/vnd.plotly.v1+json": {
       "config": {
        "plotlyServerURL": "https://plot.ly"
       },
       "data": [
        {
         "mode": "lines",
         "name": "Historical Closing Prices",
         "type": "scatter",
         "x": [
          0,
          1,
          2,
          3,
          4,
          5,
          6,
          7,
          8,
          9,
          10,
          11,
          12,
          13,
          14,
          15,
          16,
          17,
          18,
          19,
          20,
          21,
          22,
          23,
          24,
          25,
          26,
          27,
          28,
          29,
          30,
          31,
          32,
          33,
          34,
          35,
          36,
          37,
          38,
          39,
          40,
          41,
          42,
          43,
          44,
          45,
          46,
          47,
          48,
          49,
          50,
          51,
          52,
          53,
          54,
          55,
          56,
          57,
          58,
          59,
          60,
          61,
          62,
          63,
          64,
          65,
          66,
          67,
          68,
          69,
          70,
          71,
          72,
          73,
          74,
          75,
          76,
          77,
          78,
          79,
          80,
          81,
          82,
          83,
          84,
          85,
          86,
          87,
          88,
          89,
          90,
          91,
          92,
          93,
          94,
          95,
          96,
          97,
          98,
          99,
          100,
          101,
          102,
          103,
          104,
          105,
          106,
          107,
          108,
          109,
          110,
          111,
          112,
          113,
          114,
          115,
          116,
          117,
          118,
          119,
          120,
          121,
          122,
          123,
          124,
          125,
          126,
          127,
          128,
          129,
          130,
          131,
          132,
          133,
          134,
          135,
          136,
          137,
          138,
          139,
          140,
          141,
          142,
          143,
          144,
          145,
          146,
          147,
          148,
          149,
          150,
          151,
          152,
          153,
          154,
          155,
          156,
          157,
          158,
          159,
          160,
          161,
          162,
          163,
          164,
          165,
          166,
          167,
          168,
          169,
          170,
          171,
          172,
          173,
          174,
          175,
          176,
          177,
          178,
          179,
          180,
          181,
          182,
          183,
          184,
          185,
          186,
          187,
          188,
          189,
          190,
          191,
          192,
          193,
          194,
          195,
          196,
          197,
          198,
          199,
          200,
          201,
          202,
          203,
          204,
          205,
          206,
          207,
          208,
          209,
          210,
          211,
          212,
          213,
          214,
          215,
          216,
          217,
          218,
          219,
          220,
          221,
          222,
          223,
          224,
          225,
          226,
          227,
          228,
          229,
          230,
          231,
          232,
          233,
          234,
          235,
          236,
          237,
          238,
          239,
          240,
          241,
          242,
          243,
          244,
          245,
          246,
          247,
          248,
          249,
          250,
          251,
          252,
          253,
          254,
          255,
          256,
          257,
          258,
          259,
          260,
          261,
          262,
          263,
          264,
          265,
          266,
          267,
          268,
          269,
          270,
          271,
          272,
          273,
          274,
          275,
          276,
          277,
          278,
          279,
          280,
          281,
          282,
          283,
          284,
          285,
          286,
          287,
          288,
          289,
          290,
          291,
          292,
          293,
          294,
          295,
          296,
          297,
          298,
          299,
          300,
          301,
          302,
          303,
          304,
          305,
          306,
          307,
          308,
          309,
          310,
          311,
          312,
          313,
          314,
          315,
          316,
          317,
          318,
          319,
          320,
          321,
          322,
          323,
          324,
          325,
          326,
          327,
          328,
          329,
          330,
          331,
          332,
          333,
          334,
          335,
          336,
          337,
          338,
          339,
          340,
          341,
          342,
          343,
          344,
          345,
          346,
          347,
          348,
          349,
          350,
          351,
          352,
          353,
          354,
          355,
          356,
          357,
          358,
          359,
          360,
          361,
          362,
          363,
          364,
          365,
          366,
          367,
          368,
          369,
          370,
          371,
          372,
          373,
          374,
          375,
          376,
          377,
          378,
          379,
          380,
          381,
          382,
          383,
          384,
          385,
          386,
          387,
          388,
          389
         ],
         "y": [
          585.51,
          585.075,
          585.48,
          586.865,
          587.3,
          586.625,
          587.475,
          587.015,
          585.92,
          586.215,
          585.96,
          586.29,
          586.36,
          586.425,
          586.73,
          586.445,
          586.19,
          586.275,
          586.595,
          585.8,
          586.325,
          586.61,
          587.22,
          586.865,
          586.115,
          585.88,
          585.945,
          585.905,
          585.915,
          586.015,
          585.73,
          586.015,
          585.435,
          585.1,
          584.545,
          584.76,
          584.57,
          584.745,
          585.115,
          585.075,
          584.99,
          585.62,
          586.13,
          585.815,
          586.105,
          586.05,
          586.37,
          586.575,
          586.395,
          586.2,
          586.25,
          586.09,
          585.83,
          585.905,
          585.84,
          585.24,
          585.385,
          585.57,
          585.45,
          585.82,
          585.53,
          585.845,
          585.59,
          585.585,
          585.825,
          586.395,
          585.93,
          586.05,
          586.155,
          586.295,
          586.12,
          586.665,
          586.395,
          586.43,
          586.66,
          587.275,
          587.07,
          587.095,
          587.27,
          586.895,
          587.01,
          587.385,
          587.835,
          588.11,
          588.03,
          587.66,
          587.66,
          587.485,
          587.675,
          587.815,
          587.355,
          587.25,
          586.81,
          586.96,
          586.75,
          586.77,
          586.265,
          586.6,
          586.215,
          585.895,
          586.235,
          585.975,
          585.955,
          585.355,
          585.565,
          585.74,
          585.965,
          586.075,
          586.38,
          586.29,
          586.04,
          585.95,
          585.935,
          585.85,
          585.715,
          585.605,
          585.36,
          585.46,
          585.575,
          585.49,
          585.415,
          585.29,
          585.34,
          584.89,
          584.915,
          584.57,
          584.665,
          584.87,
          585.075,
          585.13,
          584.775,
          584.835,
          584.87,
          584.6,
          584.63,
          585.09,
          585.06,
          585.115,
          584.99,
          584.84,
          584.845,
          584.74,
          585.18,
          585.2,
          584.635,
          584.59,
          584.945,
          584.87,
          584.88,
          584.825,
          585,
          584.825,
          584.745,
          583.83,
          584.145,
          584.01,
          584.015,
          584.22,
          584.145,
          584.115,
          584.315,
          584.4,
          584.29,
          584.125,
          583.885,
          583.855,
          583.94,
          584.12,
          583.995,
          584.18,
          584.115,
          584.05,
          583.875,
          583.59,
          583.185,
          583.14,
          583.105,
          582.775,
          582.905,
          582.62,
          582.755,
          583.225,
          583.125,
          583.12,
          583.11,
          583.075,
          583.02,
          583.025,
          583.005,
          582.925,
          582.885,
          582.69,
          582.975,
          582.655,
          582.335,
          582.835,
          582.92,
          582.9,
          582.945,
          582.925,
          582.88,
          582.87,
          583.185,
          583.795,
          583.66,
          583.53,
          583.48,
          583.23,
          583.175,
          583.245,
          583.31,
          583.5,
          583.55,
          583.58,
          583.73,
          583.915,
          584.03,
          584.305,
          584.135,
          583.985,
          584.095,
          583.705,
          583.59,
          583.505,
          583.53,
          583.51,
          583.545,
          583.55,
          583.535,
          582.865,
          583.06,
          583.23,
          583.33,
          583.285,
          583.08,
          583.04,
          582.96,
          582.74,
          582.635,
          582.595,
          583.015,
          582.855,
          582.835,
          582.8,
          582.66,
          582.58,
          582.67,
          582.615,
          582.76,
          582.55,
          582.345,
          581.725,
          582.575,
          582.405,
          581.95,
          582.385,
          582.515,
          582.605,
          582.58,
          582.585,
          582.49,
          582.885,
          582.99,
          583.09,
          582.885,
          582.85,
          583.085,
          583.18,
          583.015,
          582.98,
          583.18,
          583.05,
          583.125,
          583.005,
          583.12,
          582.895,
          582.72,
          582.405,
          582.665,
          582.57,
          582.615,
          582.43,
          581.89,
          582.07,
          582.005,
          581.73,
          581.775,
          581.855,
          581.705,
          581.415,
          581.135,
          581.505,
          581.41,
          581.11,
          581.045,
          581.08,
          580.43,
          580.57,
          580.765,
          581.09,
          581.195,
          581.445,
          581.205,
          581.16,
          581.245,
          581.345,
          581.165,
          581.325,
          581.185,
          581.445,
          581.755,
          582.115,
          581.51,
          581.605,
          581.545,
          581.49,
          581.295,
          581.285,
          581.255,
          581.3,
          581.235,
          581.51,
          581.93,
          581.585,
          581.515,
          581.395,
          581.745,
          581.87,
          582.135,
          581.92,
          581.57,
          581.635,
          581.54,
          581.505,
          581.485,
          581.35,
          581.295,
          581.54,
          581.36,
          581.395,
          581.14,
          580.945,
          580.895,
          581.285,
          581.015,
          580.79,
          580.615,
          580.44,
          580.54,
          579.635,
          579.445,
          579.625,
          579.665,
          579.88,
          580.1,
          580.055,
          579.93,
          579.935,
          579.86,
          579.815,
          579.585,
          579.07,
          578.92,
          579.17,
          578.345,
          578.31,
          578.39,
          578.715,
          578.77,
          578.405,
          578.55,
          578.535,
          578.365,
          578.22,
          578.33,
          577.9,
          577.91,
          577.725,
          577.84,
          577.68,
          577.905,
          577.835,
          577.645,
          577.845,
          578.02,
          577.945,
          577.975,
          577.855,
          577.525,
          577.605
         ]
        },
        {
         "mode": "lines",
         "name": "Simulated Stock Prices",
         "type": "scatter",
         "x": [
          0,
          1,
          2,
          3,
          4,
          5,
          6,
          7,
          8,
          9,
          10,
          11,
          12,
          13,
          14,
          15,
          16,
          17,
          18,
          19,
          20,
          21,
          22,
          23,
          24,
          25,
          26,
          27,
          28,
          29,
          30,
          31,
          32,
          33,
          34,
          35,
          36,
          37,
          38,
          39,
          40,
          41,
          42,
          43,
          44,
          45,
          46,
          47,
          48,
          49,
          50,
          51,
          52,
          53,
          54,
          55,
          56,
          57,
          58,
          59,
          60,
          61,
          62,
          63,
          64,
          65,
          66,
          67,
          68,
          69,
          70,
          71,
          72,
          73,
          74,
          75,
          76,
          77,
          78,
          79,
          80,
          81,
          82,
          83,
          84,
          85,
          86,
          87,
          88,
          89,
          90,
          91,
          92,
          93,
          94,
          95,
          96,
          97,
          98,
          99,
          100,
          101,
          102,
          103,
          104,
          105,
          106,
          107,
          108,
          109,
          110,
          111,
          112,
          113,
          114,
          115,
          116,
          117,
          118,
          119,
          120,
          121,
          122,
          123,
          124,
          125,
          126,
          127,
          128,
          129,
          130,
          131,
          132,
          133,
          134,
          135,
          136,
          137,
          138,
          139,
          140,
          141,
          142,
          143,
          144,
          145,
          146,
          147,
          148,
          149,
          150,
          151,
          152,
          153,
          154,
          155,
          156,
          157,
          158,
          159,
          160,
          161,
          162,
          163,
          164,
          165,
          166,
          167,
          168,
          169,
          170,
          171,
          172,
          173,
          174,
          175,
          176,
          177,
          178,
          179,
          180,
          181,
          182,
          183,
          184,
          185,
          186,
          187,
          188,
          189,
          190,
          191,
          192,
          193,
          194,
          195,
          196,
          197,
          198,
          199,
          200,
          201,
          202,
          203,
          204,
          205,
          206,
          207,
          208,
          209,
          210,
          211,
          212,
          213,
          214,
          215,
          216,
          217,
          218,
          219,
          220,
          221,
          222,
          223,
          224,
          225,
          226,
          227,
          228,
          229,
          230,
          231,
          232,
          233,
          234,
          235,
          236,
          237,
          238,
          239,
          240,
          241,
          242,
          243,
          244,
          245,
          246,
          247,
          248,
          249,
          250,
          251,
          252,
          253,
          254,
          255,
          256,
          257,
          258,
          259,
          260,
          261,
          262,
          263,
          264,
          265,
          266,
          267,
          268,
          269,
          270,
          271,
          272,
          273,
          274,
          275,
          276,
          277,
          278,
          279,
          280,
          281,
          282,
          283,
          284,
          285,
          286,
          287,
          288,
          289,
          290,
          291,
          292,
          293,
          294,
          295,
          296,
          297,
          298,
          299,
          300,
          301,
          302,
          303,
          304,
          305,
          306,
          307,
          308,
          309,
          310,
          311,
          312,
          313,
          314,
          315,
          316,
          317,
          318,
          319,
          320,
          321,
          322,
          323,
          324,
          325,
          326,
          327,
          328,
          329,
          330,
          331,
          332,
          333,
          334,
          335,
          336,
          337,
          338,
          339,
          340,
          341,
          342,
          343,
          344,
          345,
          346,
          347,
          348,
          349,
          350,
          351,
          352,
          353,
          354,
          355,
          356,
          357,
          358,
          359,
          360,
          361,
          362,
          363,
          364,
          365,
          366,
          367,
          368,
          369,
          370,
          371,
          372,
          373,
          374,
          375,
          376,
          377,
          378,
          379,
          380,
          381,
          382,
          383,
          384,
          385,
          386,
          387,
          388,
          389,
          390
         ],
         "y": [
          585.51,
          585.6021531431136,
          585.3474455021977,
          585.6698490442013,
          585.8745390079239,
          586.2880299588461,
          586.4029968760528,
          586.4482831690408,
          586.383028580316,
          586.752315529339,
          587.0147505177284,
          586.4838640494185,
          585.8632744196151,
          585.7803060636045,
          585.9765178634386,
          586.5895064823876,
          586.3245316461636,
          586.3554995363046,
          586.2750405848545,
          586.7569419758745,
          586.9811761929594,
          587.1994369803697,
          587.1591300659097,
          587.0936454995896,
          586.9315959801818,
          586.4722687065191,
          586.7342916348365,
          586.932198117015,
          588.2623353193827,
          589.1196741912901,
          589.1247181906892,
          589.27760870113,
          589.6752791954514,
          589.9098747058179,
          589.7328451572639,
          589.6870839302724,
          589.3988843619442,
          589.8259892143203,
          589.8615143356653,
          589.6725243365012,
          589.7583233976243,
          589.8039612793063,
          589.7077884053547,
          589.3864259668849,
          589.4721800498529,
          589.4519572209134,
          589.6183768095475,
          589.598148809383,
          589.8378261148151,
          589.8413144738679,
          589.8463737564074,
          590.1255874526731,
          590.053921418167,
          589.7670032803672,
          589.1558050260427,
          589.2975604777721,
          589.344577519412,
          589.4459367217722,
          589.2482500513462,
          588.9621457053296,
          588.193889318311,
          588.0948389985896,
          588.1250442993231,
          588.0488800279916,
          587.9934534026827,
          588.3110747784891,
          588.2079302431581,
          588.1877438416021,
          588.3638146628626,
          588.2883065808891,
          588.3384463665387,
          588.5964567067107,
          589.0100338248013,
          588.7382986443082,
          589.0940906398088,
          589.0587281913762,
          588.8843739671528,
          588.8389261595956,
          589.3923652077702,
          589.3569859796006,
          589.2356646882121,
          589.2912958678093,
          589.1118032878899,
          588.7218767545949,
          588.4340968864905,
          588.1457107004553,
          587.8848045680626,
          587.6017089387963,
          587.6668626109686,
          587.4331244529453,
          587.3278691741763,
          587.639888156704,
          587.5996273701428,
          587.6836127910062,
          587.4378500021866,
          587.2199472527185,
          586.661921476206,
          586.411420423243,
          586.2544024111604,
          586.0133688239404,
          585.6584722717156,
          585.3553680841089,
          585.3102033407232,
          585.1048602837999,
          585.0150404179096,
          584.9849934516498,
          585.080448497148,
          584.5184598163161,
          584.7036127331168,
          584.7549471667411,
          584.3852685437132,
          584.6601189372391,
          584.9953426739356,
          584.5438534540328,
          584.3840583176311,
          584.5738837100729,
          584.7096145426661,
          584.481964113645,
          584.2813920776282,
          584.1965156105814,
          584.1613931828741,
          584.2065997690818,
          584.1216195453859,
          584.0765576482177,
          584.2107354973872,
          583.6363436561812,
          583.4618279325368,
          583.567091899309,
          583.8725377639649,
          583.8524583139581,
          583.8374495206398,
          583.5137720692015,
          583.4639781436722,
          583.4489919107782,
          583.2731547430246,
          583.1083590079562,
          583.0272266628733,
          582.35768040909,
          582.2343258818023,
          582.0389884666862,
          581.9190118138594,
          581.6136031496251,
          581.9104473415367,
          581.9406263331049,
          582.0265581457262,
          582.205929379716,
          582.1753629067928,
          581.8196909473173,
          581.809361668024,
          581.8356751529805,
          581.9655504428256,
          581.9106079649874,
          581.6247758340729,
          581.475062745976,
          581.3857761733555,
          581.4506178276273,
          581.4605632917741,
          581.3656725654689,
          581.9728977060151,
          582.007946882795,
          581.8282369000348,
          581.4956966199902,
          581.2377642258913,
          581.0630578370964,
          580.8102198907579,
          580.5857657104407,
          580.4366198782121,
          580.1952214811237,
          580.5033851237864,
          580.1336732505565,
          580.1137925548103,
          580.0489176518854,
          580.6189341568842,
          580.3012546025443,
          580.2268283884782,
          580.6985377229794,
          580.958147196341,
          581.1573920066971,
          580.9850718169325,
          580.7395537748081,
          580.8237910571161,
          581.1800423287362,
          581.1850204027741,
          581.195000224128,
          581.0437385486492,
          581.1966199665593,
          580.9721671328247,
          580.8512404336811,
          580.79377693969,
          580.7662337695243,
          580.5912038721933,
          580.2763426423248,
          580.3189121050364,
          580.1710283214835,
          580.1957438952933,
          579.9385564627769,
          579.903491550865,
          579.8885961077652,
          579.4296767642622,
          579.3203019540839,
          579.0386564689511,
          578.6008834333884,
          579.2090011559345,
          579.0866788648283,
          579.2804463327568,
          579.1075622440876,
          579.1970268475649,
          579.3410007377796,
          579.3742433937907,
          579.3344917280608,
          579.2697291711056,
          579.1691788006777,
          579.5248138818968,
          579.7287352998447,
          580.1776189949413,
          579.8890948369407,
          580.0033567558262,
          580.3726542223058,
          580.1411939654604,
          579.7094049706933,
          579.8353743097922,
          579.8499816831745,
          580.0712660906165,
          579.7938695050052,
          579.9750995803414,
          579.77108753786,
          579.5189560954772,
          579.2669577548546,
          579.4648050533966,
          579.5450477969437,
          579.5251753012616,
          579.430681846794,
          579.7065613237096,
          579.6315067022502,
          579.8302254901417,
          579.7756731233936,
          579.6944094456236,
          579.6496897117847,
          579.5156672497048,
          579.6490623666896,
          579.6192874089907,
          579.4367544520285,
          579.7482935469981,
          579.6688262259084,
          579.6610826625736,
          579.9762781302536,
          580.0258110064756,
          579.7131308347253,
          580.0829652460936,
          580.1335331160238,
          580.0206558456351,
          579.742258579755,
          579.9222569355475,
          579.9681052214545,
          579.9532288231671,
          580.2549933065892,
          580.4331187100097,
          580.1756283009922,
          580.0474953579546,
          579.873578328925,
          580.002965332082,
          579.4099360063552,
          579.4198371751909,
          579.5646679899393,
          579.8393417119087,
          579.7348906096616,
          579.9365320797542,
          579.6182628124952,
          579.8444424919485,
          579.5594991191801,
          579.485147652195,
          579.668347581141,
          579.4046284044985,
          579.2194177521126,
          579.3295602890905,
          579.4387858878165,
          579.503040035886,
          579.601716842524,
          579.5923726110805,
          579.4189761296026,
          579.3151617772223,
          579.0844739008329,
          579.4005961703507,
          579.42535596414,
          579.3511280741409,
          579.3064319088782,
          579.7033005560891,
          579.4461753903396,
          579.4712145835211,
          579.4414926215545,
          579.4855408129481,
          578.8195521578222,
          579.0907865467594,
          579.4536700098218,
          579.4586621945082,
          579.5576537738987,
          579.8932145450248,
          579.9935826293032,
          579.73630859938,
          579.7560788703914,
          579.7910630492623,
          579.7311908035967,
          579.8481784536939,
          580.2148452576249,
          580.5642757315461,
          580.5192280945539,
          580.202490064695,
          580.8061928343984,
          581.0232490656824,
          580.7345936283303,
          581.0675052832831,
          581.3349453485779,
          581.3150004401027,
          581.3448873208092,
          581.2703636300417,
          580.815301512617,
          580.7028707630714,
          580.8880787969609,
          579.9445170273973,
          579.8290245357135,
          579.7546701237984,
          579.7446978937139,
          580.0751309956415,
          579.9713116104259,
          579.8676159092951,
          579.986001095415,
          579.9410083144448,
          579.751526587471,
          579.7065536004011,
          579.4315521355279,
          579.1930575610911,
          579.1625082411873,
          579.0980662503198,
          579.4232978532477,
          579.3341561046636,
          579.3580906111317,
          579.4125545204689,
          578.6314875003878,
          578.7115445980172,
          578.4752392805617,
          578.910111054664,
          578.6435409058855,
          578.5789888707359,
          578.2175544830185,
          579.0609057565028,
          579.0311583043593,
          579.0639386346901,
          578.6334239843335,
          578.7702696218679,
          578.5733511716318,
          578.8827769375038,
          578.6793104784552,
          578.461753349027,
          577.8922850792801,
          577.8526371051497,
          577.8576129218127,
          577.4265082087857,
          577.5974237777364,
          577.5526459662177,
          577.5328506260724,
          577.4785933663159,
          577.404612499485,
          577.409563005608,
          577.1545779880026,
          576.9250670054071,
          577.176179756803,
          577.5678929312162,
          577.4840664089998,
          577.3220038528108,
          577.3862036557193,
          577.3216083572569,
          576.7030726654993,
          576.4494041550378,
          576.5556452109423,
          576.6314547075497,
          576.025435394043,
          575.836234602071,
          575.6532205052362,
          575.7369846461557,
          575.0757173508307,
          574.748777764187,
          574.9308625463117,
          574.6972302352234,
          574.7661826594425,
          574.5892766463797,
          574.2572731146198,
          574.0842203400682,
          574.1933924080611,
          574.4345042398888,
          574.6361313403526,
          574.5624077998492
         ]
        }
       ],
       "layout": {
        "template": {
         "data": {
          "bar": [
           {
            "error_x": {
             "color": "#f2f5fa"
            },
            "error_y": {
             "color": "#f2f5fa"
            },
            "marker": {
             "line": {
              "color": "rgb(17,17,17)",
              "width": 0.5
             },
             "pattern": {
              "fillmode": "overlay",
              "size": 10,
              "solidity": 0.2
             }
            },
            "type": "bar"
           }
          ],
          "barpolar": [
           {
            "marker": {
             "line": {
              "color": "rgb(17,17,17)",
              "width": 0.5
             },
             "pattern": {
              "fillmode": "overlay",
              "size": 10,
              "solidity": 0.2
             }
            },
            "type": "barpolar"
           }
          ],
          "carpet": [
           {
            "aaxis": {
             "endlinecolor": "#A2B1C6",
             "gridcolor": "#506784",
             "linecolor": "#506784",
             "minorgridcolor": "#506784",
             "startlinecolor": "#A2B1C6"
            },
            "baxis": {
             "endlinecolor": "#A2B1C6",
             "gridcolor": "#506784",
             "linecolor": "#506784",
             "minorgridcolor": "#506784",
             "startlinecolor": "#A2B1C6"
            },
            "type": "carpet"
           }
          ],
          "choropleth": [
           {
            "colorbar": {
             "outlinewidth": 0,
             "ticks": ""
            },
            "type": "choropleth"
           }
          ],
          "contour": [
           {
            "colorbar": {
             "outlinewidth": 0,
             "ticks": ""
            },
            "colorscale": [
             [
              0,
              "#0d0887"
             ],
             [
              0.1111111111111111,
              "#46039f"
             ],
             [
              0.2222222222222222,
              "#7201a8"
             ],
             [
              0.3333333333333333,
              "#9c179e"
             ],
             [
              0.4444444444444444,
              "#bd3786"
             ],
             [
              0.5555555555555556,
              "#d8576b"
             ],
             [
              0.6666666666666666,
              "#ed7953"
             ],
             [
              0.7777777777777778,
              "#fb9f3a"
             ],
             [
              0.8888888888888888,
              "#fdca26"
             ],
             [
              1,
              "#f0f921"
             ]
            ],
            "type": "contour"
           }
          ],
          "contourcarpet": [
           {
            "colorbar": {
             "outlinewidth": 0,
             "ticks": ""
            },
            "type": "contourcarpet"
           }
          ],
          "heatmap": [
           {
            "colorbar": {
             "outlinewidth": 0,
             "ticks": ""
            },
            "colorscale": [
             [
              0,
              "#0d0887"
             ],
             [
              0.1111111111111111,
              "#46039f"
             ],
             [
              0.2222222222222222,
              "#7201a8"
             ],
             [
              0.3333333333333333,
              "#9c179e"
             ],
             [
              0.4444444444444444,
              "#bd3786"
             ],
             [
              0.5555555555555556,
              "#d8576b"
             ],
             [
              0.6666666666666666,
              "#ed7953"
             ],
             [
              0.7777777777777778,
              "#fb9f3a"
             ],
             [
              0.8888888888888888,
              "#fdca26"
             ],
             [
              1,
              "#f0f921"
             ]
            ],
            "type": "heatmap"
           }
          ],
          "heatmapgl": [
           {
            "colorbar": {
             "outlinewidth": 0,
             "ticks": ""
            },
            "colorscale": [
             [
              0,
              "#0d0887"
             ],
             [
              0.1111111111111111,
              "#46039f"
             ],
             [
              0.2222222222222222,
              "#7201a8"
             ],
             [
              0.3333333333333333,
              "#9c179e"
             ],
             [
              0.4444444444444444,
              "#bd3786"
             ],
             [
              0.5555555555555556,
              "#d8576b"
             ],
             [
              0.6666666666666666,
              "#ed7953"
             ],
             [
              0.7777777777777778,
              "#fb9f3a"
             ],
             [
              0.8888888888888888,
              "#fdca26"
             ],
             [
              1,
              "#f0f921"
             ]
            ],
            "type": "heatmapgl"
           }
          ],
          "histogram": [
           {
            "marker": {
             "pattern": {
              "fillmode": "overlay",
              "size": 10,
              "solidity": 0.2
             }
            },
            "type": "histogram"
           }
          ],
          "histogram2d": [
           {
            "colorbar": {
             "outlinewidth": 0,
             "ticks": ""
            },
            "colorscale": [
             [
              0,
              "#0d0887"
             ],
             [
              0.1111111111111111,
              "#46039f"
             ],
             [
              0.2222222222222222,
              "#7201a8"
             ],
             [
              0.3333333333333333,
              "#9c179e"
             ],
             [
              0.4444444444444444,
              "#bd3786"
             ],
             [
              0.5555555555555556,
              "#d8576b"
             ],
             [
              0.6666666666666666,
              "#ed7953"
             ],
             [
              0.7777777777777778,
              "#fb9f3a"
             ],
             [
              0.8888888888888888,
              "#fdca26"
             ],
             [
              1,
              "#f0f921"
             ]
            ],
            "type": "histogram2d"
           }
          ],
          "histogram2dcontour": [
           {
            "colorbar": {
             "outlinewidth": 0,
             "ticks": ""
            },
            "colorscale": [
             [
              0,
              "#0d0887"
             ],
             [
              0.1111111111111111,
              "#46039f"
             ],
             [
              0.2222222222222222,
              "#7201a8"
             ],
             [
              0.3333333333333333,
              "#9c179e"
             ],
             [
              0.4444444444444444,
              "#bd3786"
             ],
             [
              0.5555555555555556,
              "#d8576b"
             ],
             [
              0.6666666666666666,
              "#ed7953"
             ],
             [
              0.7777777777777778,
              "#fb9f3a"
             ],
             [
              0.8888888888888888,
              "#fdca26"
             ],
             [
              1,
              "#f0f921"
             ]
            ],
            "type": "histogram2dcontour"
           }
          ],
          "mesh3d": [
           {
            "colorbar": {
             "outlinewidth": 0,
             "ticks": ""
            },
            "type": "mesh3d"
           }
          ],
          "parcoords": [
           {
            "line": {
             "colorbar": {
              "outlinewidth": 0,
              "ticks": ""
             }
            },
            "type": "parcoords"
           }
          ],
          "pie": [
           {
            "automargin": true,
            "type": "pie"
           }
          ],
          "scatter": [
           {
            "marker": {
             "line": {
              "color": "#283442"
             }
            },
            "type": "scatter"
           }
          ],
          "scatter3d": [
           {
            "line": {
             "colorbar": {
              "outlinewidth": 0,
              "ticks": ""
             }
            },
            "marker": {
             "colorbar": {
              "outlinewidth": 0,
              "ticks": ""
             }
            },
            "type": "scatter3d"
           }
          ],
          "scattercarpet": [
           {
            "marker": {
             "colorbar": {
              "outlinewidth": 0,
              "ticks": ""
             }
            },
            "type": "scattercarpet"
           }
          ],
          "scattergeo": [
           {
            "marker": {
             "colorbar": {
              "outlinewidth": 0,
              "ticks": ""
             }
            },
            "type": "scattergeo"
           }
          ],
          "scattergl": [
           {
            "marker": {
             "line": {
              "color": "#283442"
             }
            },
            "type": "scattergl"
           }
          ],
          "scattermapbox": [
           {
            "marker": {
             "colorbar": {
              "outlinewidth": 0,
              "ticks": ""
             }
            },
            "type": "scattermapbox"
           }
          ],
          "scatterpolar": [
           {
            "marker": {
             "colorbar": {
              "outlinewidth": 0,
              "ticks": ""
             }
            },
            "type": "scatterpolar"
           }
          ],
          "scatterpolargl": [
           {
            "marker": {
             "colorbar": {
              "outlinewidth": 0,
              "ticks": ""
             }
            },
            "type": "scatterpolargl"
           }
          ],
          "scatterternary": [
           {
            "marker": {
             "colorbar": {
              "outlinewidth": 0,
              "ticks": ""
             }
            },
            "type": "scatterternary"
           }
          ],
          "surface": [
           {
            "colorbar": {
             "outlinewidth": 0,
             "ticks": ""
            },
            "colorscale": [
             [
              0,
              "#0d0887"
             ],
             [
              0.1111111111111111,
              "#46039f"
             ],
             [
              0.2222222222222222,
              "#7201a8"
             ],
             [
              0.3333333333333333,
              "#9c179e"
             ],
             [
              0.4444444444444444,
              "#bd3786"
             ],
             [
              0.5555555555555556,
              "#d8576b"
             ],
             [
              0.6666666666666666,
              "#ed7953"
             ],
             [
              0.7777777777777778,
              "#fb9f3a"
             ],
             [
              0.8888888888888888,
              "#fdca26"
             ],
             [
              1,
              "#f0f921"
             ]
            ],
            "type": "surface"
           }
          ],
          "table": [
           {
            "cells": {
             "fill": {
              "color": "#506784"
             },
             "line": {
              "color": "rgb(17,17,17)"
             }
            },
            "header": {
             "fill": {
              "color": "#2a3f5f"
             },
             "line": {
              "color": "rgb(17,17,17)"
             }
            },
            "type": "table"
           }
          ]
         },
         "layout": {
          "annotationdefaults": {
           "arrowcolor": "#f2f5fa",
           "arrowhead": 0,
           "arrowwidth": 1
          },
          "autotypenumbers": "strict",
          "coloraxis": {
           "colorbar": {
            "outlinewidth": 0,
            "ticks": ""
           }
          },
          "colorscale": {
           "diverging": [
            [
             0,
             "#8e0152"
            ],
            [
             0.1,
             "#c51b7d"
            ],
            [
             0.2,
             "#de77ae"
            ],
            [
             0.3,
             "#f1b6da"
            ],
            [
             0.4,
             "#fde0ef"
            ],
            [
             0.5,
             "#f7f7f7"
            ],
            [
             0.6,
             "#e6f5d0"
            ],
            [
             0.7,
             "#b8e186"
            ],
            [
             0.8,
             "#7fbc41"
            ],
            [
             0.9,
             "#4d9221"
            ],
            [
             1,
             "#276419"
            ]
           ],
           "sequential": [
            [
             0,
             "#0d0887"
            ],
            [
             0.1111111111111111,
             "#46039f"
            ],
            [
             0.2222222222222222,
             "#7201a8"
            ],
            [
             0.3333333333333333,
             "#9c179e"
            ],
            [
             0.4444444444444444,
             "#bd3786"
            ],
            [
             0.5555555555555556,
             "#d8576b"
            ],
            [
             0.6666666666666666,
             "#ed7953"
            ],
            [
             0.7777777777777778,
             "#fb9f3a"
            ],
            [
             0.8888888888888888,
             "#fdca26"
            ],
            [
             1,
             "#f0f921"
            ]
           ],
           "sequentialminus": [
            [
             0,
             "#0d0887"
            ],
            [
             0.1111111111111111,
             "#46039f"
            ],
            [
             0.2222222222222222,
             "#7201a8"
            ],
            [
             0.3333333333333333,
             "#9c179e"
            ],
            [
             0.4444444444444444,
             "#bd3786"
            ],
            [
             0.5555555555555556,
             "#d8576b"
            ],
            [
             0.6666666666666666,
             "#ed7953"
            ],
            [
             0.7777777777777778,
             "#fb9f3a"
            ],
            [
             0.8888888888888888,
             "#fdca26"
            ],
            [
             1,
             "#f0f921"
            ]
           ]
          },
          "colorway": [
           "#636efa",
           "#EF553B",
           "#00cc96",
           "#ab63fa",
           "#FFA15A",
           "#19d3f3",
           "#FF6692",
           "#B6E880",
           "#FF97FF",
           "#FECB52"
          ],
          "font": {
           "color": "#f2f5fa"
          },
          "geo": {
           "bgcolor": "rgb(17,17,17)",
           "lakecolor": "rgb(17,17,17)",
           "landcolor": "rgb(17,17,17)",
           "showlakes": true,
           "showland": true,
           "subunitcolor": "#506784"
          },
          "hoverlabel": {
           "align": "left"
          },
          "hovermode": "closest",
          "mapbox": {
           "style": "dark"
          },
          "paper_bgcolor": "rgb(17,17,17)",
          "plot_bgcolor": "rgb(17,17,17)",
          "polar": {
           "angularaxis": {
            "gridcolor": "#506784",
            "linecolor": "#506784",
            "ticks": ""
           },
           "bgcolor": "rgb(17,17,17)",
           "radialaxis": {
            "gridcolor": "#506784",
            "linecolor": "#506784",
            "ticks": ""
           }
          },
          "scene": {
           "xaxis": {
            "backgroundcolor": "rgb(17,17,17)",
            "gridcolor": "#506784",
            "gridwidth": 2,
            "linecolor": "#506784",
            "showbackground": true,
            "ticks": "",
            "zerolinecolor": "#C8D4E3"
           },
           "yaxis": {
            "backgroundcolor": "rgb(17,17,17)",
            "gridcolor": "#506784",
            "gridwidth": 2,
            "linecolor": "#506784",
            "showbackground": true,
            "ticks": "",
            "zerolinecolor": "#C8D4E3"
           },
           "zaxis": {
            "backgroundcolor": "rgb(17,17,17)",
            "gridcolor": "#506784",
            "gridwidth": 2,
            "linecolor": "#506784",
            "showbackground": true,
            "ticks": "",
            "zerolinecolor": "#C8D4E3"
           }
          },
          "shapedefaults": {
           "line": {
            "color": "#f2f5fa"
           }
          },
          "sliderdefaults": {
           "bgcolor": "#C8D4E3",
           "bordercolor": "rgb(17,17,17)",
           "borderwidth": 1,
           "tickwidth": 0
          },
          "ternary": {
           "aaxis": {
            "gridcolor": "#506784",
            "linecolor": "#506784",
            "ticks": ""
           },
           "baxis": {
            "gridcolor": "#506784",
            "linecolor": "#506784",
            "ticks": ""
           },
           "bgcolor": "rgb(17,17,17)",
           "caxis": {
            "gridcolor": "#506784",
            "linecolor": "#506784",
            "ticks": ""
           }
          },
          "title": {
           "x": 0.05
          },
          "updatemenudefaults": {
           "bgcolor": "#506784",
           "borderwidth": 0
          },
          "xaxis": {
           "automargin": true,
           "gridcolor": "#283442",
           "linecolor": "#506784",
           "ticks": "",
           "title": {
            "standoff": 15
           },
           "zerolinecolor": "#283442",
           "zerolinewidth": 2
          },
          "yaxis": {
           "automargin": true,
           "gridcolor": "#283442",
           "linecolor": "#506784",
           "ticks": "",
           "title": {
            "standoff": 15
           },
           "zerolinecolor": "#283442",
           "zerolinewidth": 2
          }
         }
        },
        "title": {
         "text": "Simulated Stock Price Trajectory Using Inverse Transform Sampling"
        },
        "xaxis": {
         "title": {
          "text": "Time Steps"
         }
        },
        "yaxis": {
         "title": {
          "text": "Price"
         }
        }
       }
      }
     },
     "metadata": {},
     "output_type": "display_data"
    }
   ],
   "source": [
    "# Plot simulated price trajectory\n",
    "fig_sim_inv_method = go.Figure()\n",
    "\n",
    "# Add the historical price trace\n",
    "fig_sim_inv_method.add_trace(go.Scatter(\n",
    "    x=list(range(len(price_data['close_mid_price']))), \n",
    "    y=price_data['close_mid_price'], \n",
    "    mode='lines', \n",
    "    name='Historical Closing Prices'\n",
    "))\n",
    "\n",
    "# Add the simulated price trace\n",
    "fig_sim_inv_method.add_trace(go.Scatter(\n",
    "    x=list(range(len(sim_prices))), \n",
    "    y=sim_prices, \n",
    "    mode='lines', \n",
    "    name='Simulated Stock Prices'\n",
    "))\n",
    "\n",
    "# Update the layout to add titles and labels\n",
    "fig_sim_inv_method.update_layout(\n",
    "    title='Simulated Stock Price Trajectory Using Inverse Transform Sampling',\n",
    "    xaxis_title='Time Steps',\n",
    "    yaxis_title='Price',\n",
    "    template='plotly_dark'  # Using a dark theme for better visibility\n",
    ")\n",
    "\n",
    "# Show the interactive plot\n",
    "fig_sim_inv_method.show()"
   ]
  },
  {
   "cell_type": "code",
   "execution_count": 257,
   "metadata": {},
   "outputs": [
    {
     "data": {
      "application/vnd.plotly.v1+json": {
       "config": {
        "plotlyServerURL": "https://plot.ly"
       },
       "data": [
        {
         "histnorm": "probability density",
         "name": "Historical Returns",
         "type": "histogram",
         "x": [
          -0.0007429420505199663,
          0.0006922189462888906,
          0.002365580378492845,
          0.0007412266875685983,
          -0.0011493274306146,
          0.0014489665459194933,
          -0.0007830120430657243,
          -0.001865369709462326,
          0.0005034817039870166,
          -0.00043499398684782107,
          0.0005631783739503161,
          0.00011939483873177101,
          0.00011085340064114346,
          0.000520100609626233,
          -0.0004857430163788594,
          -0.000434823384972155,
          0.00014500417953210168,
          0.0005458189416230439,
          -0.0013552791960382764,
          0.0008962103106863964,
          0.0004860785400587868,
          0.0010398731695675384,
          -0.00060454344198089,
          -0.0012779770475322262,
          -0.0004009452069986498,
          0.00011094422065961386,
          -0.00006826579286464994,
          0.000017067613350271642,
          0.00017067322051837337,
          -0.0004863356740014644,
          0.00048657231147451583,
          -0.0009897357576171958,
          -0.0005722240726979472,
          -0.0009485558024270443,
          0.0003678074399747356,
          -0.0003249196251452577,
          0.00029936534546753083,
          0.000632754448520303,
          -0.00006836262956848417,
          -0.00014528051959156754,
          0.0010769414861792432,
          0.0008708718964516084,
          -0.0005374234384862418,
          0.0004950368290329944,
          -0.00009383984098423263,
          0.0005460284958622132,
          0.00034960860889888797,
          -0.0003068661296510483,
          -0.0003325403524926651,
          0.00008529512111899441,
          -0.00027292110874195,
          -0.0004436178743878771,
          0.00012802348804248978,
          -0.00011093948677676567,
          -0.0010241704219582527,
          0.000247761602077749,
          0.0003160313298086885,
          -0.00020492853117476056,
          0.0006319924844137066,
          -0.0004950326038716283,
          0.0005379741430841368,
          -0.0004352687144210422,
          -0.00000853839717207509,
          0.00040984656369273307,
          0.0009729868134680771,
          -0.0007929808405597453,
          0.00020480262147356263,
          0.00017916560020479175,
          0.00023884467419025063,
          -0.00029848455129236057,
          0.000929843718009894,
          -0.00046022858019479913,
          0.00005968672993454611,
          0.00039220367307269105,
          0.0010483073671291876,
          -0.00034906985654067896,
          0.00004258435961636135,
          0.00029807782386147817,
          -0.0006385478570333918,
          0.0001959464640182811,
          0.000638830684315429,
          0.0007661074082587153,
          0.0004678183503873999,
          -0.00013602897417156813,
          -0.000629219597639584,
          0,
          -0.00029779123983247885,
          0.0003234125126597971,
          0.0002382269111330243,
          -0.0007825591385045232,
          -0.00017876752560209446,
          -0.0007492550021286582,
          0.0002556193657233022,
          -0.00035777565762579454,
          0.00003408606731995195,
          -0.0008606438638648797,
          0.0005714139510290336,
          -0.0006563245823388867,
          -0.0005458748070248117,
          0.0005803087583953299,
          -0.00044350814946223085,
          -0.00003413114893977014,
          -0.001023969417446771,
          0.000358756651946317,
          0.00029885665980711705,
          0.00038412947724250136,
          0.0001877245227957534,
          0.0005204112101692616,
          -0.00015348408881618036,
          -0.0004264101383274489,
          -0.0001535731349394549,
          -0.000025599453878488,
          -0.00014506728562028673,
          -0.00023043441153877426,
          -0.000187804649018744,
          -0.00041837074478531523,
          0.000170835041683789,
          0.00019642674136577918,
          -0.00014515647013625305,
          -0.00012809783258475033,
          -0.00021352373956936533,
          0.00008542773667766102,
          -0.0007687839546247402,
          0.000042743079895326067,
          -0.00058982929143536,
          0.00016251261611083975,
          0.0003506281374805075,
          0.00035050524048086057,
          0.00009400504208853561,
          -0.0006067027839967498,
          0.00010260356547400132,
          0.00005984593945295368,
          -0.00046164104843808334,
          0.000051317139924688186,
          0.0007868224347023525,
          -0.000051274162949437523,
          0.00009400745222723082,
          -0.00021363321740170736,
          -0.00025641463956644944,
          0.00000854934682989442,
          -0.00017953474852314407,
          0.0007524711837738839,
          0.00003417751802880396,
          -0.0009654818865346113,
          -0.00007697110162744118,
          0.0006072632101131018,
          -0.00012821718281213698,
          0.000017097816608803502,
          -0.00009403638353157909,
          0.0002992348138331202,
          -0.0002991452991452214,
          -0.00013679305775238904,
          -0.0015647846497190462,
          0.0005395406197008391,
          -0.00023110700254216148,
          0.000008561497234628607,
          0.00035101838137726075,
          -0.0001283762966006735,
          -0.000051357111675992635,
          0.00034239832909623187,
          0.0001454694813583815,
          -0.0001882272416153553,
          -0.00028239401666974213,
          -0.00041087096083887713,
          -0.00005137998064682723,
          0.00014558409194069825,
          0.0003082508476897455,
          -0.00021399712387865506,
          0.0003167835341055068,
          -0.00011126707521644165,
          -0.00011127945695634348,
          -0.0002996318808320427,
          -0.0004881181759793931,
          -0.0006939803629261749,
          -0.00007716247845873792,
          -0.00006001989230711007,
          -0.0005659358091596555,
          0.0002230706533396173,
          -0.0004889304432111033,
          0.00023171192200746783,
          0.0008065138866247862,
          -0.00017146041407693898,
          -0.000008574490889595631,
          -0.00001714912882424013,
          -0.00006002298022666078,
          -0.00009432748788760222,
          0.000008576035127432083,
          -0.00003430384631873729,
          -0.00013722009245210748,
          -0.00006861946219490265,
          -0.00033454283434971964,
          0.0004891108479636996,
          -0.0005489086152923367,
          -0.0005492100814374481,
          0.000858612310783312,
          0.00014583887378061147,
          -0.00003431002538938759,
          0.00007720020586734047,
          -0.00003430855398038493,
          -0.00007719689496926547,
          -0.00001715618995331956,
          0.0005404292552369154,
          0.0010459802635527555,
          -0.00023124555708766076,
          -0.0002227324127060197,
          -0.00008568539749448105,
          -0.00042846370055528893,
          -0.0000943024192858112,
          0.00012003258027187384,
          0.00011144544745337016,
          0.00032572731480697155,
          0.00008568980291337537,
          0.00005140947648031258,
          0.00025703416840874816,
          0.00031692734654711153,
          0.00019694647337370867,
          0.00047086622262551114,
          -0.0002909439419480564,
          -0.00025678995437694585,
          0.0001883610024230308,
          -0.00066769960366034,
          -0.00019701732895899314,
          -0.0001456501996265124,
          0.00004284453432271748,
          -0.00003427415899779242,
          0.00005998183407305474,
          0.000008568319495489555,
          -0.00002570473824005888,
          -0.0011481744882482782,
          0.0003345543136059574,
          0.0002915651905465523,
          0.00017145894415586087,
          -0.00007714329796182736,
          -0.0003514576922086583,
          -0.0000686012211018682,
          -0.00013721185510415622,
          -0.0003773843831481187,
          -0.00018018327212825306,
          -0.00006865361675828542,
          0.0007209124692109597,
          -0.0002744354776463181,
          -0.000034313851644031204,
          -0.00006005130096868214,
          -0.00024021962937540556,
          -0.00013730134212049436,
          0.0001544852209137254,
          -0.00009439305267123755,
          0.00024887790393309786,
          -0.0003603541766765673,
          -0.00035190112436688225,
          -0.0010646609827507827,
          0.0014611715157506085,
          -0.0002918079217269412,
          -0.0007812432928974292,
          0.0007474868974996913,
          0.00022322003485665917,
          0.00015450245916419635,
          -0.00004291071995602039,
          0.000008582512272984744,
          -0.00016306633366809526,
          0.0006781232295833093,
          0.0001801384492653237,
          0.00017152952880842336,
          -0.0003515752285239687,
          -0.00006004614975504288,
          0.00040319121557864566,
          0.00016292650299684196,
          -0.000282931513426324,
          -0.000060032760735089435,
          0.0003430649421934402,
          -0.0002229157378510845,
          0.00012863390789819994,
          -0.00020578778135049011,
          0.00019725388289981922,
          -0.0003858553985457929,
          -0.00030022559809220276,
          -0.0005405683690281002,
          0.00044642473879858677,
          -0.00016304394463356064,
          0.00007724393635092619,
          -0.00031753387743202477,
          -0.000927150043782023,
          0.0003093368162368552,
          -0.00011167041764745574,
          -0.00047250453174797,
          0.00007735547418898642,
          0.00013751020583565972,
          -0.0002577961863350444,
          -0.0004985344805357995,
          -0.00048158372247013363,
          0.0006366851075911872,
          -0.00016336918857108243,
          -0.0005159869971275942,
          -0.00011185489838422083,
          0.00006023629839355275,
          -0.0011186067322917514,
          0.0002412004892925935,
          0.00033587681072038913,
          0.0005596067256119868,
          0.00018069490096201651,
          0.00043014822907974084,
          -0.000412764749890375,
          -0.00007742534905940719,
          0.00014625920572654069,
          0.00017204449070533552,
          -0.00030962681368217434,
          0.0002753090774566291,
          -0.00024082914032615152,
          0.0004473618555195069,
          0.0005331544686082869,
          0.0006188171996803013,
          -0.0010393135377030625,
          0.00016336778387306716,
          -0.00010316279949460393,
          -0.00009457565622600139,
          -0.000335345405768027,
          -0.000017202969232473884,
          -0.0000516097955391464,
          0.00007741868887142317,
          -0.00011181833820736433,
          0.00047313048938893437,
          0.0007222575708069665,
          -0.0005928548107159171,
          -0.00012036073832724368,
          -0.00020635753162000044,
          0.0006020003612002559,
          0.00021487077671488366,
          0.0004554281884269448,
          -0.00036933013819823895,
          -0.0006014572449819719,
          0.00011176642536571845,
          -0.00016333267427171214,
          -0.00006018502596548504,
          -0.00003439351338334461,
          -0.00023216420028030114,
          -0.0000946073793757008,
          0.0004214727461960013,
          -0.00030952299067983283,
          0.0000602036603824965,
          -0.00043860026316015007,
          -0.00033554737240585117,
          -0.00008606666724056186,
          0.0006713777877240919,
          -0.0004644881598527088,
          -0.00038725334113581014,
          -0.0003013137278533627,
          -0.000301404545180463,
          0.0001722830955825047,
          -0.0015588934440348172,
          -0.0003277924901014274,
          0.00031064207992121767,
          0.00006901013586364221,
          0.00037090388414003236,
          0.0003793888390701995,
          -0.00007757283227042365,
          -0.0002154968063373301,
          0.000008621730208810465,
          -0.00012932483812829333,
          -0.00007760493912316606,
          -0.000396678250821414,
          -0.0008885668193621062,
          -0.0002590360405479319,
          0.0004318385960063567,
          -0.0014244522333683235,
          -0.0000605175111742677,
          0.00013833411146278108,
          0.0005619045972441527,
          0.00009503814485532598,
          -0.0006306477529934328,
          0.00025068939583852457,
          -0.000025926886180946088,
          -0.00029384566188728266,
          -0.00025070673363703167,
          0.00019023900937361842,
          -0.000743520135562851,
          0.000017304031839402848,
          -0.00032011904967892135,
          0.00019905664459735875,
          -0.0002768932576493179,
          0.00038948899044457614,
          -0.00012112717488157455,
          -0.000328813588654295,
          0.00034623341325562497,
          0.0003028493800239762,
          -0.00012975329573359362,
          0.000051908053534458664,
          -0.00020762143691336915,
          -0.0005710775194469909,
          0.00013852214189868998
         ]
        },
        {
         "histnorm": "probability density",
         "name": "Simulated Returns",
         "type": "histogram",
         "x": [
          0.00015738952898077354,
          -0.00043494997337139836,
          0.0005507900384309878,
          0.00034949718524296977,
          0.000705767059996188,
          0.00019609289518469133,
          0.00007722725366205151,
          -0.00011127083256540123,
          0.0006297708682275363,
          0.0004472670689892102,
          -0.0009043835233131431,
          -0.0010581529481790716,
          -0.0001416172674294389,
          0.00033495800012919104,
          0.001046097582858765,
          -0.00045172106438290095,
          0.00005281697843010493,
          -0.00013721872057757744,
          0.0008219715281402222,
          0.00038215860954245824,
          0.00037183609332377206,
          -0.0000686426313132005,
          -0.00011152780050074722,
          -0.0002760198831140598,
          -0.0007825908109369796,
          0.00044677803589121605,
          0.00033730171391063463,
          0.0022662535922122287,
          0.0014574090850842311,
          0.000008561926583242111,
          0.0002595214658626251,
          0.0006748440606759768,
          0.0003978384691427061,
          -0.00030009592336846367,
          -0.00007759653776681469,
          -0.0004887330521253866,
          0.0007246448266328758,
          0.000060229833874134716,
          -0.0003203972365903583,
          0.0001455028979342302,
          0.00007738403998977654,
          -0.00016305905057528074,
          -0.0005449519995975403,
          0.00014549721403462698,
          -0.00003430667234849528,
          0.0002823293511802296,
          -0.00003430693641874494,
          0.0004065095962667263,
          0.0000059140985848628816,
          0.00000857736210624749,
          0.0004733668098824096,
          -0.00012144200493910852,
          -0.00048625748831590597,
          -0.0010363385047400964,
          0.00024060774844301982,
          0.00007978489101817959,
          0.0001719863153520073,
          -0.0003353771026490808,
          -0.0004855412739735785,
          -0.001304424049356468,
          -0.00016839739670903268,
          0.000051361274968761896,
          -0.00012950353342336963,
          -0.00009425513284920376,
          0.0005401784220018832,
          -0.00017532312368896737,
          -0.000034318479092248653,
          0.00029934459380365186,
          -0.0001283356999390491,
          0.0000852299545796968,
          0.0004385406763153464,
          0.000702649690425677,
          -0.0004613421926423274,
          0.000604329625437672,
          -0.00006002852344710116,
          -0.00029598784616725096,
          -0.00007717611396437951,
          0.0009398818990859013,
          -0.000060026614286424907,
          -0.00020585365792670312,
          0.00009441244468228404,
          -0.00030459058394042925,
          -0.0006618888488037789,
          -0.0004888214273449752,
          -0.0004900908828380903,
          -0.0004436079829298273,
          -0.0004815494924628065,
          0.00011088067168834754,
          -0.00039773921739399,
          -0.000179178317305638,
          0.0005312517912122998,
          -0.00006851268501798904,
          0.00014292967005320837,
          -0.0004181889429458567,
          -0.0003709375374216204,
          -0.0009502840956327448,
          -0.00042699388488109323,
          -0.00026776083584674476,
          -0.00041114162423113457,
          -0.0006056116995026531,
          -0.0005175442718876427,
          -0.00007715781873415056,
          -0.0003508277418560206,
          -0.0001535107157488034,
          -0.00005136101498938172,
          0.00016317520375194557,
          -0.0009605323204279534,
          0.000316761453280474,
          0.0000877956498068197,
          -0.0006321940922757795,
          0.0004703239597582268,
          0.0005733651498343272,
          -0.0007717825886255019,
          -0.0002733672340535816,
          0.00032482986101338397,
          0.00023218764364188967,
          -0.00038933929485534445,
          -0.0003431620620167241,
          -0.00014526642162082556,
          -0.000060120912687291493,
          0.00007738715145356343,
          -0.0001454626218353575,
          -0.00007714471723083273,
          0.00022972647577197436,
          -0.000983192889663291,
          -0.0002990144900008972,
          0.00018041277378023806,
          0.0005234117360213433,
          -0.00003439012576923503,
          -0.000025706483041478775,
          -0.0005543965220182061,
          -0.00008533461918612718,
          -0.00002568493249855707,
          -0.0003013753904650318,
          -0.0002825361217611083,
          -0.00013913768140959979,
          -0.0011483962037514151,
          -0.00021181918164292607,
          -0.0003354962193618725,
          -0.00020613164273223798,
          -0.0005248301877650603,
          0.0005103804145984501,
          0.00005186191742382321,
          0.00014766422678346493,
          0.0003081839333266102,
          -0.0000525011364206403,
          -0.000610936123609826,
          -0.00001775340273633893,
          0.000045226987893462635,
          0.00022321644304645446,
          -0.00009440847107933057,
          -0.000491195944879117,
          -0.0002574049358235523,
          -0.00015355185173176173,
          0.00011152948167850674,
          0.000017104572326207627,
          -0.00016319374398832866,
          0.001044480555356298,
          0.00006022475774721548,
          -0.0003087758229466469,
          -0.0005715437288095314,
          -0.00044356715896296043,
          -0.00030057645863323376,
          -0.0004351299621068895,
          -0.00038645012196836996,
          -0.00025688854435841813,
          -0.0004158910530819171,
          0.0005311378502500122,
          -0.0006368815112957562,
          -0.000034269163578835685,
          -0.00011183134026030591,
          0.000982704195546492,
          -0.0005471395017476674,
          -0.0001282544428016447,
          0.0008129740153713123,
          0.0004470641072724738,
          0.00034295897444192367,
          -0.0002965120845655079,
          -0.0004225892437419112,
          0.0001450517392185663,
          0.000613355164002175,
          0.000008565459367566475,
          0.000017171504776469767,
          -0.0002602597672390309,
          0.00026311516288248855,
          -0.00038619087934039175,
          -0.00020814542586497005,
          -0.00009892979474105216,
          -0.000047423321769821166,
          -0.00030137753738704797,
          -0.0005423114021853901,
          0.00007336067246458417,
          -0.0002548319216695278,
          0.000042600496410855813,
          -0.0004432770064628852,
          -0.000060463149968469406,
          -0.000025686072453236154,
          -0.0007913922546215534,
          -0.00018876287246645366,
          -0.00048616539793743235,
          -0.000756034214075232,
          0.001051014161847723,
          -0.0002111885189319463,
          0.00033460874684322053,
          -0.0002984462703059445,
          0.00015448702332701016,
          0.00024857498146762516,
          0.00005738011977189258,
          -0.000068611378885347,
          -0.00011178784947192015,
          -0.00017358126165454101,
          0.0006140435199874662,
          0.00035187693962930057,
          0.0007742995435000326,
          -0.0004973031508876949,
          0.0001970409857728774,
          0.0006367160847915188,
          -0.00039881316799032096,
          -0.0007442825975099546,
          0.00021729738730955393,
          0.00002519227703159099,
          0.0003816235482144025,
          -0.00047821121615078415,
          0.0003125767360923367,
          -0.0003517600025052302,
          -0.0004348810208070528,
          -0.000434840548306442,
          0.0003415477024771053,
          0.00013847733779034113,
          -0.0000342898205369748,
          -0.00016305323477707351,
          0.00047612162344651715,
          -0.00012947002236431002,
          0.00034283641519431286,
          -0.0000940833443135416,
          -0.0001401640005560792,
          -0.00007714363483607815,
          -0.00023121285917789765,
          0.0002301837974764712,
          -0.000051367214461309596,
          -0.0003149187077229314,
          0.000537658497801388,
          -0.00013707210866201384,
          -0.000013358598883523796,
          0.0005437582013134175,
          0.00008540500377303877,
          -0.0005390797544124504,
          0.000637961073670538,
          0.00008717351303139039,
          -0.00019457118739952625,
          -0.00047997819228400094,
          0.000310479964378377,
          0.00007905936590404734,
          -0.000025650373103986383,
          0.0005203255511385015,
          0.0003069778036814322,
          -0.0004436177067044857,
          -0.00022085199168546548,
          -0.00029983239376347055,
          0.0002231296751437854,
          -0.0010224591272344305,
          0.000017088365629099127,
          0.0002499583297915541,
          0.0004739311023257385,
          -0.00018013800501816906,
          0.000347816688901489,
          -0.0005488001697662472,
          0.0003902217959037737,
          -0.0004914134755586788,
          -0.00012828961840523305,
          0.0003161425787843952,
          -0.00045494838167907343,
          -0.00031965683963531465,
          0.00019015684488853148,
          0.0001885379345593068,
          0.00011089031254790239,
          0.0001702783243931792,
          -0.00001612181463924079,
          -0.000299169709043577,
          -0.00017916974876054564,
          -0.00039820790410830686,
          0.0005459000953493227,
          0.00004273346274221647,
          -0.00012810604374659625,
          -0.00007714866355972935,
          0.0006850755064174988,
          -0.0004435461476634931,
          0.000043212284841874865,
          -0.00005129152444256207,
          0.00007601835897923672,
          -0.0011492757078833617,
          0.00046859921702036,
          0.0006266434754150282,
          0.000008615330171749788,
          0.00017083458380887757,
          0.0005789946331326982,
          0.00017308028747540323,
          -0.00044358082163079997,
          0.000034102178383824123,
          0.000060342927216995863,
          -0.00010326520962690815,
          0.00020179637037472253,
          0.0006323496693718026,
          0.0006022432496809876,
          -0.00007759285039621623,
          -0.0005456116085913709,
          0.001040503582871792,
          0.0003737154217049588,
          -0.0004968053134127096,
          0.0005732595554069301,
          0.0004602564467349398,
          -0.000034308807056521036,
          0.000051412539989403725,
          -0.0001281918743809351,
          -0.0007828751402064241,
          -0.00019357401441188647,
          0.00031893769294813554,
          -0.0016243434906045658,
          -0.00019914403583936154,
          -0.00012823506373219368,
          -0.000017200775773459392,
          0.0005699631288187202,
          -0.0001789757561876821,
          -0.00017879453527254598,
          0.00020415898883118376,
          -0.00007757563266202971,
          -0.0003267258639367222,
          -0.00007757286528347247,
          -0.0004743804657118355,
          -0.0004116009450259489,
          -0.00005274462375718686,
          -0.00011126754572432518,
          0.0005616174908576037,
          -0.00015384564085415403,
          0.000041313819003851746,
          0.00009400733366768981,
          -0.001348032613355341,
          0.00013835593008482047,
          -0.0004083300560725707,
          0.0007517552084737574,
          -0.00046046898074179605,
          -0.0001115575144044821,
          -0.0006246932478879314,
          0.0014585362670948919,
          -0.000051371888255245514,
          0.00005661237717636672,
          -0.0007434665183461798,
          0.000236497982767952,
          -0.0003402359460599728,
          0.0005348081885304482,
          -0.0003514812793790781,
          -0.000375954566698207,
          -0.0009844527601868768,
          -0.0000686078965822176,
          0.00000861087471708394,
          -0.0007460396876096684,
          0.0002959953630825971,
          -0.00007752425768423319,
          -0.000034274520744672864,
          -0.00009394662086800405,
          -0.00012811014586649176,
          0.00000857372112360618,
          -0.0004416016532149644,
          -0.00039765946827578,
          0.0004352606009984834,
          0.0006786717611566549,
          -0.0001451370881975778,
          -0.0002806355458370894,
          0.00011120276462720394,
          -0.00011187537570769406,
          -0.001071388430302423,
          -0.00043985982125805973,
          0.0001843024819503293,
          0.00013148686902475477,
          -0.0010509647168207405,
          -0.0003284590928568506,
          -0.00031782316887607936,
          0.00014551146060842865,
          -0.0011485579578172959,
          -0.000568515721981303,
          0.0003168076021545216,
          -0.00040636592381482255,
          0.00011998043594349463,
          -0.00030778778988737926,
          -0.0005778101772064406,
          -0.00030135060129574224,
          0.00019016733804005662,
          0.0004199139784883063,
          0.0003510010261839759,
          -0.0001282960407160987
         ]
        }
       ],
       "layout": {
        "bargap": 0.1,
        "barmode": "overlay",
        "template": {
         "data": {
          "bar": [
           {
            "error_x": {
             "color": "#f2f5fa"
            },
            "error_y": {
             "color": "#f2f5fa"
            },
            "marker": {
             "line": {
              "color": "rgb(17,17,17)",
              "width": 0.5
             },
             "pattern": {
              "fillmode": "overlay",
              "size": 10,
              "solidity": 0.2
             }
            },
            "type": "bar"
           }
          ],
          "barpolar": [
           {
            "marker": {
             "line": {
              "color": "rgb(17,17,17)",
              "width": 0.5
             },
             "pattern": {
              "fillmode": "overlay",
              "size": 10,
              "solidity": 0.2
             }
            },
            "type": "barpolar"
           }
          ],
          "carpet": [
           {
            "aaxis": {
             "endlinecolor": "#A2B1C6",
             "gridcolor": "#506784",
             "linecolor": "#506784",
             "minorgridcolor": "#506784",
             "startlinecolor": "#A2B1C6"
            },
            "baxis": {
             "endlinecolor": "#A2B1C6",
             "gridcolor": "#506784",
             "linecolor": "#506784",
             "minorgridcolor": "#506784",
             "startlinecolor": "#A2B1C6"
            },
            "type": "carpet"
           }
          ],
          "choropleth": [
           {
            "colorbar": {
             "outlinewidth": 0,
             "ticks": ""
            },
            "type": "choropleth"
           }
          ],
          "contour": [
           {
            "colorbar": {
             "outlinewidth": 0,
             "ticks": ""
            },
            "colorscale": [
             [
              0,
              "#0d0887"
             ],
             [
              0.1111111111111111,
              "#46039f"
             ],
             [
              0.2222222222222222,
              "#7201a8"
             ],
             [
              0.3333333333333333,
              "#9c179e"
             ],
             [
              0.4444444444444444,
              "#bd3786"
             ],
             [
              0.5555555555555556,
              "#d8576b"
             ],
             [
              0.6666666666666666,
              "#ed7953"
             ],
             [
              0.7777777777777778,
              "#fb9f3a"
             ],
             [
              0.8888888888888888,
              "#fdca26"
             ],
             [
              1,
              "#f0f921"
             ]
            ],
            "type": "contour"
           }
          ],
          "contourcarpet": [
           {
            "colorbar": {
             "outlinewidth": 0,
             "ticks": ""
            },
            "type": "contourcarpet"
           }
          ],
          "heatmap": [
           {
            "colorbar": {
             "outlinewidth": 0,
             "ticks": ""
            },
            "colorscale": [
             [
              0,
              "#0d0887"
             ],
             [
              0.1111111111111111,
              "#46039f"
             ],
             [
              0.2222222222222222,
              "#7201a8"
             ],
             [
              0.3333333333333333,
              "#9c179e"
             ],
             [
              0.4444444444444444,
              "#bd3786"
             ],
             [
              0.5555555555555556,
              "#d8576b"
             ],
             [
              0.6666666666666666,
              "#ed7953"
             ],
             [
              0.7777777777777778,
              "#fb9f3a"
             ],
             [
              0.8888888888888888,
              "#fdca26"
             ],
             [
              1,
              "#f0f921"
             ]
            ],
            "type": "heatmap"
           }
          ],
          "heatmapgl": [
           {
            "colorbar": {
             "outlinewidth": 0,
             "ticks": ""
            },
            "colorscale": [
             [
              0,
              "#0d0887"
             ],
             [
              0.1111111111111111,
              "#46039f"
             ],
             [
              0.2222222222222222,
              "#7201a8"
             ],
             [
              0.3333333333333333,
              "#9c179e"
             ],
             [
              0.4444444444444444,
              "#bd3786"
             ],
             [
              0.5555555555555556,
              "#d8576b"
             ],
             [
              0.6666666666666666,
              "#ed7953"
             ],
             [
              0.7777777777777778,
              "#fb9f3a"
             ],
             [
              0.8888888888888888,
              "#fdca26"
             ],
             [
              1,
              "#f0f921"
             ]
            ],
            "type": "heatmapgl"
           }
          ],
          "histogram": [
           {
            "marker": {
             "pattern": {
              "fillmode": "overlay",
              "size": 10,
              "solidity": 0.2
             }
            },
            "type": "histogram"
           }
          ],
          "histogram2d": [
           {
            "colorbar": {
             "outlinewidth": 0,
             "ticks": ""
            },
            "colorscale": [
             [
              0,
              "#0d0887"
             ],
             [
              0.1111111111111111,
              "#46039f"
             ],
             [
              0.2222222222222222,
              "#7201a8"
             ],
             [
              0.3333333333333333,
              "#9c179e"
             ],
             [
              0.4444444444444444,
              "#bd3786"
             ],
             [
              0.5555555555555556,
              "#d8576b"
             ],
             [
              0.6666666666666666,
              "#ed7953"
             ],
             [
              0.7777777777777778,
              "#fb9f3a"
             ],
             [
              0.8888888888888888,
              "#fdca26"
             ],
             [
              1,
              "#f0f921"
             ]
            ],
            "type": "histogram2d"
           }
          ],
          "histogram2dcontour": [
           {
            "colorbar": {
             "outlinewidth": 0,
             "ticks": ""
            },
            "colorscale": [
             [
              0,
              "#0d0887"
             ],
             [
              0.1111111111111111,
              "#46039f"
             ],
             [
              0.2222222222222222,
              "#7201a8"
             ],
             [
              0.3333333333333333,
              "#9c179e"
             ],
             [
              0.4444444444444444,
              "#bd3786"
             ],
             [
              0.5555555555555556,
              "#d8576b"
             ],
             [
              0.6666666666666666,
              "#ed7953"
             ],
             [
              0.7777777777777778,
              "#fb9f3a"
             ],
             [
              0.8888888888888888,
              "#fdca26"
             ],
             [
              1,
              "#f0f921"
             ]
            ],
            "type": "histogram2dcontour"
           }
          ],
          "mesh3d": [
           {
            "colorbar": {
             "outlinewidth": 0,
             "ticks": ""
            },
            "type": "mesh3d"
           }
          ],
          "parcoords": [
           {
            "line": {
             "colorbar": {
              "outlinewidth": 0,
              "ticks": ""
             }
            },
            "type": "parcoords"
           }
          ],
          "pie": [
           {
            "automargin": true,
            "type": "pie"
           }
          ],
          "scatter": [
           {
            "marker": {
             "line": {
              "color": "#283442"
             }
            },
            "type": "scatter"
           }
          ],
          "scatter3d": [
           {
            "line": {
             "colorbar": {
              "outlinewidth": 0,
              "ticks": ""
             }
            },
            "marker": {
             "colorbar": {
              "outlinewidth": 0,
              "ticks": ""
             }
            },
            "type": "scatter3d"
           }
          ],
          "scattercarpet": [
           {
            "marker": {
             "colorbar": {
              "outlinewidth": 0,
              "ticks": ""
             }
            },
            "type": "scattercarpet"
           }
          ],
          "scattergeo": [
           {
            "marker": {
             "colorbar": {
              "outlinewidth": 0,
              "ticks": ""
             }
            },
            "type": "scattergeo"
           }
          ],
          "scattergl": [
           {
            "marker": {
             "line": {
              "color": "#283442"
             }
            },
            "type": "scattergl"
           }
          ],
          "scattermapbox": [
           {
            "marker": {
             "colorbar": {
              "outlinewidth": 0,
              "ticks": ""
             }
            },
            "type": "scattermapbox"
           }
          ],
          "scatterpolar": [
           {
            "marker": {
             "colorbar": {
              "outlinewidth": 0,
              "ticks": ""
             }
            },
            "type": "scatterpolar"
           }
          ],
          "scatterpolargl": [
           {
            "marker": {
             "colorbar": {
              "outlinewidth": 0,
              "ticks": ""
             }
            },
            "type": "scatterpolargl"
           }
          ],
          "scatterternary": [
           {
            "marker": {
             "colorbar": {
              "outlinewidth": 0,
              "ticks": ""
             }
            },
            "type": "scatterternary"
           }
          ],
          "surface": [
           {
            "colorbar": {
             "outlinewidth": 0,
             "ticks": ""
            },
            "colorscale": [
             [
              0,
              "#0d0887"
             ],
             [
              0.1111111111111111,
              "#46039f"
             ],
             [
              0.2222222222222222,
              "#7201a8"
             ],
             [
              0.3333333333333333,
              "#9c179e"
             ],
             [
              0.4444444444444444,
              "#bd3786"
             ],
             [
              0.5555555555555556,
              "#d8576b"
             ],
             [
              0.6666666666666666,
              "#ed7953"
             ],
             [
              0.7777777777777778,
              "#fb9f3a"
             ],
             [
              0.8888888888888888,
              "#fdca26"
             ],
             [
              1,
              "#f0f921"
             ]
            ],
            "type": "surface"
           }
          ],
          "table": [
           {
            "cells": {
             "fill": {
              "color": "#506784"
             },
             "line": {
              "color": "rgb(17,17,17)"
             }
            },
            "header": {
             "fill": {
              "color": "#2a3f5f"
             },
             "line": {
              "color": "rgb(17,17,17)"
             }
            },
            "type": "table"
           }
          ]
         },
         "layout": {
          "annotationdefaults": {
           "arrowcolor": "#f2f5fa",
           "arrowhead": 0,
           "arrowwidth": 1
          },
          "autotypenumbers": "strict",
          "coloraxis": {
           "colorbar": {
            "outlinewidth": 0,
            "ticks": ""
           }
          },
          "colorscale": {
           "diverging": [
            [
             0,
             "#8e0152"
            ],
            [
             0.1,
             "#c51b7d"
            ],
            [
             0.2,
             "#de77ae"
            ],
            [
             0.3,
             "#f1b6da"
            ],
            [
             0.4,
             "#fde0ef"
            ],
            [
             0.5,
             "#f7f7f7"
            ],
            [
             0.6,
             "#e6f5d0"
            ],
            [
             0.7,
             "#b8e186"
            ],
            [
             0.8,
             "#7fbc41"
            ],
            [
             0.9,
             "#4d9221"
            ],
            [
             1,
             "#276419"
            ]
           ],
           "sequential": [
            [
             0,
             "#0d0887"
            ],
            [
             0.1111111111111111,
             "#46039f"
            ],
            [
             0.2222222222222222,
             "#7201a8"
            ],
            [
             0.3333333333333333,
             "#9c179e"
            ],
            [
             0.4444444444444444,
             "#bd3786"
            ],
            [
             0.5555555555555556,
             "#d8576b"
            ],
            [
             0.6666666666666666,
             "#ed7953"
            ],
            [
             0.7777777777777778,
             "#fb9f3a"
            ],
            [
             0.8888888888888888,
             "#fdca26"
            ],
            [
             1,
             "#f0f921"
            ]
           ],
           "sequentialminus": [
            [
             0,
             "#0d0887"
            ],
            [
             0.1111111111111111,
             "#46039f"
            ],
            [
             0.2222222222222222,
             "#7201a8"
            ],
            [
             0.3333333333333333,
             "#9c179e"
            ],
            [
             0.4444444444444444,
             "#bd3786"
            ],
            [
             0.5555555555555556,
             "#d8576b"
            ],
            [
             0.6666666666666666,
             "#ed7953"
            ],
            [
             0.7777777777777778,
             "#fb9f3a"
            ],
            [
             0.8888888888888888,
             "#fdca26"
            ],
            [
             1,
             "#f0f921"
            ]
           ]
          },
          "colorway": [
           "#636efa",
           "#EF553B",
           "#00cc96",
           "#ab63fa",
           "#FFA15A",
           "#19d3f3",
           "#FF6692",
           "#B6E880",
           "#FF97FF",
           "#FECB52"
          ],
          "font": {
           "color": "#f2f5fa"
          },
          "geo": {
           "bgcolor": "rgb(17,17,17)",
           "lakecolor": "rgb(17,17,17)",
           "landcolor": "rgb(17,17,17)",
           "showlakes": true,
           "showland": true,
           "subunitcolor": "#506784"
          },
          "hoverlabel": {
           "align": "left"
          },
          "hovermode": "closest",
          "mapbox": {
           "style": "dark"
          },
          "paper_bgcolor": "rgb(17,17,17)",
          "plot_bgcolor": "rgb(17,17,17)",
          "polar": {
           "angularaxis": {
            "gridcolor": "#506784",
            "linecolor": "#506784",
            "ticks": ""
           },
           "bgcolor": "rgb(17,17,17)",
           "radialaxis": {
            "gridcolor": "#506784",
            "linecolor": "#506784",
            "ticks": ""
           }
          },
          "scene": {
           "xaxis": {
            "backgroundcolor": "rgb(17,17,17)",
            "gridcolor": "#506784",
            "gridwidth": 2,
            "linecolor": "#506784",
            "showbackground": true,
            "ticks": "",
            "zerolinecolor": "#C8D4E3"
           },
           "yaxis": {
            "backgroundcolor": "rgb(17,17,17)",
            "gridcolor": "#506784",
            "gridwidth": 2,
            "linecolor": "#506784",
            "showbackground": true,
            "ticks": "",
            "zerolinecolor": "#C8D4E3"
           },
           "zaxis": {
            "backgroundcolor": "rgb(17,17,17)",
            "gridcolor": "#506784",
            "gridwidth": 2,
            "linecolor": "#506784",
            "showbackground": true,
            "ticks": "",
            "zerolinecolor": "#C8D4E3"
           }
          },
          "shapedefaults": {
           "line": {
            "color": "#f2f5fa"
           }
          },
          "sliderdefaults": {
           "bgcolor": "#C8D4E3",
           "bordercolor": "rgb(17,17,17)",
           "borderwidth": 1,
           "tickwidth": 0
          },
          "ternary": {
           "aaxis": {
            "gridcolor": "#506784",
            "linecolor": "#506784",
            "ticks": ""
           },
           "baxis": {
            "gridcolor": "#506784",
            "linecolor": "#506784",
            "ticks": ""
           },
           "bgcolor": "rgb(17,17,17)",
           "caxis": {
            "gridcolor": "#506784",
            "linecolor": "#506784",
            "ticks": ""
           }
          },
          "title": {
           "x": 0.05
          },
          "updatemenudefaults": {
           "bgcolor": "#506784",
           "borderwidth": 0
          },
          "xaxis": {
           "automargin": true,
           "gridcolor": "#283442",
           "linecolor": "#506784",
           "ticks": "",
           "title": {
            "standoff": 15
           },
           "zerolinecolor": "#283442",
           "zerolinewidth": 2
          },
          "yaxis": {
           "automargin": true,
           "gridcolor": "#283442",
           "linecolor": "#506784",
           "ticks": "",
           "title": {
            "standoff": 15
           },
           "zerolinecolor": "#283442",
           "zerolinewidth": 2
          }
         }
        },
        "title": {
         "text": "Comparison of Historical and Simulated Returns"
        },
        "xaxis": {
         "title": {
          "text": "Returns"
         }
        },
        "yaxis": {
         "title": {
          "text": "Probability Density"
         }
        }
       }
      }
     },
     "metadata": {},
     "output_type": "display_data"
    }
   ],
   "source": [
    "# Stacked histogram of returns (origirnal and simulated)\n",
    "fig_dist_inv_method = go.Figure()\n",
    "\n",
    "# historical returns\n",
    "fig_dist_inv_method.add_trace(go.Histogram(x=returns, histnorm='probability density', name='Historical Returns'))\n",
    "\n",
    "# Simulated returns\n",
    "fig_dist_inv_method.add_trace(go.Histogram(x=returns_sampled_inv_trans_dist, histnorm='probability density', name='Simulated Returns'))\n",
    "\n",
    "fig_dist_inv_method.update_layout(\n",
    "    title='Comparison of Historical and Simulated Returns',\n",
    "    xaxis_title='Returns',\n",
    "    yaxis_title='Probability Density',\n",
    "    barmode='overlay',  # Overlay the histograms\n",
    "    bargap=0.1,  # Space between bars\n",
    "    template='plotly_dark'  # Using a dark theme for better visibility\n",
    ")\n",
    "\n",
    "fig_dist_inv_method.show()\n",
    "                           "
   ]
  },
  {
   "cell_type": "code",
   "execution_count": 258,
   "metadata": {},
   "outputs": [
    {
     "data": {
      "application/vnd.plotly.v1+json": {
       "config": {
        "plotlyServerURL": "https://plot.ly"
       },
       "data": [
        {
         "mode": "lines",
         "name": "Historical Returns",
         "type": "scatter",
         "x": [
          -0.0018230602085827744,
          -0.0017807507077032226,
          -0.001738441206823671,
          -0.0016961317059441192,
          -0.0016538222050645674,
          -0.0016115127041850157,
          -0.0015692032033054642,
          -0.0015268937024259124,
          -0.0014845842015463607,
          -0.001442274700666809,
          -0.0013999651997872572,
          -0.0013576556989077055,
          -0.0013153461980281538,
          -0.0012730366971486023,
          -0.0012307271962690505,
          -0.0011884176953894988,
          -0.001146108194509947,
          -0.0011037986936303953,
          -0.0010614891927508436,
          -0.0010191796918712919,
          -0.0009768701909917401,
          -0.0009345606901121884,
          -0.0008922511892326367,
          -0.0008499416883530849,
          -0.0008076321874735332,
          -0.0007653226865939815,
          -0.0007230131857144299,
          -0.0006807036848348782,
          -0.0006383941839553265,
          -0.0005960846830757747,
          -0.000553775182196223,
          -0.0005114656813166713,
          -0.00046915618043711954,
          -0.0004268466795575678,
          -0.0003845371786780161,
          -0.00034222767779846434,
          -0.0002999181769189126,
          -0.0002576086760393611,
          -0.00021529917515980936,
          -0.00017298967428025763,
          -0.0001306801734007059,
          -0.00008837067252115416,
          -0.000046061171641602425,
          -0.000003751670762050692,
          0.00003855783011750104,
          0.00008086733099705277,
          0.0001231768318766045,
          0.00016548633275615624,
          0.00020779583363570798,
          0.0002501053345152597,
          0.00029241483539481144,
          0.0003347243362743632,
          0.0003770338371539149,
          0.0004193433380334662,
          0.00046165283891301794,
          0.0005039623397925697,
          0.0005462718406721214,
          0.0005885813415516731,
          0.0006308908424312249,
          0.0006732003433107766,
          0.0007155098441903283,
          0.0007578193450698801,
          0.0008001288459494318,
          0.0008424383468289835,
          0.0008847478477085353,
          0.000927057348588087,
          0.0009693668494676387,
          0.0010116763503471905,
          0.0010539858512267422,
          0.001096295352106294,
          0.0011386048529858457,
          0.0011809143538653974,
          0.0012232238547449491,
          0.0012655333556245009,
          0.0013078428565040522,
          0.001350152357383604,
          0.0013924618582631556,
          0.0014347713591427074,
          0.0014770808600222591,
          0.0015193903609018108,
          0.0015616998617813626,
          0.0016040093626609143,
          0.001646318863540466,
          0.0016886283644200178,
          0.0017309378652995695,
          0.0017732473661791212,
          0.001815556867058673,
          0.0018578663679382247,
          0.0019001758688177764,
          0.0019424853696973282,
          0.00198479487057688,
          0.0020271043714564316,
          0.002069413872335983,
          0.002111723373215535,
          0.0021540328740950864,
          0.0021963423749746386,
          0.00223865187585419,
          0.002280961376733742,
          0.0023232708776132933,
          0.002365580378492845
         ],
         "y": [
          0.002570694087403599,
          0.002570694087403599,
          0.002570694087403599,
          0.002570694087403599,
          0.002570694087403599,
          0.002570694087403599,
          0.0025706940874035858,
          0.007712082262210796,
          0.007712082262210796,
          0.007712082262210796,
          0.010282776349614395,
          0.010282776349614395,
          0.012853470437017995,
          0.015424164524421528,
          0.015424164524421606,
          0.015424164524421606,
          0.020565552699228804,
          0.0231362467866324,
          0.025706940874036,
          0.0334190231362468,
          0.035989717223650394,
          0.041131105398457594,
          0.04370179948586119,
          0.048843187660668384,
          0.048843187660668384,
          0.06169665809768639,
          0.06940874035989687,
          0.07197943444730083,
          0.07969151670951162,
          0.0925449871465296,
          0.10539845758354761,
          0.12082262210796921,
          0.141388174807198,
          0.16709511568123397,
          0.18766066838046275,
          0.20822622107969152,
          0.2467866323907455,
          0.28277634961439463,
          0.31362467866323923,
          0.34704370179948607,
          0.3881748071979436,
          0.4421593830334192,
          0.5064267352185091,
          0.5475578406169667,
          0.5784061696658098,
          0.6195372750642674,
          0.6529562982005142,
          0.6915167095115682,
          0.7377892030848329,
          0.7609254498714653,
          0.7737789203084833,
          0.8097686375321336,
          0.8380462724935731,
          0.8534704370179861,
          0.8688946015424165,
          0.8894601542416452,
          0.9100257069408739,
          0.9228791773778918,
          0.9305912596401027,
          0.9434447300771206,
          0.9485861182519277,
          0.9614395886889457,
          0.9665809768637529,
          0.9691516709511565,
          0.9742930591259636,
          0.9768637532133673,
          0.9794344473007709,
          0.9820051413881746,
          0.9897172236503854,
          0.992287917737789,
          0.992287917737789,
          0.992287917737789,
          0.992287917737789,
          0.992287917737789,
          0.9922879177377789,
          0.992287917737789,
          0.992287917737789,
          0.992287917737789,
          0.9974293059125962,
          0.9974293059125962,
          0.9974293059125962,
          0.9974293059125962,
          0.9974293059125962,
          0.9974293059125962,
          0.9974293059125962,
          0.9974293059125962,
          0.9974293059125962,
          0.9974293059125962,
          0.9974293059125962,
          0.9974293059125962,
          0.9974293059125962,
          0.9974293059125962,
          0.9974293059125859,
          0.9974293059126064,
          0.9974293059125859,
          0.9974293059126064,
          0.9974293059125859,
          0.9974293059126064,
          0.9974293059125859,
          0.9999999999999998
         ]
        }
       ],
       "layout": {
        "template": {
         "data": {
          "bar": [
           {
            "error_x": {
             "color": "#f2f5fa"
            },
            "error_y": {
             "color": "#f2f5fa"
            },
            "marker": {
             "line": {
              "color": "rgb(17,17,17)",
              "width": 0.5
             },
             "pattern": {
              "fillmode": "overlay",
              "size": 10,
              "solidity": 0.2
             }
            },
            "type": "bar"
           }
          ],
          "barpolar": [
           {
            "marker": {
             "line": {
              "color": "rgb(17,17,17)",
              "width": 0.5
             },
             "pattern": {
              "fillmode": "overlay",
              "size": 10,
              "solidity": 0.2
             }
            },
            "type": "barpolar"
           }
          ],
          "carpet": [
           {
            "aaxis": {
             "endlinecolor": "#A2B1C6",
             "gridcolor": "#506784",
             "linecolor": "#506784",
             "minorgridcolor": "#506784",
             "startlinecolor": "#A2B1C6"
            },
            "baxis": {
             "endlinecolor": "#A2B1C6",
             "gridcolor": "#506784",
             "linecolor": "#506784",
             "minorgridcolor": "#506784",
             "startlinecolor": "#A2B1C6"
            },
            "type": "carpet"
           }
          ],
          "choropleth": [
           {
            "colorbar": {
             "outlinewidth": 0,
             "ticks": ""
            },
            "type": "choropleth"
           }
          ],
          "contour": [
           {
            "colorbar": {
             "outlinewidth": 0,
             "ticks": ""
            },
            "colorscale": [
             [
              0,
              "#0d0887"
             ],
             [
              0.1111111111111111,
              "#46039f"
             ],
             [
              0.2222222222222222,
              "#7201a8"
             ],
             [
              0.3333333333333333,
              "#9c179e"
             ],
             [
              0.4444444444444444,
              "#bd3786"
             ],
             [
              0.5555555555555556,
              "#d8576b"
             ],
             [
              0.6666666666666666,
              "#ed7953"
             ],
             [
              0.7777777777777778,
              "#fb9f3a"
             ],
             [
              0.8888888888888888,
              "#fdca26"
             ],
             [
              1,
              "#f0f921"
             ]
            ],
            "type": "contour"
           }
          ],
          "contourcarpet": [
           {
            "colorbar": {
             "outlinewidth": 0,
             "ticks": ""
            },
            "type": "contourcarpet"
           }
          ],
          "heatmap": [
           {
            "colorbar": {
             "outlinewidth": 0,
             "ticks": ""
            },
            "colorscale": [
             [
              0,
              "#0d0887"
             ],
             [
              0.1111111111111111,
              "#46039f"
             ],
             [
              0.2222222222222222,
              "#7201a8"
             ],
             [
              0.3333333333333333,
              "#9c179e"
             ],
             [
              0.4444444444444444,
              "#bd3786"
             ],
             [
              0.5555555555555556,
              "#d8576b"
             ],
             [
              0.6666666666666666,
              "#ed7953"
             ],
             [
              0.7777777777777778,
              "#fb9f3a"
             ],
             [
              0.8888888888888888,
              "#fdca26"
             ],
             [
              1,
              "#f0f921"
             ]
            ],
            "type": "heatmap"
           }
          ],
          "heatmapgl": [
           {
            "colorbar": {
             "outlinewidth": 0,
             "ticks": ""
            },
            "colorscale": [
             [
              0,
              "#0d0887"
             ],
             [
              0.1111111111111111,
              "#46039f"
             ],
             [
              0.2222222222222222,
              "#7201a8"
             ],
             [
              0.3333333333333333,
              "#9c179e"
             ],
             [
              0.4444444444444444,
              "#bd3786"
             ],
             [
              0.5555555555555556,
              "#d8576b"
             ],
             [
              0.6666666666666666,
              "#ed7953"
             ],
             [
              0.7777777777777778,
              "#fb9f3a"
             ],
             [
              0.8888888888888888,
              "#fdca26"
             ],
             [
              1,
              "#f0f921"
             ]
            ],
            "type": "heatmapgl"
           }
          ],
          "histogram": [
           {
            "marker": {
             "pattern": {
              "fillmode": "overlay",
              "size": 10,
              "solidity": 0.2
             }
            },
            "type": "histogram"
           }
          ],
          "histogram2d": [
           {
            "colorbar": {
             "outlinewidth": 0,
             "ticks": ""
            },
            "colorscale": [
             [
              0,
              "#0d0887"
             ],
             [
              0.1111111111111111,
              "#46039f"
             ],
             [
              0.2222222222222222,
              "#7201a8"
             ],
             [
              0.3333333333333333,
              "#9c179e"
             ],
             [
              0.4444444444444444,
              "#bd3786"
             ],
             [
              0.5555555555555556,
              "#d8576b"
             ],
             [
              0.6666666666666666,
              "#ed7953"
             ],
             [
              0.7777777777777778,
              "#fb9f3a"
             ],
             [
              0.8888888888888888,
              "#fdca26"
             ],
             [
              1,
              "#f0f921"
             ]
            ],
            "type": "histogram2d"
           }
          ],
          "histogram2dcontour": [
           {
            "colorbar": {
             "outlinewidth": 0,
             "ticks": ""
            },
            "colorscale": [
             [
              0,
              "#0d0887"
             ],
             [
              0.1111111111111111,
              "#46039f"
             ],
             [
              0.2222222222222222,
              "#7201a8"
             ],
             [
              0.3333333333333333,
              "#9c179e"
             ],
             [
              0.4444444444444444,
              "#bd3786"
             ],
             [
              0.5555555555555556,
              "#d8576b"
             ],
             [
              0.6666666666666666,
              "#ed7953"
             ],
             [
              0.7777777777777778,
              "#fb9f3a"
             ],
             [
              0.8888888888888888,
              "#fdca26"
             ],
             [
              1,
              "#f0f921"
             ]
            ],
            "type": "histogram2dcontour"
           }
          ],
          "mesh3d": [
           {
            "colorbar": {
             "outlinewidth": 0,
             "ticks": ""
            },
            "type": "mesh3d"
           }
          ],
          "parcoords": [
           {
            "line": {
             "colorbar": {
              "outlinewidth": 0,
              "ticks": ""
             }
            },
            "type": "parcoords"
           }
          ],
          "pie": [
           {
            "automargin": true,
            "type": "pie"
           }
          ],
          "scatter": [
           {
            "marker": {
             "line": {
              "color": "#283442"
             }
            },
            "type": "scatter"
           }
          ],
          "scatter3d": [
           {
            "line": {
             "colorbar": {
              "outlinewidth": 0,
              "ticks": ""
             }
            },
            "marker": {
             "colorbar": {
              "outlinewidth": 0,
              "ticks": ""
             }
            },
            "type": "scatter3d"
           }
          ],
          "scattercarpet": [
           {
            "marker": {
             "colorbar": {
              "outlinewidth": 0,
              "ticks": ""
             }
            },
            "type": "scattercarpet"
           }
          ],
          "scattergeo": [
           {
            "marker": {
             "colorbar": {
              "outlinewidth": 0,
              "ticks": ""
             }
            },
            "type": "scattergeo"
           }
          ],
          "scattergl": [
           {
            "marker": {
             "line": {
              "color": "#283442"
             }
            },
            "type": "scattergl"
           }
          ],
          "scattermapbox": [
           {
            "marker": {
             "colorbar": {
              "outlinewidth": 0,
              "ticks": ""
             }
            },
            "type": "scattermapbox"
           }
          ],
          "scatterpolar": [
           {
            "marker": {
             "colorbar": {
              "outlinewidth": 0,
              "ticks": ""
             }
            },
            "type": "scatterpolar"
           }
          ],
          "scatterpolargl": [
           {
            "marker": {
             "colorbar": {
              "outlinewidth": 0,
              "ticks": ""
             }
            },
            "type": "scatterpolargl"
           }
          ],
          "scatterternary": [
           {
            "marker": {
             "colorbar": {
              "outlinewidth": 0,
              "ticks": ""
             }
            },
            "type": "scatterternary"
           }
          ],
          "surface": [
           {
            "colorbar": {
             "outlinewidth": 0,
             "ticks": ""
            },
            "colorscale": [
             [
              0,
              "#0d0887"
             ],
             [
              0.1111111111111111,
              "#46039f"
             ],
             [
              0.2222222222222222,
              "#7201a8"
             ],
             [
              0.3333333333333333,
              "#9c179e"
             ],
             [
              0.4444444444444444,
              "#bd3786"
             ],
             [
              0.5555555555555556,
              "#d8576b"
             ],
             [
              0.6666666666666666,
              "#ed7953"
             ],
             [
              0.7777777777777778,
              "#fb9f3a"
             ],
             [
              0.8888888888888888,
              "#fdca26"
             ],
             [
              1,
              "#f0f921"
             ]
            ],
            "type": "surface"
           }
          ],
          "table": [
           {
            "cells": {
             "fill": {
              "color": "#506784"
             },
             "line": {
              "color": "rgb(17,17,17)"
             }
            },
            "header": {
             "fill": {
              "color": "#2a3f5f"
             },
             "line": {
              "color": "rgb(17,17,17)"
             }
            },
            "type": "table"
           }
          ]
         },
         "layout": {
          "annotationdefaults": {
           "arrowcolor": "#f2f5fa",
           "arrowhead": 0,
           "arrowwidth": 1
          },
          "autotypenumbers": "strict",
          "coloraxis": {
           "colorbar": {
            "outlinewidth": 0,
            "ticks": ""
           }
          },
          "colorscale": {
           "diverging": [
            [
             0,
             "#8e0152"
            ],
            [
             0.1,
             "#c51b7d"
            ],
            [
             0.2,
             "#de77ae"
            ],
            [
             0.3,
             "#f1b6da"
            ],
            [
             0.4,
             "#fde0ef"
            ],
            [
             0.5,
             "#f7f7f7"
            ],
            [
             0.6,
             "#e6f5d0"
            ],
            [
             0.7,
             "#b8e186"
            ],
            [
             0.8,
             "#7fbc41"
            ],
            [
             0.9,
             "#4d9221"
            ],
            [
             1,
             "#276419"
            ]
           ],
           "sequential": [
            [
             0,
             "#0d0887"
            ],
            [
             0.1111111111111111,
             "#46039f"
            ],
            [
             0.2222222222222222,
             "#7201a8"
            ],
            [
             0.3333333333333333,
             "#9c179e"
            ],
            [
             0.4444444444444444,
             "#bd3786"
            ],
            [
             0.5555555555555556,
             "#d8576b"
            ],
            [
             0.6666666666666666,
             "#ed7953"
            ],
            [
             0.7777777777777778,
             "#fb9f3a"
            ],
            [
             0.8888888888888888,
             "#fdca26"
            ],
            [
             1,
             "#f0f921"
            ]
           ],
           "sequentialminus": [
            [
             0,
             "#0d0887"
            ],
            [
             0.1111111111111111,
             "#46039f"
            ],
            [
             0.2222222222222222,
             "#7201a8"
            ],
            [
             0.3333333333333333,
             "#9c179e"
            ],
            [
             0.4444444444444444,
             "#bd3786"
            ],
            [
             0.5555555555555556,
             "#d8576b"
            ],
            [
             0.6666666666666666,
             "#ed7953"
            ],
            [
             0.7777777777777778,
             "#fb9f3a"
            ],
            [
             0.8888888888888888,
             "#fdca26"
            ],
            [
             1,
             "#f0f921"
            ]
           ]
          },
          "colorway": [
           "#636efa",
           "#EF553B",
           "#00cc96",
           "#ab63fa",
           "#FFA15A",
           "#19d3f3",
           "#FF6692",
           "#B6E880",
           "#FF97FF",
           "#FECB52"
          ],
          "font": {
           "color": "#f2f5fa"
          },
          "geo": {
           "bgcolor": "rgb(17,17,17)",
           "lakecolor": "rgb(17,17,17)",
           "landcolor": "rgb(17,17,17)",
           "showlakes": true,
           "showland": true,
           "subunitcolor": "#506784"
          },
          "hoverlabel": {
           "align": "left"
          },
          "hovermode": "closest",
          "mapbox": {
           "style": "dark"
          },
          "paper_bgcolor": "rgb(17,17,17)",
          "plot_bgcolor": "rgb(17,17,17)",
          "polar": {
           "angularaxis": {
            "gridcolor": "#506784",
            "linecolor": "#506784",
            "ticks": ""
           },
           "bgcolor": "rgb(17,17,17)",
           "radialaxis": {
            "gridcolor": "#506784",
            "linecolor": "#506784",
            "ticks": ""
           }
          },
          "scene": {
           "xaxis": {
            "backgroundcolor": "rgb(17,17,17)",
            "gridcolor": "#506784",
            "gridwidth": 2,
            "linecolor": "#506784",
            "showbackground": true,
            "ticks": "",
            "zerolinecolor": "#C8D4E3"
           },
           "yaxis": {
            "backgroundcolor": "rgb(17,17,17)",
            "gridcolor": "#506784",
            "gridwidth": 2,
            "linecolor": "#506784",
            "showbackground": true,
            "ticks": "",
            "zerolinecolor": "#C8D4E3"
           },
           "zaxis": {
            "backgroundcolor": "rgb(17,17,17)",
            "gridcolor": "#506784",
            "gridwidth": 2,
            "linecolor": "#506784",
            "showbackground": true,
            "ticks": "",
            "zerolinecolor": "#C8D4E3"
           }
          },
          "shapedefaults": {
           "line": {
            "color": "#f2f5fa"
           }
          },
          "sliderdefaults": {
           "bgcolor": "#C8D4E3",
           "bordercolor": "rgb(17,17,17)",
           "borderwidth": 1,
           "tickwidth": 0
          },
          "ternary": {
           "aaxis": {
            "gridcolor": "#506784",
            "linecolor": "#506784",
            "ticks": ""
           },
           "baxis": {
            "gridcolor": "#506784",
            "linecolor": "#506784",
            "ticks": ""
           },
           "bgcolor": "rgb(17,17,17)",
           "caxis": {
            "gridcolor": "#506784",
            "linecolor": "#506784",
            "ticks": ""
           }
          },
          "title": {
           "x": 0.05
          },
          "updatemenudefaults": {
           "bgcolor": "#506784",
           "borderwidth": 0
          },
          "xaxis": {
           "automargin": true,
           "gridcolor": "#283442",
           "linecolor": "#506784",
           "ticks": "",
           "title": {
            "standoff": 15
           },
           "zerolinecolor": "#283442",
           "zerolinewidth": 2
          },
          "yaxis": {
           "automargin": true,
           "gridcolor": "#283442",
           "linecolor": "#506784",
           "ticks": "",
           "title": {
            "standoff": 15
           },
           "zerolinecolor": "#283442",
           "zerolinewidth": 2
          }
         }
        },
        "title": {
         "text": "CDF of Historical Returns"
        },
        "xaxis": {
         "title": {
          "text": "Returns"
         }
        },
        "yaxis": {
         "title": {
          "text": "Cumulative Probability"
         }
        }
       }
      }
     },
     "metadata": {},
     "output_type": "display_data"
    }
   ],
   "source": [
    "# Display the CDF of the returns\n",
    "fig_cdf = go.Figure()\n",
    "\n",
    "# Create the CDF of the historical returns\n",
    "hist, bins = np.histogram(returns, bins=100, density=True)\n",
    "cdf = np.cumsum(hist) * np.diff(bins)\n",
    "fig_cdf.add_trace(go.Scatter(x=bins[1:], y=cdf, mode='lines', name='Historical Returns'))                          \n",
    "\n",
    "fig_cdf.update_layout(\n",
    "    title='CDF of Historical Returns',\n",
    "    xaxis_title='Returns',\n",
    "    yaxis_title='Cumulative Probability',\n",
    "    template='plotly_dark'  # Using a dark theme for better visibility\n",
    ")\n",
    "\n",
    "fig_cdf.show()\n"
   ]
  },
  {
   "cell_type": "markdown",
   "metadata": {},
   "source": [
    "# Comparaison & Statement\n",
    "\n",
    "* Recalculate Mean and Standard Deviation from Sampled Returns\n",
    "* Compare the statistical value"
   ]
  },
  {
   "cell_type": "code",
   "execution_count": 259,
   "metadata": {},
   "outputs": [
    {
     "name": "stdout",
     "output_type": "stream",
     "text": [
      "Using Direct Sampling: \n",
      "\n",
      "Sampled Mean: -2.5689246620755153e-05\n",
      "Sampled Standard Deviation: 0.00045636024897332346\n",
      "Sampled Excess Kurtosis: 0.560051726076451\n",
      "Ratio between stdev from original and simulated data: 1.0497018283557291\n",
      "\n",
      "Using Inverse Transform Sampling: \n",
      "\n",
      "Sampled Mean: -4.8291599384769616e-05\n",
      "Sampled Standard Deviation: 0.000454958086662332\n",
      "Sampled Excess Kurtosis: 2.148776070787756\n",
      "Ratio between stdev from original and simulated data: 1.0529369666786834\n",
      "\n",
      "Original Data: \n",
      "\n",
      "Original Mean: -3.482843252455602e-05\n",
      "Original Standard Deviation: 0.0004790421877361734\n",
      "Original Excess Kurtosis: 2.45132378581814\n"
     ]
    }
   ],
   "source": [
    "# Recalculate the mean and standard deviation of the simulated returns\n",
    "mean_returns_simulated_direct = np.mean(sample_gaussian_returns)\n",
    "std_returns_simulated_direct = np.std(sample_gaussian_returns)\n",
    "excess_kurtosis_simulated_direct = pd.Series(sample_gaussian_returns).kurtosis()\n",
    "\n",
    "print(\"Using Direct Sampling: \\n\")\n",
    "print(f\"Sampled Mean: {mean_returns_simulated_direct}\")\n",
    "print(f\"Sampled Standard Deviation: {std_returns_simulated_direct}\")\n",
    "print(f\"Sampled Excess Kurtosis: {excess_kurtosis_simulated_direct}\")\n",
    "print(f\"Ratio between stdev from original and simulated data: {std_returns_closed_form/std_returns_simulated_direct}\")\n",
    "\n",
    "mean_returns_simulated_inv = np.mean(returns_sampled_inv_trans_dist)\n",
    "std_returns_simulated_inv = np.std(returns_sampled_inv_trans_dist)\n",
    "excess_kurtosis_simulated_inv = pd.Series(returns_sampled_inv_trans_dist).kurtosis()\n",
    "\n",
    "print(\"\\nUsing Inverse Transform Sampling: \\n\")\n",
    "print(f\"Sampled Mean: {mean_returns_simulated_inv}\")\n",
    "print(f\"Sampled Standard Deviation: {std_returns_simulated_inv}\")\n",
    "print(f\"Sampled Excess Kurtosis: {excess_kurtosis_simulated_inv}\")\n",
    "# If ratio is close to 1, then the simulation is good why: because the std deviation is the same\n",
    "print(f\"Ratio between stdev from original and simulated data: {std_returns_closed_form/std_returns_simulated_inv}\")\n",
    "\n",
    "# Original returns mean and std deviations\n",
    "original_mean = price_data['returns'].mean()\n",
    "original_std = price_data['returns'].std()\n",
    "\n",
    "print(\"\\nOriginal Data: \\n\")\n",
    "print(f\"Original Mean: {original_mean}\")\n",
    "print(f\"Original Standard Deviation: {original_std}\")\n",
    "print(f\"Original Excess Kurtosis: {excess_kurtosis}\")"
   ]
  },
  {
   "cell_type": "markdown",
   "metadata": {},
   "source": []
  },
  {
   "cell_type": "markdown",
   "metadata": {},
   "source": [
    "# Conclusion & Limitation of sampling the price"
   ]
  },
  {
   "cell_type": "markdown",
   "metadata": {},
   "source": [
    "Alright so here are my Conclusions of my work:\n",
    "\n",
    "1. To sample the price, we should take the returns (or log of the returns) are it is more stationary. (consistency nd reliability)\n",
    "\n",
    "2. The Gaussian assumption for returns are not valid as financial data has often fat tails (outliers) + higher kurtosis value (data are more spread out). --> Can lead to underestimation of extreme risks but also there are more data that falls within 1stdev!)\n",
    "\n",
    "3. The difference between the direct sampling method and the inverse transform sampling is that inverse transform sampling don't assumes any form of distribution -> It can adapt to any empirical distributions. Therefore we can see when running the different samples a higher kurtosis.\n",
    "\n",
    "4. The limitations are clearly that those methodes assumes IID data (independent and identically distributed data). However, all the observations are time dependent (therefore a time series analysis could be more benefitial) but also can have autocorrelations and cluster of variabilities!. (Open Question: Those taking the past to infer the future is that accurate in finance?)\n",
    "\n",
    "\n",
    "Additional Research:\n",
    "- In our original data, if we compute the max returns(outliers) we see that it started at 9:30 hour of the opening of the market where often a large volume is traded. --> There should be impact on market openings!\n",
    "\n",
    "- There seems to be a notion of volume that should be taken into account\n",
    "\n",
    "- What happens if we try to sample two stocks?\n",
    "\n",
    "- What if we start to sample using all the negative values first and then positive values?"
   ]
  },
  {
   "cell_type": "markdown",
   "metadata": {},
   "source": [
    "# External Ressources Used\n"
   ]
  },
  {
   "cell_type": "markdown",
   "metadata": {},
   "source": [
    "__Paper__\n",
    "https://towardsdatascience.com/why-is-gaussian-the-king-of-all-distributions-c45e0fe8a6e5#:~:text=Gaussian%20Distribution%20and%20its%20key,the%20mean%20with%20asymptotic%20tails.\n",
    "\n",
    "\n",
    "\n",
    "__Programming Documents__\n",
    "https://pandas.pydata.org/docs/\n",
    "\n",
    "https://docs.scipy.org/doc/scipy/reference/stats.html\n",
    "\n",
    "https://plotly.com/python/histograms/#overlaid-histogram\n",
    "\n",
    "\n",
    "__Videos__\n",
    "https://www.youtube.com/watch?v=Dn6b9fCIUpM&t=33s\n",
    "\n",
    "https://www.youtube.com/watch?v=xmR0uvAxWAo\n",
    "\n"
   ]
  },
  {
   "cell_type": "markdown",
   "metadata": {},
   "source": [
    "# Annexes"
   ]
  },
  {
   "cell_type": "markdown",
   "metadata": {},
   "source": [
    "Substract the outliers Research"
   ]
  },
  {
   "cell_type": "code",
   "execution_count": 260,
   "metadata": {},
   "outputs": [
    {
     "data": {
      "application/vnd.plotly.v1+json": {
       "config": {
        "plotlyServerURL": "https://plot.ly"
       },
       "data": [
        {
         "histnorm": "probability density",
         "name": "Distribution of returns without outliers",
         "type": "histogram",
         "x": [
          -0.0007429420505199663,
          0.0006922189462888906,
          0.0007412266875685983,
          -0.0007830120430657243,
          0.0005034817039870166,
          -0.00043499398684782107,
          0.0005631783739503161,
          0.00011939483873177101,
          0.00011085340064114346,
          0.000520100609626233,
          -0.0004857430163788594,
          -0.000434823384972155,
          0.00014500417953210168,
          0.0005458189416230439,
          0.0008962103106863964,
          0.0004860785400587868,
          0.0010398731695675384,
          -0.00060454344198089,
          -0.0004009452069986498,
          0.00011094422065961386,
          -0.00006826579286464994,
          0.000017067613350271642,
          0.00017067322051837337,
          -0.0004863356740014644,
          0.00048657231147451583,
          -0.0009897357576171958,
          -0.0005722240726979472,
          -0.0009485558024270443,
          0.0003678074399747356,
          -0.0003249196251452577,
          0.00029936534546753083,
          0.000632754448520303,
          -0.00006836262956848417,
          -0.00014528051959156754,
          0.0008708718964516084,
          -0.0005374234384862418,
          0.0004950368290329944,
          -0.00009383984098423263,
          0.0005460284958622132,
          0.00034960860889888797,
          -0.0003068661296510483,
          -0.0003325403524926651,
          0.00008529512111899441,
          -0.00027292110874195,
          -0.0004436178743878771,
          0.00012802348804248978,
          -0.00011093948677676567,
          -0.0010241704219582527,
          0.000247761602077749,
          0.0003160313298086885,
          -0.00020492853117476056,
          0.0006319924844137066,
          -0.0004950326038716283,
          0.0005379741430841368,
          -0.0004352687144210422,
          -0.00000853839717207509,
          0.00040984656369273307,
          0.0009729868134680771,
          -0.0007929808405597453,
          0.00020480262147356263,
          0.00017916560020479175,
          0.00023884467419025063,
          -0.00029848455129236057,
          0.000929843718009894,
          -0.00046022858019479913,
          0.00005968672993454611,
          0.00039220367307269105,
          -0.00034906985654067896,
          0.00004258435961636135,
          0.00029807782386147817,
          -0.0006385478570333918,
          0.0001959464640182811,
          0.000638830684315429,
          0.0007661074082587153,
          0.0004678183503873999,
          -0.00013602897417156813,
          -0.000629219597639584,
          0,
          -0.00029779123983247885,
          0.0003234125126597971,
          0.0002382269111330243,
          -0.0007825591385045232,
          -0.00017876752560209446,
          -0.0007492550021286582,
          0.0002556193657233022,
          -0.00035777565762579454,
          0.00003408606731995195,
          -0.0008606438638648797,
          0.0005714139510290336,
          -0.0006563245823388867,
          -0.0005458748070248117,
          0.0005803087583953299,
          -0.00044350814946223085,
          -0.00003413114893977014,
          -0.001023969417446771,
          0.000358756651946317,
          0.00029885665980711705,
          0.00038412947724250136,
          0.0001877245227957534,
          0.0005204112101692616,
          -0.00015348408881618036,
          -0.0004264101383274489,
          -0.0001535731349394549,
          -0.000025599453878488,
          -0.00014506728562028673,
          -0.00023043441153877426,
          -0.000187804649018744,
          -0.00041837074478531523,
          0.000170835041683789,
          0.00019642674136577918,
          -0.00014515647013625305,
          -0.00012809783258475033,
          -0.00021352373956936533,
          0.00008542773667766102,
          -0.0007687839546247402,
          0.000042743079895326067,
          -0.00058982929143536,
          0.00016251261611083975,
          0.0003506281374805075,
          0.00035050524048086057,
          0.00009400504208853561,
          -0.0006067027839967498,
          0.00010260356547400132,
          0.00005984593945295368,
          -0.00046164104843808334,
          0.000051317139924688186,
          0.0007868224347023525,
          -0.000051274162949437523,
          0.00009400745222723082,
          -0.00021363321740170736,
          -0.00025641463956644944,
          0.00000854934682989442,
          -0.00017953474852314407,
          0.0007524711837738839,
          0.00003417751802880396,
          -0.0009654818865346113,
          -0.00007697110162744118,
          0.0006072632101131018,
          -0.00012821718281213698,
          0.000017097816608803502,
          -0.00009403638353157909,
          0.0002992348138331202,
          -0.0002991452991452214,
          -0.00013679305775238904,
          0.0005395406197008391,
          -0.00023110700254216148,
          0.000008561497234628607,
          0.00035101838137726075,
          -0.0001283762966006735,
          -0.000051357111675992635,
          0.00034239832909623187,
          0.0001454694813583815,
          -0.0001882272416153553,
          -0.00028239401666974213,
          -0.00041087096083887713,
          -0.00005137998064682723,
          0.00014558409194069825,
          0.0003082508476897455,
          -0.00021399712387865506,
          0.0003167835341055068,
          -0.00011126707521644165,
          -0.00011127945695634348,
          -0.0002996318808320427,
          -0.0004881181759793931,
          -0.0006939803629261749,
          -0.00007716247845873792,
          -0.00006001989230711007,
          -0.0005659358091596555,
          0.0002230706533396173,
          -0.0004889304432111033,
          0.00023171192200746783,
          0.0008065138866247862,
          -0.00017146041407693898,
          -0.000008574490889595631,
          -0.00001714912882424013,
          -0.00006002298022666078,
          -0.00009432748788760222,
          0.000008576035127432083,
          -0.00003430384631873729,
          -0.00013722009245210748,
          -0.00006861946219490265,
          -0.00033454283434971964,
          0.0004891108479636996,
          -0.0005489086152923367,
          -0.0005492100814374481,
          0.000858612310783312,
          0.00014583887378061147,
          -0.00003431002538938759,
          0.00007720020586734047,
          -0.00003430855398038493,
          -0.00007719689496926547,
          -0.00001715618995331956,
          0.0005404292552369154,
          -0.00023124555708766076,
          -0.0002227324127060197,
          -0.00008568539749448105,
          -0.00042846370055528893,
          -0.0000943024192858112,
          0.00012003258027187384,
          0.00011144544745337016,
          0.00032572731480697155,
          0.00008568980291337537,
          0.00005140947648031258,
          0.00025703416840874816,
          0.00031692734654711153,
          0.00019694647337370867,
          0.00047086622262551114,
          -0.0002909439419480564,
          -0.00025678995437694585,
          0.0001883610024230308,
          -0.00066769960366034,
          -0.00019701732895899314,
          -0.0001456501996265124,
          0.00004284453432271748,
          -0.00003427415899779242,
          0.00005998183407305474,
          0.000008568319495489555,
          -0.00002570473824005888,
          0.0003345543136059574,
          0.0002915651905465523,
          0.00017145894415586087,
          -0.00007714329796182736,
          -0.0003514576922086583,
          -0.0000686012211018682,
          -0.00013721185510415622,
          -0.0003773843831481187,
          -0.00018018327212825306,
          -0.00006865361675828542,
          0.0007209124692109597,
          -0.0002744354776463181,
          -0.000034313851644031204,
          -0.00006005130096868214,
          -0.00024021962937540556,
          -0.00013730134212049436,
          0.0001544852209137254,
          -0.00009439305267123755,
          0.00024887790393309786,
          -0.0003603541766765673,
          -0.00035190112436688225,
          -0.0010646609827507827,
          -0.0002918079217269412,
          -0.0007812432928974292,
          0.0007474868974996913,
          0.00022322003485665917,
          0.00015450245916419635,
          -0.00004291071995602039,
          0.000008582512272984744,
          -0.00016306633366809526,
          0.0006781232295833093,
          0.0001801384492653237,
          0.00017152952880842336,
          -0.0003515752285239687,
          -0.00006004614975504288,
          0.00040319121557864566,
          0.00016292650299684196,
          -0.000282931513426324,
          -0.000060032760735089435,
          0.0003430649421934402,
          -0.0002229157378510845,
          0.00012863390789819994,
          -0.00020578778135049011,
          0.00019725388289981922,
          -0.0003858553985457929,
          -0.00030022559809220276,
          -0.0005405683690281002,
          0.00044642473879858677,
          -0.00016304394463356064,
          0.00007724393635092619,
          -0.00031753387743202477,
          -0.000927150043782023,
          0.0003093368162368552,
          -0.00011167041764745574,
          -0.00047250453174797,
          0.00007735547418898642,
          0.00013751020583565972,
          -0.0002577961863350444,
          -0.0004985344805357995,
          -0.00048158372247013363,
          0.0006366851075911872,
          -0.00016336918857108243,
          -0.0005159869971275942,
          -0.00011185489838422083,
          0.00006023629839355275,
          0.0002412004892925935,
          0.00033587681072038913,
          0.0005596067256119868,
          0.00018069490096201651,
          0.00043014822907974084,
          -0.000412764749890375,
          -0.00007742534905940719,
          0.00014625920572654069,
          0.00017204449070533552,
          -0.00030962681368217434,
          0.0002753090774566291,
          -0.00024082914032615152,
          0.0004473618555195069,
          0.0005331544686082869,
          0.0006188171996803013,
          -0.0010393135377030625,
          0.00016336778387306716,
          -0.00010316279949460393,
          -0.00009457565622600139,
          -0.000335345405768027,
          -0.000017202969232473884,
          -0.0000516097955391464,
          0.00007741868887142317,
          -0.00011181833820736433,
          0.00047313048938893437,
          0.0007222575708069665,
          -0.0005928548107159171,
          -0.00012036073832724368,
          -0.00020635753162000044,
          0.0006020003612002559,
          0.00021487077671488366,
          0.0004554281884269448,
          -0.00036933013819823895,
          -0.0006014572449819719,
          0.00011176642536571845,
          -0.00016333267427171214,
          -0.00006018502596548504,
          -0.00003439351338334461,
          -0.00023216420028030114,
          -0.0000946073793757008,
          0.0004214727461960013,
          -0.00030952299067983283,
          0.0000602036603824965,
          -0.00043860026316015007,
          -0.00033554737240585117,
          -0.00008606666724056186,
          0.0006713777877240919,
          -0.0004644881598527088,
          -0.00038725334113581014,
          -0.0003013137278533627,
          -0.000301404545180463,
          0.0001722830955825047,
          -0.0003277924901014274,
          0.00031064207992121767,
          0.00006901013586364221,
          0.00037090388414003236,
          0.0003793888390701995,
          -0.00007757283227042365,
          -0.0002154968063373301,
          0.000008621730208810465,
          -0.00012932483812829333,
          -0.00007760493912316606,
          -0.000396678250821414,
          -0.0008885668193621062,
          -0.0002590360405479319,
          0.0004318385960063567,
          -0.0000605175111742677,
          0.00013833411146278108,
          0.0005619045972441527,
          0.00009503814485532598,
          -0.0006306477529934328,
          0.00025068939583852457,
          -0.000025926886180946088,
          -0.00029384566188728266,
          -0.00025070673363703167,
          0.00019023900937361842,
          -0.000743520135562851,
          0.000017304031839402848,
          -0.00032011904967892135,
          0.00019905664459735875,
          -0.0002768932576493179,
          0.00038948899044457614,
          -0.00012112717488157455,
          -0.000328813588654295,
          0.00034623341325562497,
          0.0003028493800239762,
          -0.00012975329573359362,
          0.000051908053534458664,
          -0.00020762143691336915,
          -0.0005710775194469909,
          0.00013852214189868998
         ]
        },
        {
         "line": {
          "color": "red",
          "width": 2
         },
         "mode": "lines",
         "name": "Fitted Gaussian PDF",
         "type": "scatter",
         "x": [
          -0.001865369709462326,
          -0.0018611345241890977,
          -0.0018568993389158693,
          -0.0018526641536426409,
          -0.0018484289683694125,
          -0.001844193783096184,
          -0.0018399585978229557,
          -0.0018357234125497273,
          -0.0018314882272764989,
          -0.0018272530420032705,
          -0.001823017856730042,
          -0.0018187826714568137,
          -0.0018145474861835853,
          -0.0018103123009103569,
          -0.0018060771156371285,
          -0.0018018419303639,
          -0.0017976067450906717,
          -0.0017933715598174433,
          -0.0017891363745442149,
          -0.0017849011892709864,
          -0.001780666003997758,
          -0.0017764308187245296,
          -0.0017721956334513012,
          -0.0017679604481780728,
          -0.0017637252629048444,
          -0.001759490077631616,
          -0.0017552548923583876,
          -0.0017510197070851592,
          -0.0017467845218119308,
          -0.0017425493365387024,
          -0.001738314151265474,
          -0.0017340789659922456,
          -0.0017298437807190172,
          -0.0017256085954457888,
          -0.0017213734101725604,
          -0.001717138224899332,
          -0.0017129030396261036,
          -0.0017086678543528752,
          -0.0017044326690796468,
          -0.0017001974838064186,
          -0.00169596229853319,
          -0.0016917271132599618,
          -0.0016874919279867332,
          -0.001683256742713505,
          -0.0016790215574402764,
          -0.0016747863721670482,
          -0.0016705511868938196,
          -0.0016663160016205914,
          -0.0016620808163473628,
          -0.0016578456310741346,
          -0.0016536104458009062,
          -0.0016493752605276778,
          -0.0016451400752544494,
          -0.001640904889981221,
          -0.0016366697047079926,
          -0.0016324345194347642,
          -0.0016281993341615358,
          -0.0016239641488883074,
          -0.001619728963615079,
          -0.0016154937783418506,
          -0.0016112585930686222,
          -0.0016070234077953938,
          -0.0016027882225221654,
          -0.001598553037248937,
          -0.0015943178519757086,
          -0.0015900826667024802,
          -0.0015858474814292518,
          -0.0015816122961560234,
          -0.001577377110882795,
          -0.0015731419256095665,
          -0.0015689067403363381,
          -0.0015646715550631097,
          -0.0015604363697898813,
          -0.001556201184516653,
          -0.0015519659992434245,
          -0.0015477308139701961,
          -0.0015434956286969677,
          -0.0015392604434237393,
          -0.001535025258150511,
          -0.0015307900728772825,
          -0.0015265548876040541,
          -0.0015223197023308257,
          -0.0015180845170575973,
          -0.001513849331784369,
          -0.0015096141465111405,
          -0.001505378961237912,
          -0.0015011437759646837,
          -0.0014969085906914553,
          -0.001492673405418227,
          -0.0014884382201449985,
          -0.00148420303487177,
          -0.0014799678495985417,
          -0.0014757326643253133,
          -0.0014714974790520849,
          -0.0014672622937788565,
          -0.001463027108505628,
          -0.0014587919232323997,
          -0.0014545567379591713,
          -0.0014503215526859429,
          -0.0014460863674127145,
          -0.001441851182139486,
          -0.0014376159968662577,
          -0.0014333808115930293,
          -0.0014291456263198009,
          -0.0014249104410465725,
          -0.001420675255773344,
          -0.0014164400705001157,
          -0.0014122048852268873,
          -0.0014079696999536589,
          -0.0014037345146804305,
          -0.001399499329407202,
          -0.0013952641441339736,
          -0.0013910289588607452,
          -0.0013867937735875168,
          -0.0013825585883142884,
          -0.00137832340304106,
          -0.0013740882177678319,
          -0.0013698530324946032,
          -0.001365617847221375,
          -0.0013613826619481464,
          -0.0013571474766749182,
          -0.0013529122914016896,
          -0.0013486771061284614,
          -0.0013444419208552328,
          -0.0013402067355820046,
          -0.001335971550308776,
          -0.0013317363650355478,
          -0.0013275011797623192,
          -0.001323265994489091,
          -0.0013190308092158624,
          -0.0013147956239426342,
          -0.0013105604386694056,
          -0.0013063252533961774,
          -0.0013020900681229488,
          -0.0012978548828497206,
          -0.001293619697576492,
          -0.0012893845123032638,
          -0.0012851493270300352,
          -0.001280914141756807,
          -0.0012766789564835784,
          -0.0012724437712103502,
          -0.0012682085859371216,
          -0.0012639734006638934,
          -0.0012597382153906648,
          -0.0012555030301174366,
          -0.001251267844844208,
          -0.0012470326595709798,
          -0.0012427974742977512,
          -0.001238562289024523,
          -0.0012343271037512944,
          -0.0012300919184780662,
          -0.0012258567332048378,
          -0.0012216215479316094,
          -0.001217386362658381,
          -0.0012131511773851526,
          -0.0012089159921119242,
          -0.0012046808068386958,
          -0.0012004456215654674,
          -0.001196210436292239,
          -0.0011919752510190105,
          -0.0011877400657457821,
          -0.0011835048804725537,
          -0.0011792696951993253,
          -0.001175034509926097,
          -0.0011707993246528685,
          -0.0011665641393796401,
          -0.0011623289541064117,
          -0.0011580937688331833,
          -0.001153858583559955,
          -0.0011496233982867265,
          -0.0011453882130134981,
          -0.0011411530277402697,
          -0.0011369178424670413,
          -0.001132682657193813,
          -0.0011284474719205845,
          -0.0011242122866473561,
          -0.0011199771013741277,
          -0.0011157419161008993,
          -0.001111506730827671,
          -0.0011072715455544425,
          -0.001103036360281214,
          -0.0010988011750079857,
          -0.0010945659897347573,
          -0.0010903308044615289,
          -0.0010860956191883005,
          -0.001081860433915072,
          -0.0010776252486418437,
          -0.0010733900633686153,
          -0.0010691548780953869,
          -0.0010649196928221585,
          -0.00106068450754893,
          -0.0010564493222757017,
          -0.0010522141370024733,
          -0.001047978951729245,
          -0.0010437437664560165,
          -0.0010395085811827883,
          -0.0010352733959095597,
          -0.0010310382106363315,
          -0.0010268030253631029,
          -0.0010225678400898747,
          -0.001018332654816646,
          -0.0010140974695434179,
          -0.0010098622842701892,
          -0.001005627098996961,
          -0.0010013919137237324,
          -0.0009971567284505043,
          -0.0009929215431772756,
          -0.0009886863579040474,
          -0.0009844511726308188,
          -0.0009802159873575906,
          -0.0009759808020843621,
          -0.0009717456168111337,
          -0.0009675104315379053,
          -0.0009632752462646769,
          -0.0009590400609914485,
          -0.0009548048757182201,
          -0.0009505696904449917,
          -0.0009463345051717633,
          -0.0009420993198985349,
          -0.0009378641346253065,
          -0.0009336289493520781,
          -0.0009293937640788497,
          -0.0009251585788056213,
          -0.0009209233935323929,
          -0.0009166882082591645,
          -0.0009124530229859361,
          -0.0009082178377127077,
          -0.0009039826524394793,
          -0.0008997474671662509,
          -0.0008955122818930225,
          -0.0008912770966197941,
          -0.0008870419113465658,
          -0.0008828067260733374,
          -0.000878571540800109,
          -0.0008743363555268806,
          -0.0008701011702536522,
          -0.0008658659849804238,
          -0.0008616307997071954,
          -0.000857395614433967,
          -0.0008531604291607386,
          -0.0008489252438875102,
          -0.0008446900586142818,
          -0.0008404548733410534,
          -0.000836219688067825,
          -0.0008319845027945966,
          -0.0008277493175213682,
          -0.0008235141322481398,
          -0.0008192789469749114,
          -0.000815043761701683,
          -0.0008108085764284545,
          -0.0008065733911552261,
          -0.0008023382058819977,
          -0.0007981030206087693,
          -0.0007938678353355409,
          -0.0007896326500623125,
          -0.0007853974647890841,
          -0.0007811622795158557,
          -0.0007769270942426273,
          -0.0007726919089693989,
          -0.0007684567236961705,
          -0.0007642215384229421,
          -0.0007599863531497137,
          -0.0007557511678764853,
          -0.0007515159826032569,
          -0.0007472807973300285,
          -0.0007430456120568001,
          -0.0007388104267835717,
          -0.0007345752415103433,
          -0.0007303400562371149,
          -0.0007261048709638865,
          -0.0007218696856906581,
          -0.0007176345004174297,
          -0.0007133993151442013,
          -0.0007091641298709729,
          -0.0007049289445977445,
          -0.0007006937593245161,
          -0.0006964585740512877,
          -0.0006922233887780593,
          -0.0006879882035048309,
          -0.0006837530182316025,
          -0.0006795178329583741,
          -0.0006752826476851457,
          -0.0006710474624119173,
          -0.0006668122771386889,
          -0.0006625770918654605,
          -0.0006583419065922321,
          -0.0006541067213190037,
          -0.0006498715360457753,
          -0.0006456363507725469,
          -0.0006414011654993185,
          -0.00063716598022609,
          -0.0006329307949528616,
          -0.0006286956096796332,
          -0.0006244604244064048,
          -0.0006202252391331764,
          -0.000615990053859948,
          -0.0006117548685867196,
          -0.0006075196833134912,
          -0.0006032844980402628,
          -0.0005990493127670346,
          -0.0005948141274938062,
          -0.0005905789422205778,
          -0.0005863437569473494,
          -0.000582108571674121,
          -0.0005778733864008926,
          -0.0005736382011276642,
          -0.0005694030158544358,
          -0.0005651678305812074,
          -0.000560932645307979,
          -0.0005566974600347506,
          -0.0005524622747615222,
          -0.0005482270894882938,
          -0.0005439919042150654,
          -0.000539756718941837,
          -0.0005355215336686086,
          -0.0005312863483953802,
          -0.0005270511631221518,
          -0.0005228159778489234,
          -0.000518580792575695,
          -0.0005143456073024666,
          -0.0005101104220292382,
          -0.0005058752367560098,
          -0.0005016400514827814,
          -0.000497404866209553,
          -0.0004931696809363246,
          -0.0004889344956630962,
          -0.0004846993103898678,
          -0.0004804641251166394,
          -0.000476228939843411,
          -0.0004719937545701826,
          -0.00046775856929695417,
          -0.00046352338402372577,
          -0.00045928819875049737,
          -0.00045505301347726896,
          -0.00045081782820404056,
          -0.00044658264293081216,
          -0.00044234745765758376,
          -0.00043811227238435536,
          -0.00043387708711112695,
          -0.00042964190183789855,
          -0.00042540671656467015,
          -0.00042117153129144175,
          -0.00041693634601821334,
          -0.00041270116074498494,
          -0.00040846597547175654,
          -0.00040423079019852814,
          -0.00039999560492529973,
          -0.00039576041965207133,
          -0.00039152523437884293,
          -0.0003872900491056145,
          -0.0003830548638323861,
          -0.0003788196785591577,
          -0.0003745844932859293,
          -0.0003703493080127009,
          -0.0003661141227394725,
          -0.0003618789374662441,
          -0.0003576437521930157,
          -0.0003534085669197873,
          -0.0003491733816465589,
          -0.0003449381963733305,
          -0.0003407030111001021,
          -0.0003364678258268737,
          -0.0003322326405536453,
          -0.0003279974552804169,
          -0.0003237622700071885,
          -0.0003195270847339601,
          -0.0003152918994607317,
          -0.0003110567141875033,
          -0.0003068215289142749,
          -0.0003025863436410465,
          -0.0002983511583678181,
          -0.0002941159730945897,
          -0.00028988078782136127,
          -0.00028564560254813287,
          -0.00028141041727490447,
          -0.00027717523200167606,
          -0.00027294004672844766,
          -0.00026870486145521926,
          -0.00026446967618199086,
          -0.00026023449090876245,
          -0.00025599930563553405,
          -0.00025176412036230565,
          -0.00024752893508907725,
          -0.00024329374981584885,
          -0.00023905856454262044,
          -0.00023482337926939226,
          -0.00023058819399616385,
          -0.00022635300872293545,
          -0.00022211782344970705,
          -0.00021788263817647865,
          -0.00021364745290325025,
          -0.00020941226763002184,
          -0.00020517708235679344,
          -0.00020094189708356504,
          -0.00019670671181033664,
          -0.00019247152653710823,
          -0.00018823634126387983,
          -0.00018400115599065143,
          -0.00017976597071742303,
          -0.00017553078544419462,
          -0.00017129560017096622,
          -0.00016706041489773782,
          -0.00016282522962450942,
          -0.00015859004435128101,
          -0.0001543548590780526,
          -0.0001501196738048242,
          -0.0001458844885315958,
          -0.0001416493032583674,
          -0.000137414117985139,
          -0.0001331789327119106,
          -0.0001289437474386822,
          -0.0001247085621654538,
          -0.00012047337689222539,
          -0.00011623819161899699,
          -0.00011200300634576859,
          -0.00010776782107254019,
          -0.00010353263579931178,
          -0.00009929745052608338,
          -0.00009506226525285498,
          -0.00009082707997962658,
          -0.00008659189470639817,
          -0.00008235670943316977,
          -0.00007812152415994137,
          -0.00007388633888671297,
          -0.00006965115361348456,
          -0.00006541596834025616,
          -0.00006118078306702776,
          -0.00005694559779379936,
          -0.000052710412520570954,
          -0.00004847522724734255,
          -0.00004424004197411415,
          -0.00004000485670088575,
          -0.000035769671427657345,
          -0.00003153448615442894,
          -0.00002729930088120054,
          -0.000023064115607972138,
          -0.000018828930334743735,
          -0.000014593745061515333,
          -0.00001035855978828693,
          -0.000006123374515058528,
          -0.0000018881892418301256,
          0.000002346996031398277,
          0.000006582181304626679,
          0.000010817366577855082,
          0.000015052551851083484,
          0.000019287737124311886,
          0.00002352292239754029,
          0.00002775810767076869,
          0.000031993292943997094,
          0.000036228478217225496,
          0.0000404636634904539,
          0.0000446988487636823,
          0.0000489340340369107,
          0.000053169219310139106,
          0.00005740440458336751,
          0.00006163958985659591,
          0.00006587477512982431,
          0.00007010996040305272,
          0.00007434514567628112,
          0.00007858033094950952,
          0.00008281551622273792,
          0.00008705070149596632,
          0.00009128588676919451,
          0.00009552107204242313,
          0.00009975625731565132,
          0.00010399144258887993,
          0.00010822662786210812,
          0.00011246181313533674,
          0.00011669699840856492,
          0.00012093218368179354,
          0.00012516736895502173,
          0.00012940255422825035,
          0.00013363773950147853,
          0.00013787292477470715,
          0.00014210811004793534,
          0.00014634329532116396,
          0.00015057848059439214,
          0.00015481366586762076,
          0.00015904885114084895,
          0.00016328403641407757,
          0.00016751922168730575,
          0.00017175440696053437,
          0.00017598959223376256,
          0.00018022477750699118,
          0.00018445996278021936,
          0.00018869514805344798,
          0.00019293033332667617,
          0.0001971655185999048,
          0.00020140070387313297,
          0.0002056358891463616,
          0.00020987107441958978,
          0.0002141062596928184,
          0.00021834144496604658,
          0.0002225766302392752,
          0.0002268118155125034,
          0.000231047000785732,
          0.0002352821860589602,
          0.0002395173713321888,
          0.000243752556605417,
          0.0002479877418786456,
          0.0002522229271518738,
          0.0002564581124251024,
          0.0002606932976983306,
          0.0002649284829715592,
          0.0002691636682447874,
          0.00027339885351801603,
          0.0002776340387912442,
          0.00028186922406447283,
          0.000286104409337701,
          0.00029033959461092964,
          0.0002945747798841578,
          0.00029880996515738644,
          0.00030304515043061463,
          0.0003072803357038428,
          0.00031151552097707143,
          0.0003157507062502996,
          0.00031998589152352824,
          0.0003242210767967564,
          0.00032845626206998504,
          0.00033269144734321323,
          0.00033692663261644185,
          0.00034116181788967003,
          0.00034539700316289865,
          0.00034963218843612684,
          0.00035386737370935546,
          0.00035810255898258364,
          0.00036233774425581226,
          0.00036657292952904045,
          0.00037080811480226907,
          0.00037504330007549725,
          0.0003792784853487259,
          0.00038351367062195406,
          0.0003877488558951827,
          0.00039198404116841086,
          0.0003962192264416395,
          0.00040045441171486767,
          0.0004046895969880963,
          0.0004089247822613245,
          0.0004131599675345531,
          0.0004173951528077813,
          0.0004216303380810099,
          0.0004258655233542381,
          0.0004301007086274667,
          0.0004343358939006949,
          0.0004385710791739235,
          0.0004428062644471517,
          0.0004470414497203803,
          0.0004512766349936085,
          0.0004555118202668371,
          0.0004597470055400653,
          0.0004639821908132939,
          0.0004682173760865221,
          0.0004724525613597507,
          0.0004766877466329789,
          0.00048092293190620753,
          0.0004851581171794357,
          0.0004893933024526643,
          0.0004936284877258925,
          0.0004978636729991211,
          0.0005020988582723493,
          0.0005063340435455779,
          0.0005105692288188061,
          0.0005148044140920347,
          0.0005190395993652629,
          0.0005232747846384916,
          0.0005275099699117197,
          0.0005317451551849484,
          0.0005359803404581765,
          0.0005402155257314052,
          0.0005444507110046333,
          0.000548685896277862,
          0.0005529210815510902,
          0.0005571562668243188,
          0.000561391452097547,
          0.0005656266373707756,
          0.0005698618226440038,
          0.0005740970079172324,
          0.0005783321931904606,
          0.0005825673784636892,
          0.0005868025637369174,
          0.000591037749010146,
          0.0005952729342833742,
          0.0005995081195566028,
          0.000603743304829831,
          0.0006079784901030596,
          0.0006122136753762878,
          0.0006164488606495164,
          0.0006206840459227446,
          0.0006249192311959732,
          0.0006291544164692014,
          0.00063338960174243,
          0.0006376247870156582,
          0.0006418599722888868,
          0.000646095157562115,
          0.0006503303428353436,
          0.0006545655281085718,
          0.0006588007133818004,
          0.0006630358986550286,
          0.0006672710839282568,
          0.0006715062692014854,
          0.0006757414544747136,
          0.0006799766397479422,
          0.0006842118250211704,
          0.000688447010294399,
          0.0006926821955676272,
          0.0006969173808408558,
          0.000701152566114084,
          0.0007053877513873126,
          0.0007096229366605408,
          0.0007138581219337694,
          0.0007180933072069976,
          0.0007223284924802263,
          0.0007265636777534544,
          0.0007307988630266831,
          0.0007350340482999112,
          0.0007392692335731399,
          0.000743504418846368,
          0.0007477396041195967,
          0.0007519747893928249,
          0.0007562099746660535,
          0.0007604451599392817,
          0.0007646803452125103,
          0.0007689155304857385,
          0.0007731507157589671,
          0.0007773859010321953,
          0.0007816210863054239,
          0.0007858562715786521,
          0.0007900914568518807,
          0.0007943266421251089,
          0.0007985618273983375,
          0.0008027970126715657,
          0.0008070321979447943,
          0.0008112673832180225,
          0.0008155025684912511,
          0.0008197377537644793,
          0.0008239729390377079,
          0.0008282081243109361,
          0.0008324433095841647,
          0.0008366784948573929,
          0.0008409136801306215,
          0.0008451488654038497,
          0.0008493840506770783,
          0.0008536192359503065,
          0.0008578544212235351,
          0.0008620896064967633,
          0.0008663247917699919,
          0.0008705599770432201,
          0.0008747951623164487,
          0.0008790303475896769,
          0.0008832655328629055,
          0.0008875007181361337,
          0.0008917359034093623,
          0.0008959710886825905,
          0.0009002062739558192,
          0.0009044414592290473,
          0.000908676644502276,
          0.0009129118297755041,
          0.0009171470150487328,
          0.000921382200321961,
          0.0009256173855951896,
          0.0009298525708684178,
          0.0009340877561416464,
          0.0009383229414148746,
          0.0009425581266881032,
          0.0009467933119613314,
          0.00095102849723456,
          0.0009552636825077882,
          0.0009594988677810168,
          0.000963734053054245,
          0.0009679692383274736,
          0.0009722044236007018,
          0.0009764396088739304,
          0.0009806747941471586,
          0.0009849099794203872,
          0.0009891451646936154,
          0.000993380349966844,
          0.0009976155352400722,
          0.0010018507205133008,
          0.001006085905786529,
          0.0010103210910597576,
          0.0010145562763329858,
          0.0010187914616062144,
          0.0010230266468794426,
          0.0010272618321526708,
          0.0010314970174258994,
          0.0010357322026991276,
          0.0010399673879723562,
          0.0010442025732455844,
          0.001048437758518813,
          0.0010526729437920412,
          0.0010569081290652698,
          0.001061143314338498,
          0.0010653784996117266,
          0.0010696136848849548,
          0.0010738488701581834,
          0.0010780840554314116,
          0.0010823192407046402,
          0.0010865544259778684,
          0.001090789611251097,
          0.0010950247965243252,
          0.0010992599817975538,
          0.001103495167070782,
          0.0011077303523440107,
          0.0011119655376172388,
          0.0011162007228904675,
          0.0011204359081636956,
          0.0011246710934369243,
          0.0011289062787101524,
          0.001133141463983381,
          0.0011373766492566093,
          0.0011416118345298379,
          0.001145847019803066,
          0.0011500822050762947,
          0.0011543173903495229,
          0.0011585525756227515,
          0.0011627877608959797,
          0.0011670229461692083,
          0.0011712581314424365,
          0.001175493316715665,
          0.0011797285019888933,
          0.001183963687262122,
          0.00118819887253535,
          0.0011924340578085787,
          0.0011966692430818069,
          0.0012009044283550355,
          0.0012051396136282637,
          0.0012093747989014923,
          0.0012136099841747205,
          0.0012178451694479491,
          0.0012220803547211773,
          0.001226315539994406,
          0.001230550725267634,
          0.0012347859105408627,
          0.001239021095814091,
          0.0012432562810873195,
          0.0012474914663605477,
          0.0012517266516337763,
          0.0012559618369070045,
          0.0012601970221802331,
          0.0012644322074534613,
          0.00126866739272669,
          0.0012729025779999181,
          0.0012771377632731467,
          0.001281372948546375,
          0.0012856081338196036,
          0.0012898433190928317,
          0.0012940785043660604,
          0.0012983136896392885,
          0.0013025488749125172,
          0.0013067840601857453,
          0.001311019245458974,
          0.0013152544307322022,
          0.0013194896160054308,
          0.001323724801278659,
          0.0013279599865518876,
          0.0013321951718251158,
          0.0013364303570983444,
          0.0013406655423715726,
          0.0013449007276448012,
          0.0013491359129180294,
          0.001353371098191258,
          0.0013576062834644862,
          0.0013618414687377148,
          0.001366076654010943,
          0.0013703118392841716,
          0.0013745470245573998,
          0.0013787822098306284,
          0.0013830173951038566,
          0.0013872525803770852,
          0.0013914877656503134,
          0.0013957229509235416,
          0.0013999581361967702,
          0.0014041933214699984,
          0.001408428506743227,
          0.0014126636920164552,
          0.0014168988772896838,
          0.001421134062562912,
          0.0014253692478361406,
          0.0014296044331093688,
          0.0014338396183825974,
          0.0014380748036558256,
          0.0014423099889290542,
          0.0014465451742022824,
          0.001450780359475511,
          0.0014550155447487392,
          0.0014592507300219678,
          0.001463485915295196,
          0.0014677211005684246,
          0.0014719562858416528,
          0.0014761914711148814,
          0.0014804266563881096,
          0.0014846618416613382,
          0.0014888970269345664,
          0.001493132212207795,
          0.0014973673974810232,
          0.0015016025827542519,
          0.00150583776802748,
          0.0015100729533007087,
          0.0015143081385739368,
          0.0015185433238471655,
          0.0015227785091203937,
          0.0015270136943936223,
          0.0015312488796668505,
          0.001535484064940079,
          0.0015397192502133073,
          0.0015439544354865359,
          0.001548189620759764,
          0.0015524248060329927,
          0.0015566599913062209,
          0.0015608951765794495,
          0.0015651303618526777,
          0.0015693655471259063,
          0.0015736007323991345,
          0.001577835917672363,
          0.0015820711029455913,
          0.00158630628821882,
          0.001590541473492048,
          0.0015947766587652767,
          0.001599011844038505,
          0.0016032470293117335,
          0.0016074822145849617,
          0.0016117173998581903,
          0.0016159525851314185,
          0.0016201877704046471,
          0.0016244229556778753,
          0.001628658140951104,
          0.0016328933262243321,
          0.0016371285114975607,
          0.001641363696770789,
          0.0016455988820440175,
          0.0016498340673172457,
          0.0016540692525904743,
          0.0016583044378637025,
          0.0016625396231369311,
          0.0016667748084101593,
          0.001671009993683388,
          0.0016752451789566161,
          0.0016794803642298448,
          0.001683715549503073,
          0.0016879507347763016,
          0.0016921859200495297,
          0.0016964211053227584,
          0.0017006562905959866,
          0.0017048914758692152,
          0.0017091266611424434,
          0.001713361846415672,
          0.0017175970316889002,
          0.0017218322169621288,
          0.001726067402235357,
          0.0017303025875085856,
          0.0017345377727818138,
          0.0017387729580550424,
          0.0017430081433282706,
          0.0017472433286014992,
          0.0017514785138747274,
          0.0017557136991479556,
          0.0017599488844211842,
          0.0017641840696944124,
          0.001768419254967641,
          0.0017726544402408692,
          0.0017768896255140978,
          0.001781124810787326,
          0.0017853599960605546,
          0.0017895951813337828,
          0.0017938303666070114,
          0.0017980655518802396,
          0.0018023007371534682,
          0.0018065359224266964,
          0.001810771107699925,
          0.0018150062929731532,
          0.0018192414782463818,
          0.00182347666351961,
          0.0018277118487928386,
          0.0018319470340660668,
          0.0018361822193392954,
          0.0018404174046125236,
          0.0018446525898857522,
          0.0018488877751589804,
          0.001853122960432209,
          0.0018573581457054372,
          0.0018615933309786658,
          0.001865828516251894,
          0.0018700637015251226,
          0.0018742988867983508,
          0.0018785340720715795,
          0.0018827692573448076,
          0.0018870044426180363,
          0.0018912396278912644,
          0.001895474813164493,
          0.0018997099984377212,
          0.0019039451837109499,
          0.001908180368984178,
          0.0019124155542574067,
          0.0019166507395306349,
          0.0019208859248038635,
          0.0019251211100770917,
          0.0019293562953503203,
          0.0019335914806235485,
          0.001937826665896777,
          0.0019420618511700053,
          0.001946297036443234,
          0.001950532221716462,
          0.0019547674069896907,
          0.001959002592262919,
          0.0019632377775361475,
          0.0019674729628093757,
          0.0019717081480826043,
          0.0019759433333558325,
          0.001980178518629061,
          0.0019844137039022893,
          0.001988648889175518,
          0.001992884074448746,
          0.0019971192597219747,
          0.002001354444995203,
          0.0020055896302684315,
          0.0020098248155416597,
          0.0020140600008148883,
          0.0020182951860881165,
          0.002022530371361345,
          0.0020267655566345733,
          0.002031000741907802,
          0.00203523592718103,
          0.0020394711124542587,
          0.002043706297727487,
          0.002047941483000715,
          0.002052176668273944,
          0.0020564118535471724,
          0.0020606470388204005,
          0.0020648822240936287,
          0.0020691174093668578,
          0.002073352594640086,
          0.002077587779913314,
          0.0020818229651865423,
          0.0020860581504597714,
          0.0020902933357329996,
          0.0020945285210062278,
          0.002098763706279456,
          0.002102998891552685,
          0.002107234076825913,
          0.0021114692620991414,
          0.0021157044473723696,
          0.0021199396326455977,
          0.002124174817918827,
          0.002128410003192055,
          0.002132645188465283,
          0.0021368803737385113,
          0.0021411155590117404,
          0.0021453507442849686,
          0.0021495859295581968,
          0.002153821114831425,
          0.002158056300104654,
          0.002162291485377882,
          0.0021665266706511104,
          0.0021707618559243386,
          0.0021749970411975676,
          0.002179232226470796,
          0.002183467411744024,
          0.002187702597017252,
          0.0021919377822904812,
          0.0021961729675637094,
          0.0022004081528369376,
          0.002204643338110166,
          0.002208878523383395,
          0.002213113708656623,
          0.002217348893929851,
          0.0022215840792030794,
          0.0022258192644763084,
          0.0022300544497495366,
          0.002234289635022765,
          0.002238524820295993,
          0.002242760005569222,
          0.0022469951908424502,
          0.0022512303761156784,
          0.0022554655613889066,
          0.0022597007466621357,
          0.002263935931935364,
          0.002268171117208592,
          0.0022724063024818202,
          0.0022766414877550493,
          0.0022808766730282775,
          0.0022851118583015056,
          0.002289347043574734,
          0.002293582228847963,
          0.002297817414121191,
          0.0023020525993944193,
          0.0023062877846676474,
          0.0023105229699408765,
          0.0023147581552141047,
          0.002318993340487333,
          0.002323228525760561,
          0.00232746371103379,
          0.0023316988963070183,
          0.0023359340815802465,
          0.0023401692668534747,
          0.0023444044521267037,
          0.002348639637399932,
          0.00235287482267316,
          0.0023571100079463883,
          0.0023613451932196173,
          0.002365580378492845
         ],
         "y": [
          0.5620283808915187,
          0.581317308510106,
          0.6012212413541652,
          0.6217580721913608,
          0.6429461547681247,
          0.6648043137202005,
          0.6873518546341598,
          0.7106085742602599,
          0.7345947708768902,
          0.7593312548068202,
          0.7848393590853814,
          0.8111409502805993,
          0.8382584394652594,
          0.8662147933407499,
          0.8950335455125057,
          0.9247388079167032,
          0.9553552823978225,
          0.9869082724365943,
          1.0194236950276914,
          1.0529280927064975,
          1.087448645724124,
          1.1230131843697697,
          1.1596502014393824,
          1.1973888648494655,
          1.236259030394814,
          1.2762912546487213,
          1.3175168080042174,
          1.3599676878546445,
          1.40367663191185,
          1.4486771316600657,
          1.4950034459434258,
          1.5426906146849968,
          1.591774472734934,
          1.6422916638453402,
          1.6942796547691918,
          1.7477767494805856,
          1.8028221035133445,
          1.8594557384149382,
          1.9177185563124413,
          1.977652354587158,
          2.0392998406543112,
          2.102704646844016,
          2.167911345379744,
          2.2349654634499796,
          2.3039134983690244,
          2.3748029328222495,
          2.447682250191413,
          2.52260094995494,
          2.599609563158387,
          2.6787596679496857,
          2.760103905173914,
          2.8436959940218274,
          2.929590747726473,
          3.017844089301825,
          3.1085130673171806,
          3.2016558717009467,
          3.2973318495671835,
          3.3956015210579946,
          3.496526595194754,
          3.6001699857308664,
          3.706595826998599,
          3.815869489742198,
          3.9280575969294147,
          4.043228039533222,
          4.161449992275427,
          4.28279392932345,
          4.407331639931483,
          4.535136244017024,
          4.666282207663363,
          4.800845358538613,
          4.938902901221404,
          5.080533432423434,
          5.225816956098459,
          5.374834898427393,
          5.527670122668834,
          5.6844069438640545,
          5.845131143385335,
          6.009929983316266,
          6.1788922206524655,
          6.352108121310799,
          6.5296694739350425,
          6.7116696034858245,
          6.898203384602205,
          7.089367254722171,
          7.285259226949178,
          7.485978902651473,
          7.691627483780881,
          7.9023077848972925,
          8.118124244885315,
          8.339182938348731,
          8.565591586668774,
          8.797459568711588,
          9.034897931170494,
          9.278019398527917,
          9.52693838262217,
          9.781770991803738,
          10.042635039665923,
          10.309650053333872,
          10.582937281296523,
          10.86261970076568,
          11.148822024545701,
          11.441670707398004,
          11.741293951883733,
          12.047821713668286,
          12.361385706270886,
          12.682119405242272,
          13.010158051754173,
          13.34563865558273,
          13.688699997469469,
          14.039482630842022,
          14.39812888287782,
          14.764782854892813,
          15.139590422038097,
          15.522699232286936,
          15.914258704694275,
          16.314420026911403,
          16.723336151937918,
          17.141161794093613,
          17.568053424191877,
          18.00416926389798,
          18.449669279253158,
          18.90471517334849,
          19.369470378129094,
          19.844100045312665,
          20.328771036403616,
          20.82365191178625,
          21.328912918878544,
          21.844725979330473,
          22.371264675248494,
          22.908704234430132,
          23.457221514590575,
          24.01699498656603,
          24.588204716475367,
          25.1710323468255,
          25.76566107654228,
          26.372275639913067,
          26.991062284422664,
          27.62220874746939,
          28.265904231944067,
          28.92233938065829,
          29.59170624960583,
          30.274198280044143,
          30.970010269380236,
          31.67933834084888,
          32.40237991196734,
          33.139333661756346,
          33.890399496711495,
          34.655778515515806,
          35.435672972478194,
          36.230286239690244,
          37.039822767886,
          37.864488045998186,
          38.70448855939738,
          39.56003174680719,
          40.431325955884674,
          41.318580397458014,
          42.22200509841394,
          43.14181085322645,
          44.07820917412105,
          45.03141223986736,
          46.001632843195615,
          46.989084336830786,
          47.993980578141006,
          49.016535872396425,
          50.0569649146353,
          51.11548273013537,
          52.192304613488744,
          53.28764606628012,
          54.401722733367556,
          55.5347503377668,
          56.68694461414152,
          57.858521240900174,
          59.04969577090457,
          60.26068356079223,
          61.49169969891936,
          62.74295893192848,
          64.01467558994813,
          65.30706351043202,
          66.62033596064624,
          67.95470555881327,
          69.31038419392326,
          70.68758294422432,
          72.08651199440318,
          73.50738055146968,
          74.95039675935875,
          76.41576761226645,
          77.90369886673365,
          79.4143949524965,
          80.94805888212119,
          82.50489215944151,
          84.08509468682034,
          85.68886467125496,
          87.31639852935037,
          88.96789079118162,
          90.64353400307132,
          92.34351862930626,
          94.06803295282197,
          95.81726297487862,
          97.59139231376217,
          99.39060210253527,
          101.21507088587379,
          103.0649745160144,
          104.94048604785468,
          106.84177563323009,
          108.7690104144119,
          110.72235441685453,
          112.70196844123637,
          114.70800995482554,
          116.7406329822172,
          118.79998799547539,
          120.88622180372755,
          122.9994774422484,
          125.13989406108202,
          127.30760681324176,
          129.50274674253765,
          131.72544067107444,
          133.97581108647074,
          136.25397602884553,
          138.56004897762259,
          140.89413873820357,
          143.25634932855968,
          145.6467798657959,
          148.06552445273974,
          150.51267206460903,
          152.98830643581366,
          155.49250594694686,
          158.02534351202289,
          160.58688646601766,
          163.17719645277208,
          165.79632931331463,
          168.44433497466574,
          171.12125733918072,
          173.82713417449628,
          176.56199700413808,
          179.32587099885512,
          182.11877486874175,
          184.9407207562109,
          187.79171412988353,
          190.67175367945717,
          193.58083121161954,
          196.51893154707219,
          199.48603241873013,
          202.48210437116205,
          205.50711066134022,
          208.56100716076386,
          211.6437422590246,
          214.75525676888114,
          217.89548383290835,
          221.06434883179202,
          224.2617692943321,
          227.487654809226,
          230.74190693869716,
          234.0244191340367,
          237.33507665312655,
          240.67375648001007,
          244.04032724657867,
          247.43464915643904,
          250.85657391103118,
          254.30594463805969,
          257.78259582230714,
          261.2863532388942,
          264.8170338890508,
          268.37444593846504,
          271.95838865827096,
          275.56865236874296,
          279.2050183857544,
          282.86725897006795,
          286.55513727951546,
          290.26840732412944,
          294.0068139242868,
          297.7700926719214,
          301.55796989486686,
          305.37016262438385,
          309.20637856592975,
          313.06631607322424,
          316.9496641256665,
          320.85610230915586,
          324.7853008003659,
          328.73692035452603,
          332.7106122967552,
          336.70601851699894,
          340.7227714686133,
          344.7604941706425,
          348.81880021383205,
          352.8972937704193,
          356.9955696077435,
          361.1132131057098,
          365.24980027814956,
          369.4048977981059,
          373.5780630270839,
          377.7688440482923,
          381.9767797039092,
          386.2013996363989,
          390.442224333905,
          394.69876517974546,
          398.97052450602956,
          403.2569956514191,
          407.55766302304966,
          411.8720021626287,
          416.19947981672436,
          420.53955401125705,
          424.8916741302007,
          429.25528099850374,
          433.62980696923375,
          438.0146760149474,
          442.4093038232873,
          446.813097896803,
          451.22545765699283,
          455.6457745525576,
          460.07343217186025,
          464.507806359578,
          468.94826533753195,
          473.39416982968174,
          477.84487319126225,
          482.29972154204364,
          486.7580539036896,
          491.2192023411896,
          495.6824921083344,
          500.1472417972037,
          504.612763491635,
          509.07836292463406,
          513.5433396396899,
          518.0069871559541,
          522.4685931372393,
          526.927439564791,
          531.382802913786,
          535.8339543335018,
          540.2801598311107,
          544.7206804590345,
          549.154772505809,
          553.5816876903909,
          558.0006733598494,
          562.410972690373,
          566.811824891526,
          571.2024654136834,
          575.5821261585713,
          579.95003569284,
          584.3054194645896,
          588.6475000227715,
          592.9754972393846,
          597.2886285343773,
          601.5861091031793,
          605.8671521467649,
          610.1309691041655,
          614.3767698873362,
          618.6037631182829,
          622.8111563683551,
          626.9981563996066,
          631.1639694081239,
          635.3078012692223,
          639.4288577844068,
          643.5263449299924,
          647.5994691072783,
          651.6474373941688,
          655.6694577981319,
          659.6647395103828,
          663.6324931611839,
          667.571931076146,
          671.4822675334157,
          675.3627190216351,
          679.212504498557,
          683.0308456501944,
          686.8169671503912,
          690.5700969206897,
          694.2894663903762,
          697.9743107565838,
          701.6238692443293,
          705.2373853663621,
          708.814107182703,
          712.3532875597471,
          715.854184428808,
          719.3160610439796,
          722.7381862391888,
          726.1198346843171,
          729.4602871402631,
          732.7588307128232,
          736.0147591052656,
          739.2273728694713,
          742.3959796555183,
          745.5198944595863,
          748.5984398700557,
          751.6309463116786,
          754.6167522876999,
          757.5552046198034,
          760.4456586857658,
          763.2874786546927,
          766.0800377197218,
          768.822718328068,
          771.5149124083016,
          774.1560215947306,
          776.7454574487844,
          779.2826416772726,
          781.7670063474156,
          784.1979940985264,
          786.5750583502404,
          788.8976635071803,
          791.1652851599506,
          793.3774102823551,
          795.5335374247337,
          797.6331769033189,
          799.6758509855074,
          801.661094070954,
          803.5884528683866,
          805.4574865680539,
          807.2677670097066,
          809.0188788460316,
          810.7104197014437,
          812.3420003261541,
          813.9132447454334,
          815.4237904039859,
          816.8732883053615,
          818.2614031463264,
          819.5878134461236,
          820.8522116705503,
          822.0543043507877,
          823.1938121969179,
          824.2704702060657,
          825.2840277651081,
          826.2342487478949,
          827.1209116069269,
          827.9438094594453,
          828.7027501678792,
          829.3975564146149,
          830.0280657710391,
          830.5941307608248,
          831.09561891742,
          831.5324128357116,
          831.9044102178342,
          832.2115239130994,
          832.4536819520241,
          832.6308275744394,
          832.7429192516623,
          832.789930702723,
          832.7718509046337,
          832.6886840966952,
          832.5404497788419,
          832.3271827040207,
          832.0489328646125,
          831.7057654729008,
          831.2977609356002,
          830.825014822457,
          830.2876378289408,
          829.6857557330457,
          829.0195093462253,
          828.28905445849,
          827.4945617776938,
          826.636216863045,
          825.714220052878,
          824.728786386724,
          823.6801455217235,
          822.5685416434269,
          821.3942333710309,
          820.1574936571017,
          818.8586096818408,
          817.4978827419503,
          816.075628134156,
          814.5921750334552,
          813.0478663661513,
          811.4430586777454,
          809.7781219957562,
          808.0534396875423,
          806.2694083132019,
          804.4264374736308,
          802.5249496538189,
          800.5653800614701,
          798.5481764610302,
          796.4737990032135,
          794.3427200501177,
          792.1554239960208,
          789.9124070839525,
          787.614177218144,
          785.2612537724448,
          782.8541673948205,
          780.3934598080209,
          777.8796836065364,
          775.3134020499375,
          772.6951888527153,
          770.0256279707239,
          767.3053133843441,
          764.5348488784734,
          761.714847819464,
          758.8459329291153,
          755.9287360558465,
          752.9638979431572,
          749.9520679955062,
          746.8939040417139,
          743.7900720960222,
          740.641246116924,
          737.4481077638899,
          734.2113461521079,
          730.9316576053698,
          727.6097454072145,
          724.2463195504673,
          720.8420964852833,
          717.3977988658366,
          713.9141552957636,
          710.3919000725003,
          706.8317729306248,
          703.2345187843418,
          699.6008874692261,
          695.9316334833525,
          692.227515727934,
          688.4892972475985,
          684.7177449704177,
          680.91362944782,
          677.0777245945031,
          673.210807428474,
          669.3136578113301,
          665.3870581889092,
          661.43179333242,
          657.4486500801801,
          653.4384170800665,
          649.4018845328108,
          645.3398439362362,
          641.2530878305665,
          637.1424095449089,
          633.0086029450227,
          628.8524621824935,
          624.6747814454026,
          620.4763547106215,
          616.2579754978145,
          612.0204366252706,
          607.7645299676519,
          603.4910462157746,
          599.2007746385025,
          594.8945028468673,
          590.5730165604965,
          586.2370993764513,
          581.8875325405572,
          577.525094721325,
          573.1505617865377,
          568.7647065826006,
          564.3682987167241,
          559.9621043420315,
          555.5468859456583,
          551.1234021399313,
          546.6924074566863,
          542.254652144813,
          537.8108819710776,
          533.3618380243065,
          528.908256522981,
          524.4508686263192,
          519.9904002488878,
          515.5275718788189,
          511.0630983996697,
          506.5976889159918,
          502.1320465826456,
          497.6668684379225,
          493.2028452405027,
          488.7406613103077,
          484.280994373272,
          479.82451541008453,
          475.37188850892267,
          470.9237707222224,
          466.4808119275023,
          462.04365469228287,
          457.6129341431097,
          453.1892778387201,
          448.7733056473553,
          444.3656296282543,
          439.9668539173245,
          435.57757461702175,
          431.19837969043147,
          426.8298488595739,
          422.472553507927,
          418.1270565871798,
          413.7939125282074,
          409.47366715627584,
          405.16685761046324,
          400.87401226730077,
          396.5956506686141,
          392.3322834535677,
          388.08441229488494,
          383.8525298392438,
          379.6371196518167,
          375.43865616494924,
          371.25760463094275,
          367.0944210789333,
          362.94955227582443,
          358.82343569126357,
          354.71649946661887,
          350.6291623879382,
          346.5618338628454,
          342.51491390135175,
          338.4887931005347,
          334.48385263305755,
          330.50046423947896,
          326.53899022432387,
          322.5997834558594,
          318.68318736954615,
          314.7895359751051,
          310.91915386716676,
          307.0723562394404,
          303.24944890236816,
          299.4507283041987,
          295.67648155544066,
          291.92698645663296,
          288.2025115293846,
          284.5033160506226,
          280.82965008999446,
          277.18175455037044,
          273.55986121137664,
          269.9641927759143,
          266.3949629195893,
          262.85237634300574,
          259.3366288268478,
          255.84790728969887,
          252.38638984852588,
          248.95224588177194,
          245.5456360949862,
          242.16671258893362,
          238.81561893010976,
          235.492490223606,
          232.19745318824704,
          228.93062623394633,
          225.69211954119984,
          222.48203514266453,
          219.30046700674123,
          216.1475011231069,
          213.02321559011673,
          209.92768070402056,
          206.86095904991467,
          203.8231055943719,
          200.8141677796732,
          197.83418561958183,
          194.88319179658518,
          191.96121176054476,
          189.0682638286798,
          186.20435928682662,
          183.36950249189812,
          180.56369097548742,
          177.78691554854,
          175.03916040704,
          172.32040323863464,
          169.6306153301446,
          166.96976167588488,
          164.3378010867439,
          161.73468629994903,
          159.16036408946468,
          156.6147753769543,
          154.09785534325263,
          151.60953354028192,
          149.1497340033589,
          146.71837536382753,
          144.31537096196755,
          141.94062896011297,
          139.5940524559341,
          137.27553959581795,
          134.98498368830204,
          132.72227331749906,
          130.4872924564687,
          128.27992058047593,
          126.10003278009309,
          123.94749987408893,
          121.82218852206168,
          119.72396133676268,
          117.65267699606876,
          115.60819035455232,
          113.59035255460955,
          111.5990111370964,
          109.63401015143698,
          107.69519026515444,
          105.78238887279069,
          103.8954402041696,
          102.03417543196893,
          100.19842277856003,
          98.38800762208201,
          96.602752601711,
          94.84247772209488,
          93.10700045691394,
          91.39613585154191,
          89.70969662476966,
          88.04749326956768,
          86.40933415285123,
          84.79502561422787,
          83.20437206369321,
          81.63717607825483,
          80.09323849745469,
          78.57235851777108,
          77.07433378587243,
          75.59896049070603,
          74.14603345439689,
          72.71534622194129,
          71.30669114967185,
          69.91985949248098,
          68.55464148978389,
          67.21082645020509,
          65.88820283497633,
          64.58655834002909,
          63.30567997677296,
          62.04535415154442,
          60.805366743718515,
          59.58550318247089,
          58.3855485221852,
          57.20528751649264,
          56.044504690942524,
          54.90298441429263,
          53.78051096841842,
          52.67686861683239,
          51.5918416718146,
          50.52521456014767,
          49.47677188745716,
          48.44629850115403,
          47.43357955198128,
          46.43840055416243,
          45.46054744415562,
          44.49980663801299,
          43.555965087350295,
          42.6288103339272,
          41.71813056284552,
          40.823714654366995,
          39.9453522343587,
          39.08283372336909,
          38.23595038434443,
          37.40449436898974,
          36.58825876278481,
          35.78703762866053,
          35.0006260493476,
          34.228820168404184,
          33.47141722993444,
          32.72821561700667,
          31.99901488878353,
          31.28361581637397,
          30.581820417420097,
          29.893431989429804,
          29.21825514186934,
          28.556095827026603,
          27.906761369660998,
          27.27006049545105,
          26.64580335825638,
          26.033801566205526,
          25.43386820662711,
          24.84581786983715,
          24.269466671798977,
          23.704632275670455,
          23.151133912255215,
          22.608792399372515,
          22.077430160163317,
          21.55687124034765,
          21.046941324451193,
          20.547467751016107,
          20.05827952681491,
          19.57920734008251,
          19.110083572785463,
          18.650742311943617,
          18.20101936002364,
          17.760752244420015,
          17.329780226042633,
          16.907944307026906,
          16.495087237585818,
          16.091053522019926,
          15.695689423904321,
          15.308842970469186,
          14.93036395619271,
          14.560103945623009,
          14.197916275447644,
          13.843656055827584,
          13.497180171014216,
          13.158347279265607,
          12.827017812081063,
          12.503053972770036,
          12.18631973437389,
          11.876680836956636,
          11.574004784283092,
          11.278160839900359,
          10.989020022640464,
          10.706455101560257,
          10.430340590336165,
          10.160552741129377,
          9.896969537938833,
          9.639470689457516,
          9.387937621448886,
          9.142253468659053,
          8.902303066280307,
          8.667972940982356,
          8.43915130152594,
          8.215728028974771,
          7.997594666520372,
          7.784644408935282,
          7.5767720916687535,
          7.373874179600092,
          7.1758487554633135,
          6.98259550795797,
          6.794015719559256,
          6.610012254041925,
          6.4304895437306895,
          6.255353576491204,
          6.084511882473818,
          5.917873520623783,
          5.75534906496984,
          5.596850590704013,
          5.442291660064482,
          5.291587308033749,
          5.144654027863488,
          5.001409756437865,
          4.861773859486239,
          4.725667116656715,
          4.593011706460709,
          4.463731191099782,
          4.337750501184416,
          4.214995920355357,
          4.095395069816916,
          3.978876892792306,
          3.865371638909966,
          3.754810848530515,
          3.6471273370227566,
          3.542255178997956,
          3.4401296925104687,
          3.3406874232332875,
          3.2438661286162644,
          3.1496047620351346,
          3.057843456938626,
          2.9685235110013135,
          2.8815873702890964,
          2.7969786134445713,
          2.714641935898654,
          2.6345231341153608,
          2.556569089875691,
          2.4807277546070674,
          2.406948133763879,
          2.3351802712651764,
          2.2653752339947113,
          2.1974850963688577,
          2.131462924977326,
          2.0672627633017946,
          2.004839616516964,
          1.9441494363787635,
          1.8851491062039125,
          1.827796425945174,
          1.7720500973661222,
          1.7178697093194017,
          1.665215723132002,
          1.6140494581011797,
          1.5643330771041468,
          1.5160295723248942,
          1.4691027511009516,
          1.423517221893095,
          1.3792383803805048,
          1.3362323956840911,
          1.2944661967202218,
          1.2539074586871897,
          1.2145245896864538,
          1.1762867174806948,
          1.1391636763904054,
          1.103125994330825,
          1.0681448799906739,
          1.0341922101542487,
          1.001240517168051,
          0.9692629765533006,
          0.9382333947652838,
          0.9081261971006075,
          0.8789164157531237,
          0.8505796780193693,
          0.8230921946540694,
          0.7964307483763549,
          0.7705726825270192,
          0.7454958898772726,
          0.7211788015892028,
          0.6976003763280743,
          0.6747400895266317,
          0.6525779228013124,
          0.6310943535203634,
          0.6102703445236114,
          0.590087333993742,
          0.5705272254786772,
          0.551572378064745,
          0.5332055967001225,
          0.5154101226680936,
          0.49816962420947825,
          0.48146818729363755,
          0.46529030653731573,
          0.44962087627060066,
          0.43444518174913227,
          0.4197488905117649,
          0.40551804388270607,
          0.39173904861722675,
          0.378398668689884,
          0.36548401722426554,
          0.3529825485631181,
          0.34088205047777076,
          0.32917063651566025,
          0.3178367384847934,
          0.30686909907387977,
          0.2962567646069097,
          0.285989077930856,
          0.27605567143521414,
          0.26644646020200474,
          0.2571516352849101,
          0.24816165711611646,
          0.2394672490394909,
          0.2310593909686396,
          0.22292931316842204,
          0.215068490158436,
          0.207468634737038,
          0.2001216921243621,
          0.19301983422289065,
          0.18615545399401603,
          0.1795211599491246,
          0.17310977075363398,
          0.16691430994248077,
          0.16092800074550692,
          0.1551442610212081,
          0.14955669829729434,
          0.14415910491652495,
          0.13894545328625307,
          0.13390989123015626,
          0.1290467374405785,
          0.12435047702996133,
          0.11981575717980748,
          0.11543738288564541,
          0.11121031279645172,
          0.10712965514701674,
          0.10319066378171061,
          0.09938873426815098,
          0.09571940009924916,
          0.0921783289821421,
          0.08876131921251232,
          0.08546429613281488,
          0.08228330867293247,
          0.07921452597180494,
          0.07625423407856761,
          0.07339883273176798,
          0.07064483221522336,
          0.06798885028910968,
          0.06542760919486496,
          0.06295793273253082,
          0.06057674340914195,
          0.058281059656799555,
          0.05606799311908816,
          0.05393474600448602,
          0.05187860850546073,
          0.04989695628192931,
          0.047987248007804115,
          0.04614702297934089,
          0.04437389878403171,
          0.04266556902879153,
          0.04101980112622009,
          0.03943443413771571,
          0.03790737667225006,
          0.036436604839620336,
          0.03502016025701586,
          0.03365614810775168,
          0.03234273525103595,
          0.031078148381658295,
          0.02986067223849893,
          0.02868864786077887,
          0.02756047089098477,
          0.02647458992342274,
          0.025429504897364102,
          0.024423765533774008,
          0.02345596981462168,
          0.02252476250379026,
          0.021628833708619816,
          0.02076691748113848,
          0.01993779045804391,
          0.019140270538523636,
          0.018373215599009382,
          0.017635522243984986,
          0.016926124591978748,
          0.0162439930958876,
          0.015588133396795767,
          0.014957585210470402,
          0.014351421245725401,
          0.013768746153866186,
          0.013208695508438882,
          0.012670434814526238,
          0.012153158546844834,
          0.011656089215914515,
          0.011178476461583603,
          0.010719596173211948,
          0.010278749635823313,
          0.009855262701556686,
          0.009448484985757342,
          0.00905778908706469,
          0.008682569830865402,
          0.008322243535496106,
          0.007976247300590074,
          0.0076440383169791536,
          0.007325093197572551,
          0.0070189073286474205,
          0.00672499424099915,
          0.006442885000411658,
          0.0061721276169194135,
          0.005912286472346485,
          0.005662941765617252,
          0.00542368897534794,
          0.00519413833923754,
          0.004973914349788706,
          0.004762655265899767,
          0.004560012639881235,
          0.0043656508594589185,
          0.004179246704338159,
          0.004000488916912307,
          0.0038290777867102787,
          0.003664724748187024,
          0.003507151991470735,
          0.0033560920856899766,
          0.003211287614514313,
          0.003072490823549771,
          0.002939463279240829
         ]
        }
       ],
       "layout": {
        "bargap": 0.2,
        "template": {
         "data": {
          "bar": [
           {
            "error_x": {
             "color": "#2a3f5f"
            },
            "error_y": {
             "color": "#2a3f5f"
            },
            "marker": {
             "line": {
              "color": "white",
              "width": 0.5
             },
             "pattern": {
              "fillmode": "overlay",
              "size": 10,
              "solidity": 0.2
             }
            },
            "type": "bar"
           }
          ],
          "barpolar": [
           {
            "marker": {
             "line": {
              "color": "white",
              "width": 0.5
             },
             "pattern": {
              "fillmode": "overlay",
              "size": 10,
              "solidity": 0.2
             }
            },
            "type": "barpolar"
           }
          ],
          "carpet": [
           {
            "aaxis": {
             "endlinecolor": "#2a3f5f",
             "gridcolor": "#C8D4E3",
             "linecolor": "#C8D4E3",
             "minorgridcolor": "#C8D4E3",
             "startlinecolor": "#2a3f5f"
            },
            "baxis": {
             "endlinecolor": "#2a3f5f",
             "gridcolor": "#C8D4E3",
             "linecolor": "#C8D4E3",
             "minorgridcolor": "#C8D4E3",
             "startlinecolor": "#2a3f5f"
            },
            "type": "carpet"
           }
          ],
          "choropleth": [
           {
            "colorbar": {
             "outlinewidth": 0,
             "ticks": ""
            },
            "type": "choropleth"
           }
          ],
          "contour": [
           {
            "colorbar": {
             "outlinewidth": 0,
             "ticks": ""
            },
            "colorscale": [
             [
              0,
              "#0d0887"
             ],
             [
              0.1111111111111111,
              "#46039f"
             ],
             [
              0.2222222222222222,
              "#7201a8"
             ],
             [
              0.3333333333333333,
              "#9c179e"
             ],
             [
              0.4444444444444444,
              "#bd3786"
             ],
             [
              0.5555555555555556,
              "#d8576b"
             ],
             [
              0.6666666666666666,
              "#ed7953"
             ],
             [
              0.7777777777777778,
              "#fb9f3a"
             ],
             [
              0.8888888888888888,
              "#fdca26"
             ],
             [
              1,
              "#f0f921"
             ]
            ],
            "type": "contour"
           }
          ],
          "contourcarpet": [
           {
            "colorbar": {
             "outlinewidth": 0,
             "ticks": ""
            },
            "type": "contourcarpet"
           }
          ],
          "heatmap": [
           {
            "colorbar": {
             "outlinewidth": 0,
             "ticks": ""
            },
            "colorscale": [
             [
              0,
              "#0d0887"
             ],
             [
              0.1111111111111111,
              "#46039f"
             ],
             [
              0.2222222222222222,
              "#7201a8"
             ],
             [
              0.3333333333333333,
              "#9c179e"
             ],
             [
              0.4444444444444444,
              "#bd3786"
             ],
             [
              0.5555555555555556,
              "#d8576b"
             ],
             [
              0.6666666666666666,
              "#ed7953"
             ],
             [
              0.7777777777777778,
              "#fb9f3a"
             ],
             [
              0.8888888888888888,
              "#fdca26"
             ],
             [
              1,
              "#f0f921"
             ]
            ],
            "type": "heatmap"
           }
          ],
          "heatmapgl": [
           {
            "colorbar": {
             "outlinewidth": 0,
             "ticks": ""
            },
            "colorscale": [
             [
              0,
              "#0d0887"
             ],
             [
              0.1111111111111111,
              "#46039f"
             ],
             [
              0.2222222222222222,
              "#7201a8"
             ],
             [
              0.3333333333333333,
              "#9c179e"
             ],
             [
              0.4444444444444444,
              "#bd3786"
             ],
             [
              0.5555555555555556,
              "#d8576b"
             ],
             [
              0.6666666666666666,
              "#ed7953"
             ],
             [
              0.7777777777777778,
              "#fb9f3a"
             ],
             [
              0.8888888888888888,
              "#fdca26"
             ],
             [
              1,
              "#f0f921"
             ]
            ],
            "type": "heatmapgl"
           }
          ],
          "histogram": [
           {
            "marker": {
             "pattern": {
              "fillmode": "overlay",
              "size": 10,
              "solidity": 0.2
             }
            },
            "type": "histogram"
           }
          ],
          "histogram2d": [
           {
            "colorbar": {
             "outlinewidth": 0,
             "ticks": ""
            },
            "colorscale": [
             [
              0,
              "#0d0887"
             ],
             [
              0.1111111111111111,
              "#46039f"
             ],
             [
              0.2222222222222222,
              "#7201a8"
             ],
             [
              0.3333333333333333,
              "#9c179e"
             ],
             [
              0.4444444444444444,
              "#bd3786"
             ],
             [
              0.5555555555555556,
              "#d8576b"
             ],
             [
              0.6666666666666666,
              "#ed7953"
             ],
             [
              0.7777777777777778,
              "#fb9f3a"
             ],
             [
              0.8888888888888888,
              "#fdca26"
             ],
             [
              1,
              "#f0f921"
             ]
            ],
            "type": "histogram2d"
           }
          ],
          "histogram2dcontour": [
           {
            "colorbar": {
             "outlinewidth": 0,
             "ticks": ""
            },
            "colorscale": [
             [
              0,
              "#0d0887"
             ],
             [
              0.1111111111111111,
              "#46039f"
             ],
             [
              0.2222222222222222,
              "#7201a8"
             ],
             [
              0.3333333333333333,
              "#9c179e"
             ],
             [
              0.4444444444444444,
              "#bd3786"
             ],
             [
              0.5555555555555556,
              "#d8576b"
             ],
             [
              0.6666666666666666,
              "#ed7953"
             ],
             [
              0.7777777777777778,
              "#fb9f3a"
             ],
             [
              0.8888888888888888,
              "#fdca26"
             ],
             [
              1,
              "#f0f921"
             ]
            ],
            "type": "histogram2dcontour"
           }
          ],
          "mesh3d": [
           {
            "colorbar": {
             "outlinewidth": 0,
             "ticks": ""
            },
            "type": "mesh3d"
           }
          ],
          "parcoords": [
           {
            "line": {
             "colorbar": {
              "outlinewidth": 0,
              "ticks": ""
             }
            },
            "type": "parcoords"
           }
          ],
          "pie": [
           {
            "automargin": true,
            "type": "pie"
           }
          ],
          "scatter": [
           {
            "fillpattern": {
             "fillmode": "overlay",
             "size": 10,
             "solidity": 0.2
            },
            "type": "scatter"
           }
          ],
          "scatter3d": [
           {
            "line": {
             "colorbar": {
              "outlinewidth": 0,
              "ticks": ""
             }
            },
            "marker": {
             "colorbar": {
              "outlinewidth": 0,
              "ticks": ""
             }
            },
            "type": "scatter3d"
           }
          ],
          "scattercarpet": [
           {
            "marker": {
             "colorbar": {
              "outlinewidth": 0,
              "ticks": ""
             }
            },
            "type": "scattercarpet"
           }
          ],
          "scattergeo": [
           {
            "marker": {
             "colorbar": {
              "outlinewidth": 0,
              "ticks": ""
             }
            },
            "type": "scattergeo"
           }
          ],
          "scattergl": [
           {
            "marker": {
             "colorbar": {
              "outlinewidth": 0,
              "ticks": ""
             }
            },
            "type": "scattergl"
           }
          ],
          "scattermapbox": [
           {
            "marker": {
             "colorbar": {
              "outlinewidth": 0,
              "ticks": ""
             }
            },
            "type": "scattermapbox"
           }
          ],
          "scatterpolar": [
           {
            "marker": {
             "colorbar": {
              "outlinewidth": 0,
              "ticks": ""
             }
            },
            "type": "scatterpolar"
           }
          ],
          "scatterpolargl": [
           {
            "marker": {
             "colorbar": {
              "outlinewidth": 0,
              "ticks": ""
             }
            },
            "type": "scatterpolargl"
           }
          ],
          "scatterternary": [
           {
            "marker": {
             "colorbar": {
              "outlinewidth": 0,
              "ticks": ""
             }
            },
            "type": "scatterternary"
           }
          ],
          "surface": [
           {
            "colorbar": {
             "outlinewidth": 0,
             "ticks": ""
            },
            "colorscale": [
             [
              0,
              "#0d0887"
             ],
             [
              0.1111111111111111,
              "#46039f"
             ],
             [
              0.2222222222222222,
              "#7201a8"
             ],
             [
              0.3333333333333333,
              "#9c179e"
             ],
             [
              0.4444444444444444,
              "#bd3786"
             ],
             [
              0.5555555555555556,
              "#d8576b"
             ],
             [
              0.6666666666666666,
              "#ed7953"
             ],
             [
              0.7777777777777778,
              "#fb9f3a"
             ],
             [
              0.8888888888888888,
              "#fdca26"
             ],
             [
              1,
              "#f0f921"
             ]
            ],
            "type": "surface"
           }
          ],
          "table": [
           {
            "cells": {
             "fill": {
              "color": "#EBF0F8"
             },
             "line": {
              "color": "white"
             }
            },
            "header": {
             "fill": {
              "color": "#C8D4E3"
             },
             "line": {
              "color": "white"
             }
            },
            "type": "table"
           }
          ]
         },
         "layout": {
          "annotationdefaults": {
           "arrowcolor": "#2a3f5f",
           "arrowhead": 0,
           "arrowwidth": 1
          },
          "autotypenumbers": "strict",
          "coloraxis": {
           "colorbar": {
            "outlinewidth": 0,
            "ticks": ""
           }
          },
          "colorscale": {
           "diverging": [
            [
             0,
             "#8e0152"
            ],
            [
             0.1,
             "#c51b7d"
            ],
            [
             0.2,
             "#de77ae"
            ],
            [
             0.3,
             "#f1b6da"
            ],
            [
             0.4,
             "#fde0ef"
            ],
            [
             0.5,
             "#f7f7f7"
            ],
            [
             0.6,
             "#e6f5d0"
            ],
            [
             0.7,
             "#b8e186"
            ],
            [
             0.8,
             "#7fbc41"
            ],
            [
             0.9,
             "#4d9221"
            ],
            [
             1,
             "#276419"
            ]
           ],
           "sequential": [
            [
             0,
             "#0d0887"
            ],
            [
             0.1111111111111111,
             "#46039f"
            ],
            [
             0.2222222222222222,
             "#7201a8"
            ],
            [
             0.3333333333333333,
             "#9c179e"
            ],
            [
             0.4444444444444444,
             "#bd3786"
            ],
            [
             0.5555555555555556,
             "#d8576b"
            ],
            [
             0.6666666666666666,
             "#ed7953"
            ],
            [
             0.7777777777777778,
             "#fb9f3a"
            ],
            [
             0.8888888888888888,
             "#fdca26"
            ],
            [
             1,
             "#f0f921"
            ]
           ],
           "sequentialminus": [
            [
             0,
             "#0d0887"
            ],
            [
             0.1111111111111111,
             "#46039f"
            ],
            [
             0.2222222222222222,
             "#7201a8"
            ],
            [
             0.3333333333333333,
             "#9c179e"
            ],
            [
             0.4444444444444444,
             "#bd3786"
            ],
            [
             0.5555555555555556,
             "#d8576b"
            ],
            [
             0.6666666666666666,
             "#ed7953"
            ],
            [
             0.7777777777777778,
             "#fb9f3a"
            ],
            [
             0.8888888888888888,
             "#fdca26"
            ],
            [
             1,
             "#f0f921"
            ]
           ]
          },
          "colorway": [
           "#636efa",
           "#EF553B",
           "#00cc96",
           "#ab63fa",
           "#FFA15A",
           "#19d3f3",
           "#FF6692",
           "#B6E880",
           "#FF97FF",
           "#FECB52"
          ],
          "font": {
           "color": "#2a3f5f"
          },
          "geo": {
           "bgcolor": "white",
           "lakecolor": "white",
           "landcolor": "white",
           "showlakes": true,
           "showland": true,
           "subunitcolor": "#C8D4E3"
          },
          "hoverlabel": {
           "align": "left"
          },
          "hovermode": "closest",
          "mapbox": {
           "style": "light"
          },
          "paper_bgcolor": "white",
          "plot_bgcolor": "white",
          "polar": {
           "angularaxis": {
            "gridcolor": "#EBF0F8",
            "linecolor": "#EBF0F8",
            "ticks": ""
           },
           "bgcolor": "white",
           "radialaxis": {
            "gridcolor": "#EBF0F8",
            "linecolor": "#EBF0F8",
            "ticks": ""
           }
          },
          "scene": {
           "xaxis": {
            "backgroundcolor": "white",
            "gridcolor": "#DFE8F3",
            "gridwidth": 2,
            "linecolor": "#EBF0F8",
            "showbackground": true,
            "ticks": "",
            "zerolinecolor": "#EBF0F8"
           },
           "yaxis": {
            "backgroundcolor": "white",
            "gridcolor": "#DFE8F3",
            "gridwidth": 2,
            "linecolor": "#EBF0F8",
            "showbackground": true,
            "ticks": "",
            "zerolinecolor": "#EBF0F8"
           },
           "zaxis": {
            "backgroundcolor": "white",
            "gridcolor": "#DFE8F3",
            "gridwidth": 2,
            "linecolor": "#EBF0F8",
            "showbackground": true,
            "ticks": "",
            "zerolinecolor": "#EBF0F8"
           }
          },
          "shapedefaults": {
           "line": {
            "color": "#2a3f5f"
           }
          },
          "ternary": {
           "aaxis": {
            "gridcolor": "#DFE8F3",
            "linecolor": "#A2B1C6",
            "ticks": ""
           },
           "baxis": {
            "gridcolor": "#DFE8F3",
            "linecolor": "#A2B1C6",
            "ticks": ""
           },
           "bgcolor": "white",
           "caxis": {
            "gridcolor": "#DFE8F3",
            "linecolor": "#A2B1C6",
            "ticks": ""
           }
          },
          "title": {
           "x": 0.05
          },
          "xaxis": {
           "automargin": true,
           "gridcolor": "#EBF0F8",
           "linecolor": "#EBF0F8",
           "ticks": "",
           "title": {
            "standoff": 15
           },
           "zerolinecolor": "#EBF0F8",
           "zerolinewidth": 2
          },
          "yaxis": {
           "automargin": true,
           "gridcolor": "#EBF0F8",
           "linecolor": "#EBF0F8",
           "ticks": "",
           "title": {
            "standoff": 15
           },
           "zerolinecolor": "#EBF0F8",
           "zerolinewidth": 2
          }
         }
        },
        "title": {
         "text": "Returns Data and Fitted Gaussian Distribution - AKA Empirical Distribution"
        },
        "xaxis": {
         "title": {
          "text": "Returns"
         }
        },
        "yaxis": {
         "title": {
          "text": "Probability Density"
         }
        }
       }
      }
     },
     "metadata": {},
     "output_type": "display_data"
    },
    {
     "name": "stdout",
     "output_type": "stream",
     "text": [
      "Shapiro Test Statistic (No Outliers): 0.4690149426460266\n",
      "Shapiro Test (No Outliers): The data is normally distributed\n",
      "Excess Kurtosis (No Outliers): -0.007252188119625913\n"
     ]
    },
    {
     "data": {
      "application/vnd.plotly.v1+json": {
       "config": {
        "plotlyServerURL": "https://plot.ly"
       },
       "data": [
        {
         "histnorm": "probability density",
         "name": "Distribution of returns",
         "type": "histogram",
         "x": [
          -0.0007429420505199663,
          0.0006922189462888906,
          0.002365580378492845,
          0.0007412266875685983,
          -0.0011493274306146,
          0.0014489665459194933,
          -0.0007830120430657243,
          -0.001865369709462326,
          0.0005034817039870166,
          -0.00043499398684782107,
          0.0005631783739503161,
          0.00011939483873177101,
          0.00011085340064114346,
          0.000520100609626233,
          -0.0004857430163788594,
          -0.000434823384972155,
          0.00014500417953210168,
          0.0005458189416230439,
          -0.0013552791960382764,
          0.0008962103106863964,
          0.0004860785400587868,
          0.0010398731695675384,
          -0.00060454344198089,
          -0.0012779770475322262,
          -0.0004009452069986498,
          0.00011094422065961386,
          -0.00006826579286464994,
          0.000017067613350271642,
          0.00017067322051837337,
          -0.0004863356740014644,
          0.00048657231147451583,
          -0.0009897357576171958,
          -0.0005722240726979472,
          -0.0009485558024270443,
          0.0003678074399747356,
          -0.0003249196251452577,
          0.00029936534546753083,
          0.000632754448520303,
          -0.00006836262956848417,
          -0.00014528051959156754,
          0.0010769414861792432,
          0.0008708718964516084,
          -0.0005374234384862418,
          0.0004950368290329944,
          -0.00009383984098423263,
          0.0005460284958622132,
          0.00034960860889888797,
          -0.0003068661296510483,
          -0.0003325403524926651,
          0.00008529512111899441,
          -0.00027292110874195,
          -0.0004436178743878771,
          0.00012802348804248978,
          -0.00011093948677676567,
          -0.0010241704219582527,
          0.000247761602077749,
          0.0003160313298086885,
          -0.00020492853117476056,
          0.0006319924844137066,
          -0.0004950326038716283,
          0.0005379741430841368,
          -0.0004352687144210422,
          -0.00000853839717207509,
          0.00040984656369273307,
          0.0009729868134680771,
          -0.0007929808405597453,
          0.00020480262147356263,
          0.00017916560020479175,
          0.00023884467419025063,
          -0.00029848455129236057,
          0.000929843718009894,
          -0.00046022858019479913,
          0.00005968672993454611,
          0.00039220367307269105,
          0.0010483073671291876,
          -0.00034906985654067896,
          0.00004258435961636135,
          0.00029807782386147817,
          -0.0006385478570333918,
          0.0001959464640182811,
          0.000638830684315429,
          0.0007661074082587153,
          0.0004678183503873999,
          -0.00013602897417156813,
          -0.000629219597639584,
          0,
          -0.00029779123983247885,
          0.0003234125126597971,
          0.0002382269111330243,
          -0.0007825591385045232,
          -0.00017876752560209446,
          -0.0007492550021286582,
          0.0002556193657233022,
          -0.00035777565762579454,
          0.00003408606731995195,
          -0.0008606438638648797,
          0.0005714139510290336,
          -0.0006563245823388867,
          -0.0005458748070248117,
          0.0005803087583953299,
          -0.00044350814946223085,
          -0.00003413114893977014,
          -0.001023969417446771,
          0.000358756651946317,
          0.00029885665980711705,
          0.00038412947724250136,
          0.0001877245227957534,
          0.0005204112101692616,
          -0.00015348408881618036,
          -0.0004264101383274489,
          -0.0001535731349394549,
          -0.000025599453878488,
          -0.00014506728562028673,
          -0.00023043441153877426,
          -0.000187804649018744,
          -0.00041837074478531523,
          0.000170835041683789,
          0.00019642674136577918,
          -0.00014515647013625305,
          -0.00012809783258475033,
          -0.00021352373956936533,
          0.00008542773667766102,
          -0.0007687839546247402,
          0.000042743079895326067,
          -0.00058982929143536,
          0.00016251261611083975,
          0.0003506281374805075,
          0.00035050524048086057,
          0.00009400504208853561,
          -0.0006067027839967498,
          0.00010260356547400132,
          0.00005984593945295368,
          -0.00046164104843808334,
          0.000051317139924688186,
          0.0007868224347023525,
          -0.000051274162949437523,
          0.00009400745222723082,
          -0.00021363321740170736,
          -0.00025641463956644944,
          0.00000854934682989442,
          -0.00017953474852314407,
          0.0007524711837738839,
          0.00003417751802880396,
          -0.0009654818865346113,
          -0.00007697110162744118,
          0.0006072632101131018,
          -0.00012821718281213698,
          0.000017097816608803502,
          -0.00009403638353157909,
          0.0002992348138331202,
          -0.0002991452991452214,
          -0.00013679305775238904,
          -0.0015647846497190462,
          0.0005395406197008391,
          -0.00023110700254216148,
          0.000008561497234628607,
          0.00035101838137726075,
          -0.0001283762966006735,
          -0.000051357111675992635,
          0.00034239832909623187,
          0.0001454694813583815,
          -0.0001882272416153553,
          -0.00028239401666974213,
          -0.00041087096083887713,
          -0.00005137998064682723,
          0.00014558409194069825,
          0.0003082508476897455,
          -0.00021399712387865506,
          0.0003167835341055068,
          -0.00011126707521644165,
          -0.00011127945695634348,
          -0.0002996318808320427,
          -0.0004881181759793931,
          -0.0006939803629261749,
          -0.00007716247845873792,
          -0.00006001989230711007,
          -0.0005659358091596555,
          0.0002230706533396173,
          -0.0004889304432111033,
          0.00023171192200746783,
          0.0008065138866247862,
          -0.00017146041407693898,
          -0.000008574490889595631,
          -0.00001714912882424013,
          -0.00006002298022666078,
          -0.00009432748788760222,
          0.000008576035127432083,
          -0.00003430384631873729,
          -0.00013722009245210748,
          -0.00006861946219490265,
          -0.00033454283434971964,
          0.0004891108479636996,
          -0.0005489086152923367,
          -0.0005492100814374481,
          0.000858612310783312,
          0.00014583887378061147,
          -0.00003431002538938759,
          0.00007720020586734047,
          -0.00003430855398038493,
          -0.00007719689496926547,
          -0.00001715618995331956,
          0.0005404292552369154,
          0.0010459802635527555,
          -0.00023124555708766076,
          -0.0002227324127060197,
          -0.00008568539749448105,
          -0.00042846370055528893,
          -0.0000943024192858112,
          0.00012003258027187384,
          0.00011144544745337016,
          0.00032572731480697155,
          0.00008568980291337537,
          0.00005140947648031258,
          0.00025703416840874816,
          0.00031692734654711153,
          0.00019694647337370867,
          0.00047086622262551114,
          -0.0002909439419480564,
          -0.00025678995437694585,
          0.0001883610024230308,
          -0.00066769960366034,
          -0.00019701732895899314,
          -0.0001456501996265124,
          0.00004284453432271748,
          -0.00003427415899779242,
          0.00005998183407305474,
          0.000008568319495489555,
          -0.00002570473824005888,
          -0.0011481744882482782,
          0.0003345543136059574,
          0.0002915651905465523,
          0.00017145894415586087,
          -0.00007714329796182736,
          -0.0003514576922086583,
          -0.0000686012211018682,
          -0.00013721185510415622,
          -0.0003773843831481187,
          -0.00018018327212825306,
          -0.00006865361675828542,
          0.0007209124692109597,
          -0.0002744354776463181,
          -0.000034313851644031204,
          -0.00006005130096868214,
          -0.00024021962937540556,
          -0.00013730134212049436,
          0.0001544852209137254,
          -0.00009439305267123755,
          0.00024887790393309786,
          -0.0003603541766765673,
          -0.00035190112436688225,
          -0.0010646609827507827,
          0.0014611715157506085,
          -0.0002918079217269412,
          -0.0007812432928974292,
          0.0007474868974996913,
          0.00022322003485665917,
          0.00015450245916419635,
          -0.00004291071995602039,
          0.000008582512272984744,
          -0.00016306633366809526,
          0.0006781232295833093,
          0.0001801384492653237,
          0.00017152952880842336,
          -0.0003515752285239687,
          -0.00006004614975504288,
          0.00040319121557864566,
          0.00016292650299684196,
          -0.000282931513426324,
          -0.000060032760735089435,
          0.0003430649421934402,
          -0.0002229157378510845,
          0.00012863390789819994,
          -0.00020578778135049011,
          0.00019725388289981922,
          -0.0003858553985457929,
          -0.00030022559809220276,
          -0.0005405683690281002,
          0.00044642473879858677,
          -0.00016304394463356064,
          0.00007724393635092619,
          -0.00031753387743202477,
          -0.000927150043782023,
          0.0003093368162368552,
          -0.00011167041764745574,
          -0.00047250453174797,
          0.00007735547418898642,
          0.00013751020583565972,
          -0.0002577961863350444,
          -0.0004985344805357995,
          -0.00048158372247013363,
          0.0006366851075911872,
          -0.00016336918857108243,
          -0.0005159869971275942,
          -0.00011185489838422083,
          0.00006023629839355275,
          -0.0011186067322917514,
          0.0002412004892925935,
          0.00033587681072038913,
          0.0005596067256119868,
          0.00018069490096201651,
          0.00043014822907974084,
          -0.000412764749890375,
          -0.00007742534905940719,
          0.00014625920572654069,
          0.00017204449070533552,
          -0.00030962681368217434,
          0.0002753090774566291,
          -0.00024082914032615152,
          0.0004473618555195069,
          0.0005331544686082869,
          0.0006188171996803013,
          -0.0010393135377030625,
          0.00016336778387306716,
          -0.00010316279949460393,
          -0.00009457565622600139,
          -0.000335345405768027,
          -0.000017202969232473884,
          -0.0000516097955391464,
          0.00007741868887142317,
          -0.00011181833820736433,
          0.00047313048938893437,
          0.0007222575708069665,
          -0.0005928548107159171,
          -0.00012036073832724368,
          -0.00020635753162000044,
          0.0006020003612002559,
          0.00021487077671488366,
          0.0004554281884269448,
          -0.00036933013819823895,
          -0.0006014572449819719,
          0.00011176642536571845,
          -0.00016333267427171214,
          -0.00006018502596548504,
          -0.00003439351338334461,
          -0.00023216420028030114,
          -0.0000946073793757008,
          0.0004214727461960013,
          -0.00030952299067983283,
          0.0000602036603824965,
          -0.00043860026316015007,
          -0.00033554737240585117,
          -0.00008606666724056186,
          0.0006713777877240919,
          -0.0004644881598527088,
          -0.00038725334113581014,
          -0.0003013137278533627,
          -0.000301404545180463,
          0.0001722830955825047,
          -0.0015588934440348172,
          -0.0003277924901014274,
          0.00031064207992121767,
          0.00006901013586364221,
          0.00037090388414003236,
          0.0003793888390701995,
          -0.00007757283227042365,
          -0.0002154968063373301,
          0.000008621730208810465,
          -0.00012932483812829333,
          -0.00007760493912316606,
          -0.000396678250821414,
          -0.0008885668193621062,
          -0.0002590360405479319,
          0.0004318385960063567,
          -0.0014244522333683235,
          -0.0000605175111742677,
          0.00013833411146278108,
          0.0005619045972441527,
          0.00009503814485532598,
          -0.0006306477529934328,
          0.00025068939583852457,
          -0.000025926886180946088,
          -0.00029384566188728266,
          -0.00025070673363703167,
          0.00019023900937361842,
          -0.000743520135562851,
          0.000017304031839402848,
          -0.00032011904967892135,
          0.00019905664459735875,
          -0.0002768932576493179,
          0.00038948899044457614,
          -0.00012112717488157455,
          -0.000328813588654295,
          0.00034623341325562497,
          0.0003028493800239762,
          -0.00012975329573359362,
          0.000051908053534458664,
          -0.00020762143691336915,
          -0.0005710775194469909,
          0.00013852214189868998
         ]
        },
        {
         "line": {
          "color": "red",
          "width": 2
         },
         "mode": "lines",
         "name": "Fitted Gaussian PDF",
         "type": "scatter",
         "x": [
          -0.001865369709462326,
          -0.0018611345241890977,
          -0.0018568993389158693,
          -0.0018526641536426409,
          -0.0018484289683694125,
          -0.001844193783096184,
          -0.0018399585978229557,
          -0.0018357234125497273,
          -0.0018314882272764989,
          -0.0018272530420032705,
          -0.001823017856730042,
          -0.0018187826714568137,
          -0.0018145474861835853,
          -0.0018103123009103569,
          -0.0018060771156371285,
          -0.0018018419303639,
          -0.0017976067450906717,
          -0.0017933715598174433,
          -0.0017891363745442149,
          -0.0017849011892709864,
          -0.001780666003997758,
          -0.0017764308187245296,
          -0.0017721956334513012,
          -0.0017679604481780728,
          -0.0017637252629048444,
          -0.001759490077631616,
          -0.0017552548923583876,
          -0.0017510197070851592,
          -0.0017467845218119308,
          -0.0017425493365387024,
          -0.001738314151265474,
          -0.0017340789659922456,
          -0.0017298437807190172,
          -0.0017256085954457888,
          -0.0017213734101725604,
          -0.001717138224899332,
          -0.0017129030396261036,
          -0.0017086678543528752,
          -0.0017044326690796468,
          -0.0017001974838064186,
          -0.00169596229853319,
          -0.0016917271132599618,
          -0.0016874919279867332,
          -0.001683256742713505,
          -0.0016790215574402764,
          -0.0016747863721670482,
          -0.0016705511868938196,
          -0.0016663160016205914,
          -0.0016620808163473628,
          -0.0016578456310741346,
          -0.0016536104458009062,
          -0.0016493752605276778,
          -0.0016451400752544494,
          -0.001640904889981221,
          -0.0016366697047079926,
          -0.0016324345194347642,
          -0.0016281993341615358,
          -0.0016239641488883074,
          -0.001619728963615079,
          -0.0016154937783418506,
          -0.0016112585930686222,
          -0.0016070234077953938,
          -0.0016027882225221654,
          -0.001598553037248937,
          -0.0015943178519757086,
          -0.0015900826667024802,
          -0.0015858474814292518,
          -0.0015816122961560234,
          -0.001577377110882795,
          -0.0015731419256095665,
          -0.0015689067403363381,
          -0.0015646715550631097,
          -0.0015604363697898813,
          -0.001556201184516653,
          -0.0015519659992434245,
          -0.0015477308139701961,
          -0.0015434956286969677,
          -0.0015392604434237393,
          -0.001535025258150511,
          -0.0015307900728772825,
          -0.0015265548876040541,
          -0.0015223197023308257,
          -0.0015180845170575973,
          -0.001513849331784369,
          -0.0015096141465111405,
          -0.001505378961237912,
          -0.0015011437759646837,
          -0.0014969085906914553,
          -0.001492673405418227,
          -0.0014884382201449985,
          -0.00148420303487177,
          -0.0014799678495985417,
          -0.0014757326643253133,
          -0.0014714974790520849,
          -0.0014672622937788565,
          -0.001463027108505628,
          -0.0014587919232323997,
          -0.0014545567379591713,
          -0.0014503215526859429,
          -0.0014460863674127145,
          -0.001441851182139486,
          -0.0014376159968662577,
          -0.0014333808115930293,
          -0.0014291456263198009,
          -0.0014249104410465725,
          -0.001420675255773344,
          -0.0014164400705001157,
          -0.0014122048852268873,
          -0.0014079696999536589,
          -0.0014037345146804305,
          -0.001399499329407202,
          -0.0013952641441339736,
          -0.0013910289588607452,
          -0.0013867937735875168,
          -0.0013825585883142884,
          -0.00137832340304106,
          -0.0013740882177678319,
          -0.0013698530324946032,
          -0.001365617847221375,
          -0.0013613826619481464,
          -0.0013571474766749182,
          -0.0013529122914016896,
          -0.0013486771061284614,
          -0.0013444419208552328,
          -0.0013402067355820046,
          -0.001335971550308776,
          -0.0013317363650355478,
          -0.0013275011797623192,
          -0.001323265994489091,
          -0.0013190308092158624,
          -0.0013147956239426342,
          -0.0013105604386694056,
          -0.0013063252533961774,
          -0.0013020900681229488,
          -0.0012978548828497206,
          -0.001293619697576492,
          -0.0012893845123032638,
          -0.0012851493270300352,
          -0.001280914141756807,
          -0.0012766789564835784,
          -0.0012724437712103502,
          -0.0012682085859371216,
          -0.0012639734006638934,
          -0.0012597382153906648,
          -0.0012555030301174366,
          -0.001251267844844208,
          -0.0012470326595709798,
          -0.0012427974742977512,
          -0.001238562289024523,
          -0.0012343271037512944,
          -0.0012300919184780662,
          -0.0012258567332048378,
          -0.0012216215479316094,
          -0.001217386362658381,
          -0.0012131511773851526,
          -0.0012089159921119242,
          -0.0012046808068386958,
          -0.0012004456215654674,
          -0.001196210436292239,
          -0.0011919752510190105,
          -0.0011877400657457821,
          -0.0011835048804725537,
          -0.0011792696951993253,
          -0.001175034509926097,
          -0.0011707993246528685,
          -0.0011665641393796401,
          -0.0011623289541064117,
          -0.0011580937688331833,
          -0.001153858583559955,
          -0.0011496233982867265,
          -0.0011453882130134981,
          -0.0011411530277402697,
          -0.0011369178424670413,
          -0.001132682657193813,
          -0.0011284474719205845,
          -0.0011242122866473561,
          -0.0011199771013741277,
          -0.0011157419161008993,
          -0.001111506730827671,
          -0.0011072715455544425,
          -0.001103036360281214,
          -0.0010988011750079857,
          -0.0010945659897347573,
          -0.0010903308044615289,
          -0.0010860956191883005,
          -0.001081860433915072,
          -0.0010776252486418437,
          -0.0010733900633686153,
          -0.0010691548780953869,
          -0.0010649196928221585,
          -0.00106068450754893,
          -0.0010564493222757017,
          -0.0010522141370024733,
          -0.001047978951729245,
          -0.0010437437664560165,
          -0.0010395085811827883,
          -0.0010352733959095597,
          -0.0010310382106363315,
          -0.0010268030253631029,
          -0.0010225678400898747,
          -0.001018332654816646,
          -0.0010140974695434179,
          -0.0010098622842701892,
          -0.001005627098996961,
          -0.0010013919137237324,
          -0.0009971567284505043,
          -0.0009929215431772756,
          -0.0009886863579040474,
          -0.0009844511726308188,
          -0.0009802159873575906,
          -0.0009759808020843621,
          -0.0009717456168111337,
          -0.0009675104315379053,
          -0.0009632752462646769,
          -0.0009590400609914485,
          -0.0009548048757182201,
          -0.0009505696904449917,
          -0.0009463345051717633,
          -0.0009420993198985349,
          -0.0009378641346253065,
          -0.0009336289493520781,
          -0.0009293937640788497,
          -0.0009251585788056213,
          -0.0009209233935323929,
          -0.0009166882082591645,
          -0.0009124530229859361,
          -0.0009082178377127077,
          -0.0009039826524394793,
          -0.0008997474671662509,
          -0.0008955122818930225,
          -0.0008912770966197941,
          -0.0008870419113465658,
          -0.0008828067260733374,
          -0.000878571540800109,
          -0.0008743363555268806,
          -0.0008701011702536522,
          -0.0008658659849804238,
          -0.0008616307997071954,
          -0.000857395614433967,
          -0.0008531604291607386,
          -0.0008489252438875102,
          -0.0008446900586142818,
          -0.0008404548733410534,
          -0.000836219688067825,
          -0.0008319845027945966,
          -0.0008277493175213682,
          -0.0008235141322481398,
          -0.0008192789469749114,
          -0.000815043761701683,
          -0.0008108085764284545,
          -0.0008065733911552261,
          -0.0008023382058819977,
          -0.0007981030206087693,
          -0.0007938678353355409,
          -0.0007896326500623125,
          -0.0007853974647890841,
          -0.0007811622795158557,
          -0.0007769270942426273,
          -0.0007726919089693989,
          -0.0007684567236961705,
          -0.0007642215384229421,
          -0.0007599863531497137,
          -0.0007557511678764853,
          -0.0007515159826032569,
          -0.0007472807973300285,
          -0.0007430456120568001,
          -0.0007388104267835717,
          -0.0007345752415103433,
          -0.0007303400562371149,
          -0.0007261048709638865,
          -0.0007218696856906581,
          -0.0007176345004174297,
          -0.0007133993151442013,
          -0.0007091641298709729,
          -0.0007049289445977445,
          -0.0007006937593245161,
          -0.0006964585740512877,
          -0.0006922233887780593,
          -0.0006879882035048309,
          -0.0006837530182316025,
          -0.0006795178329583741,
          -0.0006752826476851457,
          -0.0006710474624119173,
          -0.0006668122771386889,
          -0.0006625770918654605,
          -0.0006583419065922321,
          -0.0006541067213190037,
          -0.0006498715360457753,
          -0.0006456363507725469,
          -0.0006414011654993185,
          -0.00063716598022609,
          -0.0006329307949528616,
          -0.0006286956096796332,
          -0.0006244604244064048,
          -0.0006202252391331764,
          -0.000615990053859948,
          -0.0006117548685867196,
          -0.0006075196833134912,
          -0.0006032844980402628,
          -0.0005990493127670346,
          -0.0005948141274938062,
          -0.0005905789422205778,
          -0.0005863437569473494,
          -0.000582108571674121,
          -0.0005778733864008926,
          -0.0005736382011276642,
          -0.0005694030158544358,
          -0.0005651678305812074,
          -0.000560932645307979,
          -0.0005566974600347506,
          -0.0005524622747615222,
          -0.0005482270894882938,
          -0.0005439919042150654,
          -0.000539756718941837,
          -0.0005355215336686086,
          -0.0005312863483953802,
          -0.0005270511631221518,
          -0.0005228159778489234,
          -0.000518580792575695,
          -0.0005143456073024666,
          -0.0005101104220292382,
          -0.0005058752367560098,
          -0.0005016400514827814,
          -0.000497404866209553,
          -0.0004931696809363246,
          -0.0004889344956630962,
          -0.0004846993103898678,
          -0.0004804641251166394,
          -0.000476228939843411,
          -0.0004719937545701826,
          -0.00046775856929695417,
          -0.00046352338402372577,
          -0.00045928819875049737,
          -0.00045505301347726896,
          -0.00045081782820404056,
          -0.00044658264293081216,
          -0.00044234745765758376,
          -0.00043811227238435536,
          -0.00043387708711112695,
          -0.00042964190183789855,
          -0.00042540671656467015,
          -0.00042117153129144175,
          -0.00041693634601821334,
          -0.00041270116074498494,
          -0.00040846597547175654,
          -0.00040423079019852814,
          -0.00039999560492529973,
          -0.00039576041965207133,
          -0.00039152523437884293,
          -0.0003872900491056145,
          -0.0003830548638323861,
          -0.0003788196785591577,
          -0.0003745844932859293,
          -0.0003703493080127009,
          -0.0003661141227394725,
          -0.0003618789374662441,
          -0.0003576437521930157,
          -0.0003534085669197873,
          -0.0003491733816465589,
          -0.0003449381963733305,
          -0.0003407030111001021,
          -0.0003364678258268737,
          -0.0003322326405536453,
          -0.0003279974552804169,
          -0.0003237622700071885,
          -0.0003195270847339601,
          -0.0003152918994607317,
          -0.0003110567141875033,
          -0.0003068215289142749,
          -0.0003025863436410465,
          -0.0002983511583678181,
          -0.0002941159730945897,
          -0.00028988078782136127,
          -0.00028564560254813287,
          -0.00028141041727490447,
          -0.00027717523200167606,
          -0.00027294004672844766,
          -0.00026870486145521926,
          -0.00026446967618199086,
          -0.00026023449090876245,
          -0.00025599930563553405,
          -0.00025176412036230565,
          -0.00024752893508907725,
          -0.00024329374981584885,
          -0.00023905856454262044,
          -0.00023482337926939226,
          -0.00023058819399616385,
          -0.00022635300872293545,
          -0.00022211782344970705,
          -0.00021788263817647865,
          -0.00021364745290325025,
          -0.00020941226763002184,
          -0.00020517708235679344,
          -0.00020094189708356504,
          -0.00019670671181033664,
          -0.00019247152653710823,
          -0.00018823634126387983,
          -0.00018400115599065143,
          -0.00017976597071742303,
          -0.00017553078544419462,
          -0.00017129560017096622,
          -0.00016706041489773782,
          -0.00016282522962450942,
          -0.00015859004435128101,
          -0.0001543548590780526,
          -0.0001501196738048242,
          -0.0001458844885315958,
          -0.0001416493032583674,
          -0.000137414117985139,
          -0.0001331789327119106,
          -0.0001289437474386822,
          -0.0001247085621654538,
          -0.00012047337689222539,
          -0.00011623819161899699,
          -0.00011200300634576859,
          -0.00010776782107254019,
          -0.00010353263579931178,
          -0.00009929745052608338,
          -0.00009506226525285498,
          -0.00009082707997962658,
          -0.00008659189470639817,
          -0.00008235670943316977,
          -0.00007812152415994137,
          -0.00007388633888671297,
          -0.00006965115361348456,
          -0.00006541596834025616,
          -0.00006118078306702776,
          -0.00005694559779379936,
          -0.000052710412520570954,
          -0.00004847522724734255,
          -0.00004424004197411415,
          -0.00004000485670088575,
          -0.000035769671427657345,
          -0.00003153448615442894,
          -0.00002729930088120054,
          -0.000023064115607972138,
          -0.000018828930334743735,
          -0.000014593745061515333,
          -0.00001035855978828693,
          -0.000006123374515058528,
          -0.0000018881892418301256,
          0.000002346996031398277,
          0.000006582181304626679,
          0.000010817366577855082,
          0.000015052551851083484,
          0.000019287737124311886,
          0.00002352292239754029,
          0.00002775810767076869,
          0.000031993292943997094,
          0.000036228478217225496,
          0.0000404636634904539,
          0.0000446988487636823,
          0.0000489340340369107,
          0.000053169219310139106,
          0.00005740440458336751,
          0.00006163958985659591,
          0.00006587477512982431,
          0.00007010996040305272,
          0.00007434514567628112,
          0.00007858033094950952,
          0.00008281551622273792,
          0.00008705070149596632,
          0.00009128588676919451,
          0.00009552107204242313,
          0.00009975625731565132,
          0.00010399144258887993,
          0.00010822662786210812,
          0.00011246181313533674,
          0.00011669699840856492,
          0.00012093218368179354,
          0.00012516736895502173,
          0.00012940255422825035,
          0.00013363773950147853,
          0.00013787292477470715,
          0.00014210811004793534,
          0.00014634329532116396,
          0.00015057848059439214,
          0.00015481366586762076,
          0.00015904885114084895,
          0.00016328403641407757,
          0.00016751922168730575,
          0.00017175440696053437,
          0.00017598959223376256,
          0.00018022477750699118,
          0.00018445996278021936,
          0.00018869514805344798,
          0.00019293033332667617,
          0.0001971655185999048,
          0.00020140070387313297,
          0.0002056358891463616,
          0.00020987107441958978,
          0.0002141062596928184,
          0.00021834144496604658,
          0.0002225766302392752,
          0.0002268118155125034,
          0.000231047000785732,
          0.0002352821860589602,
          0.0002395173713321888,
          0.000243752556605417,
          0.0002479877418786456,
          0.0002522229271518738,
          0.0002564581124251024,
          0.0002606932976983306,
          0.0002649284829715592,
          0.0002691636682447874,
          0.00027339885351801603,
          0.0002776340387912442,
          0.00028186922406447283,
          0.000286104409337701,
          0.00029033959461092964,
          0.0002945747798841578,
          0.00029880996515738644,
          0.00030304515043061463,
          0.0003072803357038428,
          0.00031151552097707143,
          0.0003157507062502996,
          0.00031998589152352824,
          0.0003242210767967564,
          0.00032845626206998504,
          0.00033269144734321323,
          0.00033692663261644185,
          0.00034116181788967003,
          0.00034539700316289865,
          0.00034963218843612684,
          0.00035386737370935546,
          0.00035810255898258364,
          0.00036233774425581226,
          0.00036657292952904045,
          0.00037080811480226907,
          0.00037504330007549725,
          0.0003792784853487259,
          0.00038351367062195406,
          0.0003877488558951827,
          0.00039198404116841086,
          0.0003962192264416395,
          0.00040045441171486767,
          0.0004046895969880963,
          0.0004089247822613245,
          0.0004131599675345531,
          0.0004173951528077813,
          0.0004216303380810099,
          0.0004258655233542381,
          0.0004301007086274667,
          0.0004343358939006949,
          0.0004385710791739235,
          0.0004428062644471517,
          0.0004470414497203803,
          0.0004512766349936085,
          0.0004555118202668371,
          0.0004597470055400653,
          0.0004639821908132939,
          0.0004682173760865221,
          0.0004724525613597507,
          0.0004766877466329789,
          0.00048092293190620753,
          0.0004851581171794357,
          0.0004893933024526643,
          0.0004936284877258925,
          0.0004978636729991211,
          0.0005020988582723493,
          0.0005063340435455779,
          0.0005105692288188061,
          0.0005148044140920347,
          0.0005190395993652629,
          0.0005232747846384916,
          0.0005275099699117197,
          0.0005317451551849484,
          0.0005359803404581765,
          0.0005402155257314052,
          0.0005444507110046333,
          0.000548685896277862,
          0.0005529210815510902,
          0.0005571562668243188,
          0.000561391452097547,
          0.0005656266373707756,
          0.0005698618226440038,
          0.0005740970079172324,
          0.0005783321931904606,
          0.0005825673784636892,
          0.0005868025637369174,
          0.000591037749010146,
          0.0005952729342833742,
          0.0005995081195566028,
          0.000603743304829831,
          0.0006079784901030596,
          0.0006122136753762878,
          0.0006164488606495164,
          0.0006206840459227446,
          0.0006249192311959732,
          0.0006291544164692014,
          0.00063338960174243,
          0.0006376247870156582,
          0.0006418599722888868,
          0.000646095157562115,
          0.0006503303428353436,
          0.0006545655281085718,
          0.0006588007133818004,
          0.0006630358986550286,
          0.0006672710839282568,
          0.0006715062692014854,
          0.0006757414544747136,
          0.0006799766397479422,
          0.0006842118250211704,
          0.000688447010294399,
          0.0006926821955676272,
          0.0006969173808408558,
          0.000701152566114084,
          0.0007053877513873126,
          0.0007096229366605408,
          0.0007138581219337694,
          0.0007180933072069976,
          0.0007223284924802263,
          0.0007265636777534544,
          0.0007307988630266831,
          0.0007350340482999112,
          0.0007392692335731399,
          0.000743504418846368,
          0.0007477396041195967,
          0.0007519747893928249,
          0.0007562099746660535,
          0.0007604451599392817,
          0.0007646803452125103,
          0.0007689155304857385,
          0.0007731507157589671,
          0.0007773859010321953,
          0.0007816210863054239,
          0.0007858562715786521,
          0.0007900914568518807,
          0.0007943266421251089,
          0.0007985618273983375,
          0.0008027970126715657,
          0.0008070321979447943,
          0.0008112673832180225,
          0.0008155025684912511,
          0.0008197377537644793,
          0.0008239729390377079,
          0.0008282081243109361,
          0.0008324433095841647,
          0.0008366784948573929,
          0.0008409136801306215,
          0.0008451488654038497,
          0.0008493840506770783,
          0.0008536192359503065,
          0.0008578544212235351,
          0.0008620896064967633,
          0.0008663247917699919,
          0.0008705599770432201,
          0.0008747951623164487,
          0.0008790303475896769,
          0.0008832655328629055,
          0.0008875007181361337,
          0.0008917359034093623,
          0.0008959710886825905,
          0.0009002062739558192,
          0.0009044414592290473,
          0.000908676644502276,
          0.0009129118297755041,
          0.0009171470150487328,
          0.000921382200321961,
          0.0009256173855951896,
          0.0009298525708684178,
          0.0009340877561416464,
          0.0009383229414148746,
          0.0009425581266881032,
          0.0009467933119613314,
          0.00095102849723456,
          0.0009552636825077882,
          0.0009594988677810168,
          0.000963734053054245,
          0.0009679692383274736,
          0.0009722044236007018,
          0.0009764396088739304,
          0.0009806747941471586,
          0.0009849099794203872,
          0.0009891451646936154,
          0.000993380349966844,
          0.0009976155352400722,
          0.0010018507205133008,
          0.001006085905786529,
          0.0010103210910597576,
          0.0010145562763329858,
          0.0010187914616062144,
          0.0010230266468794426,
          0.0010272618321526708,
          0.0010314970174258994,
          0.0010357322026991276,
          0.0010399673879723562,
          0.0010442025732455844,
          0.001048437758518813,
          0.0010526729437920412,
          0.0010569081290652698,
          0.001061143314338498,
          0.0010653784996117266,
          0.0010696136848849548,
          0.0010738488701581834,
          0.0010780840554314116,
          0.0010823192407046402,
          0.0010865544259778684,
          0.001090789611251097,
          0.0010950247965243252,
          0.0010992599817975538,
          0.001103495167070782,
          0.0011077303523440107,
          0.0011119655376172388,
          0.0011162007228904675,
          0.0011204359081636956,
          0.0011246710934369243,
          0.0011289062787101524,
          0.001133141463983381,
          0.0011373766492566093,
          0.0011416118345298379,
          0.001145847019803066,
          0.0011500822050762947,
          0.0011543173903495229,
          0.0011585525756227515,
          0.0011627877608959797,
          0.0011670229461692083,
          0.0011712581314424365,
          0.001175493316715665,
          0.0011797285019888933,
          0.001183963687262122,
          0.00118819887253535,
          0.0011924340578085787,
          0.0011966692430818069,
          0.0012009044283550355,
          0.0012051396136282637,
          0.0012093747989014923,
          0.0012136099841747205,
          0.0012178451694479491,
          0.0012220803547211773,
          0.001226315539994406,
          0.001230550725267634,
          0.0012347859105408627,
          0.001239021095814091,
          0.0012432562810873195,
          0.0012474914663605477,
          0.0012517266516337763,
          0.0012559618369070045,
          0.0012601970221802331,
          0.0012644322074534613,
          0.00126866739272669,
          0.0012729025779999181,
          0.0012771377632731467,
          0.001281372948546375,
          0.0012856081338196036,
          0.0012898433190928317,
          0.0012940785043660604,
          0.0012983136896392885,
          0.0013025488749125172,
          0.0013067840601857453,
          0.001311019245458974,
          0.0013152544307322022,
          0.0013194896160054308,
          0.001323724801278659,
          0.0013279599865518876,
          0.0013321951718251158,
          0.0013364303570983444,
          0.0013406655423715726,
          0.0013449007276448012,
          0.0013491359129180294,
          0.001353371098191258,
          0.0013576062834644862,
          0.0013618414687377148,
          0.001366076654010943,
          0.0013703118392841716,
          0.0013745470245573998,
          0.0013787822098306284,
          0.0013830173951038566,
          0.0013872525803770852,
          0.0013914877656503134,
          0.0013957229509235416,
          0.0013999581361967702,
          0.0014041933214699984,
          0.001408428506743227,
          0.0014126636920164552,
          0.0014168988772896838,
          0.001421134062562912,
          0.0014253692478361406,
          0.0014296044331093688,
          0.0014338396183825974,
          0.0014380748036558256,
          0.0014423099889290542,
          0.0014465451742022824,
          0.001450780359475511,
          0.0014550155447487392,
          0.0014592507300219678,
          0.001463485915295196,
          0.0014677211005684246,
          0.0014719562858416528,
          0.0014761914711148814,
          0.0014804266563881096,
          0.0014846618416613382,
          0.0014888970269345664,
          0.001493132212207795,
          0.0014973673974810232,
          0.0015016025827542519,
          0.00150583776802748,
          0.0015100729533007087,
          0.0015143081385739368,
          0.0015185433238471655,
          0.0015227785091203937,
          0.0015270136943936223,
          0.0015312488796668505,
          0.001535484064940079,
          0.0015397192502133073,
          0.0015439544354865359,
          0.001548189620759764,
          0.0015524248060329927,
          0.0015566599913062209,
          0.0015608951765794495,
          0.0015651303618526777,
          0.0015693655471259063,
          0.0015736007323991345,
          0.001577835917672363,
          0.0015820711029455913,
          0.00158630628821882,
          0.001590541473492048,
          0.0015947766587652767,
          0.001599011844038505,
          0.0016032470293117335,
          0.0016074822145849617,
          0.0016117173998581903,
          0.0016159525851314185,
          0.0016201877704046471,
          0.0016244229556778753,
          0.001628658140951104,
          0.0016328933262243321,
          0.0016371285114975607,
          0.001641363696770789,
          0.0016455988820440175,
          0.0016498340673172457,
          0.0016540692525904743,
          0.0016583044378637025,
          0.0016625396231369311,
          0.0016667748084101593,
          0.001671009993683388,
          0.0016752451789566161,
          0.0016794803642298448,
          0.001683715549503073,
          0.0016879507347763016,
          0.0016921859200495297,
          0.0016964211053227584,
          0.0017006562905959866,
          0.0017048914758692152,
          0.0017091266611424434,
          0.001713361846415672,
          0.0017175970316889002,
          0.0017218322169621288,
          0.001726067402235357,
          0.0017303025875085856,
          0.0017345377727818138,
          0.0017387729580550424,
          0.0017430081433282706,
          0.0017472433286014992,
          0.0017514785138747274,
          0.0017557136991479556,
          0.0017599488844211842,
          0.0017641840696944124,
          0.001768419254967641,
          0.0017726544402408692,
          0.0017768896255140978,
          0.001781124810787326,
          0.0017853599960605546,
          0.0017895951813337828,
          0.0017938303666070114,
          0.0017980655518802396,
          0.0018023007371534682,
          0.0018065359224266964,
          0.001810771107699925,
          0.0018150062929731532,
          0.0018192414782463818,
          0.00182347666351961,
          0.0018277118487928386,
          0.0018319470340660668,
          0.0018361822193392954,
          0.0018404174046125236,
          0.0018446525898857522,
          0.0018488877751589804,
          0.001853122960432209,
          0.0018573581457054372,
          0.0018615933309786658,
          0.001865828516251894,
          0.0018700637015251226,
          0.0018742988867983508,
          0.0018785340720715795,
          0.0018827692573448076,
          0.0018870044426180363,
          0.0018912396278912644,
          0.001895474813164493,
          0.0018997099984377212,
          0.0019039451837109499,
          0.001908180368984178,
          0.0019124155542574067,
          0.0019166507395306349,
          0.0019208859248038635,
          0.0019251211100770917,
          0.0019293562953503203,
          0.0019335914806235485,
          0.001937826665896777,
          0.0019420618511700053,
          0.001946297036443234,
          0.001950532221716462,
          0.0019547674069896907,
          0.001959002592262919,
          0.0019632377775361475,
          0.0019674729628093757,
          0.0019717081480826043,
          0.0019759433333558325,
          0.001980178518629061,
          0.0019844137039022893,
          0.001988648889175518,
          0.001992884074448746,
          0.0019971192597219747,
          0.002001354444995203,
          0.0020055896302684315,
          0.0020098248155416597,
          0.0020140600008148883,
          0.0020182951860881165,
          0.002022530371361345,
          0.0020267655566345733,
          0.002031000741907802,
          0.00203523592718103,
          0.0020394711124542587,
          0.002043706297727487,
          0.002047941483000715,
          0.002052176668273944,
          0.0020564118535471724,
          0.0020606470388204005,
          0.0020648822240936287,
          0.0020691174093668578,
          0.002073352594640086,
          0.002077587779913314,
          0.0020818229651865423,
          0.0020860581504597714,
          0.0020902933357329996,
          0.0020945285210062278,
          0.002098763706279456,
          0.002102998891552685,
          0.002107234076825913,
          0.0021114692620991414,
          0.0021157044473723696,
          0.0021199396326455977,
          0.002124174817918827,
          0.002128410003192055,
          0.002132645188465283,
          0.0021368803737385113,
          0.0021411155590117404,
          0.0021453507442849686,
          0.0021495859295581968,
          0.002153821114831425,
          0.002158056300104654,
          0.002162291485377882,
          0.0021665266706511104,
          0.0021707618559243386,
          0.0021749970411975676,
          0.002179232226470796,
          0.002183467411744024,
          0.002187702597017252,
          0.0021919377822904812,
          0.0021961729675637094,
          0.0022004081528369376,
          0.002204643338110166,
          0.002208878523383395,
          0.002213113708656623,
          0.002217348893929851,
          0.0022215840792030794,
          0.0022258192644763084,
          0.0022300544497495366,
          0.002234289635022765,
          0.002238524820295993,
          0.002242760005569222,
          0.0022469951908424502,
          0.0022512303761156784,
          0.0022554655613889066,
          0.0022597007466621357,
          0.002263935931935364,
          0.002268171117208592,
          0.0022724063024818202,
          0.0022766414877550493,
          0.0022808766730282775,
          0.0022851118583015056,
          0.002289347043574734,
          0.002293582228847963,
          0.002297817414121191,
          0.0023020525993944193,
          0.0023062877846676474,
          0.0023105229699408765,
          0.0023147581552141047,
          0.002318993340487333,
          0.002323228525760561,
          0.00232746371103379,
          0.0023316988963070183,
          0.0023359340815802465,
          0.0023401692668534747,
          0.0023444044521267037,
          0.002348639637399932,
          0.00235287482267316,
          0.0023571100079463883,
          0.0023613451932196173,
          0.002365580378492845
         ],
         "y": [
          0.5620283808915187,
          0.581317308510106,
          0.6012212413541652,
          0.6217580721913608,
          0.6429461547681247,
          0.6648043137202005,
          0.6873518546341598,
          0.7106085742602599,
          0.7345947708768902,
          0.7593312548068202,
          0.7848393590853814,
          0.8111409502805993,
          0.8382584394652594,
          0.8662147933407499,
          0.8950335455125057,
          0.9247388079167032,
          0.9553552823978225,
          0.9869082724365943,
          1.0194236950276914,
          1.0529280927064975,
          1.087448645724124,
          1.1230131843697697,
          1.1596502014393824,
          1.1973888648494655,
          1.236259030394814,
          1.2762912546487213,
          1.3175168080042174,
          1.3599676878546445,
          1.40367663191185,
          1.4486771316600657,
          1.4950034459434258,
          1.5426906146849968,
          1.591774472734934,
          1.6422916638453402,
          1.6942796547691918,
          1.7477767494805856,
          1.8028221035133445,
          1.8594557384149382,
          1.9177185563124413,
          1.977652354587158,
          2.0392998406543112,
          2.102704646844016,
          2.167911345379744,
          2.2349654634499796,
          2.3039134983690244,
          2.3748029328222495,
          2.447682250191413,
          2.52260094995494,
          2.599609563158387,
          2.6787596679496857,
          2.760103905173914,
          2.8436959940218274,
          2.929590747726473,
          3.017844089301825,
          3.1085130673171806,
          3.2016558717009467,
          3.2973318495671835,
          3.3956015210579946,
          3.496526595194754,
          3.6001699857308664,
          3.706595826998599,
          3.815869489742198,
          3.9280575969294147,
          4.043228039533222,
          4.161449992275427,
          4.28279392932345,
          4.407331639931483,
          4.535136244017024,
          4.666282207663363,
          4.800845358538613,
          4.938902901221404,
          5.080533432423434,
          5.225816956098459,
          5.374834898427393,
          5.527670122668834,
          5.6844069438640545,
          5.845131143385335,
          6.009929983316266,
          6.1788922206524655,
          6.352108121310799,
          6.5296694739350425,
          6.7116696034858245,
          6.898203384602205,
          7.089367254722171,
          7.285259226949178,
          7.485978902651473,
          7.691627483780881,
          7.9023077848972925,
          8.118124244885315,
          8.339182938348731,
          8.565591586668774,
          8.797459568711588,
          9.034897931170494,
          9.278019398527917,
          9.52693838262217,
          9.781770991803738,
          10.042635039665923,
          10.309650053333872,
          10.582937281296523,
          10.86261970076568,
          11.148822024545701,
          11.441670707398004,
          11.741293951883733,
          12.047821713668286,
          12.361385706270886,
          12.682119405242272,
          13.010158051754173,
          13.34563865558273,
          13.688699997469469,
          14.039482630842022,
          14.39812888287782,
          14.764782854892813,
          15.139590422038097,
          15.522699232286936,
          15.914258704694275,
          16.314420026911403,
          16.723336151937918,
          17.141161794093613,
          17.568053424191877,
          18.00416926389798,
          18.449669279253158,
          18.90471517334849,
          19.369470378129094,
          19.844100045312665,
          20.328771036403616,
          20.82365191178625,
          21.328912918878544,
          21.844725979330473,
          22.371264675248494,
          22.908704234430132,
          23.457221514590575,
          24.01699498656603,
          24.588204716475367,
          25.1710323468255,
          25.76566107654228,
          26.372275639913067,
          26.991062284422664,
          27.62220874746939,
          28.265904231944067,
          28.92233938065829,
          29.59170624960583,
          30.274198280044143,
          30.970010269380236,
          31.67933834084888,
          32.40237991196734,
          33.139333661756346,
          33.890399496711495,
          34.655778515515806,
          35.435672972478194,
          36.230286239690244,
          37.039822767886,
          37.864488045998186,
          38.70448855939738,
          39.56003174680719,
          40.431325955884674,
          41.318580397458014,
          42.22200509841394,
          43.14181085322645,
          44.07820917412105,
          45.03141223986736,
          46.001632843195615,
          46.989084336830786,
          47.993980578141006,
          49.016535872396425,
          50.0569649146353,
          51.11548273013537,
          52.192304613488744,
          53.28764606628012,
          54.401722733367556,
          55.5347503377668,
          56.68694461414152,
          57.858521240900174,
          59.04969577090457,
          60.26068356079223,
          61.49169969891936,
          62.74295893192848,
          64.01467558994813,
          65.30706351043202,
          66.62033596064624,
          67.95470555881327,
          69.31038419392326,
          70.68758294422432,
          72.08651199440318,
          73.50738055146968,
          74.95039675935875,
          76.41576761226645,
          77.90369886673365,
          79.4143949524965,
          80.94805888212119,
          82.50489215944151,
          84.08509468682034,
          85.68886467125496,
          87.31639852935037,
          88.96789079118162,
          90.64353400307132,
          92.34351862930626,
          94.06803295282197,
          95.81726297487862,
          97.59139231376217,
          99.39060210253527,
          101.21507088587379,
          103.0649745160144,
          104.94048604785468,
          106.84177563323009,
          108.7690104144119,
          110.72235441685453,
          112.70196844123637,
          114.70800995482554,
          116.7406329822172,
          118.79998799547539,
          120.88622180372755,
          122.9994774422484,
          125.13989406108202,
          127.30760681324176,
          129.50274674253765,
          131.72544067107444,
          133.97581108647074,
          136.25397602884553,
          138.56004897762259,
          140.89413873820357,
          143.25634932855968,
          145.6467798657959,
          148.06552445273974,
          150.51267206460903,
          152.98830643581366,
          155.49250594694686,
          158.02534351202289,
          160.58688646601766,
          163.17719645277208,
          165.79632931331463,
          168.44433497466574,
          171.12125733918072,
          173.82713417449628,
          176.56199700413808,
          179.32587099885512,
          182.11877486874175,
          184.9407207562109,
          187.79171412988353,
          190.67175367945717,
          193.58083121161954,
          196.51893154707219,
          199.48603241873013,
          202.48210437116205,
          205.50711066134022,
          208.56100716076386,
          211.6437422590246,
          214.75525676888114,
          217.89548383290835,
          221.06434883179202,
          224.2617692943321,
          227.487654809226,
          230.74190693869716,
          234.0244191340367,
          237.33507665312655,
          240.67375648001007,
          244.04032724657867,
          247.43464915643904,
          250.85657391103118,
          254.30594463805969,
          257.78259582230714,
          261.2863532388942,
          264.8170338890508,
          268.37444593846504,
          271.95838865827096,
          275.56865236874296,
          279.2050183857544,
          282.86725897006795,
          286.55513727951546,
          290.26840732412944,
          294.0068139242868,
          297.7700926719214,
          301.55796989486686,
          305.37016262438385,
          309.20637856592975,
          313.06631607322424,
          316.9496641256665,
          320.85610230915586,
          324.7853008003659,
          328.73692035452603,
          332.7106122967552,
          336.70601851699894,
          340.7227714686133,
          344.7604941706425,
          348.81880021383205,
          352.8972937704193,
          356.9955696077435,
          361.1132131057098,
          365.24980027814956,
          369.4048977981059,
          373.5780630270839,
          377.7688440482923,
          381.9767797039092,
          386.2013996363989,
          390.442224333905,
          394.69876517974546,
          398.97052450602956,
          403.2569956514191,
          407.55766302304966,
          411.8720021626287,
          416.19947981672436,
          420.53955401125705,
          424.8916741302007,
          429.25528099850374,
          433.62980696923375,
          438.0146760149474,
          442.4093038232873,
          446.813097896803,
          451.22545765699283,
          455.6457745525576,
          460.07343217186025,
          464.507806359578,
          468.94826533753195,
          473.39416982968174,
          477.84487319126225,
          482.29972154204364,
          486.7580539036896,
          491.2192023411896,
          495.6824921083344,
          500.1472417972037,
          504.612763491635,
          509.07836292463406,
          513.5433396396899,
          518.0069871559541,
          522.4685931372393,
          526.927439564791,
          531.382802913786,
          535.8339543335018,
          540.2801598311107,
          544.7206804590345,
          549.154772505809,
          553.5816876903909,
          558.0006733598494,
          562.410972690373,
          566.811824891526,
          571.2024654136834,
          575.5821261585713,
          579.95003569284,
          584.3054194645896,
          588.6475000227715,
          592.9754972393846,
          597.2886285343773,
          601.5861091031793,
          605.8671521467649,
          610.1309691041655,
          614.3767698873362,
          618.6037631182829,
          622.8111563683551,
          626.9981563996066,
          631.1639694081239,
          635.3078012692223,
          639.4288577844068,
          643.5263449299924,
          647.5994691072783,
          651.6474373941688,
          655.6694577981319,
          659.6647395103828,
          663.6324931611839,
          667.571931076146,
          671.4822675334157,
          675.3627190216351,
          679.212504498557,
          683.0308456501944,
          686.8169671503912,
          690.5700969206897,
          694.2894663903762,
          697.9743107565838,
          701.6238692443293,
          705.2373853663621,
          708.814107182703,
          712.3532875597471,
          715.854184428808,
          719.3160610439796,
          722.7381862391888,
          726.1198346843171,
          729.4602871402631,
          732.7588307128232,
          736.0147591052656,
          739.2273728694713,
          742.3959796555183,
          745.5198944595863,
          748.5984398700557,
          751.6309463116786,
          754.6167522876999,
          757.5552046198034,
          760.4456586857658,
          763.2874786546927,
          766.0800377197218,
          768.822718328068,
          771.5149124083016,
          774.1560215947306,
          776.7454574487844,
          779.2826416772726,
          781.7670063474156,
          784.1979940985264,
          786.5750583502404,
          788.8976635071803,
          791.1652851599506,
          793.3774102823551,
          795.5335374247337,
          797.6331769033189,
          799.6758509855074,
          801.661094070954,
          803.5884528683866,
          805.4574865680539,
          807.2677670097066,
          809.0188788460316,
          810.7104197014437,
          812.3420003261541,
          813.9132447454334,
          815.4237904039859,
          816.8732883053615,
          818.2614031463264,
          819.5878134461236,
          820.8522116705503,
          822.0543043507877,
          823.1938121969179,
          824.2704702060657,
          825.2840277651081,
          826.2342487478949,
          827.1209116069269,
          827.9438094594453,
          828.7027501678792,
          829.3975564146149,
          830.0280657710391,
          830.5941307608248,
          831.09561891742,
          831.5324128357116,
          831.9044102178342,
          832.2115239130994,
          832.4536819520241,
          832.6308275744394,
          832.7429192516623,
          832.789930702723,
          832.7718509046337,
          832.6886840966952,
          832.5404497788419,
          832.3271827040207,
          832.0489328646125,
          831.7057654729008,
          831.2977609356002,
          830.825014822457,
          830.2876378289408,
          829.6857557330457,
          829.0195093462253,
          828.28905445849,
          827.4945617776938,
          826.636216863045,
          825.714220052878,
          824.728786386724,
          823.6801455217235,
          822.5685416434269,
          821.3942333710309,
          820.1574936571017,
          818.8586096818408,
          817.4978827419503,
          816.075628134156,
          814.5921750334552,
          813.0478663661513,
          811.4430586777454,
          809.7781219957562,
          808.0534396875423,
          806.2694083132019,
          804.4264374736308,
          802.5249496538189,
          800.5653800614701,
          798.5481764610302,
          796.4737990032135,
          794.3427200501177,
          792.1554239960208,
          789.9124070839525,
          787.614177218144,
          785.2612537724448,
          782.8541673948205,
          780.3934598080209,
          777.8796836065364,
          775.3134020499375,
          772.6951888527153,
          770.0256279707239,
          767.3053133843441,
          764.5348488784734,
          761.714847819464,
          758.8459329291153,
          755.9287360558465,
          752.9638979431572,
          749.9520679955062,
          746.8939040417139,
          743.7900720960222,
          740.641246116924,
          737.4481077638899,
          734.2113461521079,
          730.9316576053698,
          727.6097454072145,
          724.2463195504673,
          720.8420964852833,
          717.3977988658366,
          713.9141552957636,
          710.3919000725003,
          706.8317729306248,
          703.2345187843418,
          699.6008874692261,
          695.9316334833525,
          692.227515727934,
          688.4892972475985,
          684.7177449704177,
          680.91362944782,
          677.0777245945031,
          673.210807428474,
          669.3136578113301,
          665.3870581889092,
          661.43179333242,
          657.4486500801801,
          653.4384170800665,
          649.4018845328108,
          645.3398439362362,
          641.2530878305665,
          637.1424095449089,
          633.0086029450227,
          628.8524621824935,
          624.6747814454026,
          620.4763547106215,
          616.2579754978145,
          612.0204366252706,
          607.7645299676519,
          603.4910462157746,
          599.2007746385025,
          594.8945028468673,
          590.5730165604965,
          586.2370993764513,
          581.8875325405572,
          577.525094721325,
          573.1505617865377,
          568.7647065826006,
          564.3682987167241,
          559.9621043420315,
          555.5468859456583,
          551.1234021399313,
          546.6924074566863,
          542.254652144813,
          537.8108819710776,
          533.3618380243065,
          528.908256522981,
          524.4508686263192,
          519.9904002488878,
          515.5275718788189,
          511.0630983996697,
          506.5976889159918,
          502.1320465826456,
          497.6668684379225,
          493.2028452405027,
          488.7406613103077,
          484.280994373272,
          479.82451541008453,
          475.37188850892267,
          470.9237707222224,
          466.4808119275023,
          462.04365469228287,
          457.6129341431097,
          453.1892778387201,
          448.7733056473553,
          444.3656296282543,
          439.9668539173245,
          435.57757461702175,
          431.19837969043147,
          426.8298488595739,
          422.472553507927,
          418.1270565871798,
          413.7939125282074,
          409.47366715627584,
          405.16685761046324,
          400.87401226730077,
          396.5956506686141,
          392.3322834535677,
          388.08441229488494,
          383.8525298392438,
          379.6371196518167,
          375.43865616494924,
          371.25760463094275,
          367.0944210789333,
          362.94955227582443,
          358.82343569126357,
          354.71649946661887,
          350.6291623879382,
          346.5618338628454,
          342.51491390135175,
          338.4887931005347,
          334.48385263305755,
          330.50046423947896,
          326.53899022432387,
          322.5997834558594,
          318.68318736954615,
          314.7895359751051,
          310.91915386716676,
          307.0723562394404,
          303.24944890236816,
          299.4507283041987,
          295.67648155544066,
          291.92698645663296,
          288.2025115293846,
          284.5033160506226,
          280.82965008999446,
          277.18175455037044,
          273.55986121137664,
          269.9641927759143,
          266.3949629195893,
          262.85237634300574,
          259.3366288268478,
          255.84790728969887,
          252.38638984852588,
          248.95224588177194,
          245.5456360949862,
          242.16671258893362,
          238.81561893010976,
          235.492490223606,
          232.19745318824704,
          228.93062623394633,
          225.69211954119984,
          222.48203514266453,
          219.30046700674123,
          216.1475011231069,
          213.02321559011673,
          209.92768070402056,
          206.86095904991467,
          203.8231055943719,
          200.8141677796732,
          197.83418561958183,
          194.88319179658518,
          191.96121176054476,
          189.0682638286798,
          186.20435928682662,
          183.36950249189812,
          180.56369097548742,
          177.78691554854,
          175.03916040704,
          172.32040323863464,
          169.6306153301446,
          166.96976167588488,
          164.3378010867439,
          161.73468629994903,
          159.16036408946468,
          156.6147753769543,
          154.09785534325263,
          151.60953354028192,
          149.1497340033589,
          146.71837536382753,
          144.31537096196755,
          141.94062896011297,
          139.5940524559341,
          137.27553959581795,
          134.98498368830204,
          132.72227331749906,
          130.4872924564687,
          128.27992058047593,
          126.10003278009309,
          123.94749987408893,
          121.82218852206168,
          119.72396133676268,
          117.65267699606876,
          115.60819035455232,
          113.59035255460955,
          111.5990111370964,
          109.63401015143698,
          107.69519026515444,
          105.78238887279069,
          103.8954402041696,
          102.03417543196893,
          100.19842277856003,
          98.38800762208201,
          96.602752601711,
          94.84247772209488,
          93.10700045691394,
          91.39613585154191,
          89.70969662476966,
          88.04749326956768,
          86.40933415285123,
          84.79502561422787,
          83.20437206369321,
          81.63717607825483,
          80.09323849745469,
          78.57235851777108,
          77.07433378587243,
          75.59896049070603,
          74.14603345439689,
          72.71534622194129,
          71.30669114967185,
          69.91985949248098,
          68.55464148978389,
          67.21082645020509,
          65.88820283497633,
          64.58655834002909,
          63.30567997677296,
          62.04535415154442,
          60.805366743718515,
          59.58550318247089,
          58.3855485221852,
          57.20528751649264,
          56.044504690942524,
          54.90298441429263,
          53.78051096841842,
          52.67686861683239,
          51.5918416718146,
          50.52521456014767,
          49.47677188745716,
          48.44629850115403,
          47.43357955198128,
          46.43840055416243,
          45.46054744415562,
          44.49980663801299,
          43.555965087350295,
          42.6288103339272,
          41.71813056284552,
          40.823714654366995,
          39.9453522343587,
          39.08283372336909,
          38.23595038434443,
          37.40449436898974,
          36.58825876278481,
          35.78703762866053,
          35.0006260493476,
          34.228820168404184,
          33.47141722993444,
          32.72821561700667,
          31.99901488878353,
          31.28361581637397,
          30.581820417420097,
          29.893431989429804,
          29.21825514186934,
          28.556095827026603,
          27.906761369660998,
          27.27006049545105,
          26.64580335825638,
          26.033801566205526,
          25.43386820662711,
          24.84581786983715,
          24.269466671798977,
          23.704632275670455,
          23.151133912255215,
          22.608792399372515,
          22.077430160163317,
          21.55687124034765,
          21.046941324451193,
          20.547467751016107,
          20.05827952681491,
          19.57920734008251,
          19.110083572785463,
          18.650742311943617,
          18.20101936002364,
          17.760752244420015,
          17.329780226042633,
          16.907944307026906,
          16.495087237585818,
          16.091053522019926,
          15.695689423904321,
          15.308842970469186,
          14.93036395619271,
          14.560103945623009,
          14.197916275447644,
          13.843656055827584,
          13.497180171014216,
          13.158347279265607,
          12.827017812081063,
          12.503053972770036,
          12.18631973437389,
          11.876680836956636,
          11.574004784283092,
          11.278160839900359,
          10.989020022640464,
          10.706455101560257,
          10.430340590336165,
          10.160552741129377,
          9.896969537938833,
          9.639470689457516,
          9.387937621448886,
          9.142253468659053,
          8.902303066280307,
          8.667972940982356,
          8.43915130152594,
          8.215728028974771,
          7.997594666520372,
          7.784644408935282,
          7.5767720916687535,
          7.373874179600092,
          7.1758487554633135,
          6.98259550795797,
          6.794015719559256,
          6.610012254041925,
          6.4304895437306895,
          6.255353576491204,
          6.084511882473818,
          5.917873520623783,
          5.75534906496984,
          5.596850590704013,
          5.442291660064482,
          5.291587308033749,
          5.144654027863488,
          5.001409756437865,
          4.861773859486239,
          4.725667116656715,
          4.593011706460709,
          4.463731191099782,
          4.337750501184416,
          4.214995920355357,
          4.095395069816916,
          3.978876892792306,
          3.865371638909966,
          3.754810848530515,
          3.6471273370227566,
          3.542255178997956,
          3.4401296925104687,
          3.3406874232332875,
          3.2438661286162644,
          3.1496047620351346,
          3.057843456938626,
          2.9685235110013135,
          2.8815873702890964,
          2.7969786134445713,
          2.714641935898654,
          2.6345231341153608,
          2.556569089875691,
          2.4807277546070674,
          2.406948133763879,
          2.3351802712651764,
          2.2653752339947113,
          2.1974850963688577,
          2.131462924977326,
          2.0672627633017946,
          2.004839616516964,
          1.9441494363787635,
          1.8851491062039125,
          1.827796425945174,
          1.7720500973661222,
          1.7178697093194017,
          1.665215723132002,
          1.6140494581011797,
          1.5643330771041468,
          1.5160295723248942,
          1.4691027511009516,
          1.423517221893095,
          1.3792383803805048,
          1.3362323956840911,
          1.2944661967202218,
          1.2539074586871897,
          1.2145245896864538,
          1.1762867174806948,
          1.1391636763904054,
          1.103125994330825,
          1.0681448799906739,
          1.0341922101542487,
          1.001240517168051,
          0.9692629765533006,
          0.9382333947652838,
          0.9081261971006075,
          0.8789164157531237,
          0.8505796780193693,
          0.8230921946540694,
          0.7964307483763549,
          0.7705726825270192,
          0.7454958898772726,
          0.7211788015892028,
          0.6976003763280743,
          0.6747400895266317,
          0.6525779228013124,
          0.6310943535203634,
          0.6102703445236114,
          0.590087333993742,
          0.5705272254786772,
          0.551572378064745,
          0.5332055967001225,
          0.5154101226680936,
          0.49816962420947825,
          0.48146818729363755,
          0.46529030653731573,
          0.44962087627060066,
          0.43444518174913227,
          0.4197488905117649,
          0.40551804388270607,
          0.39173904861722675,
          0.378398668689884,
          0.36548401722426554,
          0.3529825485631181,
          0.34088205047777076,
          0.32917063651566025,
          0.3178367384847934,
          0.30686909907387977,
          0.2962567646069097,
          0.285989077930856,
          0.27605567143521414,
          0.26644646020200474,
          0.2571516352849101,
          0.24816165711611646,
          0.2394672490394909,
          0.2310593909686396,
          0.22292931316842204,
          0.215068490158436,
          0.207468634737038,
          0.2001216921243621,
          0.19301983422289065,
          0.18615545399401603,
          0.1795211599491246,
          0.17310977075363398,
          0.16691430994248077,
          0.16092800074550692,
          0.1551442610212081,
          0.14955669829729434,
          0.14415910491652495,
          0.13894545328625307,
          0.13390989123015626,
          0.1290467374405785,
          0.12435047702996133,
          0.11981575717980748,
          0.11543738288564541,
          0.11121031279645172,
          0.10712965514701674,
          0.10319066378171061,
          0.09938873426815098,
          0.09571940009924916,
          0.0921783289821421,
          0.08876131921251232,
          0.08546429613281488,
          0.08228330867293247,
          0.07921452597180494,
          0.07625423407856761,
          0.07339883273176798,
          0.07064483221522336,
          0.06798885028910968,
          0.06542760919486496,
          0.06295793273253082,
          0.06057674340914195,
          0.058281059656799555,
          0.05606799311908816,
          0.05393474600448602,
          0.05187860850546073,
          0.04989695628192931,
          0.047987248007804115,
          0.04614702297934089,
          0.04437389878403171,
          0.04266556902879153,
          0.04101980112622009,
          0.03943443413771571,
          0.03790737667225006,
          0.036436604839620336,
          0.03502016025701586,
          0.03365614810775168,
          0.03234273525103595,
          0.031078148381658295,
          0.02986067223849893,
          0.02868864786077887,
          0.02756047089098477,
          0.02647458992342274,
          0.025429504897364102,
          0.024423765533774008,
          0.02345596981462168,
          0.02252476250379026,
          0.021628833708619816,
          0.02076691748113848,
          0.01993779045804391,
          0.019140270538523636,
          0.018373215599009382,
          0.017635522243984986,
          0.016926124591978748,
          0.0162439930958876,
          0.015588133396795767,
          0.014957585210470402,
          0.014351421245725401,
          0.013768746153866186,
          0.013208695508438882,
          0.012670434814526238,
          0.012153158546844834,
          0.011656089215914515,
          0.011178476461583603,
          0.010719596173211948,
          0.010278749635823313,
          0.009855262701556686,
          0.009448484985757342,
          0.00905778908706469,
          0.008682569830865402,
          0.008322243535496106,
          0.007976247300590074,
          0.0076440383169791536,
          0.007325093197572551,
          0.0070189073286474205,
          0.00672499424099915,
          0.006442885000411658,
          0.0061721276169194135,
          0.005912286472346485,
          0.005662941765617252,
          0.00542368897534794,
          0.00519413833923754,
          0.004973914349788706,
          0.004762655265899767,
          0.004560012639881235,
          0.0043656508594589185,
          0.004179246704338159,
          0.004000488916912307,
          0.0038290777867102787,
          0.003664724748187024,
          0.003507151991470735,
          0.0033560920856899766,
          0.003211287614514313,
          0.003072490823549771,
          0.002939463279240829
         ]
        }
       ],
       "layout": {
        "bargap": 0.2,
        "template": {
         "data": {
          "bar": [
           {
            "error_x": {
             "color": "#2a3f5f"
            },
            "error_y": {
             "color": "#2a3f5f"
            },
            "marker": {
             "line": {
              "color": "white",
              "width": 0.5
             },
             "pattern": {
              "fillmode": "overlay",
              "size": 10,
              "solidity": 0.2
             }
            },
            "type": "bar"
           }
          ],
          "barpolar": [
           {
            "marker": {
             "line": {
              "color": "white",
              "width": 0.5
             },
             "pattern": {
              "fillmode": "overlay",
              "size": 10,
              "solidity": 0.2
             }
            },
            "type": "barpolar"
           }
          ],
          "carpet": [
           {
            "aaxis": {
             "endlinecolor": "#2a3f5f",
             "gridcolor": "#C8D4E3",
             "linecolor": "#C8D4E3",
             "minorgridcolor": "#C8D4E3",
             "startlinecolor": "#2a3f5f"
            },
            "baxis": {
             "endlinecolor": "#2a3f5f",
             "gridcolor": "#C8D4E3",
             "linecolor": "#C8D4E3",
             "minorgridcolor": "#C8D4E3",
             "startlinecolor": "#2a3f5f"
            },
            "type": "carpet"
           }
          ],
          "choropleth": [
           {
            "colorbar": {
             "outlinewidth": 0,
             "ticks": ""
            },
            "type": "choropleth"
           }
          ],
          "contour": [
           {
            "colorbar": {
             "outlinewidth": 0,
             "ticks": ""
            },
            "colorscale": [
             [
              0,
              "#0d0887"
             ],
             [
              0.1111111111111111,
              "#46039f"
             ],
             [
              0.2222222222222222,
              "#7201a8"
             ],
             [
              0.3333333333333333,
              "#9c179e"
             ],
             [
              0.4444444444444444,
              "#bd3786"
             ],
             [
              0.5555555555555556,
              "#d8576b"
             ],
             [
              0.6666666666666666,
              "#ed7953"
             ],
             [
              0.7777777777777778,
              "#fb9f3a"
             ],
             [
              0.8888888888888888,
              "#fdca26"
             ],
             [
              1,
              "#f0f921"
             ]
            ],
            "type": "contour"
           }
          ],
          "contourcarpet": [
           {
            "colorbar": {
             "outlinewidth": 0,
             "ticks": ""
            },
            "type": "contourcarpet"
           }
          ],
          "heatmap": [
           {
            "colorbar": {
             "outlinewidth": 0,
             "ticks": ""
            },
            "colorscale": [
             [
              0,
              "#0d0887"
             ],
             [
              0.1111111111111111,
              "#46039f"
             ],
             [
              0.2222222222222222,
              "#7201a8"
             ],
             [
              0.3333333333333333,
              "#9c179e"
             ],
             [
              0.4444444444444444,
              "#bd3786"
             ],
             [
              0.5555555555555556,
              "#d8576b"
             ],
             [
              0.6666666666666666,
              "#ed7953"
             ],
             [
              0.7777777777777778,
              "#fb9f3a"
             ],
             [
              0.8888888888888888,
              "#fdca26"
             ],
             [
              1,
              "#f0f921"
             ]
            ],
            "type": "heatmap"
           }
          ],
          "heatmapgl": [
           {
            "colorbar": {
             "outlinewidth": 0,
             "ticks": ""
            },
            "colorscale": [
             [
              0,
              "#0d0887"
             ],
             [
              0.1111111111111111,
              "#46039f"
             ],
             [
              0.2222222222222222,
              "#7201a8"
             ],
             [
              0.3333333333333333,
              "#9c179e"
             ],
             [
              0.4444444444444444,
              "#bd3786"
             ],
             [
              0.5555555555555556,
              "#d8576b"
             ],
             [
              0.6666666666666666,
              "#ed7953"
             ],
             [
              0.7777777777777778,
              "#fb9f3a"
             ],
             [
              0.8888888888888888,
              "#fdca26"
             ],
             [
              1,
              "#f0f921"
             ]
            ],
            "type": "heatmapgl"
           }
          ],
          "histogram": [
           {
            "marker": {
             "pattern": {
              "fillmode": "overlay",
              "size": 10,
              "solidity": 0.2
             }
            },
            "type": "histogram"
           }
          ],
          "histogram2d": [
           {
            "colorbar": {
             "outlinewidth": 0,
             "ticks": ""
            },
            "colorscale": [
             [
              0,
              "#0d0887"
             ],
             [
              0.1111111111111111,
              "#46039f"
             ],
             [
              0.2222222222222222,
              "#7201a8"
             ],
             [
              0.3333333333333333,
              "#9c179e"
             ],
             [
              0.4444444444444444,
              "#bd3786"
             ],
             [
              0.5555555555555556,
              "#d8576b"
             ],
             [
              0.6666666666666666,
              "#ed7953"
             ],
             [
              0.7777777777777778,
              "#fb9f3a"
             ],
             [
              0.8888888888888888,
              "#fdca26"
             ],
             [
              1,
              "#f0f921"
             ]
            ],
            "type": "histogram2d"
           }
          ],
          "histogram2dcontour": [
           {
            "colorbar": {
             "outlinewidth": 0,
             "ticks": ""
            },
            "colorscale": [
             [
              0,
              "#0d0887"
             ],
             [
              0.1111111111111111,
              "#46039f"
             ],
             [
              0.2222222222222222,
              "#7201a8"
             ],
             [
              0.3333333333333333,
              "#9c179e"
             ],
             [
              0.4444444444444444,
              "#bd3786"
             ],
             [
              0.5555555555555556,
              "#d8576b"
             ],
             [
              0.6666666666666666,
              "#ed7953"
             ],
             [
              0.7777777777777778,
              "#fb9f3a"
             ],
             [
              0.8888888888888888,
              "#fdca26"
             ],
             [
              1,
              "#f0f921"
             ]
            ],
            "type": "histogram2dcontour"
           }
          ],
          "mesh3d": [
           {
            "colorbar": {
             "outlinewidth": 0,
             "ticks": ""
            },
            "type": "mesh3d"
           }
          ],
          "parcoords": [
           {
            "line": {
             "colorbar": {
              "outlinewidth": 0,
              "ticks": ""
             }
            },
            "type": "parcoords"
           }
          ],
          "pie": [
           {
            "automargin": true,
            "type": "pie"
           }
          ],
          "scatter": [
           {
            "fillpattern": {
             "fillmode": "overlay",
             "size": 10,
             "solidity": 0.2
            },
            "type": "scatter"
           }
          ],
          "scatter3d": [
           {
            "line": {
             "colorbar": {
              "outlinewidth": 0,
              "ticks": ""
             }
            },
            "marker": {
             "colorbar": {
              "outlinewidth": 0,
              "ticks": ""
             }
            },
            "type": "scatter3d"
           }
          ],
          "scattercarpet": [
           {
            "marker": {
             "colorbar": {
              "outlinewidth": 0,
              "ticks": ""
             }
            },
            "type": "scattercarpet"
           }
          ],
          "scattergeo": [
           {
            "marker": {
             "colorbar": {
              "outlinewidth": 0,
              "ticks": ""
             }
            },
            "type": "scattergeo"
           }
          ],
          "scattergl": [
           {
            "marker": {
             "colorbar": {
              "outlinewidth": 0,
              "ticks": ""
             }
            },
            "type": "scattergl"
           }
          ],
          "scattermapbox": [
           {
            "marker": {
             "colorbar": {
              "outlinewidth": 0,
              "ticks": ""
             }
            },
            "type": "scattermapbox"
           }
          ],
          "scatterpolar": [
           {
            "marker": {
             "colorbar": {
              "outlinewidth": 0,
              "ticks": ""
             }
            },
            "type": "scatterpolar"
           }
          ],
          "scatterpolargl": [
           {
            "marker": {
             "colorbar": {
              "outlinewidth": 0,
              "ticks": ""
             }
            },
            "type": "scatterpolargl"
           }
          ],
          "scatterternary": [
           {
            "marker": {
             "colorbar": {
              "outlinewidth": 0,
              "ticks": ""
             }
            },
            "type": "scatterternary"
           }
          ],
          "surface": [
           {
            "colorbar": {
             "outlinewidth": 0,
             "ticks": ""
            },
            "colorscale": [
             [
              0,
              "#0d0887"
             ],
             [
              0.1111111111111111,
              "#46039f"
             ],
             [
              0.2222222222222222,
              "#7201a8"
             ],
             [
              0.3333333333333333,
              "#9c179e"
             ],
             [
              0.4444444444444444,
              "#bd3786"
             ],
             [
              0.5555555555555556,
              "#d8576b"
             ],
             [
              0.6666666666666666,
              "#ed7953"
             ],
             [
              0.7777777777777778,
              "#fb9f3a"
             ],
             [
              0.8888888888888888,
              "#fdca26"
             ],
             [
              1,
              "#f0f921"
             ]
            ],
            "type": "surface"
           }
          ],
          "table": [
           {
            "cells": {
             "fill": {
              "color": "#EBF0F8"
             },
             "line": {
              "color": "white"
             }
            },
            "header": {
             "fill": {
              "color": "#C8D4E3"
             },
             "line": {
              "color": "white"
             }
            },
            "type": "table"
           }
          ]
         },
         "layout": {
          "annotationdefaults": {
           "arrowcolor": "#2a3f5f",
           "arrowhead": 0,
           "arrowwidth": 1
          },
          "autotypenumbers": "strict",
          "coloraxis": {
           "colorbar": {
            "outlinewidth": 0,
            "ticks": ""
           }
          },
          "colorscale": {
           "diverging": [
            [
             0,
             "#8e0152"
            ],
            [
             0.1,
             "#c51b7d"
            ],
            [
             0.2,
             "#de77ae"
            ],
            [
             0.3,
             "#f1b6da"
            ],
            [
             0.4,
             "#fde0ef"
            ],
            [
             0.5,
             "#f7f7f7"
            ],
            [
             0.6,
             "#e6f5d0"
            ],
            [
             0.7,
             "#b8e186"
            ],
            [
             0.8,
             "#7fbc41"
            ],
            [
             0.9,
             "#4d9221"
            ],
            [
             1,
             "#276419"
            ]
           ],
           "sequential": [
            [
             0,
             "#0d0887"
            ],
            [
             0.1111111111111111,
             "#46039f"
            ],
            [
             0.2222222222222222,
             "#7201a8"
            ],
            [
             0.3333333333333333,
             "#9c179e"
            ],
            [
             0.4444444444444444,
             "#bd3786"
            ],
            [
             0.5555555555555556,
             "#d8576b"
            ],
            [
             0.6666666666666666,
             "#ed7953"
            ],
            [
             0.7777777777777778,
             "#fb9f3a"
            ],
            [
             0.8888888888888888,
             "#fdca26"
            ],
            [
             1,
             "#f0f921"
            ]
           ],
           "sequentialminus": [
            [
             0,
             "#0d0887"
            ],
            [
             0.1111111111111111,
             "#46039f"
            ],
            [
             0.2222222222222222,
             "#7201a8"
            ],
            [
             0.3333333333333333,
             "#9c179e"
            ],
            [
             0.4444444444444444,
             "#bd3786"
            ],
            [
             0.5555555555555556,
             "#d8576b"
            ],
            [
             0.6666666666666666,
             "#ed7953"
            ],
            [
             0.7777777777777778,
             "#fb9f3a"
            ],
            [
             0.8888888888888888,
             "#fdca26"
            ],
            [
             1,
             "#f0f921"
            ]
           ]
          },
          "colorway": [
           "#636efa",
           "#EF553B",
           "#00cc96",
           "#ab63fa",
           "#FFA15A",
           "#19d3f3",
           "#FF6692",
           "#B6E880",
           "#FF97FF",
           "#FECB52"
          ],
          "font": {
           "color": "#2a3f5f"
          },
          "geo": {
           "bgcolor": "white",
           "lakecolor": "white",
           "landcolor": "white",
           "showlakes": true,
           "showland": true,
           "subunitcolor": "#C8D4E3"
          },
          "hoverlabel": {
           "align": "left"
          },
          "hovermode": "closest",
          "mapbox": {
           "style": "light"
          },
          "paper_bgcolor": "white",
          "plot_bgcolor": "white",
          "polar": {
           "angularaxis": {
            "gridcolor": "#EBF0F8",
            "linecolor": "#EBF0F8",
            "ticks": ""
           },
           "bgcolor": "white",
           "radialaxis": {
            "gridcolor": "#EBF0F8",
            "linecolor": "#EBF0F8",
            "ticks": ""
           }
          },
          "scene": {
           "xaxis": {
            "backgroundcolor": "white",
            "gridcolor": "#DFE8F3",
            "gridwidth": 2,
            "linecolor": "#EBF0F8",
            "showbackground": true,
            "ticks": "",
            "zerolinecolor": "#EBF0F8"
           },
           "yaxis": {
            "backgroundcolor": "white",
            "gridcolor": "#DFE8F3",
            "gridwidth": 2,
            "linecolor": "#EBF0F8",
            "showbackground": true,
            "ticks": "",
            "zerolinecolor": "#EBF0F8"
           },
           "zaxis": {
            "backgroundcolor": "white",
            "gridcolor": "#DFE8F3",
            "gridwidth": 2,
            "linecolor": "#EBF0F8",
            "showbackground": true,
            "ticks": "",
            "zerolinecolor": "#EBF0F8"
           }
          },
          "shapedefaults": {
           "line": {
            "color": "#2a3f5f"
           }
          },
          "ternary": {
           "aaxis": {
            "gridcolor": "#DFE8F3",
            "linecolor": "#A2B1C6",
            "ticks": ""
           },
           "baxis": {
            "gridcolor": "#DFE8F3",
            "linecolor": "#A2B1C6",
            "ticks": ""
           },
           "bgcolor": "white",
           "caxis": {
            "gridcolor": "#DFE8F3",
            "linecolor": "#A2B1C6",
            "ticks": ""
           }
          },
          "title": {
           "x": 0.05
          },
          "xaxis": {
           "automargin": true,
           "gridcolor": "#EBF0F8",
           "linecolor": "#EBF0F8",
           "ticks": "",
           "title": {
            "standoff": 15
           },
           "zerolinecolor": "#EBF0F8",
           "zerolinewidth": 2
          },
          "yaxis": {
           "automargin": true,
           "gridcolor": "#EBF0F8",
           "linecolor": "#EBF0F8",
           "ticks": "",
           "title": {
            "standoff": 15
           },
           "zerolinecolor": "#EBF0F8",
           "zerolinewidth": 2
          }
         }
        },
        "title": {
         "text": "Returns Data and Fitted Gaussian Distribution - AKA Empirical Distribution"
        },
        "xaxis": {
         "title": {
          "text": "Returns"
         }
        },
        "yaxis": {
         "title": {
          "text": "Probability Density"
         }
        }
       }
      }
     },
     "metadata": {},
     "output_type": "display_data"
    }
   ],
   "source": [
    "# Take the Outliers out of the returns using IQR method\n",
    "Q1 = price_data['returns'].quantile(0.25)\n",
    "Q3 = price_data['returns'].quantile(0.75)\n",
    "IQR = Q3 - Q1\n",
    "returns_no_outliers = price_data['returns'][(price_data['returns'] > (Q1 - 1.5 * IQR)) & (price_data['returns'] < (Q3 + 1.5 * IQR))]\n",
    "\n",
    "# Plot the empirical distribution of the returns without outliers\n",
    "\n",
    "hist_data_no_outliers = go.Histogram(x=returns_no_outliers, histnorm='probability density', name='Distribution of returns without outliers')\n",
    "fig_gauss_no_outliers = go.Figure(data=[hist_data_no_outliers, gaussian_fit])\n",
    "fig_gauss_no_outliers.update_layout(\n",
    "    title='Returns Data and Fitted Gaussian Distribution - AKA Empirical Distribution',\n",
    "    xaxis_title='Returns',\n",
    "    yaxis_title='Probability Density',\n",
    "    bargap=0.2,  # Space between bars\n",
    "    template='plotly_white'  # Cleaner template\n",
    ")\n",
    "fig_gauss_no_outliers.show()\n",
    "\n",
    "\n",
    "# use vriable gaussian_fit to plot the gaussian fit \n",
    "# Generate points for the Gaussian fit\n",
    "\n",
    "# Run the Shapiro-Wilk test on the returns without outliers\n",
    "shapiro_test_no_outliers = shapiro(returns_no_outliers)\n",
    "print(\"Shapiro Test Statistic (No Outliers):\", shapiro_test_no_outliers.pvalue)\n",
    "if shapiro_test_no_outliers.pvalue < 0.05:\n",
    "    print(\"Shapiro Test (No Outliers): The data is not normally distributed\")\n",
    "else:\n",
    "    print(\"Shapiro Test (No Outliers): The data is normally distributed\")\n",
    "\n",
    "excess_kurtosis_no_outliers = returns_no_outliers.kurtosis()\n",
    "print(\"Excess Kurtosis (No Outliers):\", excess_kurtosis_no_outliers)\n",
    "\n",
    "fig_gauss.show()\n",
    "    \n",
    "\n"
   ]
  },
  {
   "cell_type": "code",
   "execution_count": 261,
   "metadata": {},
   "outputs": [
    {
     "data": {
      "text/plain": [
       "time\n",
       "1970-01-01 09:33:00    0.002366\n",
       "1970-01-01 13:42:00    0.001461\n",
       "1970-01-01 09:36:00    0.001449\n",
       "1970-01-01 10:11:00    0.001077\n",
       "1970-01-01 10:45:00    0.001048\n",
       "1970-01-01 12:53:00    0.001046\n",
       "1970-01-01 14:26:00   -0.001119\n",
       "1970-01-01 13:19:00   -0.001148\n",
       "1970-01-01 09:35:00   -0.001149\n",
       "1970-01-01 09:54:00   -0.001278\n",
       "1970-01-01 09:49:00   -0.001355\n",
       "1970-01-01 15:34:00   -0.001424\n",
       "1970-01-01 15:19:00   -0.001559\n",
       "1970-01-01 12:03:00   -0.001565\n",
       "1970-01-01 09:38:00   -0.001865\n",
       "1970-01-01 09:30:00         NaN\n",
       "Name: returns, dtype: float64"
      ]
     },
     "execution_count": 261,
     "metadata": {},
     "output_type": "execute_result"
    }
   ],
   "source": [
    "# Check at what time of the day the outliers return are happening\n",
    "# Use IQR variable previously calculated and price_data table previously created\n",
    "\n",
    "#Get outliers\n",
    "outliers = ~price_data['returns'].isin(returns_no_outliers)\n",
    "outliers = price_data['returns'][outliers==True]\n",
    "#orders outliers by value\n",
    "outliers = outliers.sort_values(ascending=False)\n",
    "outliers"
   ]
  },
  {
   "cell_type": "markdown",
   "metadata": {},
   "source": [
    "__What happends if we start to sample using the all the negative returns first and then all the positive?"
   ]
  },
  {
   "cell_type": "code",
   "execution_count": 262,
   "metadata": {},
   "outputs": [
    {
     "name": "stdout",
     "output_type": "stream",
     "text": [
      "First sample return 0.00020311860201346524\n"
     ]
    }
   ],
   "source": [
    "# What happends if we sample with the returns from smaller to larger\n",
    "# Using Direct Sampling\n",
    "\n",
    "num_samples = 390 # CLT --> 390 minutes in a trading day\n",
    "seed = 42\n",
    "np.random.seed(seed)\n",
    "\n",
    "#Generate sample directly from the gaussian distribution\n",
    "sample_gaussian_returns = np.random.normal(loc=mean_returns_closed_form, scale=std_returns_closed_form, size=num_samples)\n",
    "print(f\"First sample return {sample_gaussian_returns[0]}\")\n",
    "\n",
    "# Order samples s-l\n",
    "sample_gaussian_returns = np.sort(sample_gaussian_returns)#[::-1]\n",
    "\n",
    "# Simulate Stock Price trajectory\n",
    "# Start from the last price in the lob dataset\n",
    "start_price = price_data['close_mid_price'].iloc[0] #-1\n",
    "\n",
    "# Initialize the simulated price list\n",
    "sim_prices = [start_price]\n",
    "\n",
    "for r in sample_gaussian_returns:\n",
    "    #calculate the new price based on the previous price\n",
    "    new_price = sim_prices[-1] * (1 + r)\n",
    "    #append to the list\n",
    "    sim_prices.append(new_price)"
   ]
  },
  {
   "cell_type": "code",
   "execution_count": 263,
   "metadata": {},
   "outputs": [
    {
     "data": {
      "application/vnd.plotly.v1+json": {
       "config": {
        "plotlyServerURL": "https://plot.ly"
       },
       "data": [
        {
         "mode": "lines",
         "name": "Historical Closing Prices",
         "type": "scatter",
         "x": [
          0,
          1,
          2,
          3,
          4,
          5,
          6,
          7,
          8,
          9,
          10,
          11,
          12,
          13,
          14,
          15,
          16,
          17,
          18,
          19,
          20,
          21,
          22,
          23,
          24,
          25,
          26,
          27,
          28,
          29,
          30,
          31,
          32,
          33,
          34,
          35,
          36,
          37,
          38,
          39,
          40,
          41,
          42,
          43,
          44,
          45,
          46,
          47,
          48,
          49,
          50,
          51,
          52,
          53,
          54,
          55,
          56,
          57,
          58,
          59,
          60,
          61,
          62,
          63,
          64,
          65,
          66,
          67,
          68,
          69,
          70,
          71,
          72,
          73,
          74,
          75,
          76,
          77,
          78,
          79,
          80,
          81,
          82,
          83,
          84,
          85,
          86,
          87,
          88,
          89,
          90,
          91,
          92,
          93,
          94,
          95,
          96,
          97,
          98,
          99,
          100,
          101,
          102,
          103,
          104,
          105,
          106,
          107,
          108,
          109,
          110,
          111,
          112,
          113,
          114,
          115,
          116,
          117,
          118,
          119,
          120,
          121,
          122,
          123,
          124,
          125,
          126,
          127,
          128,
          129,
          130,
          131,
          132,
          133,
          134,
          135,
          136,
          137,
          138,
          139,
          140,
          141,
          142,
          143,
          144,
          145,
          146,
          147,
          148,
          149,
          150,
          151,
          152,
          153,
          154,
          155,
          156,
          157,
          158,
          159,
          160,
          161,
          162,
          163,
          164,
          165,
          166,
          167,
          168,
          169,
          170,
          171,
          172,
          173,
          174,
          175,
          176,
          177,
          178,
          179,
          180,
          181,
          182,
          183,
          184,
          185,
          186,
          187,
          188,
          189,
          190,
          191,
          192,
          193,
          194,
          195,
          196,
          197,
          198,
          199,
          200,
          201,
          202,
          203,
          204,
          205,
          206,
          207,
          208,
          209,
          210,
          211,
          212,
          213,
          214,
          215,
          216,
          217,
          218,
          219,
          220,
          221,
          222,
          223,
          224,
          225,
          226,
          227,
          228,
          229,
          230,
          231,
          232,
          233,
          234,
          235,
          236,
          237,
          238,
          239,
          240,
          241,
          242,
          243,
          244,
          245,
          246,
          247,
          248,
          249,
          250,
          251,
          252,
          253,
          254,
          255,
          256,
          257,
          258,
          259,
          260,
          261,
          262,
          263,
          264,
          265,
          266,
          267,
          268,
          269,
          270,
          271,
          272,
          273,
          274,
          275,
          276,
          277,
          278,
          279,
          280,
          281,
          282,
          283,
          284,
          285,
          286,
          287,
          288,
          289,
          290,
          291,
          292,
          293,
          294,
          295,
          296,
          297,
          298,
          299,
          300,
          301,
          302,
          303,
          304,
          305,
          306,
          307,
          308,
          309,
          310,
          311,
          312,
          313,
          314,
          315,
          316,
          317,
          318,
          319,
          320,
          321,
          322,
          323,
          324,
          325,
          326,
          327,
          328,
          329,
          330,
          331,
          332,
          333,
          334,
          335,
          336,
          337,
          338,
          339,
          340,
          341,
          342,
          343,
          344,
          345,
          346,
          347,
          348,
          349,
          350,
          351,
          352,
          353,
          354,
          355,
          356,
          357,
          358,
          359,
          360,
          361,
          362,
          363,
          364,
          365,
          366,
          367,
          368,
          369,
          370,
          371,
          372,
          373,
          374,
          375,
          376,
          377,
          378,
          379,
          380,
          381,
          382,
          383,
          384,
          385,
          386,
          387,
          388,
          389
         ],
         "y": [
          585.51,
          585.075,
          585.48,
          586.865,
          587.3,
          586.625,
          587.475,
          587.015,
          585.92,
          586.215,
          585.96,
          586.29,
          586.36,
          586.425,
          586.73,
          586.445,
          586.19,
          586.275,
          586.595,
          585.8,
          586.325,
          586.61,
          587.22,
          586.865,
          586.115,
          585.88,
          585.945,
          585.905,
          585.915,
          586.015,
          585.73,
          586.015,
          585.435,
          585.1,
          584.545,
          584.76,
          584.57,
          584.745,
          585.115,
          585.075,
          584.99,
          585.62,
          586.13,
          585.815,
          586.105,
          586.05,
          586.37,
          586.575,
          586.395,
          586.2,
          586.25,
          586.09,
          585.83,
          585.905,
          585.84,
          585.24,
          585.385,
          585.57,
          585.45,
          585.82,
          585.53,
          585.845,
          585.59,
          585.585,
          585.825,
          586.395,
          585.93,
          586.05,
          586.155,
          586.295,
          586.12,
          586.665,
          586.395,
          586.43,
          586.66,
          587.275,
          587.07,
          587.095,
          587.27,
          586.895,
          587.01,
          587.385,
          587.835,
          588.11,
          588.03,
          587.66,
          587.66,
          587.485,
          587.675,
          587.815,
          587.355,
          587.25,
          586.81,
          586.96,
          586.75,
          586.77,
          586.265,
          586.6,
          586.215,
          585.895,
          586.235,
          585.975,
          585.955,
          585.355,
          585.565,
          585.74,
          585.965,
          586.075,
          586.38,
          586.29,
          586.04,
          585.95,
          585.935,
          585.85,
          585.715,
          585.605,
          585.36,
          585.46,
          585.575,
          585.49,
          585.415,
          585.29,
          585.34,
          584.89,
          584.915,
          584.57,
          584.665,
          584.87,
          585.075,
          585.13,
          584.775,
          584.835,
          584.87,
          584.6,
          584.63,
          585.09,
          585.06,
          585.115,
          584.99,
          584.84,
          584.845,
          584.74,
          585.18,
          585.2,
          584.635,
          584.59,
          584.945,
          584.87,
          584.88,
          584.825,
          585,
          584.825,
          584.745,
          583.83,
          584.145,
          584.01,
          584.015,
          584.22,
          584.145,
          584.115,
          584.315,
          584.4,
          584.29,
          584.125,
          583.885,
          583.855,
          583.94,
          584.12,
          583.995,
          584.18,
          584.115,
          584.05,
          583.875,
          583.59,
          583.185,
          583.14,
          583.105,
          582.775,
          582.905,
          582.62,
          582.755,
          583.225,
          583.125,
          583.12,
          583.11,
          583.075,
          583.02,
          583.025,
          583.005,
          582.925,
          582.885,
          582.69,
          582.975,
          582.655,
          582.335,
          582.835,
          582.92,
          582.9,
          582.945,
          582.925,
          582.88,
          582.87,
          583.185,
          583.795,
          583.66,
          583.53,
          583.48,
          583.23,
          583.175,
          583.245,
          583.31,
          583.5,
          583.55,
          583.58,
          583.73,
          583.915,
          584.03,
          584.305,
          584.135,
          583.985,
          584.095,
          583.705,
          583.59,
          583.505,
          583.53,
          583.51,
          583.545,
          583.55,
          583.535,
          582.865,
          583.06,
          583.23,
          583.33,
          583.285,
          583.08,
          583.04,
          582.96,
          582.74,
          582.635,
          582.595,
          583.015,
          582.855,
          582.835,
          582.8,
          582.66,
          582.58,
          582.67,
          582.615,
          582.76,
          582.55,
          582.345,
          581.725,
          582.575,
          582.405,
          581.95,
          582.385,
          582.515,
          582.605,
          582.58,
          582.585,
          582.49,
          582.885,
          582.99,
          583.09,
          582.885,
          582.85,
          583.085,
          583.18,
          583.015,
          582.98,
          583.18,
          583.05,
          583.125,
          583.005,
          583.12,
          582.895,
          582.72,
          582.405,
          582.665,
          582.57,
          582.615,
          582.43,
          581.89,
          582.07,
          582.005,
          581.73,
          581.775,
          581.855,
          581.705,
          581.415,
          581.135,
          581.505,
          581.41,
          581.11,
          581.045,
          581.08,
          580.43,
          580.57,
          580.765,
          581.09,
          581.195,
          581.445,
          581.205,
          581.16,
          581.245,
          581.345,
          581.165,
          581.325,
          581.185,
          581.445,
          581.755,
          582.115,
          581.51,
          581.605,
          581.545,
          581.49,
          581.295,
          581.285,
          581.255,
          581.3,
          581.235,
          581.51,
          581.93,
          581.585,
          581.515,
          581.395,
          581.745,
          581.87,
          582.135,
          581.92,
          581.57,
          581.635,
          581.54,
          581.505,
          581.485,
          581.35,
          581.295,
          581.54,
          581.36,
          581.395,
          581.14,
          580.945,
          580.895,
          581.285,
          581.015,
          580.79,
          580.615,
          580.44,
          580.54,
          579.635,
          579.445,
          579.625,
          579.665,
          579.88,
          580.1,
          580.055,
          579.93,
          579.935,
          579.86,
          579.815,
          579.585,
          579.07,
          578.92,
          579.17,
          578.345,
          578.31,
          578.39,
          578.715,
          578.77,
          578.405,
          578.55,
          578.535,
          578.365,
          578.22,
          578.33,
          577.9,
          577.91,
          577.725,
          577.84,
          577.68,
          577.905,
          577.835,
          577.645,
          577.845,
          578.02,
          577.945,
          577.975,
          577.855,
          577.525,
          577.605
         ]
        },
        {
         "mode": "lines",
         "name": "Simulated Stock Prices",
         "type": "scatter",
         "x": [
          0,
          1,
          2,
          3,
          4,
          5,
          6,
          7,
          8,
          9,
          10,
          11,
          12,
          13,
          14,
          15,
          16,
          17,
          18,
          19,
          20,
          21,
          22,
          23,
          24,
          25,
          26,
          27,
          28,
          29,
          30,
          31,
          32,
          33,
          34,
          35,
          36,
          37,
          38,
          39,
          40,
          41,
          42,
          43,
          44,
          45,
          46,
          47,
          48,
          49,
          50,
          51,
          52,
          53,
          54,
          55,
          56,
          57,
          58,
          59,
          60,
          61,
          62,
          63,
          64,
          65,
          66,
          67,
          68,
          69,
          70,
          71,
          72,
          73,
          74,
          75,
          76,
          77,
          78,
          79,
          80,
          81,
          82,
          83,
          84,
          85,
          86,
          87,
          88,
          89,
          90,
          91,
          92,
          93,
          94,
          95,
          96,
          97,
          98,
          99,
          100,
          101,
          102,
          103,
          104,
          105,
          106,
          107,
          108,
          109,
          110,
          111,
          112,
          113,
          114,
          115,
          116,
          117,
          118,
          119,
          120,
          121,
          122,
          123,
          124,
          125,
          126,
          127,
          128,
          129,
          130,
          131,
          132,
          133,
          134,
          135,
          136,
          137,
          138,
          139,
          140,
          141,
          142,
          143,
          144,
          145,
          146,
          147,
          148,
          149,
          150,
          151,
          152,
          153,
          154,
          155,
          156,
          157,
          158,
          159,
          160,
          161,
          162,
          163,
          164,
          165,
          166,
          167,
          168,
          169,
          170,
          171,
          172,
          173,
          174,
          175,
          176,
          177,
          178,
          179,
          180,
          181,
          182,
          183,
          184,
          185,
          186,
          187,
          188,
          189,
          190,
          191,
          192,
          193,
          194,
          195,
          196,
          197,
          198,
          199,
          200,
          201,
          202,
          203,
          204,
          205,
          206,
          207,
          208,
          209,
          210,
          211,
          212,
          213,
          214,
          215,
          216,
          217,
          218,
          219,
          220,
          221,
          222,
          223,
          224,
          225,
          226,
          227,
          228,
          229,
          230,
          231,
          232,
          233,
          234,
          235,
          236,
          237,
          238,
          239,
          240,
          241,
          242,
          243,
          244,
          245,
          246,
          247,
          248,
          249,
          250,
          251,
          252,
          253,
          254,
          255,
          256,
          257,
          258,
          259,
          260,
          261,
          262,
          263,
          264,
          265,
          266,
          267,
          268,
          269,
          270,
          271,
          272,
          273,
          274,
          275,
          276,
          277,
          278,
          279,
          280,
          281,
          282,
          283,
          284,
          285,
          286,
          287,
          288,
          289,
          290,
          291,
          292,
          293,
          294,
          295,
          296,
          297,
          298,
          299,
          300,
          301,
          302,
          303,
          304,
          305,
          306,
          307,
          308,
          309,
          310,
          311,
          312,
          313,
          314,
          315,
          316,
          317,
          318,
          319,
          320,
          321,
          322,
          323,
          324,
          325,
          326,
          327,
          328,
          329,
          330,
          331,
          332,
          333,
          334,
          335,
          336,
          337,
          338,
          339,
          340,
          341,
          342,
          343,
          344,
          345,
          346,
          347,
          348,
          349,
          350,
          351,
          352,
          353,
          354,
          355,
          356,
          357,
          358,
          359,
          360,
          361,
          362,
          363,
          364,
          365,
          366,
          367,
          368,
          369,
          370,
          371,
          372,
          373,
          374,
          375,
          376,
          377,
          378,
          379,
          380,
          381,
          382,
          383,
          384,
          385,
          386,
          387,
          388,
          389,
          390
         ],
         "y": [
          585.51,
          584.5804840039254,
          583.8264939321175,
          583.2121542796178,
          582.6260510448761,
          582.051023723013,
          581.4843428648494,
          580.9203258216501,
          580.3661273699915,
          579.8139842229808,
          579.2751472959376,
          578.7657332842563,
          578.2673367868889,
          577.800451041726,
          577.335390599855,
          576.8864190160665,
          576.4464446210975,
          576.008054701298,
          575.5800214791766,
          575.1564441781846,
          574.7374300991575,
          574.3220863369943,
          573.9086166549741,
          573.496927371733,
          573.0881096688311,
          572.6804253969864,
          572.2743589204733,
          571.8701190593972,
          571.4727893161374,
          571.089282166088,
          570.7081469692013,
          570.3435528999424,
          569.9827711247882,
          569.622775784788,
          569.2651698660466,
          568.9080242796856,
          568.5527614901521,
          568.2004497858923,
          567.8501678443198,
          567.5038808591241,
          567.1589168884707,
          566.8154947537497,
          566.4784240235048,
          566.1463527206676,
          565.816652056506,
          565.4970734028728,
          565.1854202473838,
          564.8757940869438,
          564.5686616686891,
          564.2629383722442,
          563.9663881063713,
          563.6731158458621,
          563.3818359595743,
          563.091647951882,
          562.8048444731974,
          562.5206210006802,
          562.2383807386573,
          561.9662089022895,
          561.6971016985071,
          561.4301431142337,
          561.1660107867715,
          560.9023692305059,
          560.6417453110494,
          560.3833212150898,
          560.1265348423445,
          559.8770303626692,
          559.6304166533699,
          559.3858074470845,
          559.1414402992381,
          558.8999180267715,
          558.6589723858069,
          558.4185946056002,
          558.1791968184857,
          557.9403129313986,
          557.7021892177431,
          557.4648111019999,
          557.2294879367437,
          556.994316246052,
          556.760850356871,
          556.5300845088523,
          556.3018850225048,
          556.07650892083,
          555.8512732927235,
          555.6275874633485,
          555.406178202215,
          555.1862929775349,
          554.9727101115151,
          554.7620068543047,
          554.5517556463236,
          554.3424184107762,
          554.1334130819301,
          553.9262603011691,
          553.7206752877128,
          553.5175919392627,
          553.3179996048583,
          553.1192381183249,
          552.9206115460549,
          552.7260652852096,
          552.5338267742275,
          552.3421127373318,
          552.1521799535657,
          551.9682427276101,
          551.7899176384718,
          551.6119324456469,
          551.4341161257491,
          551.2565748555194,
          551.0811561465295,
          550.9063757898248,
          550.7349394430702,
          550.5663545568365,
          550.3984999371993,
          550.23107538398,
          550.0642569958744,
          549.9016521027015,
          549.7429472307549,
          549.5853429269331,
          549.4297543646198,
          549.2771911277473,
          549.1255826522456,
          548.9744681108087,
          548.825697853194,
          548.6789758622599,
          548.5325899673214,
          548.3875727018212,
          548.2437047173356,
          548.1006659029975,
          547.9578990241611,
          547.8155798536409,
          547.6742803389672,
          547.533623860195,
          547.3937323936821,
          547.2575802826233,
          547.1231583301599,
          546.9938538208534,
          546.8696698252879,
          546.747901210551,
          546.627939307713,
          546.5080642977297,
          546.3993074745543,
          546.292722106747,
          546.1879473013228,
          546.0846579794402,
          545.9815649453823,
          545.8800911587855,
          545.7799443802592,
          545.6800916441423,
          545.5823768162145,
          545.4852273804827,
          545.390006363906,
          545.2955949370061,
          545.2074695954426,
          545.1225157860748,
          545.0394501847668,
          544.9586347131923,
          544.8784137688621,
          544.7983178530751,
          544.718237995943,
          544.6403515646589,
          544.5630798792562,
          544.4868080833509,
          544.4110662046644,
          544.3364390853377,
          544.2632107177028,
          544.1915381959677,
          544.122438142175,
          544.05509378669,
          543.994110056743,
          543.9334842328651,
          543.8749896822591,
          543.8177331762141,
          543.7627733976028,
          543.709934638864,
          543.6608763228568,
          543.6120599099785,
          543.5648041854768,
          543.5257961247901,
          543.4874823571912,
          543.4495922826844,
          543.4119180099486,
          543.3774963485836,
          543.3492458174596,
          543.3212867851744,
          543.2954628888089,
          543.2711008803464,
          543.2472306356065,
          543.2234923582771,
          543.2010603936279,
          543.178954743158,
          543.1613672218157,
          543.1451123767109,
          543.1294718933057,
          543.1139384024699,
          543.100487259082,
          543.0879486845412,
          543.0808898453591,
          543.0771186912826,
          543.0738734682549,
          543.0716818439204,
          543.0703352577059,
          543.0692578740034,
          543.0685028507758,
          543.0693093883507,
          543.0716949475475,
          543.075426276664,
          543.0803839311034,
          543.0867036091329,
          543.0930445858063,
          543.0995413577575,
          543.1065521077664,
          543.1164953935033,
          543.1271139536595,
          543.1387240201742,
          543.1538242650213,
          543.1740385688598,
          543.1951204452565,
          543.2207941301352,
          543.2469407251456,
          543.2734521020154,
          543.302245661804,
          543.33137697133,
          543.3609836687414,
          543.3933008264427,
          543.4261921835949,
          543.4616377226678,
          543.4984471962376,
          543.535874871021,
          543.5752928102519,
          543.6155904776693,
          543.6570864371901,
          543.6986386303527,
          543.742722642107,
          543.7872595332086,
          543.8321333416302,
          543.8784505512488,
          543.9266104822922,
          543.9753824177633,
          544.0244642591289,
          544.0776253142529,
          544.1319125780254,
          544.1893542150218,
          544.2475964468055,
          544.3060702752625,
          544.3657400818919,
          544.426916449351,
          544.4890406824227,
          544.552043126638,
          544.6172626941105,
          544.6828463006705,
          544.7484593008004,
          544.8152766314738,
          544.882757847376,
          544.9528285472321,
          545.0230659357326,
          545.0937986066496,
          545.1652794141693,
          545.239529315313,
          545.3138146871138,
          545.3882864537736,
          545.4637110953608,
          545.539208989479,
          545.6183922425422,
          545.7001012419568,
          545.7861081779837,
          545.872740246893,
          545.9596294815244,
          546.0485723357119,
          546.1375690546598,
          546.2346612809812,
          546.3365551445781,
          546.4413820257469,
          546.5463218973379,
          546.651344886688,
          546.7586504732224,
          546.8697073259452,
          546.9811231467752,
          547.0943929704952,
          547.2098563238488,
          547.3254799680457,
          547.4414556038712,
          547.5574590712539,
          547.6746147158963,
          547.7924762629352,
          547.9157737866612,
          548.0402899989257,
          548.1684278547531,
          548.2992494596906,
          548.4342960438147,
          548.5697594954561,
          548.7070538293523,
          548.8483813832091,
          548.9900887197231,
          549.1351051598807,
          549.2805669980174,
          549.4267720687127,
          549.5733538269898,
          549.7211041626022,
          549.8725202790145,
          550.0249534413306,
          550.1787890650066,
          550.3341375998049,
          550.4941349007621,
          550.654799812832,
          550.8166478037725,
          550.979568161893,
          551.1488334524121,
          551.3246103652523,
          551.5027746240329,
          551.6822221625233,
          551.8635876066023,
          552.0472506666999,
          552.2328787403608,
          552.4204709826641,
          552.6095193760164,
          552.7996774188265,
          552.9900679276229,
          553.1860507680499,
          553.3821921842904,
          553.5785747983044,
          553.7750291144763,
          553.9737776108461,
          554.1726392757081,
          554.3717010146988,
          554.5715968178386,
          554.7720340998761,
          554.9785018407126,
          555.1857991295304,
          555.3942284920579,
          555.603071556388,
          555.8141478466877,
          556.0270524302847,
          556.2473046763344,
          556.4718549273475,
          556.6971515518649,
          556.9261177685597,
          557.1602855316744,
          557.3955067140707,
          557.6322341256524,
          557.8701587230474,
          558.1095929036776,
          558.3508609224433,
          558.5923470217745,
          558.8414267915513,
          559.0979706796926,
          559.3550249086987,
          559.6179146150932,
          559.8818179505415,
          560.1528000810553,
          560.4254963804494,
          560.7009634648626,
          560.986447397204,
          561.274026950508,
          561.5658644868877,
          561.8579841582509,
          562.1514853272865,
          562.4730783946238,
          562.7977530165681,
          563.1301137875122,
          563.4631197059441,
          563.8095750109931,
          564.1688171198962,
          564.5386874810098,
          564.9114696377295,
          565.2851448541816,
          565.6623478509091,
          566.0424330340211,
          566.4234617603861,
          566.8169941586767,
          567.2134362632229,
          567.6115951205579,
          568.0132686079739,
          568.4192287631073,
          568.8294461941604,
          569.2418137159954,
          569.6671315317833,
          570.1290738277788,
          570.6151037099792,
          571.1052371317047,
          571.5986358204505,
          572.095203097241,
          572.5951087117454,
          573.1491021210556,
          573.711804958815,
          574.278049641749,
          574.8478547742785,
          575.4207693021945,
          576.0043492821244,
          576.5887012146563,
          577.2079521008324,
          577.8689524412644,
          578.601833212342,
          579.6495610663446
         ]
        }
       ],
       "layout": {
        "template": {
         "data": {
          "bar": [
           {
            "error_x": {
             "color": "#f2f5fa"
            },
            "error_y": {
             "color": "#f2f5fa"
            },
            "marker": {
             "line": {
              "color": "rgb(17,17,17)",
              "width": 0.5
             },
             "pattern": {
              "fillmode": "overlay",
              "size": 10,
              "solidity": 0.2
             }
            },
            "type": "bar"
           }
          ],
          "barpolar": [
           {
            "marker": {
             "line": {
              "color": "rgb(17,17,17)",
              "width": 0.5
             },
             "pattern": {
              "fillmode": "overlay",
              "size": 10,
              "solidity": 0.2
             }
            },
            "type": "barpolar"
           }
          ],
          "carpet": [
           {
            "aaxis": {
             "endlinecolor": "#A2B1C6",
             "gridcolor": "#506784",
             "linecolor": "#506784",
             "minorgridcolor": "#506784",
             "startlinecolor": "#A2B1C6"
            },
            "baxis": {
             "endlinecolor": "#A2B1C6",
             "gridcolor": "#506784",
             "linecolor": "#506784",
             "minorgridcolor": "#506784",
             "startlinecolor": "#A2B1C6"
            },
            "type": "carpet"
           }
          ],
          "choropleth": [
           {
            "colorbar": {
             "outlinewidth": 0,
             "ticks": ""
            },
            "type": "choropleth"
           }
          ],
          "contour": [
           {
            "colorbar": {
             "outlinewidth": 0,
             "ticks": ""
            },
            "colorscale": [
             [
              0,
              "#0d0887"
             ],
             [
              0.1111111111111111,
              "#46039f"
             ],
             [
              0.2222222222222222,
              "#7201a8"
             ],
             [
              0.3333333333333333,
              "#9c179e"
             ],
             [
              0.4444444444444444,
              "#bd3786"
             ],
             [
              0.5555555555555556,
              "#d8576b"
             ],
             [
              0.6666666666666666,
              "#ed7953"
             ],
             [
              0.7777777777777778,
              "#fb9f3a"
             ],
             [
              0.8888888888888888,
              "#fdca26"
             ],
             [
              1,
              "#f0f921"
             ]
            ],
            "type": "contour"
           }
          ],
          "contourcarpet": [
           {
            "colorbar": {
             "outlinewidth": 0,
             "ticks": ""
            },
            "type": "contourcarpet"
           }
          ],
          "heatmap": [
           {
            "colorbar": {
             "outlinewidth": 0,
             "ticks": ""
            },
            "colorscale": [
             [
              0,
              "#0d0887"
             ],
             [
              0.1111111111111111,
              "#46039f"
             ],
             [
              0.2222222222222222,
              "#7201a8"
             ],
             [
              0.3333333333333333,
              "#9c179e"
             ],
             [
              0.4444444444444444,
              "#bd3786"
             ],
             [
              0.5555555555555556,
              "#d8576b"
             ],
             [
              0.6666666666666666,
              "#ed7953"
             ],
             [
              0.7777777777777778,
              "#fb9f3a"
             ],
             [
              0.8888888888888888,
              "#fdca26"
             ],
             [
              1,
              "#f0f921"
             ]
            ],
            "type": "heatmap"
           }
          ],
          "heatmapgl": [
           {
            "colorbar": {
             "outlinewidth": 0,
             "ticks": ""
            },
            "colorscale": [
             [
              0,
              "#0d0887"
             ],
             [
              0.1111111111111111,
              "#46039f"
             ],
             [
              0.2222222222222222,
              "#7201a8"
             ],
             [
              0.3333333333333333,
              "#9c179e"
             ],
             [
              0.4444444444444444,
              "#bd3786"
             ],
             [
              0.5555555555555556,
              "#d8576b"
             ],
             [
              0.6666666666666666,
              "#ed7953"
             ],
             [
              0.7777777777777778,
              "#fb9f3a"
             ],
             [
              0.8888888888888888,
              "#fdca26"
             ],
             [
              1,
              "#f0f921"
             ]
            ],
            "type": "heatmapgl"
           }
          ],
          "histogram": [
           {
            "marker": {
             "pattern": {
              "fillmode": "overlay",
              "size": 10,
              "solidity": 0.2
             }
            },
            "type": "histogram"
           }
          ],
          "histogram2d": [
           {
            "colorbar": {
             "outlinewidth": 0,
             "ticks": ""
            },
            "colorscale": [
             [
              0,
              "#0d0887"
             ],
             [
              0.1111111111111111,
              "#46039f"
             ],
             [
              0.2222222222222222,
              "#7201a8"
             ],
             [
              0.3333333333333333,
              "#9c179e"
             ],
             [
              0.4444444444444444,
              "#bd3786"
             ],
             [
              0.5555555555555556,
              "#d8576b"
             ],
             [
              0.6666666666666666,
              "#ed7953"
             ],
             [
              0.7777777777777778,
              "#fb9f3a"
             ],
             [
              0.8888888888888888,
              "#fdca26"
             ],
             [
              1,
              "#f0f921"
             ]
            ],
            "type": "histogram2d"
           }
          ],
          "histogram2dcontour": [
           {
            "colorbar": {
             "outlinewidth": 0,
             "ticks": ""
            },
            "colorscale": [
             [
              0,
              "#0d0887"
             ],
             [
              0.1111111111111111,
              "#46039f"
             ],
             [
              0.2222222222222222,
              "#7201a8"
             ],
             [
              0.3333333333333333,
              "#9c179e"
             ],
             [
              0.4444444444444444,
              "#bd3786"
             ],
             [
              0.5555555555555556,
              "#d8576b"
             ],
             [
              0.6666666666666666,
              "#ed7953"
             ],
             [
              0.7777777777777778,
              "#fb9f3a"
             ],
             [
              0.8888888888888888,
              "#fdca26"
             ],
             [
              1,
              "#f0f921"
             ]
            ],
            "type": "histogram2dcontour"
           }
          ],
          "mesh3d": [
           {
            "colorbar": {
             "outlinewidth": 0,
             "ticks": ""
            },
            "type": "mesh3d"
           }
          ],
          "parcoords": [
           {
            "line": {
             "colorbar": {
              "outlinewidth": 0,
              "ticks": ""
             }
            },
            "type": "parcoords"
           }
          ],
          "pie": [
           {
            "automargin": true,
            "type": "pie"
           }
          ],
          "scatter": [
           {
            "marker": {
             "line": {
              "color": "#283442"
             }
            },
            "type": "scatter"
           }
          ],
          "scatter3d": [
           {
            "line": {
             "colorbar": {
              "outlinewidth": 0,
              "ticks": ""
             }
            },
            "marker": {
             "colorbar": {
              "outlinewidth": 0,
              "ticks": ""
             }
            },
            "type": "scatter3d"
           }
          ],
          "scattercarpet": [
           {
            "marker": {
             "colorbar": {
              "outlinewidth": 0,
              "ticks": ""
             }
            },
            "type": "scattercarpet"
           }
          ],
          "scattergeo": [
           {
            "marker": {
             "colorbar": {
              "outlinewidth": 0,
              "ticks": ""
             }
            },
            "type": "scattergeo"
           }
          ],
          "scattergl": [
           {
            "marker": {
             "line": {
              "color": "#283442"
             }
            },
            "type": "scattergl"
           }
          ],
          "scattermapbox": [
           {
            "marker": {
             "colorbar": {
              "outlinewidth": 0,
              "ticks": ""
             }
            },
            "type": "scattermapbox"
           }
          ],
          "scatterpolar": [
           {
            "marker": {
             "colorbar": {
              "outlinewidth": 0,
              "ticks": ""
             }
            },
            "type": "scatterpolar"
           }
          ],
          "scatterpolargl": [
           {
            "marker": {
             "colorbar": {
              "outlinewidth": 0,
              "ticks": ""
             }
            },
            "type": "scatterpolargl"
           }
          ],
          "scatterternary": [
           {
            "marker": {
             "colorbar": {
              "outlinewidth": 0,
              "ticks": ""
             }
            },
            "type": "scatterternary"
           }
          ],
          "surface": [
           {
            "colorbar": {
             "outlinewidth": 0,
             "ticks": ""
            },
            "colorscale": [
             [
              0,
              "#0d0887"
             ],
             [
              0.1111111111111111,
              "#46039f"
             ],
             [
              0.2222222222222222,
              "#7201a8"
             ],
             [
              0.3333333333333333,
              "#9c179e"
             ],
             [
              0.4444444444444444,
              "#bd3786"
             ],
             [
              0.5555555555555556,
              "#d8576b"
             ],
             [
              0.6666666666666666,
              "#ed7953"
             ],
             [
              0.7777777777777778,
              "#fb9f3a"
             ],
             [
              0.8888888888888888,
              "#fdca26"
             ],
             [
              1,
              "#f0f921"
             ]
            ],
            "type": "surface"
           }
          ],
          "table": [
           {
            "cells": {
             "fill": {
              "color": "#506784"
             },
             "line": {
              "color": "rgb(17,17,17)"
             }
            },
            "header": {
             "fill": {
              "color": "#2a3f5f"
             },
             "line": {
              "color": "rgb(17,17,17)"
             }
            },
            "type": "table"
           }
          ]
         },
         "layout": {
          "annotationdefaults": {
           "arrowcolor": "#f2f5fa",
           "arrowhead": 0,
           "arrowwidth": 1
          },
          "autotypenumbers": "strict",
          "coloraxis": {
           "colorbar": {
            "outlinewidth": 0,
            "ticks": ""
           }
          },
          "colorscale": {
           "diverging": [
            [
             0,
             "#8e0152"
            ],
            [
             0.1,
             "#c51b7d"
            ],
            [
             0.2,
             "#de77ae"
            ],
            [
             0.3,
             "#f1b6da"
            ],
            [
             0.4,
             "#fde0ef"
            ],
            [
             0.5,
             "#f7f7f7"
            ],
            [
             0.6,
             "#e6f5d0"
            ],
            [
             0.7,
             "#b8e186"
            ],
            [
             0.8,
             "#7fbc41"
            ],
            [
             0.9,
             "#4d9221"
            ],
            [
             1,
             "#276419"
            ]
           ],
           "sequential": [
            [
             0,
             "#0d0887"
            ],
            [
             0.1111111111111111,
             "#46039f"
            ],
            [
             0.2222222222222222,
             "#7201a8"
            ],
            [
             0.3333333333333333,
             "#9c179e"
            ],
            [
             0.4444444444444444,
             "#bd3786"
            ],
            [
             0.5555555555555556,
             "#d8576b"
            ],
            [
             0.6666666666666666,
             "#ed7953"
            ],
            [
             0.7777777777777778,
             "#fb9f3a"
            ],
            [
             0.8888888888888888,
             "#fdca26"
            ],
            [
             1,
             "#f0f921"
            ]
           ],
           "sequentialminus": [
            [
             0,
             "#0d0887"
            ],
            [
             0.1111111111111111,
             "#46039f"
            ],
            [
             0.2222222222222222,
             "#7201a8"
            ],
            [
             0.3333333333333333,
             "#9c179e"
            ],
            [
             0.4444444444444444,
             "#bd3786"
            ],
            [
             0.5555555555555556,
             "#d8576b"
            ],
            [
             0.6666666666666666,
             "#ed7953"
            ],
            [
             0.7777777777777778,
             "#fb9f3a"
            ],
            [
             0.8888888888888888,
             "#fdca26"
            ],
            [
             1,
             "#f0f921"
            ]
           ]
          },
          "colorway": [
           "#636efa",
           "#EF553B",
           "#00cc96",
           "#ab63fa",
           "#FFA15A",
           "#19d3f3",
           "#FF6692",
           "#B6E880",
           "#FF97FF",
           "#FECB52"
          ],
          "font": {
           "color": "#f2f5fa"
          },
          "geo": {
           "bgcolor": "rgb(17,17,17)",
           "lakecolor": "rgb(17,17,17)",
           "landcolor": "rgb(17,17,17)",
           "showlakes": true,
           "showland": true,
           "subunitcolor": "#506784"
          },
          "hoverlabel": {
           "align": "left"
          },
          "hovermode": "closest",
          "mapbox": {
           "style": "dark"
          },
          "paper_bgcolor": "rgb(17,17,17)",
          "plot_bgcolor": "rgb(17,17,17)",
          "polar": {
           "angularaxis": {
            "gridcolor": "#506784",
            "linecolor": "#506784",
            "ticks": ""
           },
           "bgcolor": "rgb(17,17,17)",
           "radialaxis": {
            "gridcolor": "#506784",
            "linecolor": "#506784",
            "ticks": ""
           }
          },
          "scene": {
           "xaxis": {
            "backgroundcolor": "rgb(17,17,17)",
            "gridcolor": "#506784",
            "gridwidth": 2,
            "linecolor": "#506784",
            "showbackground": true,
            "ticks": "",
            "zerolinecolor": "#C8D4E3"
           },
           "yaxis": {
            "backgroundcolor": "rgb(17,17,17)",
            "gridcolor": "#506784",
            "gridwidth": 2,
            "linecolor": "#506784",
            "showbackground": true,
            "ticks": "",
            "zerolinecolor": "#C8D4E3"
           },
           "zaxis": {
            "backgroundcolor": "rgb(17,17,17)",
            "gridcolor": "#506784",
            "gridwidth": 2,
            "linecolor": "#506784",
            "showbackground": true,
            "ticks": "",
            "zerolinecolor": "#C8D4E3"
           }
          },
          "shapedefaults": {
           "line": {
            "color": "#f2f5fa"
           }
          },
          "sliderdefaults": {
           "bgcolor": "#C8D4E3",
           "bordercolor": "rgb(17,17,17)",
           "borderwidth": 1,
           "tickwidth": 0
          },
          "ternary": {
           "aaxis": {
            "gridcolor": "#506784",
            "linecolor": "#506784",
            "ticks": ""
           },
           "baxis": {
            "gridcolor": "#506784",
            "linecolor": "#506784",
            "ticks": ""
           },
           "bgcolor": "rgb(17,17,17)",
           "caxis": {
            "gridcolor": "#506784",
            "linecolor": "#506784",
            "ticks": ""
           }
          },
          "title": {
           "x": 0.05
          },
          "updatemenudefaults": {
           "bgcolor": "#506784",
           "borderwidth": 0
          },
          "xaxis": {
           "automargin": true,
           "gridcolor": "#283442",
           "linecolor": "#506784",
           "ticks": "",
           "title": {
            "standoff": 15
           },
           "zerolinecolor": "#283442",
           "zerolinewidth": 2
          },
          "yaxis": {
           "automargin": true,
           "gridcolor": "#283442",
           "linecolor": "#506784",
           "ticks": "",
           "title": {
            "standoff": 15
           },
           "zerolinecolor": "#283442",
           "zerolinewidth": 2
          }
         }
        },
        "title": {
         "text": "Simulated Stock Price Trajectory Using Direct Sampling"
        },
        "xaxis": {
         "title": {
          "text": "Time Steps"
         }
        },
        "yaxis": {
         "title": {
          "text": "Price"
         }
        }
       }
      }
     },
     "metadata": {},
     "output_type": "display_data"
    }
   ],
   "source": [
    "fig_sim_direct_method_sorted = go.Figure()\n",
    "\n",
    "# Add the historical price trace\n",
    "fig_sim_direct_method_sorted.add_trace(go.Scatter(\n",
    "    x=list(range(len(price_data['close_mid_price']))), \n",
    "    y=price_data['close_mid_price'], \n",
    "    mode='lines', \n",
    "    name='Historical Closing Prices'\n",
    "))\n",
    "\n",
    "# Add the simulated price trace\n",
    "fig_sim_direct_method_sorted.add_trace(go.Scatter(\n",
    "    x=list(range(len(sim_prices))), \n",
    "    y=sim_prices, \n",
    "    mode='lines', \n",
    "    name='Simulated Stock Prices'))\n",
    "\n",
    "\n",
    "\n",
    "# Update the layout to add titles and labels\n",
    "fig_sim_direct_method_sorted.update_layout(\n",
    "    title='Simulated Stock Price Trajectory Using Direct Sampling',\n",
    "    xaxis_title='Time Steps',\n",
    "    yaxis_title='Price',\n",
    "    template='plotly_dark'  # Using a dark theme for better visibility\n",
    ")\n",
    "\n",
    "# Show the interactive plot\n",
    "fig_sim_direct_method_sorted.show()"
   ]
  },
  {
   "cell_type": "markdown",
   "metadata": {},
   "source": [
    "__Impact of small negative bias in Returns on Simulated Stock Prices__"
   ]
  },
  {
   "cell_type": "code",
   "execution_count": 264,
   "metadata": {},
   "outputs": [
    {
     "data": {
      "application/vnd.plotly.v1+json": {
       "config": {
        "plotlyServerURL": "https://plot.ly"
       },
       "data": [
        {
         "mode": "lines",
         "name": "Historical Closing Prices",
         "type": "scatter",
         "x": [
          0,
          1,
          2,
          3,
          4,
          5,
          6,
          7,
          8,
          9,
          10,
          11,
          12,
          13,
          14,
          15,
          16,
          17,
          18,
          19,
          20,
          21,
          22,
          23,
          24,
          25,
          26,
          27,
          28,
          29,
          30,
          31,
          32,
          33,
          34,
          35,
          36,
          37,
          38,
          39,
          40,
          41,
          42,
          43,
          44,
          45,
          46,
          47,
          48,
          49,
          50,
          51,
          52,
          53,
          54,
          55,
          56,
          57,
          58,
          59,
          60,
          61,
          62,
          63,
          64,
          65,
          66,
          67,
          68,
          69,
          70,
          71,
          72,
          73,
          74,
          75,
          76,
          77,
          78,
          79,
          80,
          81,
          82,
          83,
          84,
          85,
          86,
          87,
          88,
          89,
          90,
          91,
          92,
          93,
          94,
          95,
          96,
          97,
          98,
          99,
          100,
          101,
          102,
          103,
          104,
          105,
          106,
          107,
          108,
          109,
          110,
          111,
          112,
          113,
          114,
          115,
          116,
          117,
          118,
          119,
          120,
          121,
          122,
          123,
          124,
          125,
          126,
          127,
          128,
          129,
          130,
          131,
          132,
          133,
          134,
          135,
          136,
          137,
          138,
          139,
          140,
          141,
          142,
          143,
          144,
          145,
          146,
          147,
          148,
          149,
          150,
          151,
          152,
          153,
          154,
          155,
          156,
          157,
          158,
          159,
          160,
          161,
          162,
          163,
          164,
          165,
          166,
          167,
          168,
          169,
          170,
          171,
          172,
          173,
          174,
          175,
          176,
          177,
          178,
          179,
          180,
          181,
          182,
          183,
          184,
          185,
          186,
          187,
          188,
          189,
          190,
          191,
          192,
          193,
          194,
          195,
          196,
          197,
          198,
          199,
          200,
          201,
          202,
          203,
          204,
          205,
          206,
          207,
          208,
          209,
          210,
          211,
          212,
          213,
          214,
          215,
          216,
          217,
          218,
          219,
          220,
          221,
          222,
          223,
          224,
          225,
          226,
          227,
          228,
          229,
          230,
          231,
          232,
          233,
          234,
          235,
          236,
          237,
          238,
          239,
          240,
          241,
          242,
          243,
          244,
          245,
          246,
          247,
          248,
          249,
          250,
          251,
          252,
          253,
          254,
          255,
          256,
          257,
          258,
          259,
          260,
          261,
          262,
          263,
          264,
          265,
          266,
          267,
          268,
          269,
          270,
          271,
          272,
          273,
          274,
          275,
          276,
          277,
          278,
          279,
          280,
          281,
          282,
          283,
          284,
          285,
          286,
          287,
          288,
          289,
          290,
          291,
          292,
          293,
          294,
          295,
          296,
          297,
          298,
          299,
          300,
          301,
          302,
          303,
          304,
          305,
          306,
          307,
          308,
          309,
          310,
          311,
          312,
          313,
          314,
          315,
          316,
          317,
          318,
          319,
          320,
          321,
          322,
          323,
          324,
          325,
          326,
          327,
          328,
          329,
          330,
          331,
          332,
          333,
          334,
          335,
          336,
          337,
          338,
          339,
          340,
          341,
          342,
          343,
          344,
          345,
          346,
          347,
          348,
          349,
          350,
          351,
          352,
          353,
          354,
          355,
          356,
          357,
          358,
          359,
          360,
          361,
          362,
          363,
          364,
          365,
          366,
          367,
          368,
          369,
          370,
          371,
          372,
          373,
          374,
          375,
          376,
          377,
          378,
          379,
          380,
          381,
          382,
          383,
          384,
          385,
          386,
          387,
          388,
          389
         ],
         "y": [
          585.51,
          585.075,
          585.48,
          586.865,
          587.3,
          586.625,
          587.475,
          587.015,
          585.92,
          586.215,
          585.96,
          586.29,
          586.36,
          586.425,
          586.73,
          586.445,
          586.19,
          586.275,
          586.595,
          585.8,
          586.325,
          586.61,
          587.22,
          586.865,
          586.115,
          585.88,
          585.945,
          585.905,
          585.915,
          586.015,
          585.73,
          586.015,
          585.435,
          585.1,
          584.545,
          584.76,
          584.57,
          584.745,
          585.115,
          585.075,
          584.99,
          585.62,
          586.13,
          585.815,
          586.105,
          586.05,
          586.37,
          586.575,
          586.395,
          586.2,
          586.25,
          586.09,
          585.83,
          585.905,
          585.84,
          585.24,
          585.385,
          585.57,
          585.45,
          585.82,
          585.53,
          585.845,
          585.59,
          585.585,
          585.825,
          586.395,
          585.93,
          586.05,
          586.155,
          586.295,
          586.12,
          586.665,
          586.395,
          586.43,
          586.66,
          587.275,
          587.07,
          587.095,
          587.27,
          586.895,
          587.01,
          587.385,
          587.835,
          588.11,
          588.03,
          587.66,
          587.66,
          587.485,
          587.675,
          587.815,
          587.355,
          587.25,
          586.81,
          586.96,
          586.75,
          586.77,
          586.265,
          586.6,
          586.215,
          585.895,
          586.235,
          585.975,
          585.955,
          585.355,
          585.565,
          585.74,
          585.965,
          586.075,
          586.38,
          586.29,
          586.04,
          585.95,
          585.935,
          585.85,
          585.715,
          585.605,
          585.36,
          585.46,
          585.575,
          585.49,
          585.415,
          585.29,
          585.34,
          584.89,
          584.915,
          584.57,
          584.665,
          584.87,
          585.075,
          585.13,
          584.775,
          584.835,
          584.87,
          584.6,
          584.63,
          585.09,
          585.06,
          585.115,
          584.99,
          584.84,
          584.845,
          584.74,
          585.18,
          585.2,
          584.635,
          584.59,
          584.945,
          584.87,
          584.88,
          584.825,
          585,
          584.825,
          584.745,
          583.83,
          584.145,
          584.01,
          584.015,
          584.22,
          584.145,
          584.115,
          584.315,
          584.4,
          584.29,
          584.125,
          583.885,
          583.855,
          583.94,
          584.12,
          583.995,
          584.18,
          584.115,
          584.05,
          583.875,
          583.59,
          583.185,
          583.14,
          583.105,
          582.775,
          582.905,
          582.62,
          582.755,
          583.225,
          583.125,
          583.12,
          583.11,
          583.075,
          583.02,
          583.025,
          583.005,
          582.925,
          582.885,
          582.69,
          582.975,
          582.655,
          582.335,
          582.835,
          582.92,
          582.9,
          582.945,
          582.925,
          582.88,
          582.87,
          583.185,
          583.795,
          583.66,
          583.53,
          583.48,
          583.23,
          583.175,
          583.245,
          583.31,
          583.5,
          583.55,
          583.58,
          583.73,
          583.915,
          584.03,
          584.305,
          584.135,
          583.985,
          584.095,
          583.705,
          583.59,
          583.505,
          583.53,
          583.51,
          583.545,
          583.55,
          583.535,
          582.865,
          583.06,
          583.23,
          583.33,
          583.285,
          583.08,
          583.04,
          582.96,
          582.74,
          582.635,
          582.595,
          583.015,
          582.855,
          582.835,
          582.8,
          582.66,
          582.58,
          582.67,
          582.615,
          582.76,
          582.55,
          582.345,
          581.725,
          582.575,
          582.405,
          581.95,
          582.385,
          582.515,
          582.605,
          582.58,
          582.585,
          582.49,
          582.885,
          582.99,
          583.09,
          582.885,
          582.85,
          583.085,
          583.18,
          583.015,
          582.98,
          583.18,
          583.05,
          583.125,
          583.005,
          583.12,
          582.895,
          582.72,
          582.405,
          582.665,
          582.57,
          582.615,
          582.43,
          581.89,
          582.07,
          582.005,
          581.73,
          581.775,
          581.855,
          581.705,
          581.415,
          581.135,
          581.505,
          581.41,
          581.11,
          581.045,
          581.08,
          580.43,
          580.57,
          580.765,
          581.09,
          581.195,
          581.445,
          581.205,
          581.16,
          581.245,
          581.345,
          581.165,
          581.325,
          581.185,
          581.445,
          581.755,
          582.115,
          581.51,
          581.605,
          581.545,
          581.49,
          581.295,
          581.285,
          581.255,
          581.3,
          581.235,
          581.51,
          581.93,
          581.585,
          581.515,
          581.395,
          581.745,
          581.87,
          582.135,
          581.92,
          581.57,
          581.635,
          581.54,
          581.505,
          581.485,
          581.35,
          581.295,
          581.54,
          581.36,
          581.395,
          581.14,
          580.945,
          580.895,
          581.285,
          581.015,
          580.79,
          580.615,
          580.44,
          580.54,
          579.635,
          579.445,
          579.625,
          579.665,
          579.88,
          580.1,
          580.055,
          579.93,
          579.935,
          579.86,
          579.815,
          579.585,
          579.07,
          578.92,
          579.17,
          578.345,
          578.31,
          578.39,
          578.715,
          578.77,
          578.405,
          578.55,
          578.535,
          578.365,
          578.22,
          578.33,
          577.9,
          577.91,
          577.725,
          577.84,
          577.68,
          577.905,
          577.835,
          577.645,
          577.845,
          578.02,
          577.945,
          577.975,
          577.855,
          577.525,
          577.605
         ]
        },
        {
         "mode": "lines",
         "name": "Simulated Stock Prices",
         "type": "scatter",
         "x": [
          0,
          1,
          2,
          3,
          4,
          5,
          6,
          7,
          8,
          9,
          10,
          11,
          12,
          13,
          14,
          15,
          16,
          17,
          18,
          19,
          20,
          21,
          22,
          23,
          24,
          25,
          26,
          27,
          28,
          29,
          30,
          31,
          32,
          33,
          34,
          35,
          36,
          37,
          38,
          39,
          40,
          41,
          42,
          43,
          44,
          45,
          46,
          47,
          48,
          49,
          50,
          51,
          52,
          53,
          54,
          55,
          56,
          57,
          58,
          59,
          60,
          61,
          62,
          63,
          64,
          65,
          66,
          67,
          68,
          69,
          70,
          71,
          72,
          73,
          74,
          75,
          76,
          77,
          78,
          79,
          80,
          81,
          82,
          83,
          84,
          85,
          86,
          87,
          88,
          89,
          90,
          91,
          92,
          93,
          94,
          95,
          96,
          97,
          98,
          99,
          100,
          101,
          102,
          103,
          104,
          105,
          106,
          107,
          108,
          109,
          110,
          111,
          112,
          113,
          114,
          115,
          116,
          117,
          118,
          119,
          120,
          121,
          122,
          123,
          124,
          125,
          126,
          127,
          128,
          129,
          130,
          131,
          132,
          133,
          134,
          135,
          136,
          137,
          138,
          139,
          140,
          141,
          142,
          143,
          144,
          145,
          146,
          147,
          148,
          149,
          150,
          151,
          152,
          153,
          154,
          155,
          156,
          157,
          158,
          159,
          160,
          161,
          162,
          163,
          164,
          165,
          166,
          167,
          168,
          169,
          170,
          171,
          172,
          173,
          174,
          175,
          176,
          177,
          178,
          179,
          180,
          181,
          182,
          183,
          184,
          185,
          186,
          187,
          188,
          189,
          190,
          191,
          192,
          193,
          194,
          195,
          196,
          197,
          198,
          199,
          200,
          201,
          202,
          203,
          204,
          205,
          206,
          207,
          208,
          209,
          210,
          211,
          212,
          213,
          214,
          215,
          216,
          217,
          218,
          219,
          220,
          221,
          222,
          223,
          224,
          225,
          226,
          227,
          228,
          229,
          230,
          231,
          232,
          233,
          234,
          235,
          236,
          237,
          238,
          239,
          240,
          241,
          242,
          243,
          244,
          245,
          246,
          247,
          248,
          249,
          250,
          251,
          252,
          253,
          254,
          255,
          256,
          257,
          258,
          259,
          260,
          261,
          262,
          263,
          264,
          265,
          266,
          267,
          268,
          269,
          270,
          271,
          272,
          273,
          274,
          275,
          276,
          277,
          278,
          279,
          280,
          281,
          282,
          283,
          284,
          285,
          286,
          287,
          288,
          289,
          290,
          291,
          292,
          293,
          294,
          295,
          296,
          297,
          298,
          299,
          300,
          301,
          302,
          303,
          304,
          305,
          306,
          307,
          308,
          309,
          310,
          311,
          312,
          313,
          314,
          315,
          316,
          317,
          318,
          319,
          320,
          321,
          322,
          323,
          324,
          325,
          326,
          327,
          328,
          329,
          330,
          331,
          332,
          333,
          334,
          335,
          336,
          337,
          338,
          339,
          340,
          341,
          342,
          343,
          344,
          345,
          346,
          347,
          348,
          349,
          350,
          351,
          352,
          353,
          354,
          355,
          356,
          357,
          358,
          359,
          360,
          361,
          362,
          363,
          364,
          365,
          366,
          367,
          368,
          369,
          370,
          371,
          372,
          373,
          374,
          375,
          376,
          377,
          378,
          379,
          380,
          381,
          382,
          383,
          384,
          385,
          386,
          387,
          388,
          389,
          390
         ],
         "y": [
          585.51,
          580.3082432577883,
          583.2209215845317,
          575.5793673996393,
          586.178424115069,
          593.1506654705054,
          590.4270620343677,
          580.3712948717636,
          588.2868186301057,
          587.6718245002683,
          595.0048893872546,
          585.5774673486242,
          582.1262200160261,
          582.2149575889862,
          582.5467071288075,
          579.9831202154943,
          583.6535429994049,
          577.4807038918278,
          576.7162379099185,
          577.4676739752883,
          580.4961387117505,
          584.6850852154259,
          578.1679391509167,
          569.3559996596674,
          576.6874649013736,
          578.6615468990609,
          574.3882092829815,
          583.3552821593712,
          584.088411776853,
          591.0349588105582,
          591.493120135231,
          603.741451646251,
          614.3995460749217,
          612.9313514313844,
          618.9477075263268,
          623.004141941963,
          631.5930736475085,
          625.5618432118495,
          629.9160755547188,
          636.6462531525473,
          625.5129687348355,
          618.1740845813256,
          605.6298971424274,
          604.0588517978003,
          608.4536351945053,
          617.655626655104,
          618.17504279809,
          628.3045551482215,
          619.6961452761052,
          609.2023195746389,
          608.9248419364478,
          611.3244043485278,
          611.1856658149231,
          598.6108746170379,
          598.137253456513,
          590.3945491393611,
          594.4072988196501,
          596.6458262816765,
          591.0977373471173,
          588.1193913994995,
          581.948763220085,
          581.6421978650283,
          587.2558728705172,
          581.5258643602845,
          584.5151778028636,
          581.474193059801,
          576.9219895757191,
          576.3622000925768,
          570.4530908868003,
          567.3518266208627,
          560.6123796992345,
          571.6829332593959,
          571.9416972610052,
          567.9968694841502,
          569.269068365394,
          568.6865464302425,
          567.4867907006393,
          571.0288542753377,
          575.4115447584957,
          572.4165210645442,
          569.1776839758974,
          567.6690688647109,
          554.6585413297431,
          546.3098705399269,
          553.8318705679006,
          562.9976092128796,
          561.6518420250201,
          564.9462500125488,
          566.7611407138021,
          584.2677168190927,
          590.8674583638928,
          590.1707216881464,
          584.5904188460016,
          575.2577466157563,
          576.4857127172902,
          572.1831073039672,
          564.1024301453756,
          560.511507035717,
          554.5053571720468,
          563.9160984573215,
          568.9441985870052,
          568.9557331266188,
          577.4328557252177,
          577.9373490390661,
          573.0174596931212,
          581.8025283346354,
          584.9961008470756,
          578.9867508981642,
          577.9426138453152,
          572.9398370857812,
          565.07452054368,
          570.364621331832,
          581.3122947850296,
          573.2403807570207,
          576.5248717910463,
          572.8314080407778,
          570.0982839868385,
          566.7780662187091,
          561.9378338486316,
          562.2666890170377,
          557.6507599790119,
          559.2147295993863,
          558.9897121644343,
          557.7099161362497,
          552.704114589408,
          549.5715461250438,
          553.7779185187198,
          556.6072650857004,
          551.2217822994339,
          551.8244457820499,
          556.0259660558522,
          546.7992418107153,
          549.8250111471311,
          546.2367224917583,
          549.4081656299124,
          545.2696983155129,
          535.4827501001004,
          526.8210893696873,
          527.1270931184486,
          528.5488735012593,
          523.8219730537355,
          527.219442868381,
          518.512307997227,
          518.2215273389406,
          511.9976028449435,
          508.71141735880315,
          509.00341095320204,
          504.6747779167048,
          502.7844905556882,
          507.89425317905113,
          505.0150419520038,
          509.28591432653434,
          503.5834050340144,
          506.30176929367605,
          513.6510869025788,
          501.0068231719974,
          497.06442425087357,
          499.9825509397809,
          499.0173576941716,
          500.91934176042946,
          497.94395507297816,
          498.4249180809172,
          497.6988264397517,
          503.56063393865054,
          504.89215321344403,
          506.6471717786228,
          504.6110734957336,
          502.20101960135895,
          500.0789280737198,
          502.1015080118964,
          500.037948736003,
          501.53693678125404,
          511.99599206639215,
          516.5073152330693,
          514.8750305715645,
          521.1112686235931,
          519.0368529971623,
          508.51013923491183,
          503.4347691455812,
          494.0668956336851,
          492.3795905649117,
          492.51951686401037,
          500.825549766643,
          502.5129681386117,
          501.4622108649008,
          505.6715126504269,
          494.54099843788407,
          495.75566312586295,
          499.6268465459363,
          492.2893953973391,
          497.9692042010148,
          499.70460898808386,
          497.6793666026499,
          500.8783593225244,
          512.301856289881,
          513.2847906761396,
          514.6101976720139,
          512.2977406586291,
          507.99523692881223,
          512.2641028510637,
          507.9299191309037,
          508.34421845365034,
          505.96690886085196,
          508.44098497013414,
          510.18830396322426,
          515.532730238171,
          512.9549820455165,
          511.62194061784163,
          506.6655328951547,
          504.4651186346623,
          506.41891452637367,
          510.3030899533299,
          505.64828211856866,
          510.0959943429961,
          517.0620583579916,
          519.2514795844063,
          529.0486947578506,
          525.0078779692917,
          518.5258435111883,
          509.35457192120424,
          517.0256774769335,
          520.4606185126222,
          520.2233682524546,
          521.731852807171,
          515.9119911328401,
          528.5815100681654,
          529.3174074941847,
          529.9493849256704,
          533.8485756235099,
          536.4698214133163,
          537.7245386206807,
          533.5277359560852,
          536.0965031812578,
          546.2395803461933,
          553.6434211182385,
          562.519358404875,
          559.6999231975897,
          554.2170757709625,
          553.575364888261,
          553.9392018112856,
          560.0557514951714,
          550.6330115695816,
          559.1102838582567,
          558.2827564763791,
          555.9553813478484,
          550.3841281468673,
          541.3310980941533,
          545.8413095653117,
          546.2960934485161,
          539.3037170555623,
          532.3732394707312,
          530.6388489134204,
          539.5483894082246,
          538.20172329184,
          530.1656021869477,
          528.9157735516225,
          527.5261871503891,
          513.3521564898264,
          513.1247678373429,
          511.9910980421371,
          515.6068117637888,
          525.1917160170251,
          531.1608613993563,
          529.7857460005398,
          523.9765080348235,
          537.5127065218674,
          537.8847643999507,
          538.0134764153792,
          537.9374815431719,
          539.0568474647216,
          538.3325684639639,
          535.29819230487,
          532.4243960971831,
          532.3032521356432,
          529.4638147312011,
          525.7425006385612,
          526.3546238291277,
          525.0651749179051,
          533.0146248516515,
          518.9378695350001,
          524.6540057251485,
          531.2441070029078,
          520.2824679887659,
          518.5515527635922,
          516.6772955406489,
          509.45666991151654,
          505.5449765838912,
          499.981070683643,
          508.79208931501387,
          513.6036261697094,
          520.1857396089621,
          523.9917933468175,
          518.128053902337,
          515.4621800597284,
          518.0362670596976,
          511.7570054065212,
          515.4570005219076,
          514.2697721331216,
          512.3936089974421,
          516.0877617979468,
          518.4321591548643,
          516.6126376835053,
          522.6535432238846,
          517.0555927920121,
          520.2920278549941,
          523.4299156200968,
          521.8619999455526,
          523.6161504579027,
          517.1174793264236,
          521.947496304374,
          521.034598982227,
          518.363134648376,
          523.8526480676395,
          520.2153102580406,
          512.9403004863243,
          505.0070161562416,
          508.1179096307577,
          501.66263056151803,
          510.5159434788574,
          499.93841351398396,
          508.4696444089215,
          509.59345113848826,
          509.1515667991183,
          506.428017887523,
          508.49999780189825,
          508.3594753406753,
          514.0190509470524,
          514.6576047277189,
          515.4826099335949,
          513.6598004730309,
          513.4186596758946,
          515.0503132581665,
          506.2935906258722,
          499.5184436030612,
          503.2811366817442,
          504.19139831461894,
          503.3141892982279,
          503.45730131792163,
          505.2575725217421,
          502.58092162081203,
          498.71956865102885,
          499.7461592193406,
          494.9067534562838,
          496.97671459083176,
          488.56496820278744,
          493.6419186118649,
          496.0242220832212,
          497.3437940033616,
          502.28088100564554,
          510.69646880631655,
          515.9278905558731,
          506.48189975543266,
          500.0517222154523,
          496.9773113291845,
          497.15667566015276,
          499.77996770513795,
          496.20282350690803,
          497.1791857479665,
          493.47329695418796,
          490.5049672199972,
          483.6542751647274,
          479.2373835276864,
          472.80752932853693,
          468.2408078646896,
          473.22121280591267,
          468.7757779910969,
          481.16262507303566,
          483.5844026973767,
          484.5265998023852,
          480.41608069591416,
          483.8285235793667,
          481.09180643587405,
          481.7268948378241,
          494.10768327873336,
          493.6824547019719,
          499.4055837158842,
          495.94382194380336,
          495.8198930689867,
          504.64945687636646,
          501.5359359701344,
          510.67617040305856,
          514.3415585000364,
          511.4999922747069,
          514.785907810348,
          519.84395965359,
          523.1283855786656,
          514.9664071901034,
          511.2733916411335,
          510.0590220573696,
          509.7303735390239,
          512.9451007776754
         ]
        }
       ],
       "layout": {
        "template": {
         "data": {
          "bar": [
           {
            "error_x": {
             "color": "#f2f5fa"
            },
            "error_y": {
             "color": "#f2f5fa"
            },
            "marker": {
             "line": {
              "color": "rgb(17,17,17)",
              "width": 0.5
             },
             "pattern": {
              "fillmode": "overlay",
              "size": 10,
              "solidity": 0.2
             }
            },
            "type": "bar"
           }
          ],
          "barpolar": [
           {
            "marker": {
             "line": {
              "color": "rgb(17,17,17)",
              "width": 0.5
             },
             "pattern": {
              "fillmode": "overlay",
              "size": 10,
              "solidity": 0.2
             }
            },
            "type": "barpolar"
           }
          ],
          "carpet": [
           {
            "aaxis": {
             "endlinecolor": "#A2B1C6",
             "gridcolor": "#506784",
             "linecolor": "#506784",
             "minorgridcolor": "#506784",
             "startlinecolor": "#A2B1C6"
            },
            "baxis": {
             "endlinecolor": "#A2B1C6",
             "gridcolor": "#506784",
             "linecolor": "#506784",
             "minorgridcolor": "#506784",
             "startlinecolor": "#A2B1C6"
            },
            "type": "carpet"
           }
          ],
          "choropleth": [
           {
            "colorbar": {
             "outlinewidth": 0,
             "ticks": ""
            },
            "type": "choropleth"
           }
          ],
          "contour": [
           {
            "colorbar": {
             "outlinewidth": 0,
             "ticks": ""
            },
            "colorscale": [
             [
              0,
              "#0d0887"
             ],
             [
              0.1111111111111111,
              "#46039f"
             ],
             [
              0.2222222222222222,
              "#7201a8"
             ],
             [
              0.3333333333333333,
              "#9c179e"
             ],
             [
              0.4444444444444444,
              "#bd3786"
             ],
             [
              0.5555555555555556,
              "#d8576b"
             ],
             [
              0.6666666666666666,
              "#ed7953"
             ],
             [
              0.7777777777777778,
              "#fb9f3a"
             ],
             [
              0.8888888888888888,
              "#fdca26"
             ],
             [
              1,
              "#f0f921"
             ]
            ],
            "type": "contour"
           }
          ],
          "contourcarpet": [
           {
            "colorbar": {
             "outlinewidth": 0,
             "ticks": ""
            },
            "type": "contourcarpet"
           }
          ],
          "heatmap": [
           {
            "colorbar": {
             "outlinewidth": 0,
             "ticks": ""
            },
            "colorscale": [
             [
              0,
              "#0d0887"
             ],
             [
              0.1111111111111111,
              "#46039f"
             ],
             [
              0.2222222222222222,
              "#7201a8"
             ],
             [
              0.3333333333333333,
              "#9c179e"
             ],
             [
              0.4444444444444444,
              "#bd3786"
             ],
             [
              0.5555555555555556,
              "#d8576b"
             ],
             [
              0.6666666666666666,
              "#ed7953"
             ],
             [
              0.7777777777777778,
              "#fb9f3a"
             ],
             [
              0.8888888888888888,
              "#fdca26"
             ],
             [
              1,
              "#f0f921"
             ]
            ],
            "type": "heatmap"
           }
          ],
          "heatmapgl": [
           {
            "colorbar": {
             "outlinewidth": 0,
             "ticks": ""
            },
            "colorscale": [
             [
              0,
              "#0d0887"
             ],
             [
              0.1111111111111111,
              "#46039f"
             ],
             [
              0.2222222222222222,
              "#7201a8"
             ],
             [
              0.3333333333333333,
              "#9c179e"
             ],
             [
              0.4444444444444444,
              "#bd3786"
             ],
             [
              0.5555555555555556,
              "#d8576b"
             ],
             [
              0.6666666666666666,
              "#ed7953"
             ],
             [
              0.7777777777777778,
              "#fb9f3a"
             ],
             [
              0.8888888888888888,
              "#fdca26"
             ],
             [
              1,
              "#f0f921"
             ]
            ],
            "type": "heatmapgl"
           }
          ],
          "histogram": [
           {
            "marker": {
             "pattern": {
              "fillmode": "overlay",
              "size": 10,
              "solidity": 0.2
             }
            },
            "type": "histogram"
           }
          ],
          "histogram2d": [
           {
            "colorbar": {
             "outlinewidth": 0,
             "ticks": ""
            },
            "colorscale": [
             [
              0,
              "#0d0887"
             ],
             [
              0.1111111111111111,
              "#46039f"
             ],
             [
              0.2222222222222222,
              "#7201a8"
             ],
             [
              0.3333333333333333,
              "#9c179e"
             ],
             [
              0.4444444444444444,
              "#bd3786"
             ],
             [
              0.5555555555555556,
              "#d8576b"
             ],
             [
              0.6666666666666666,
              "#ed7953"
             ],
             [
              0.7777777777777778,
              "#fb9f3a"
             ],
             [
              0.8888888888888888,
              "#fdca26"
             ],
             [
              1,
              "#f0f921"
             ]
            ],
            "type": "histogram2d"
           }
          ],
          "histogram2dcontour": [
           {
            "colorbar": {
             "outlinewidth": 0,
             "ticks": ""
            },
            "colorscale": [
             [
              0,
              "#0d0887"
             ],
             [
              0.1111111111111111,
              "#46039f"
             ],
             [
              0.2222222222222222,
              "#7201a8"
             ],
             [
              0.3333333333333333,
              "#9c179e"
             ],
             [
              0.4444444444444444,
              "#bd3786"
             ],
             [
              0.5555555555555556,
              "#d8576b"
             ],
             [
              0.6666666666666666,
              "#ed7953"
             ],
             [
              0.7777777777777778,
              "#fb9f3a"
             ],
             [
              0.8888888888888888,
              "#fdca26"
             ],
             [
              1,
              "#f0f921"
             ]
            ],
            "type": "histogram2dcontour"
           }
          ],
          "mesh3d": [
           {
            "colorbar": {
             "outlinewidth": 0,
             "ticks": ""
            },
            "type": "mesh3d"
           }
          ],
          "parcoords": [
           {
            "line": {
             "colorbar": {
              "outlinewidth": 0,
              "ticks": ""
             }
            },
            "type": "parcoords"
           }
          ],
          "pie": [
           {
            "automargin": true,
            "type": "pie"
           }
          ],
          "scatter": [
           {
            "marker": {
             "line": {
              "color": "#283442"
             }
            },
            "type": "scatter"
           }
          ],
          "scatter3d": [
           {
            "line": {
             "colorbar": {
              "outlinewidth": 0,
              "ticks": ""
             }
            },
            "marker": {
             "colorbar": {
              "outlinewidth": 0,
              "ticks": ""
             }
            },
            "type": "scatter3d"
           }
          ],
          "scattercarpet": [
           {
            "marker": {
             "colorbar": {
              "outlinewidth": 0,
              "ticks": ""
             }
            },
            "type": "scattercarpet"
           }
          ],
          "scattergeo": [
           {
            "marker": {
             "colorbar": {
              "outlinewidth": 0,
              "ticks": ""
             }
            },
            "type": "scattergeo"
           }
          ],
          "scattergl": [
           {
            "marker": {
             "line": {
              "color": "#283442"
             }
            },
            "type": "scattergl"
           }
          ],
          "scattermapbox": [
           {
            "marker": {
             "colorbar": {
              "outlinewidth": 0,
              "ticks": ""
             }
            },
            "type": "scattermapbox"
           }
          ],
          "scatterpolar": [
           {
            "marker": {
             "colorbar": {
              "outlinewidth": 0,
              "ticks": ""
             }
            },
            "type": "scatterpolar"
           }
          ],
          "scatterpolargl": [
           {
            "marker": {
             "colorbar": {
              "outlinewidth": 0,
              "ticks": ""
             }
            },
            "type": "scatterpolargl"
           }
          ],
          "scatterternary": [
           {
            "marker": {
             "colorbar": {
              "outlinewidth": 0,
              "ticks": ""
             }
            },
            "type": "scatterternary"
           }
          ],
          "surface": [
           {
            "colorbar": {
             "outlinewidth": 0,
             "ticks": ""
            },
            "colorscale": [
             [
              0,
              "#0d0887"
             ],
             [
              0.1111111111111111,
              "#46039f"
             ],
             [
              0.2222222222222222,
              "#7201a8"
             ],
             [
              0.3333333333333333,
              "#9c179e"
             ],
             [
              0.4444444444444444,
              "#bd3786"
             ],
             [
              0.5555555555555556,
              "#d8576b"
             ],
             [
              0.6666666666666666,
              "#ed7953"
             ],
             [
              0.7777777777777778,
              "#fb9f3a"
             ],
             [
              0.8888888888888888,
              "#fdca26"
             ],
             [
              1,
              "#f0f921"
             ]
            ],
            "type": "surface"
           }
          ],
          "table": [
           {
            "cells": {
             "fill": {
              "color": "#506784"
             },
             "line": {
              "color": "rgb(17,17,17)"
             }
            },
            "header": {
             "fill": {
              "color": "#2a3f5f"
             },
             "line": {
              "color": "rgb(17,17,17)"
             }
            },
            "type": "table"
           }
          ]
         },
         "layout": {
          "annotationdefaults": {
           "arrowcolor": "#f2f5fa",
           "arrowhead": 0,
           "arrowwidth": 1
          },
          "autotypenumbers": "strict",
          "coloraxis": {
           "colorbar": {
            "outlinewidth": 0,
            "ticks": ""
           }
          },
          "colorscale": {
           "diverging": [
            [
             0,
             "#8e0152"
            ],
            [
             0.1,
             "#c51b7d"
            ],
            [
             0.2,
             "#de77ae"
            ],
            [
             0.3,
             "#f1b6da"
            ],
            [
             0.4,
             "#fde0ef"
            ],
            [
             0.5,
             "#f7f7f7"
            ],
            [
             0.6,
             "#e6f5d0"
            ],
            [
             0.7,
             "#b8e186"
            ],
            [
             0.8,
             "#7fbc41"
            ],
            [
             0.9,
             "#4d9221"
            ],
            [
             1,
             "#276419"
            ]
           ],
           "sequential": [
            [
             0,
             "#0d0887"
            ],
            [
             0.1111111111111111,
             "#46039f"
            ],
            [
             0.2222222222222222,
             "#7201a8"
            ],
            [
             0.3333333333333333,
             "#9c179e"
            ],
            [
             0.4444444444444444,
             "#bd3786"
            ],
            [
             0.5555555555555556,
             "#d8576b"
            ],
            [
             0.6666666666666666,
             "#ed7953"
            ],
            [
             0.7777777777777778,
             "#fb9f3a"
            ],
            [
             0.8888888888888888,
             "#fdca26"
            ],
            [
             1,
             "#f0f921"
            ]
           ],
           "sequentialminus": [
            [
             0,
             "#0d0887"
            ],
            [
             0.1111111111111111,
             "#46039f"
            ],
            [
             0.2222222222222222,
             "#7201a8"
            ],
            [
             0.3333333333333333,
             "#9c179e"
            ],
            [
             0.4444444444444444,
             "#bd3786"
            ],
            [
             0.5555555555555556,
             "#d8576b"
            ],
            [
             0.6666666666666666,
             "#ed7953"
            ],
            [
             0.7777777777777778,
             "#fb9f3a"
            ],
            [
             0.8888888888888888,
             "#fdca26"
            ],
            [
             1,
             "#f0f921"
            ]
           ]
          },
          "colorway": [
           "#636efa",
           "#EF553B",
           "#00cc96",
           "#ab63fa",
           "#FFA15A",
           "#19d3f3",
           "#FF6692",
           "#B6E880",
           "#FF97FF",
           "#FECB52"
          ],
          "font": {
           "color": "#f2f5fa"
          },
          "geo": {
           "bgcolor": "rgb(17,17,17)",
           "lakecolor": "rgb(17,17,17)",
           "landcolor": "rgb(17,17,17)",
           "showlakes": true,
           "showland": true,
           "subunitcolor": "#506784"
          },
          "hoverlabel": {
           "align": "left"
          },
          "hovermode": "closest",
          "mapbox": {
           "style": "dark"
          },
          "paper_bgcolor": "rgb(17,17,17)",
          "plot_bgcolor": "rgb(17,17,17)",
          "polar": {
           "angularaxis": {
            "gridcolor": "#506784",
            "linecolor": "#506784",
            "ticks": ""
           },
           "bgcolor": "rgb(17,17,17)",
           "radialaxis": {
            "gridcolor": "#506784",
            "linecolor": "#506784",
            "ticks": ""
           }
          },
          "scene": {
           "xaxis": {
            "backgroundcolor": "rgb(17,17,17)",
            "gridcolor": "#506784",
            "gridwidth": 2,
            "linecolor": "#506784",
            "showbackground": true,
            "ticks": "",
            "zerolinecolor": "#C8D4E3"
           },
           "yaxis": {
            "backgroundcolor": "rgb(17,17,17)",
            "gridcolor": "#506784",
            "gridwidth": 2,
            "linecolor": "#506784",
            "showbackground": true,
            "ticks": "",
            "zerolinecolor": "#C8D4E3"
           },
           "zaxis": {
            "backgroundcolor": "rgb(17,17,17)",
            "gridcolor": "#506784",
            "gridwidth": 2,
            "linecolor": "#506784",
            "showbackground": true,
            "ticks": "",
            "zerolinecolor": "#C8D4E3"
           }
          },
          "shapedefaults": {
           "line": {
            "color": "#f2f5fa"
           }
          },
          "sliderdefaults": {
           "bgcolor": "#C8D4E3",
           "bordercolor": "rgb(17,17,17)",
           "borderwidth": 1,
           "tickwidth": 0
          },
          "ternary": {
           "aaxis": {
            "gridcolor": "#506784",
            "linecolor": "#506784",
            "ticks": ""
           },
           "baxis": {
            "gridcolor": "#506784",
            "linecolor": "#506784",
            "ticks": ""
           },
           "bgcolor": "rgb(17,17,17)",
           "caxis": {
            "gridcolor": "#506784",
            "linecolor": "#506784",
            "ticks": ""
           }
          },
          "title": {
           "x": 0.05
          },
          "updatemenudefaults": {
           "bgcolor": "#506784",
           "borderwidth": 0
          },
          "xaxis": {
           "automargin": true,
           "gridcolor": "#283442",
           "linecolor": "#506784",
           "ticks": "",
           "title": {
            "standoff": 15
           },
           "zerolinecolor": "#283442",
           "zerolinewidth": 2
          },
          "yaxis": {
           "automargin": true,
           "gridcolor": "#283442",
           "linecolor": "#506784",
           "ticks": "",
           "title": {
            "standoff": 15
           },
           "zerolinecolor": "#283442",
           "zerolinewidth": 2
          }
         }
        },
        "title": {
         "text": "Simulated Stock Price Trajectory with Small Negative Bias"
        },
        "xaxis": {
         "title": {
          "text": "Time Steps"
         }
        },
        "yaxis": {
         "title": {
          "text": "Price"
         }
        }
       }
      }
     },
     "metadata": {},
     "output_type": "display_data"
    },
    {
     "name": "stdout",
     "output_type": "stream",
     "text": [
      "Original Data: \n",
      "\n",
      "Original Returns Mean: -3.482843252455602e-05\n",
      "Original Returns Standard Deviation: 0.0004790421877361734\n",
      "Original Returns Excess Kurtosis: 2.45132378581814\n",
      "\n",
      "Simulated Data: \n",
      "\n",
      "Simulated Returns Mean: -0.0002871438049419998\n",
      "Simulated Returns Standard Deviation: 0.01020698140232144\n",
      "Simulated Returns Excess Kurtosis: -0.17479309204250804\n",
      "\n",
      " Original Price Data: \n",
      "\n",
      "Original Price Data Mean: 583.4769615384615\n",
      "Original Price Data Standard Deviation: 2.47047029047112\n",
      "\n",
      " Simulated Price Data: \n",
      "\n",
      "Simulated Price Data Mean: 536.871465316533\n",
      "Simulated Price Data Standard Deviation: 36.857598231817576\n"
     ]
    }
   ],
   "source": [
    "import numpy as np\n",
    "import matplotlib.pyplot as plt\n",
    "\n",
    "# Initial price\n",
    "price = price_data['close_mid_price'].iloc[0]\n",
    "# Number of periods\n",
    "periods = 390\n",
    "# Simulate a small negative bias in returns\n",
    "#returns = np.random.normal(-0.0001, 0.01, periods)\n",
    "\n",
    "# Simulate a small positive bias in returns\n",
    "returns = np.random.normal(0.0001, 0.01, periods)\n",
    "\n",
    "prices = [price]\n",
    "for r in returns:\n",
    "    price = price * (1 + r)\n",
    "    prices.append(price)\n",
    "\n",
    "# Plot the results using plotly show original and simulated price\n",
    "fig_test_small_bias = go.Figure()\n",
    "# Add the historical price trace\n",
    "fig_test_small_bias.add_trace(go.Scatter(\n",
    "    x=list(range(len(price_data['close_mid_price']))), \n",
    "    y=price_data['close_mid_price'], \n",
    "    mode='lines', \n",
    "    name='Historical Closing Prices'\n",
    "))\n",
    "\n",
    "# Add the simulated price trace\n",
    "fig_test_small_bias.add_trace(go.Scatter(\n",
    "    x=list(range(len(prices))), \n",
    "    y=prices, \n",
    "    mode='lines', \n",
    "    name='Simulated Stock Prices'\n",
    "))\n",
    "\n",
    "# Update the layout to add titles and labels\n",
    "fig_test_small_bias.update_layout(\n",
    "    title='Simulated Stock Price Trajectory with Small Negative Bias',\n",
    "    xaxis_title='Time Steps',\n",
    "    yaxis_title='Price',\n",
    "    template='plotly_dark'  # Using a dark theme for better visibility\n",
    ")\n",
    "\n",
    "# Show the interactive plot\n",
    "fig_test_small_bias.show()\n",
    "\n",
    "# Comments:\n",
    "# The variance of the price is way higher than the original data!\n",
    "\n",
    "# Print statistics\n",
    "print(\"Original Data: \\n\")\n",
    "print(f\"Original Returns Mean: {original_mean}\")\n",
    "print(f\"Original Returns Standard Deviation: {original_std}\")\n",
    "print(f\"Original Returns Excess Kurtosis: {excess_kurtosis}\")\n",
    "\n",
    "print(\"\\nSimulated Data: \\n\")\n",
    "print(f\"Simulated Returns Mean: {np.mean(returns)}\")\n",
    "print(f\"Simulated Returns Standard Deviation: {np.std(returns)}\")\n",
    "print(f\"Simulated Returns Excess Kurtosis: {pd.Series(returns).kurtosis()}\")\n",
    "\n",
    "print(\"\\n Original Price Data: \\n\")\n",
    "print(f\"Original Price Data Mean: {price_data['close_mid_price'].mean()}\")\n",
    "print(f\"Original Price Data Standard Deviation: {price_data['close_mid_price'].std()}\")\n",
    "\n",
    "print(\"\\n Simulated Price Data: \\n\")\n",
    "print(f\"Simulated Price Data Mean: {np.mean(prices)}\")\n",
    "print(f\"Simulated Price Data Standard Deviation: {np.std(prices)}\")\n",
    "\n",
    "\n",
    "\n",
    "\n"
   ]
  },
  {
   "cell_type": "code",
   "execution_count": null,
   "metadata": {},
   "outputs": [],
   "source": []
  }
 ],
 "metadata": {
  "kernelspec": {
   "display_name": "base",
   "language": "python",
   "name": "python3"
  },
  "language_info": {
   "codemirror_mode": {
    "name": "ipython",
    "version": 3
   },
   "file_extension": ".py",
   "mimetype": "text/x-python",
   "name": "python",
   "nbconvert_exporter": "python",
   "pygments_lexer": "ipython3",
   "version": "3.9.18"
  }
 },
 "nbformat": 4,
 "nbformat_minor": 2
}
